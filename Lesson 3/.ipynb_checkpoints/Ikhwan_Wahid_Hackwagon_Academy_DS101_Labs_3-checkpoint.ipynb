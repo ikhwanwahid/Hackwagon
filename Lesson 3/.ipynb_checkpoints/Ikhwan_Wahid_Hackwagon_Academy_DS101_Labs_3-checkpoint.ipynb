{
 "cells": [
  {
   "cell_type": "markdown",
   "metadata": {},
   "source": [
    "<img src=\"https://i2.wp.com/hackwagon.com/wp-content/uploads/2017/02/Logo-Web-Export.png?ssl=1\" width=200/>\n",
    "\n",
    "<h1>Hackwagon Academy - DS101 Lab 3</h1>\n",
    "<hr>\n",
    "This lab exercise consists of 10 questions, with each correct answer to be awarded 2 marks, totalling up to 20 marks.\n",
    "\n",
    "Attempt but minor syntax errors are awarded half the mark."
   ]
  },
  {
   "cell_type": "code",
   "execution_count": null,
   "metadata": {},
   "outputs": [],
   "source": [
    "#Before you start, please perform the following 2 steps:\n",
    "#1. Rename the file to <First_Name>_<Last_Name>_DS101_Lab_1 e.g. john_doe_DS101_Lab_1\n",
    "\n",
    "#2. Fill in your details here:\n",
    "#Name                    : Muhammad Ikhwan Bin Wahid\n",
    "\n",
    "#Start of Course Class(Edit accordingly): 16 Jul 2018 12.15pm\n",
    "# FOR TA/INSTRUCTOR \n",
    "# Total Marks:  / 20"
   ]
  },
  {
   "cell_type": "markdown",
   "metadata": {},
   "source": [
    "## Warm Up\n",
    "### Question 1\n",
    "\n",
    "Using the `range` function, print out the numbers 1 to 10.\n",
    "\n",
    "Expected output:\n",
    "    \n",
    "    1\n",
    "    2\n",
    "    3\n",
    "    4\n",
    "    5\n",
    "    6\n",
    "    7\n",
    "    8\n",
    "    9\n",
    "    10"
   ]
  },
  {
   "cell_type": "code",
   "execution_count": 2,
   "metadata": {},
   "outputs": [
    {
     "name": "stdout",
     "output_type": "stream",
     "text": [
      "1\n",
      "2\n",
      "3\n",
      "4\n",
      "5\n",
      "6\n",
      "7\n",
      "8\n",
      "9\n",
      "10\n"
     ]
    }
   ],
   "source": [
    "#Write your code below\n",
    "for num in range(1,11):\n",
    "    print(num)"
   ]
  },
  {
   "cell_type": "markdown",
   "metadata": {},
   "source": [
    "### Question 2\n",
    "Create a list of numbers containing 1 to 10 using either a `for` or `while` loop. Please <b>do not</b> be cheeky by doing this:\n",
    "\n",
    "    x = [1,2,3,4,5,6,7,8,9,10]\n",
    "\n",
    "**Expected output**\n",
    "\n",
    "    [1,2,3,4,5,6,7,8,9,10]"
   ]
  },
  {
   "cell_type": "code",
   "execution_count": 3,
   "metadata": {},
   "outputs": [
    {
     "name": "stdout",
     "output_type": "stream",
     "text": [
      "[1, 2, 3, 4, 5, 6, 7, 8, 9, 10]\n"
     ]
    }
   ],
   "source": [
    "#Write your code below\n",
    "new_list=[]\n",
    "for i in range(1,11):\n",
    "    new_list.append(i)\n",
    "print(new_list)"
   ]
  },
  {
   "cell_type": "markdown",
   "metadata": {},
   "source": [
    "## Loop Applications \n",
    "\n",
    "Use the CITU Framework to solve each of your problems.\n",
    "\n",
    "1. <b>Create</b> the results container\n",
    "2. <b>Iterate</b> the input data/list\n",
    "3. <b>Test</b> conditions of each value\n",
    "4. <b>Update</b> the results container when condition is fulfilled"
   ]
  },
  {
   "cell_type": "markdown",
   "metadata": {},
   "source": [
    "### Question 3\n",
    "Imagine right now you are working at DBS, and you are provided with the following data of deposit amount by each client. Make use of an iterative device (`for` or `while` loop) to find and print out the <b>highest amount. </b> Do not use in-built functions e.g (`max`)\n",
    "\n",
    "**Expected output:**\n",
    "    \n",
    "    9480938.2"
   ]
  },
  {
   "cell_type": "code",
   "execution_count": 5,
   "metadata": {},
   "outputs": [
    {
     "name": "stdout",
     "output_type": "stream",
     "text": [
      "9480938.2\n"
     ]
    }
   ],
   "source": [
    "data = [73284, 8784.3, 9480938.2, 984958.3, 24131, 45789, 734987, 23545.3, 894859.2, 842758.3]\n",
    "\n",
    "#Write your code below\n",
    "#container we want is a print out \n",
    "highest_amount=0\n",
    "#compare each value in data with highest amount\n",
    "#if value greater then highest amount, replace it to be highest value\n",
    "for num in data:\n",
    "    if(num>highest_amount):\n",
    "        highest_amount= num\n",
    "print(highest_amount)\n",
    "\n"
   ]
  },
  {
   "cell_type": "markdown",
   "metadata": {},
   "source": [
    "### Question 4\n",
    "Imagine right now you are working at DBS, and you are provided with the following data of deposit amount by each client. \n",
    "\n",
    "Your task: Store any deposit amounts <b>larger than 50000</b> in a seperate list `high_networth`. \n",
    "\n",
    "Make use of an iterative device (For or while loop) to filter based on the mentioned condition, and store those amounts that makes the cut into the list. \n",
    "\n",
    "<i> Hint: Remember the append method? </i>\n",
    "\n",
    "**Expected output:**\n",
    "    \n",
    "    [73284, 9480938.2, 984958.3, 734987, 894859.2, 842758.3]"
   ]
  },
  {
   "cell_type": "code",
   "execution_count": 6,
   "metadata": {},
   "outputs": [
    {
     "name": "stdout",
     "output_type": "stream",
     "text": [
      "[73284, 9480938.2, 984958.3, 734987, 894859.2, 842758.3]\n"
     ]
    }
   ],
   "source": [
    "data = [73284, 8784.3, 9480938.2, 984958.3, 24131, 45789, 734987, 23545.3, 894859.2, 842758.3]\n",
    "high_networth = []\n",
    "\n",
    "#Write your code below\n",
    "# need to test if each value is greater then 50000\n",
    "# if yes, add it into list\n",
    "for num in data:\n",
    "    if(num> 50000):\n",
    "        high_networth.append(num)\n",
    "print(high_networth)"
   ]
  },
  {
   "cell_type": "markdown",
   "metadata": {},
   "source": [
    "### Question 5:  \n",
    "\n",
    "To further improve its database, DBS has changed the way in which it stores its data. Every data is now stored in the form of a dictionary, with the key being the client's name, and the corresponding value being his networth. \n",
    "\n",
    "Make use of an iterative device (For or while loop) to find and return the <b>name of the client with the highest networth.</b> \n",
    "\n",
    "<i> Hint: To iterate a dictionary you have to use .items() and it gives you the key,value pair each iteration. </i>\n",
    "\n",
    "**Expected output:**\n",
    "    \n",
    "    Uee has the highest networth at $9480938.2"
   ]
  },
  {
   "cell_type": "code",
   "execution_count": 140,
   "metadata": {},
   "outputs": [
    {
     "name": "stdout",
     "output_type": "stream",
     "text": [
      "Uee has the highest networth at $9480938.2\n"
     ]
    }
   ],
   "source": [
    "data = {\n",
    "    'Jeremy':73284, \n",
    "    'Hansel':8784.3, \n",
    "    'Uee':9480938.2, \n",
    "    'Seolhyun':984958.3, \n",
    "    'Ketsuno Ana':24131, \n",
    "    'Trump':45789\n",
    "}\n",
    "\n",
    "#Write your code below   \n",
    "#output is a print of user and amount\n",
    "#first assume one user has the highest networth\n",
    "highest_networth = data[\"Jeremy\"]\n",
    "# extract out the key, as well as the amount - use.items()\n",
    "#find out which user has the most amount \n",
    "for name,value in data.items():\n",
    "    if value > highest_networth:\n",
    "        highest_networth = value\n",
    "        print(name, \"has the highest networth at $\"+str(highest_networth))\n",
    "    "
   ]
  },
  {
   "cell_type": "markdown",
   "metadata": {},
   "source": [
    "### Question 6 \n",
    "\n",
    "DBS has further improved its database. And you can observe that DBS now has more information about her clients. Make use of an iterative device (For or while loop) to find the <b>average salary among all her clients.</b> \n",
    "\n",
    "<i>Hint: Go back to your lab 2 consolidation question 2 to revise how to access data from a nested list of dictionary. Also, remember the `round()` function.</i>\n",
    "\n",
    "**Expected output:**\n",
    "\n",
    "    Average salary amongst all clients is $3721152.33"
   ]
  },
  {
   "cell_type": "code",
   "execution_count": 142,
   "metadata": {},
   "outputs": [
    {
     "name": "stdout",
     "output_type": "stream",
     "text": [
      "Average salary amongst all clients is $3721152.33\n"
     ]
    }
   ],
   "source": [
    "DBS = [\n",
    "    {'Name':'Rick Jones', 'Job':'Software Engineer', 'Salary':909802},\n",
    "    {'Name':'Marissa Meyer', 'Job':'COO', 'Salary':9320809},\n",
    "    {'Name':'Avril Ting', 'Job':'MD', 'Salary':932846}\n",
    "]\n",
    "# output will be a print of the average amount\n",
    "total = 0\n",
    "#extract salary from each individual\n",
    "#update total for every itiration\n",
    "# average = total salary/ number of people\n",
    "for value in DBS:\n",
    "    salary= value['Salary']\n",
    "    total +=salary\n",
    "average= round(total/len(DBS),2)\n",
    "print(\"Average salary amongst all clients is $\"+str(average))    "
   ]
  },
  {
   "cell_type": "markdown",
   "metadata": {},
   "source": [
    "## Importing Data From A File\n",
    "The next two questions will be the <b>first time</b> you are using a [dataset](https://data.gov.sg/dataset/public-transport-utilisation-average-public-transport-ridership) from the Singapore government's open data portal at Data.gov.sg. The data consists of the average ridership of Singapore's public transport system, in 4 different types: Bus, MRT, Taxi, LRT. \n",
    "\n",
    "Below is a snippet/preview of how the data looks like in Microsoft Excel: \n",
    "\n",
    "<img src=\"https://i.imgur.com/Z4Qo9u3.png\" width=\"300\">\n",
    "\n",
    "After running the next cell, you will get a <b>LIST</b> of <b>DICTIONARIES</b>, `public_transport_ridership`,that looks like this:\n",
    "```python\n",
    "    [\n",
    "        {\n",
    "            'year': 1995,\n",
    "            'type_of_public_transport': 'MRT',\n",
    "            'average_ridership': 740000\n",
    "        },\n",
    "        {\n",
    "            'year': 1995, \n",
    "            'type_of_public_transport': 'LRT', \n",
    "            'average_ridership': 0\n",
    "        },\n",
    "        {\n",
    "            'year': 1995,\n",
    "            'type_of_public_transport': 'Bus',\n",
    "            'average_ridership': 3009000\n",
    "        },\n",
    "        ....\n",
    "    ]\n",
    "```\n",
    "There are a total of 88 rows of data in this list of dictionaries, i.e 88 dictionaries.  \n",
    "\n",
    "\n",
    "<font color=\"red\"><b>Do not be alarmed by the next codes you see.</b></font> You only have to execute this next cell by pressing <b>`SHIFT-ENTER` or `SHIFT-RETURN` or the`Run Button`. </b>"
   ]
  },
  {
   "cell_type": "code",
   "execution_count": 70,
   "metadata": {},
   "outputs": [
    {
     "data": {
      "text/plain": [
       "[{'year': 1995,\n",
       "  'type_of_public_transport': 'MRT',\n",
       "  'average_ridership': 740000},\n",
       " {'year': 1995, 'type_of_public_transport': 'LRT', 'average_ridership': 0},\n",
       " {'year': 1995,\n",
       "  'type_of_public_transport': 'Bus',\n",
       "  'average_ridership': 3009000},\n",
       " {'year': 1995, 'type_of_public_transport': 'Taxi', 'average_ridership': 0},\n",
       " {'year': 1996,\n",
       "  'type_of_public_transport': 'MRT',\n",
       "  'average_ridership': 850000}]"
      ]
     },
     "execution_count": 70,
     "metadata": {},
     "output_type": "execute_result"
    }
   ],
   "source": [
    "import csv\n",
    "\n",
    "# an empty list to store each row of data\n",
    "public_transport_ridership = []\n",
    "\n",
    "with open('public-transport-utilisation-average-public-transport-ridership.csv', encoding='utf-8', newline='') as file:\n",
    "    reader = csv.DictReader(file, delimiter = ',')\n",
    "    \n",
    "    for row in reader:\n",
    "        # changes the string to int\n",
    "        row['year'] = int(row['year'])\n",
    "        row['average_ridership'] = int(row['average_ridership'])\n",
    "        \n",
    "        # adds 1 row of data to the list\n",
    "        public_transport_ridership.append(dict(row))\n",
    "    \n",
    "# previews the first 5 rows\n",
    "public_transport_ridership[:5]"
   ]
  },
  {
   "cell_type": "markdown",
   "metadata": {},
   "source": [
    "### Question 7\n",
    "Using the `public_transport_ridership` list created earlier, find the year with the <b>highest</b> average ridership for <b>Taxis</b>.\n",
    "\n",
    "Expected output:\n",
    "    \n",
    "    2014 has the highest Taxi ridership with an average of 1020000 riders"
   ]
  },
  {
   "cell_type": "code",
   "execution_count": 143,
   "metadata": {},
   "outputs": [
    {
     "name": "stdout",
     "output_type": "stream",
     "text": [
      "2014 has the highest Taxi ridership with an average of 1020000 riders\n"
     ]
    }
   ],
   "source": [
    "#Write your code below\n",
    "#output is print out of year with highest Taxi ridership\n",
    "#start off by assuming Taxi ridership is zero,highest \n",
    "#extract taxi ridership from library\n",
    "highest_taxi_ridership = 0\n",
    "highest_year = 1992\n",
    "#compare ridership in each year\n",
    "#update highest taxi ridership year\n",
    "for value in public_transport_ridership:\n",
    "    transport= value['type_of_public_transport']\n",
    "    ridership= value['average_ridership']\n",
    "    year     = value['year']\n",
    "    if transport == 'Taxi':\n",
    "        if ridership > highest_taxi_ridership:\n",
    "            highest_taxi_ridership = ridership\n",
    "            highest_year = year\n",
    "print(highest_year,\"has the highest Taxi ridership with an average of\",highest_taxi_ridership, \"riders\")\n",
    "        \n"
   ]
  },
  {
   "cell_type": "markdown",
   "metadata": {},
   "source": [
    "### Question 8\n",
    "Using the `public_transport_ridership` list created earlier, <b>between 1995 to 2010</b>, find the year with the <b>highest</b> average ridership for <b>Buses</b>.\n",
    "\n",
    "Expected output:\n",
    "    \n",
    "    Between 1995 to 2010, 2001 has the highest Bus ridership with an average of 3281000 riders"
   ]
  },
  {
   "cell_type": "code",
   "execution_count": 138,
   "metadata": {},
   "outputs": [
    {
     "name": "stdout",
     "output_type": "stream",
     "text": [
      "Between 1995 to 2010, 2001 has the highest Bus ridership with an average of 3281000 riders\n"
     ]
    }
   ],
   "source": [
    "#Write your code below\n",
    "#output is print of highest bus ridership between 1995,2000\n",
    "#extract data from 1995-2000\n",
    "#extract out bus ridership\n",
    "#assume year with highest riders is 1995, with assumed start number 0\n",
    "highest_year = 1995\n",
    "highest_rider= 0\n",
    "for value in public_transport_ridership:\n",
    "    transport= value['type_of_public_transport']\n",
    "    ridership= value['average_ridership']\n",
    "    year     = value['year']\n",
    "    if 1995<= year<=2010:       #no need think so much here just use operators instead of creating new list\n",
    "        if transport ==\"Bus\":\n",
    "            if ridership> highest_rider:\n",
    "                highest_rider= ridership\n",
    "                highest_year = year\n",
    "print(\"Between 1995 to 2010,\",highest_year, \"has the highest Bus ridership with an average of\",highest_rider,\"riders\")\n",
    "    "
   ]
  },
  {
   "cell_type": "markdown",
   "metadata": {},
   "source": [
    "## Debugging"
   ]
  },
  {
   "cell_type": "markdown",
   "metadata": {},
   "source": [
    "### Question 9\n",
    "Another newbie to programming wrote the following piece of code to check if <b>highest salary</b> from the database. However, her codes were met with syntax, logic bugs and exceptions. \n",
    "\n",
    "**Expected Output:**\n",
    "\n",
    "    Marissa Meyer has the highest salary with $9320809 as a COO"
   ]
  },
  {
   "cell_type": "code",
   "execution_count": 144,
   "metadata": {},
   "outputs": [
    {
     "name": "stdout",
     "output_type": "stream",
     "text": [
      "Marissa Meyer has the highest salary with $9320809  as a  COO\n"
     ]
    }
   ],
   "source": [
    "DBS = [\n",
    "    {'Name':'Rick Jones', 'Job':'Software Engineer', 'Salary':909802},\n",
    "    {'Name':'Marissa Meyer', 'Job':'COO', 'Salary':9320809},\n",
    "    {'Name':'Avril Ting', 'Job':'MD', 'Salary':932846}\n",
    "]\n",
    "highest_salary= 909802\n",
    "highest_name= \"Rick Jones\"\n",
    "highest_job ='Software Engineer'\n",
    "for row in DBS:\n",
    "    name = row['Name']\n",
    "    job = row['Job']\n",
    "    salary = row['Salary']  \n",
    "    if salary > highest_salary:\n",
    "        highest_salary = salary\n",
    "        highest_name = name\n",
    "        highest_job = job\n",
    "            \n",
    "print(highest_name, \"has the highest salary with $\"+str(highest_salary),\" as a \" ,highest_job)"
   ]
  },
  {
   "cell_type": "markdown",
   "metadata": {},
   "source": [
    "### Question 10\n",
    "Another newbie to programming wrote the following piece of code to find the <b>average</b> networth of the data. However, his codes were met with syntax, logic bugs and exceptions. \n",
    "\n",
    "**Expected Output:**\n",
    "\n",
    "    The average networth is $1769647.47"
   ]
  },
  {
   "cell_type": "code",
   "execution_count": 59,
   "metadata": {},
   "outputs": [
    {
     "name": "stdout",
     "output_type": "stream",
     "text": [
      "The average networth is $ 1769647.47\n"
     ]
    }
   ],
   "source": [
    "data = {\n",
    "    'Jeremy':73284, \n",
    "    'Hansel':8784.3, \n",
    "    'Uee':9480938.2, \n",
    "    'Seolhyun':984958.3, \n",
    "    'Ketsuno Ana':24131, \n",
    "    'Trump':45789\n",
    "}\n",
    "all_salary= 0\n",
    "for name,value in data.items():\n",
    "    all_salary += value\n",
    "\n",
    "average = round(all_salary/len(data),2)\n",
    "print(\"The average networth is $\",average)"
   ]
  },
  {
   "cell_type": "code",
   "execution_count": null,
   "metadata": {},
   "outputs": [],
   "source": []
  }
 ],
 "metadata": {
  "kernelspec": {
   "display_name": "Python 3",
   "language": "python",
   "name": "python3"
  },
  "language_info": {
   "codemirror_mode": {
    "name": "ipython",
    "version": 3
   },
   "file_extension": ".py",
   "mimetype": "text/x-python",
   "name": "python",
   "nbconvert_exporter": "python",
   "pygments_lexer": "ipython3",
   "version": "3.7.3"
  }
 },
 "nbformat": 4,
 "nbformat_minor": 2
}
