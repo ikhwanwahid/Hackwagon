{
 "cells": [
  {
   "cell_type": "markdown",
   "metadata": {},
   "source": [
    "<center><img src=\"https://i2.wp.com/hackwagon.com/wp-content/uploads/2017/02/Logo-Web-Export.png?ssl=1\" width=200/></center>\n",
    "\n",
    "<h1> Hackwagon Academy DS101 Lesson 3 </h1>\n",
    "<h2> Iterations </h2> \n",
    "<h3> Lesson Outline </h3>\n",
    "\n",
    "- 1. [Pseudocode](#1)\n",
    "- 2. [Iterations (Loops)](#2)\n",
    "- 3. [range()](#3)\n",
    "    - 3.1 [Different Ranges](#3.1)\n",
    "    - 3.2 [Range Values as Indexes](#3.2)\n",
    "    - [Practice I](#P1)\n",
    "- 4. [For Loops](#4)\n",
    "    - 4.1 [Visualised](#4.1)\n",
    "    - 4.2 [Blocking Concept](#4.2)"
   ]
  },
  {
   "cell_type": "markdown",
   "metadata": {},
   "source": [
    "<a id='1'><h2><img src=\"https://images.vexels.com/media/users/3/153978/isolated/preview/483ef8b10a46e28d02293a31570c8c56-warning-sign-colored-stroke-icon-by-vexels.png\" width=25 align=\"left\"><font color=\"salmon\">&nbsp;1.</font><font color=\"salmon\"> Pseudocode </font> </h2></a>\n",
    "\n",
    "To solve complicated problems in the real world, we start by thinking of the problem from a high-level perspective, without actually coding it. Write our steps in what's called <b><i>Pseudocode</i></b>. \n",
    "\n",
    "Let's imagine you set up a game stall of Plinko... So what is [Plinko](https://youtu.be/me4SV_tuMSE?t=281) ? \n",
    "\n",
    "<img src=\"https://i.imgur.com/O25vWu9.png\" width=\"500\">\n",
    "\n",
    "This approach is very often used by software engineers and data analyst when facing difficult problems. As we approach the topic of iterations, we will be facing more complex problems.\n",
    "\n",
    "The key steps to pseudocode is:\n",
    "1. Understand the problem\n",
    "2. Breaking down big problems into smaller problems\n",
    "3. Solving the smaller problems first\n",
    "4. Fit all the smaller solutions into one big solution"
   ]
  },
  {
   "cell_type": "markdown",
   "metadata": {},
   "source": [
    "#### Version 1\n",
    "\n",
    "- Just give prize only"
   ]
  },
  {
   "cell_type": "code",
   "execution_count": null,
   "metadata": {},
   "outputs": [],
   "source": [
    "# if the prize is small,\n",
    "#   give a gummy\n",
    "# if the prize is medium,\n",
    "#   give a water gun\n"
   ]
  },
  {
   "cell_type": "markdown",
   "metadata": {},
   "source": [
    "##### Version 2\n",
    "\n",
    "- Give prize if there's a prize, otherwise give something else"
   ]
  },
  {
   "cell_type": "code",
   "execution_count": null,
   "metadata": {},
   "outputs": [],
   "source": [
    "# if the prize is grand,\n",
    "#   if there are any cars left,\n",
    "#   gift is a car\n",
    "# if the gift is not given, or the prize is big,\n",
    "#    if there are any teddy bears left,\n",
    "#       gift is a teddy bear\n"
   ]
  },
  {
   "cell_type": "markdown",
   "metadata": {},
   "source": [
    "<a id='2'><h2><img src=\"https://images.vexels.com/media/users/3/153978/isolated/preview/483ef8b10a46e28d02293a31570c8c56-warning-sign-colored-stroke-icon-by-vexels.png\" width=25 align=\"left\"><font color=\"salmon\">&nbsp;2.</font><font color=\"salmon\"> Iterations (Loops) </font> </h2></a>\n",
    "\n",
    "Loops are a way to <b>repeat</b> code more than once, saving us time from <b>copying and pasting code</b> that is exactly the same.\n",
    "\n",
    "**Example**\n",
    "\n",
    "Printing the `Hello World!` 10 times.\n",
    "\n",
    "Without loops:\n",
    "```python\n",
    "    print(\"Hello World!\")\n",
    "    print(\"Hello World!\")\n",
    "    print(\"Hello World!\")\n",
    "    print(\"Hello World!\")\n",
    "    print(\"Hello World!\")\n",
    "    print(\"Hello World!\")\n",
    "    print(\"Hello World!\")\n",
    "    print(\"Hello World!\")\n",
    "    print(\"Hello World!\")\n",
    "    print(\"Hello World!\")\n",
    "```\n",
    "\n",
    "With loops:\n",
    "```python\n",
    "    for i in range(10):\n",
    "        print(\"Hello World!\")\n",
    "```"
   ]
  },
  {
   "cell_type": "markdown",
   "metadata": {},
   "source": [
    "### Syntax\n",
    "\n",
    "<img src=\"https://i.imgur.com/iOASCWP.png\" width=\"500\">\n",
    "\n",
    "The naming of the `value` is dependent on the context (will be elaborated later). \n",
    "The `container_of_many_values` is a collection data type. \n",
    "\n",
    "Important to note:\n",
    "* Shift codes to the right by 4 spaces (indent)\n",
    "* Put a <b>colon</b> after the list\n",
    "* Use a variable that is a list to loop through"
   ]
  },
  {
   "cell_type": "markdown",
   "metadata": {},
   "source": [
    "<a id='3'><h2><img src=\"https://images.vexels.com/media/users/3/153978/isolated/preview/483ef8b10a46e28d02293a31570c8c56-warning-sign-colored-stroke-icon-by-vexels.png\" width=25 align=\"left\"><font color=\"salmon\">&nbsp;3.</font><font color=\"salmon\"> range() </font> </h2></a>\n",
    "\n",
    "The `range` function gives us a list of numbers from a given start and a given end. \n",
    "\n",
    "The syntax is similar to string slicing, recall:\n",
    "```python\n",
    "    word = \"Hackwagon\"\n",
    "    hack = word[0:4] # [start:stop-1:step]\n",
    "```"
   ]
  },
  {
   "cell_type": "code",
   "execution_count": 6,
   "metadata": {},
   "outputs": [
    {
     "name": "stdout",
     "output_type": "stream",
     "text": [
      "[1, 3, 5, 7, 9]\n"
     ]
    }
   ],
   "source": [
    "print(list(range(1,10,2)))"
   ]
  },
  {
   "cell_type": "markdown",
   "metadata": {},
   "source": [
    "<a id='3.1'><h3>3.1 Different Ranges</h3></a>\n",
    "\n",
    "You can have different ranges of numbers by tweaking the values inside the brackets."
   ]
  },
  {
   "cell_type": "code",
   "execution_count": 8,
   "metadata": {},
   "outputs": [
    {
     "name": "stdout",
     "output_type": "stream",
     "text": [
      "[1, 2, 3, 4, 5, 6, 7, 8, 9, 10]\n",
      "[5, 6, 7, 8, 9]\n"
     ]
    }
   ],
   "source": [
    "# range(start, stop, step)\n",
    "# range(1, 11) -> [1, ... 10]\n",
    "# range(5, 10) -> [5, ... 9]\n",
    "# range(10) -> [0 ... 9]\n",
    "# range(0,10,2) -> [0,2,4,6,8]\n",
    "print(list(range(1,11)))\n",
    "print(list(range(5,10)))\n"
   ]
  },
  {
   "cell_type": "markdown",
   "metadata": {},
   "source": [
    "<a id='3.2'><h3>3.2 Range Values as Indexes</h3></a>\n",
    "\n",
    "We can adjust the range values to print items in a list <b>based on its index.</b>\n",
    "\n",
    "```python\n",
    "mylist = ['a', 'b', 'c', 'd', 'e']\n",
    "```\n",
    "\n",
    "Print out all the letters in this list"
   ]
  },
  {
   "cell_type": "code",
   "execution_count": 10,
   "metadata": {},
   "outputs": [
    {
     "name": "stdout",
     "output_type": "stream",
     "text": [
      "hello 0 a\n",
      "hello 1 b\n",
      "hello 2 c\n",
      "hello 3 d\n",
      "hello 4 e\n",
      "hello 5 f\n",
      "hello 6 g\n",
      "hello 7 h\n",
      "hello 8 i\n",
      "hello 9 z\n"
     ]
    }
   ],
   "source": [
    "mylist = ['a', 'b', 'c', 'd', 'e', 'f', 'g', 'h', 'i', 'z']\n",
    "\n",
    "for i in range(10):\n",
    "    print(\"hello\",i,mylist[i])\n"
   ]
  },
  {
   "cell_type": "markdown",
   "metadata": {},
   "source": [
    "### Common Errors - No Indentations"
   ]
  },
  {
   "cell_type": "code",
   "execution_count": 13,
   "metadata": {},
   "outputs": [
    {
     "name": "stdout",
     "output_type": "stream",
     "text": [
      "This will fail\n",
      "This will fail\n",
      "This will fail\n",
      "my loop is over\n"
     ]
    }
   ],
   "source": [
    "data = [1,2,3]\n",
    "# Indentations\n",
    "for i in data:\n",
    "    print(\"This will fail\")\n",
    "print(\"my loop is over\")  #should just be printed once,at the end so no indentation\n"
   ]
  },
  {
   "cell_type": "markdown",
   "metadata": {},
   "source": [
    "### Common Errors - No Colons"
   ]
  },
  {
   "cell_type": "code",
   "execution_count": 14,
   "metadata": {},
   "outputs": [
    {
     "name": "stdout",
     "output_type": "stream",
     "text": [
      "This will fail\n",
      "This will fail\n",
      "This will fail\n"
     ]
    }
   ],
   "source": [
    "data = [1,2,3]\n",
    "\n",
    "# Colons are important\n",
    "for i in data:                 #another error is going through the wrong list\n",
    "    print(\"This will fail\")"
   ]
  },
  {
   "cell_type": "markdown",
   "metadata": {},
   "source": [
    "<a id='P1'><h2><img src=\"https://cdn.shopify.com/s/files/1/1200/7374/products/book_aec28e76-52ec-44ab-bc01-41df1279c89f_550x825.png?v=1473897430\" width=25 align=\"left\"> <font color=\"darkorange\"> &nbsp; Practice I </font><font color=\"skyblue\"> * </font></h2></a>\n",
    "\n",
    "### Question 1\n",
    "<p>\n",
    "    Print all numbers between 10 and 20\n",
    "</p>"
   ]
  },
  {
   "cell_type": "code",
   "execution_count": 22,
   "metadata": {},
   "outputs": [
    {
     "name": "stdout",
     "output_type": "stream",
     "text": [
      "[10, 11, 12, 13, 14, 15, 16, 17, 18, 19, 20]\n"
     ]
    }
   ],
   "source": [
    "          \n",
    "print(list(range(10,21)))"
   ]
  },
  {
   "cell_type": "markdown",
   "metadata": {},
   "source": [
    "### Question 2\n",
    "\n",
    "With the following list, print out the `square` of each number.\n",
    "Hint: Use a <code>for-loop</code> + <code>range</code> function to help you\n",
    "\n",
    "Expected output:\n",
    "\n",
    "> 225 <br>\n",
    "> 36 <br>\n",
    "> 1 <br>\n",
    "> 4 <br>\n",
    "> 49\n",
    "> ..."
   ]
  },
  {
   "cell_type": "code",
   "execution_count": 24,
   "metadata": {},
   "outputs": [
    {
     "name": "stdout",
     "output_type": "stream",
     "text": [
      "225\n",
      "36\n",
      "1\n",
      "4\n",
      "49\n",
      "100\n",
      "625\n",
      "4\n",
      "36\n",
      "16\n",
      "1\n"
     ]
    }
   ],
   "source": [
    "data = [15, 6, 1, 2, 7, 10, 25, 2, 6, 4, 1]\n",
    "\n",
    "# Your code here:\n",
    "for i in data:                  #for i in range(len(data))              len is used to find out items in data\n",
    "                                     #print(data[i]**2)  \n",
    "    print(i**2)\n"
   ]
  },
  {
   "cell_type": "markdown",
   "metadata": {},
   "source": [
    "<a id='4'><h2><img src=\"https://images.vexels.com/media/users/3/153978/isolated/preview/483ef8b10a46e28d02293a31570c8c56-warning-sign-colored-stroke-icon-by-vexels.png\" width=25 align=\"left\"><font color=\"salmon\">&nbsp;4.</font><font color=\"salmon\"> For Loops </font> </h2></a>\n",
    "\n",
    "<a id='4.1'><h3>4.1 Visualized</h3></a>\n",
    "\n",
    "![ForLoops](https://media.giphy.com/media/iGpkP6r7S5CgpSnbfc/giphy.gif \"countdown\")\n",
    "\n"
   ]
  },
  {
   "cell_type": "markdown",
   "metadata": {},
   "source": [
    "Without For Loops"
   ]
  },
  {
   "cell_type": "code",
   "execution_count": null,
   "metadata": {},
   "outputs": [],
   "source": [
    "countdown = [5, 4, 3, 2, 1] \n",
    "\n",
    "# Write code below\n",
    "for i in range(len(countdown)):\n",
    "    print(countdown[i])\n",
    "print(\"Peekaboo\")\n"
   ]
  },
  {
   "cell_type": "markdown",
   "metadata": {},
   "source": [
    "With For Loops"
   ]
  },
  {
   "cell_type": "code",
   "execution_count": 25,
   "metadata": {},
   "outputs": [
    {
     "name": "stdout",
     "output_type": "stream",
     "text": [
      "5\n",
      "4\n",
      "3\n",
      "2\n",
      "1\n",
      "Peekaboo\n"
     ]
    }
   ],
   "source": [
    "countdown = [5, 4, 3, 2, 1] \n",
    "\n",
    "# Write code below\n",
    "# Context: Numbers in a Countdown List\n",
    "# Countdown <- Contains all numbers\n",
    "# Number <- 1 Number in Countdown\n",
    "# for <singular> in <plural>\n",
    "\n",
    "for number in countdown:\n",
    "    print(number)\n",
    "print(\"Peekaboo\")\n",
    "\n",
    "#for count in counts:"
   ]
  },
  {
   "cell_type": "markdown",
   "metadata": {},
   "source": [
    "<a id='4.2'><h3>4.2 Blocking Concept</h3></a>\n",
    "\n",
    "<img src=\"https://i.imgur.com/wy9buUB.png\" width=\"400\">"
   ]
  },
  {
   "cell_type": "code",
   "execution_count": null,
   "metadata": {},
   "outputs": [],
   "source": [
    "x = [10, 20, 30]\n",
    "\n",
    "for number in x:\n",
    "    print(\"Hello\")\n",
    "print(\"Goodbye\")"
   ]
  }
 ],
 "metadata": {
  "kernelspec": {
   "display_name": "Python 3",
   "language": "python",
   "name": "python3"
  },
  "language_info": {
   "codemirror_mode": {
    "name": "ipython",
    "version": 3
   },
   "file_extension": ".py",
   "mimetype": "text/x-python",
   "name": "python",
   "nbconvert_exporter": "python",
   "pygments_lexer": "ipython3",
   "version": "3.7.3"
  }
 },
 "nbformat": 4,
 "nbformat_minor": 2
}
