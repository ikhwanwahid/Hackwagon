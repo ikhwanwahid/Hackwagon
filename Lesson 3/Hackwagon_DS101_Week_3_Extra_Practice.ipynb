{
 "cells": [
  {
   "cell_type": "markdown",
   "metadata": {},
   "source": [
    "<img src=\"https://i2.wp.com/hackwagon.com/wp-content/uploads/2017/02/Logo-Web-Export.png?ssl=1\" width=200/>\n",
    "\n",
    "<h1> Hackwagon Academy - DS101 Week 3 Extra Practice</h1>\n",
    "\n",
    "This extra exercise consists of <b>7 coding question</b> to test you understanding of list and dictionaries and follow by <b>22 multiple choice questions</b>. \n",
    "\n",
    "For Multiple Choice Questons, You will be asked what will be output of the code <b>without</b> running them. However, if you want to look at the answer, you may run the cell to see how the code runs as well. Answers and explanation can be found in the ANSWER notebook. It should be in the location where you downloaded this file.\n",
    "\n",
    "<p>The following are additional questions that serves to strengthen your understanding in this week's knowledge. There is <b>no need</b> to submit this extra practice.</p>"
   ]
  },
  {
   "cell_type": "markdown",
   "metadata": {},
   "source": [
    "## Part I: Coding Practice (For Loops)\n",
    "\n",
    "<p>The following questions serve to strengthen your understanding in handling data using iterations.</p>\n"
   ]
  },
  {
   "cell_type": "markdown",
   "metadata": {},
   "source": [
    "### Question 1 - Easy\n",
    "\n",
    "Print out all of the NRIC in the given data.\n",
    "\n",
    "<b>Expected Output:</b>\n",
    "\n",
    "    S93250888\n",
    "    S93250818\n",
    "    S93250288\n",
    "    S93250218\n",
    "    S93250248"
   ]
  },
  {
   "cell_type": "code",
   "execution_count": 7,
   "metadata": {},
   "outputs": [
    {
     "name": "stdout",
     "output_type": "stream",
     "text": [
      "S93250888\n",
      "S93250818\n",
      "S93250288\n",
      "S93250218\n",
      "S93250248\n"
     ]
    }
   ],
   "source": [
    "data = [\n",
    "    {'name': 'kt', 'nric': 'S93250888', 'score': 10, 'occupation': 'student'},\n",
    "    {'name': 'john', 'nric': 'S93250818', 'score': 5, 'occupation': 'student'},\n",
    "    {'name': 'henry', 'nric': 'S93250288', 'score': 2, 'occupation': 'teacher'},\n",
    "    {'name': 'mark', 'nric': 'S93250218', 'score': 7, 'occupation': 'student'},\n",
    "    {'name': 'mary', 'nric': 'S93250248', 'score': 2, 'occupation': 'teacher'},\n",
    "]\n",
    "#Write your code below\n",
    "for row in data:\n",
    "    nric = row[\"nric\"]\n",
    "    print(nric)\n",
    "\n"
   ]
  },
  {
   "cell_type": "markdown",
   "metadata": {},
   "source": [
    "### Question 2 - Easy\n",
    "\n",
    "Print out the total score of all the people in the list.\n",
    "\n",
    "<b>Expected Output:</b>\n",
    "\n",
    "    26"
   ]
  },
  {
   "cell_type": "code",
   "execution_count": 9,
   "metadata": {},
   "outputs": [
    {
     "name": "stdout",
     "output_type": "stream",
     "text": [
      "26\n"
     ]
    }
   ],
   "source": [
    "data = [\n",
    "    {'name': 'kt', 'nric': 'S93250888', 'score': 10, 'occupation': 'student'},\n",
    "    {'name': 'john', 'nric': 'S93250818', 'score': 5, 'occupation': 'student'},\n",
    "    {'name': 'henry', 'nric': 'S93250288', 'score': 2, 'occupation': 'teacher'},\n",
    "    {'name': 'mark', 'nric': 'S93250218', 'score': 7, 'occupation': 'student'},\n",
    "    {'name': 'mary', 'nric': 'S93250248', 'score': 2, 'occupation': 'teacher'},\n",
    "]\n",
    "#Write your code below\n",
    "# container is just a print number\n",
    "total = 0\n",
    "#extract the score out\n",
    "#sum up each score every iteration\n",
    "for row in data:\n",
    "    score = row[\"score\"]\n",
    "    total +=score\n",
    "#print out score\n",
    "print(total)\n"
   ]
  },
  {
   "cell_type": "markdown",
   "metadata": {},
   "source": [
    "### Question 3 - Easy\n",
    "\n",
    "Print out the `name` and `nric` for each person in the `data`\n",
    "\n",
    "<b>Expected Output:</b>\n",
    "\n",
    "    kt S93250888\n",
    "    john S93250818\n",
    "    henry S93250288\n",
    "    mark S93250248"
   ]
  },
  {
   "cell_type": "code",
   "execution_count": 17,
   "metadata": {},
   "outputs": [
    {
     "name": "stdout",
     "output_type": "stream",
     "text": [
      "kt S93250888 student\n",
      "john S93250818 student\n",
      "henry S93250288 teacher\n",
      "mark S93250248 teacher\n"
     ]
    }
   ],
   "source": [
    "data = {\n",
    "    'kt': { 'nric': 'S93250888', 'score': 10, 'occupation': 'student'},\n",
    "    'john': {'nric': 'S93250818', 'score': 5, 'occupation': 'student'},\n",
    "    'henry': { 'nric': 'S93250288', 'score': 2, 'occupation': 'teacher'},\n",
    "    'mark': { 'nric': 'S93250218', 'score': 7, 'occupation': 'student'},\n",
    "    'mark': { 'nric': 'S93250248', 'score': 2, 'occupation': 'teacher'},\n",
    "}\n",
    "#Write your code below\n",
    "# container is a print of both name and nric\n",
    "# extract out name\n",
    "#extract out nric\n",
    "for name,row in data.items():\n",
    "    ic = row['nric']\n",
    "    occupation= row['occupation']\n",
    "    print(name, ic, occupation)\n"
   ]
  },
  {
   "cell_type": "markdown",
   "metadata": {},
   "source": [
    "### Question 4  - Normal\n",
    "\n",
    "<h3> Find all factors of a number </h3>\n",
    "\n",
    "<p> Given a number N, print out all numbers that are factors of N<br>\n",
    "    <i> Doesn't matter if you print a list or a string </i>\n",
    "</p>\n",
    "\n",
    "**Expected output:**\n",
    "    \n",
    "    [1, 3, 5, 11, 15, 33, 55, 165]"
   ]
  },
  {
   "cell_type": "code",
   "execution_count": 21,
   "metadata": {},
   "outputs": [
    {
     "name": "stdout",
     "output_type": "stream",
     "text": [
      "[1, 3, 5, 11, 15, 33, 55, 165]\n"
     ]
    }
   ],
   "source": [
    "N = 165\n",
    "#Write your code below\n",
    "#output is a list\n",
    "factors_of_N = [1]\n",
    "#factors of N will never be higher than N//2, // is floor division.\n",
    "#so we don't have to iterate through anything more than half of N.          #technically using range to N not wrong also\n",
    "for i in range(2,N//2):\n",
    "    if N/i % 1== 0:\n",
    "        factors_of_N.append(i)\n",
    "#dont have to loop N in as we know N and 1 is a factor\n",
    "factors_of_N.append(N)      \n",
    "print(factors_of_N)"
   ]
  },
  {
   "cell_type": "markdown",
   "metadata": {},
   "source": [
    "### Question 5 -  Difficult\n",
    "\n",
    "<h3> Finding prime numbers </h3>\n",
    "\n",
    "<p> Given a list of integers, print out all numbers that are prime numbers<br>\n",
    "    <i> Doesn't matter if you print a list or a string </i>\n",
    "</p>\n",
    "\n",
    "**Expected Answers:**\n",
    "\n",
    "    13\n",
    "    31\n",
    "    7\n",
    "    5\n",
    "    3"
   ]
  },
  {
   "cell_type": "code",
   "execution_count": 47,
   "metadata": {},
   "outputs": [
    {
     "name": "stdout",
     "output_type": "stream",
     "text": [
      "13\n",
      "31\n",
      "7\n",
      "5\n",
      "1\n",
      "3\n"
     ]
    }
   ],
   "source": [
    "ints = [13, 88, 21, 31, 7, 5, 1, 3, -55, 0]\n",
    "#Write your code below\n",
    "# no container just print out\n",
    "#A positive integer greater than 1 which has no other factors except 1 and the number itself \n",
    "#test\n",
    "for num in ints:\n",
    "    prime = True\n",
    "    for i in range(2,num//2): #num//2 here cause u want example if we testing 13, we want 13/2\n",
    "        if num/i%1==0:\n",
    "            prime= False\n",
    "    if prime and num > 0:\n",
    "        print(num)\n",
    "    \n",
    "                     \n",
    "#print"
   ]
  },
  {
   "cell_type": "markdown",
   "metadata": {},
   "source": [
    "### Question 6 - Normal\n",
    "\n",
    "<h3> Finding number of squares from 1 to a given number, n </h3>\n",
    "\n",
    "<p> Given a list of numbers, N. Count from 1 to N, how many perfect squares are within the number 1 to N<br>\n",
    "    <i> Perfect Squares is the product of some integer with itself, meaning 4 is a perfect square as it is a product of 2x2. And 9 is a perfect square as it is a product of 3x3. </i>\n",
    "</p>\n",
    "\n",
    "\n",
    "\n",
    "**Example:**\n",
    "\n",
    "    N = 1 -> From 1 to 1, there are 1 as\" perfect square -> So print 1\n",
    "    N = 2 -> From 1 to 2, there are 1 as perfect square -> So print 1\n",
    "    N = 3 -> From 1 to 3, there are 1 as perfect square -> So print 1\n",
    "    N = 4 -> From 1 to 4, there are 1,4 as perfect square -> So print 2\n",
    "    N = 5 -> From 1 to 5, there are 1,4 as perfect square -> So print 2\n",
    "    N = 10 -> From 1 to 10, there are 1,4,9 as perfect square -> So print 3\n",
    "    N = 26 -> From 1 to 25, there are 1,4,9,16,25 as perfect square -> So print 5\n",
    "    \n",
    "**Expected Output:**\n",
    "\n",
    "    1\n",
    "    2\n",
    "    5\n",
    "    7\n",
    "    10\n",
    "    "
   ]
  },
  {
   "cell_type": "code",
   "execution_count": 55,
   "metadata": {},
   "outputs": [
    {
     "name": "stdout",
     "output_type": "stream",
     "text": [
      "1\n",
      "2\n",
      "5\n",
      "7\n",
      "10\n"
     ]
    }
   ],
   "source": [
    "list_of_numbers = [1,4,26,50,100]\n",
    "#Write your code below\n",
    "\n",
    "#iterate through the list of numbers for each number\n",
    "for num in list_of_numbers:\n",
    "    \n",
    "    # **0.5 means square root of the num. \n",
    "    # when you square root num, it actually returns you the total number of squares from 1 to num with some deciminal places.\n",
    "    # to remove the deciminal numbers, simple use // 1 (floor division) to remove all deciminal numbers\n",
    "    # lastly, make sure you convert the number back to integer to remove the .0 at the back of the numbers\n",
    "    print( int (num ** 0.5 // 1) )\n",
    "        "
   ]
  },
  {
   "cell_type": "markdown",
   "metadata": {},
   "source": [
    "### Question 7 - Easy\n",
    "\n",
    "<h3> Palindrome Part I </h3>\n",
    "\n",
    "<p> Given a list of words. Check if each word in the following list is a Palindrome<br>\n",
    "    <i> Prints True for those words that is a Palindrome and False for those that are not. A palidrome is a string that when reverse it is still the same.</i>\n",
    "</p>\n",
    "\n",
    "\n",
    "**Example:**\n",
    "\n",
    "    radar - radar - True\n",
    "    refer - refer - True\n",
    "    yes - sey - False\n",
    "    true - eurt - False\n",
    "    stats - stats - True\n",
    "    level - level - True\n",
    "    kaiyang - gnayiak - False\n",
    "    \n",
    "\n",
    "**Expected Output:**\n",
    "\n",
    "    True\n",
    "    False\n",
    "    True\n",
    "    False"
   ]
  },
  {
   "cell_type": "code",
   "execution_count": 57,
   "metadata": {},
   "outputs": [
    {
     "name": "stdout",
     "output_type": "stream",
     "text": [
      "True\n",
      "False\n",
      "True\n",
      "False\n"
     ]
    }
   ],
   "source": [
    "word_list = [\"civic\", \"class\", \"rotor\", \"kaiyang\"]\n",
    "#Write code below\n",
    "#iterate through the list of words for each word\n",
    "for word in word_list:\n",
    "    \n",
    "    #you can print conditions, they will return you True / False\n",
    "    #== is an equality sign to check if the string/number is the same as the other string/number\n",
    "    #word[::-1] is what we learnt in string slicing where you can flip a word around\n",
    "    # word == word[::-1] means to check if the word is the same when it's spelled backwards (thus, a palindrome)\n",
    "    print (word == word[::-1])"
   ]
  },
  {
   "cell_type": "markdown",
   "metadata": {},
   "source": [
    "## Part II: Multiple Choice Questions\n",
    "\n",
    "Without running the code below, guess what is the output of the code. There are multiple choice to help you. Answers will be at the end."
   ]
  },
  {
   "cell_type": "markdown",
   "metadata": {},
   "source": [
    "#### Question 8 (For loop - RANGE)"
   ]
  },
  {
   "cell_type": "code",
   "execution_count": 58,
   "metadata": {},
   "outputs": [],
   "source": [
    "for i in range(10,2,2):\n",
    "    print(\"x\")"
   ]
  },
  {
   "cell_type": "code",
   "execution_count": null,
   "metadata": {},
   "outputs": [],
   "source": [
    "#What will be printed?\n",
    "# 1. 10 \"x\" will be printed\n",
    "# 2. 8 \"x\" will be printed\n",
    "# 3. 4 \"x\" will be printed\n",
    "# 4. nothing will be printed"
   ]
  },
  {
   "cell_type": "markdown",
   "metadata": {},
   "source": [
    "#### Question 9 (For loop - RANGE)"
   ]
  },
  {
   "cell_type": "code",
   "execution_count": 59,
   "metadata": {},
   "outputs": [
    {
     "name": "stdout",
     "output_type": "stream",
     "text": [
      "1\n",
      "2\n",
      "3\n"
     ]
    }
   ],
   "source": [
    "num_list = [1,2,3,4,5,6]\n",
    "for i in range(len(num_list)//2):\n",
    "    num = num_list[i]\n",
    "    print(num)"
   ]
  },
  {
   "cell_type": "code",
   "execution_count": null,
   "metadata": {},
   "outputs": [],
   "source": [
    "#What will be printed?\n",
    "# 1. 1\n",
    "# 2. 1,2,3\n",
    "# 3. 1,2,3,4,5,6\n",
    "# 4. nothing will be printed"
   ]
  },
  {
   "cell_type": "markdown",
   "metadata": {},
   "source": [
    "#### Question 10 (For loop - RANGE)"
   ]
  },
  {
   "cell_type": "code",
   "execution_count": 60,
   "metadata": {},
   "outputs": [
    {
     "name": "stdout",
     "output_type": "stream",
     "text": [
      "4\n",
      "5\n",
      "6\n"
     ]
    }
   ],
   "source": [
    "num_list = [1,2,3,4,5,6]\n",
    "for i in range(len(num_list)//2,len(num_list)):\n",
    "    num = num_list[i]\n",
    "    print(num)"
   ]
  },
  {
   "cell_type": "code",
   "execution_count": null,
   "metadata": {},
   "outputs": [],
   "source": [
    "#What will be printed?\n",
    "# 1. 1,2,3\n",
    "# 2. 4,5,6\n",
    "# 3. 1,2,3,4,5,6\n",
    "# 4. nothing will be printed"
   ]
  },
  {
   "cell_type": "markdown",
   "metadata": {},
   "source": [
    "#### Question 11 (For loop - RANGE)"
   ]
  },
  {
   "cell_type": "code",
   "execution_count": 61,
   "metadata": {},
   "outputs": [
    {
     "name": "stdout",
     "output_type": "stream",
     "text": [
      "11\n",
      "22\n",
      "33\n",
      "44\n",
      "55\n",
      "66\n"
     ]
    }
   ],
   "source": [
    "list_x = [1,2,3,4,5,6]\n",
    "list_y = [10,20,30,40,50,60]\n",
    "for i in range(len(list_x)):\n",
    "    num1 = list_y[i]\n",
    "    num2 = list_x[i]\n",
    "    print(num1+num2)"
   ]
  },
  {
   "cell_type": "code",
   "execution_count": 32,
   "metadata": {},
   "outputs": [],
   "source": [
    "#What will be printed?\n",
    "# 1. 1,2,3,4,5,6\n",
    "# 2. 10,20,30,40,50,60\n",
    "# 3. 11,22,33,44,55,66\n",
    "# 4. error message"
   ]
  },
  {
   "cell_type": "markdown",
   "metadata": {},
   "source": [
    "#### Question 12 (For loop - RANGE)"
   ]
  },
  {
   "cell_type": "code",
   "execution_count": 62,
   "metadata": {},
   "outputs": [
    {
     "name": "stdout",
     "output_type": "stream",
     "text": [
      "40\n",
      "50\n",
      "60\n",
      "70\n",
      "80\n",
      "90\n"
     ]
    }
   ],
   "source": [
    "list_x = [1,2,3,4,5,6]\n",
    "list_y = [30,40,50,60,70,80,90,100,110,120,130,140]\n",
    "for i in range(len(list_x)):\n",
    "    num = list_y[list_x[i]]\n",
    "    print(num)"
   ]
  },
  {
   "cell_type": "code",
   "execution_count": null,
   "metadata": {},
   "outputs": [],
   "source": [
    "#What will be printed?\n",
    "# 1. 1,2,3,4,5,6\n",
    "# 2. 40,50,60,70,80,90\n",
    "# 3. 30,40,50,60,70,80,90,100,110,120,130,140\n",
    "# 4. nothing will be printed"
   ]
  },
  {
   "cell_type": "markdown",
   "metadata": {},
   "source": [
    "#### Question 13 (For loop - FOR EACH LOOP)"
   ]
  },
  {
   "cell_type": "code",
   "execution_count": 63,
   "metadata": {},
   "outputs": [
    {
     "name": "stdout",
     "output_type": "stream",
     "text": [
      "3\n",
      "6\n"
     ]
    }
   ],
   "source": [
    "num_list = [\n",
    "    [1,2,3],\n",
    "    [4,5,6]\n",
    "]\n",
    "\n",
    "for row in num_list:\n",
    "    num = row[2]\n",
    "    print(num)"
   ]
  },
  {
   "cell_type": "code",
   "execution_count": null,
   "metadata": {},
   "outputs": [],
   "source": [
    "#What will be printed?\n",
    "# 1. 1 and 4\n",
    "# 2. 2 and 5\n",
    "# 3. 3 and 6\n",
    "# 4. nothing will be printed"
   ]
  },
  {
   "cell_type": "markdown",
   "metadata": {},
   "source": [
    "#### Question 14 (For loop - FOR EACH LOOP)"
   ]
  },
  {
   "cell_type": "code",
   "execution_count": 67,
   "metadata": {},
   "outputs": [
    {
     "name": "stdout",
     "output_type": "stream",
     "text": [
      "1\n",
      "4\n"
     ]
    }
   ],
   "source": [
    "num_list = [\n",
    "    {'a': 1, 'b': 2, 'c': 3},\n",
    "    {'a': 4, 'b': 5, 'c': 6}\n",
    "]\n",
    "\n",
    "for row in num_list:\n",
    "    num = row['a']\n",
    "    print(num)"
   ]
  },
  {
   "cell_type": "code",
   "execution_count": null,
   "metadata": {},
   "outputs": [],
   "source": [
    "#What will be printed?\n",
    "# 1. 1 and 4\n",
    "# 2. 2 and 5\n",
    "# 3. 3 and 6\n",
    "# 4. 'a' and 'a'"
   ]
  },
  {
   "cell_type": "markdown",
   "metadata": {},
   "source": [
    "#### Question 15 (For loop - DICTIONARY)"
   ]
  },
  {
   "cell_type": "code",
   "execution_count": 68,
   "metadata": {},
   "outputs": [
    {
     "name": "stdout",
     "output_type": "stream",
     "text": [
      "1\n",
      "2\n",
      "3\n",
      "4\n",
      "5\n",
      "6\n"
     ]
    }
   ],
   "source": [
    "dictionary_x = {'a': 1, 'b': 2, 'c': 3,'d': 4, 'e': 5, 'f': 6}\n",
    "for key in dictionary_x:\n",
    "    value = dictionary_x[key]\n",
    "    print(value)"
   ]
  },
  {
   "cell_type": "code",
   "execution_count": null,
   "metadata": {},
   "outputs": [],
   "source": [
    "#What will be printed?\n",
    "# 1. 1,2,3,4,5,6\n",
    "# 2. 'a','b','c','d','e','f'\n",
    "# 3. 'a': 1, 'b': 2, 'c': 3,'d': 4, 'e': 5, 'f': 6\n",
    "# 4. nothing will be printed"
   ]
  },
  {
   "cell_type": "markdown",
   "metadata": {},
   "source": [
    "#### Question 16 (For loop - DICTIONARY.ITEMS())"
   ]
  },
  {
   "cell_type": "code",
   "execution_count": 69,
   "metadata": {},
   "outputs": [
    {
     "name": "stdout",
     "output_type": "stream",
     "text": [
      "1\n",
      "2\n",
      "3\n",
      "4\n",
      "5\n",
      "6\n"
     ]
    }
   ],
   "source": [
    "dictionary_x = {'a': 1, 'b': 2, 'c': 3,'d': 4, 'e': 5, 'f': 6}\n",
    "for key , value in dictionary_x.items():\n",
    "    print(value)"
   ]
  },
  {
   "cell_type": "code",
   "execution_count": null,
   "metadata": {},
   "outputs": [],
   "source": [
    "#What will be printed?\n",
    "# 1. 1,2,3,4,5,6\n",
    "# 2. 'a','b','c','d','e','f'\n",
    "# 3. 'a': 1, 'b': 2, 'c': 3,'d': 4, 'e': 5, 'f': 6\n",
    "# 4. nothing will be printed"
   ]
  },
  {
   "cell_type": "markdown",
   "metadata": {},
   "source": [
    "#### Question 17 (For loop - DICTIONARY.ITEMS())"
   ]
  },
  {
   "cell_type": "code",
   "execution_count": 70,
   "metadata": {},
   "outputs": [
    {
     "name": "stdout",
     "output_type": "stream",
     "text": [
      "7\n",
      "7\n",
      "7\n",
      "7\n",
      "7\n",
      "7\n"
     ]
    }
   ],
   "source": [
    "dictionary_x = {'a': 1, 'b': 2, 'c': 3,'d': 4, 'e': 5, 'f': 6}\n",
    "dictionary_y = {'a': 6, 'b': 5, 'c': 4,'d': 3, 'e': 2, 'f': 1}\n",
    "\n",
    "for key in dictionary_x:\n",
    "    v1 = dictionary_x[key]\n",
    "    v2 = dictionary_y[key]\n",
    "    print(v1+v2)"
   ]
  },
  {
   "cell_type": "code",
   "execution_count": null,
   "metadata": {},
   "outputs": [],
   "source": [
    "#What will be printed?\n",
    "# 1. 1,2,3,4,5,6\n",
    "# 2. 6,5,4,3,2,1\n",
    "# 3. 7,7,7,7,7,7\n",
    "# 4. 'f','e','d','c','b','a'"
   ]
  },
  {
   "cell_type": "markdown",
   "metadata": {},
   "source": [
    "#### Question 18 (Debugging)"
   ]
  },
  {
   "cell_type": "code",
   "execution_count": 13,
   "metadata": {},
   "outputs": [
    {
     "ename": "TypeError",
     "evalue": "'list' object cannot be interpreted as an integer",
     "output_type": "error",
     "traceback": [
      "\u001b[1;31m---------------------------------------------------------------------------\u001b[0m",
      "\u001b[1;31mTypeError\u001b[0m                                 Traceback (most recent call last)",
      "\u001b[1;32m<ipython-input-13-ec4d9b3a6118>\u001b[0m in \u001b[0;36m<module>\u001b[1;34m()\u001b[0m\n\u001b[0;32m      1\u001b[0m \u001b[0mlist_x\u001b[0m \u001b[1;33m=\u001b[0m \u001b[1;33m[\u001b[0m\u001b[1;36m1\u001b[0m\u001b[1;33m,\u001b[0m\u001b[1;36m2\u001b[0m\u001b[1;33m,\u001b[0m\u001b[1;36m3\u001b[0m\u001b[1;33m,\u001b[0m\u001b[1;36m4\u001b[0m\u001b[1;33m,\u001b[0m\u001b[1;36m5\u001b[0m\u001b[1;33m,\u001b[0m\u001b[1;36m6\u001b[0m\u001b[1;33m]\u001b[0m\u001b[1;33m\u001b[0m\u001b[0m\n\u001b[1;32m----> 2\u001b[1;33m \u001b[1;32mfor\u001b[0m \u001b[0mi\u001b[0m \u001b[1;32min\u001b[0m \u001b[0mrange\u001b[0m\u001b[1;33m(\u001b[0m\u001b[0mlist_x\u001b[0m\u001b[1;33m)\u001b[0m\u001b[1;33m:\u001b[0m\u001b[1;33m\u001b[0m\u001b[0m\n\u001b[0m\u001b[0;32m      3\u001b[0m     \u001b[0mprint\u001b[0m\u001b[1;33m(\u001b[0m\u001b[0mi\u001b[0m\u001b[1;33m)\u001b[0m\u001b[1;33m\u001b[0m\u001b[0m\n",
      "\u001b[1;31mTypeError\u001b[0m: 'list' object cannot be interpreted as an integer"
     ]
    }
   ],
   "source": [
    "list_x = [1,2,3,4,5,6]\n",
    "for i in range(list_x):\n",
    "    print(i)"
   ]
  },
  {
   "cell_type": "code",
   "execution_count": null,
   "metadata": {},
   "outputs": [],
   "source": [
    "#What is the root cause of the error?\n",
    "#1. range() function takes in an integer. Therefore, it should be len(list_x) instead of just list_x\n",
    "#2. forgot to put : at the end of the for loop statement\n",
    "#3. forgot to indent the next line after the for loop statement\n",
    "#4. use .items() function on a list. When .items() is a function specifically for dictionary only"
   ]
  },
  {
   "cell_type": "markdown",
   "metadata": {},
   "source": [
    "#### Question 19 (Debugging)"
   ]
  },
  {
   "cell_type": "code",
   "execution_count": 14,
   "metadata": {},
   "outputs": [
    {
     "ename": "SyntaxError",
     "evalue": "invalid syntax (<ipython-input-14-a8032d432cc6>, line 2)",
     "output_type": "error",
     "traceback": [
      "\u001b[1;36m  File \u001b[1;32m\"<ipython-input-14-a8032d432cc6>\"\u001b[1;36m, line \u001b[1;32m2\u001b[0m\n\u001b[1;33m    for i in list_x\u001b[0m\n\u001b[1;37m                   ^\u001b[0m\n\u001b[1;31mSyntaxError\u001b[0m\u001b[1;31m:\u001b[0m invalid syntax\n"
     ]
    }
   ],
   "source": [
    "list_x = [1,2,3,4,5,6]\n",
    "for i in list_x\n",
    "    print(i)"
   ]
  },
  {
   "cell_type": "code",
   "execution_count": null,
   "metadata": {},
   "outputs": [],
   "source": [
    "#What is the root cause of the error?\n",
    "#1. range() function takes in an integer. Therefore, it should be len(list_x) instead of just list_x\n",
    "#2. forgot to put : at the end of the for loop statement\n",
    "#3. forgot to indent the next line after the for loop statement\n",
    "#4. use .items() function on a list. When .items() is a function specifically for dictionary only"
   ]
  },
  {
   "cell_type": "markdown",
   "metadata": {},
   "source": [
    "#### Question 20 (Debugging)"
   ]
  },
  {
   "cell_type": "code",
   "execution_count": 15,
   "metadata": {},
   "outputs": [
    {
     "ename": "IndentationError",
     "evalue": "expected an indented block (<ipython-input-15-4f42b02109d2>, line 3)",
     "output_type": "error",
     "traceback": [
      "\u001b[1;36m  File \u001b[1;32m\"<ipython-input-15-4f42b02109d2>\"\u001b[1;36m, line \u001b[1;32m3\u001b[0m\n\u001b[1;33m    print(i)\u001b[0m\n\u001b[1;37m        ^\u001b[0m\n\u001b[1;31mIndentationError\u001b[0m\u001b[1;31m:\u001b[0m expected an indented block\n"
     ]
    }
   ],
   "source": [
    "list_x = [1,2,3,4,5,6]\n",
    "for i in list_x:\n",
    "print(i)"
   ]
  },
  {
   "cell_type": "code",
   "execution_count": null,
   "metadata": {},
   "outputs": [],
   "source": [
    "#What is the root cause of the error?\n",
    "#1. range() function takes in an integer. Therefore, it should be len(list_x) instead of just list_x\n",
    "#2. forgot to put : at the end of the for loop statement\n",
    "#3. forgot to indent the next line after the for loop statement\n",
    "#4. use .items() function on a list. When .items() is a function specifically for dictionary only"
   ]
  },
  {
   "cell_type": "markdown",
   "metadata": {},
   "source": [
    "#### Question 21 (Debugging)"
   ]
  },
  {
   "cell_type": "code",
   "execution_count": 16,
   "metadata": {},
   "outputs": [
    {
     "ename": "AttributeError",
     "evalue": "'list' object has no attribute 'items'",
     "output_type": "error",
     "traceback": [
      "\u001b[1;31m---------------------------------------------------------------------------\u001b[0m",
      "\u001b[1;31mAttributeError\u001b[0m                            Traceback (most recent call last)",
      "\u001b[1;32m<ipython-input-16-8ecad8bfc848>\u001b[0m in \u001b[0;36m<module>\u001b[1;34m()\u001b[0m\n\u001b[0;32m      1\u001b[0m \u001b[0mlist_x\u001b[0m \u001b[1;33m=\u001b[0m \u001b[1;33m[\u001b[0m\u001b[1;36m1\u001b[0m\u001b[1;33m,\u001b[0m\u001b[1;36m2\u001b[0m\u001b[1;33m,\u001b[0m\u001b[1;36m3\u001b[0m\u001b[1;33m,\u001b[0m\u001b[1;36m4\u001b[0m\u001b[1;33m,\u001b[0m\u001b[1;36m5\u001b[0m\u001b[1;33m,\u001b[0m\u001b[1;36m6\u001b[0m\u001b[1;33m]\u001b[0m\u001b[1;33m\u001b[0m\u001b[0m\n\u001b[1;32m----> 2\u001b[1;33m \u001b[1;32mfor\u001b[0m \u001b[0mi\u001b[0m\u001b[1;33m,\u001b[0m \u001b[0mj\u001b[0m \u001b[1;32min\u001b[0m \u001b[0mlist_x\u001b[0m\u001b[1;33m.\u001b[0m\u001b[0mitems\u001b[0m\u001b[1;33m(\u001b[0m\u001b[1;33m)\u001b[0m\u001b[1;33m:\u001b[0m\u001b[1;33m\u001b[0m\u001b[0m\n\u001b[0m\u001b[0;32m      3\u001b[0m     \u001b[0mprint\u001b[0m\u001b[1;33m(\u001b[0m\u001b[0mj\u001b[0m\u001b[1;33m)\u001b[0m\u001b[1;33m\u001b[0m\u001b[0m\n",
      "\u001b[1;31mAttributeError\u001b[0m: 'list' object has no attribute 'items'"
     ]
    }
   ],
   "source": [
    "list_x = [1,2,3,4,5,6]\n",
    "for i, j in list_x.items():\n",
    "    print(j)"
   ]
  },
  {
   "cell_type": "code",
   "execution_count": null,
   "metadata": {},
   "outputs": [],
   "source": [
    "#What is the root cause of the error?\n",
    "#1. range() function takes in an integer. Therefore, it should be len(list_x) instead of just list_x\n",
    "#2. forgot to put : at the end of the for loop statement\n",
    "#3. forgot to indent the next line after the for loop statement\n",
    "#4. use .items() function on a list. When .items() is a function specifically for dictionary only"
   ]
  },
  {
   "cell_type": "markdown",
   "metadata": {},
   "source": [
    "#### Question 22 (Debugging)"
   ]
  },
  {
   "cell_type": "code",
   "execution_count": 17,
   "metadata": {},
   "outputs": [
    {
     "ename": "AttributeError",
     "evalue": "'dict' object has no attribute 'item'",
     "output_type": "error",
     "traceback": [
      "\u001b[1;31m---------------------------------------------------------------------------\u001b[0m",
      "\u001b[1;31mAttributeError\u001b[0m                            Traceback (most recent call last)",
      "\u001b[1;32m<ipython-input-17-43870488a0f8>\u001b[0m in \u001b[0;36m<module>\u001b[1;34m()\u001b[0m\n\u001b[0;32m      1\u001b[0m \u001b[0mdictionary_x\u001b[0m \u001b[1;33m=\u001b[0m \u001b[1;33m{\u001b[0m\u001b[1;34m'a'\u001b[0m\u001b[1;33m:\u001b[0m \u001b[1;36m1\u001b[0m\u001b[1;33m,\u001b[0m \u001b[1;34m'b'\u001b[0m\u001b[1;33m:\u001b[0m \u001b[1;36m2\u001b[0m\u001b[1;33m,\u001b[0m \u001b[1;34m'c'\u001b[0m\u001b[1;33m:\u001b[0m \u001b[1;36m3\u001b[0m\u001b[1;33m,\u001b[0m\u001b[1;34m'd'\u001b[0m\u001b[1;33m:\u001b[0m \u001b[1;36m4\u001b[0m\u001b[1;33m,\u001b[0m \u001b[1;34m'e'\u001b[0m\u001b[1;33m:\u001b[0m \u001b[1;36m5\u001b[0m\u001b[1;33m,\u001b[0m \u001b[1;34m'f'\u001b[0m\u001b[1;33m:\u001b[0m \u001b[1;36m6\u001b[0m\u001b[1;33m}\u001b[0m\u001b[1;33m\u001b[0m\u001b[0m\n\u001b[1;32m----> 2\u001b[1;33m \u001b[1;32mfor\u001b[0m \u001b[0mi\u001b[0m\u001b[1;33m,\u001b[0m \u001b[0mj\u001b[0m \u001b[1;32min\u001b[0m \u001b[0mdictionary_x\u001b[0m\u001b[1;33m.\u001b[0m\u001b[0mitem\u001b[0m\u001b[1;33m(\u001b[0m\u001b[1;33m)\u001b[0m\u001b[1;33m:\u001b[0m\u001b[1;33m\u001b[0m\u001b[0m\n\u001b[0m\u001b[0;32m      3\u001b[0m     \u001b[0mprint\u001b[0m\u001b[1;33m(\u001b[0m\u001b[0mj\u001b[0m\u001b[1;33m)\u001b[0m\u001b[1;33m\u001b[0m\u001b[0m\n",
      "\u001b[1;31mAttributeError\u001b[0m: 'dict' object has no attribute 'item'"
     ]
    }
   ],
   "source": [
    "dictionary_x = {'a': 1, 'b': 2, 'c': 3,'d': 4, 'e': 5, 'f': 6}\n",
    "for i, j in dictionary_x.item():\n",
    "    print(j)"
   ]
  },
  {
   "cell_type": "code",
   "execution_count": null,
   "metadata": {},
   "outputs": [],
   "source": [
    "#What is the root cause of the error?\n",
    "#1. .items() is spelled wrongly. instead of .item(), it should be .items()\n",
    "#2. forgot to put .items() at the end of the for loop (dictionary)\n",
    "#3. forgot to put : at the end of the for loop statement\n",
    "#4. forgot to type () after .items"
   ]
  },
  {
   "cell_type": "markdown",
   "metadata": {},
   "source": [
    "#### Question 23 (Debugging)"
   ]
  },
  {
   "cell_type": "code",
   "execution_count": 18,
   "metadata": {},
   "outputs": [
    {
     "ename": "ValueError",
     "evalue": "not enough values to unpack (expected 2, got 1)",
     "output_type": "error",
     "traceback": [
      "\u001b[1;31m---------------------------------------------------------------------------\u001b[0m",
      "\u001b[1;31mValueError\u001b[0m                                Traceback (most recent call last)",
      "\u001b[1;32m<ipython-input-18-c84f9b8e36c1>\u001b[0m in \u001b[0;36m<module>\u001b[1;34m()\u001b[0m\n\u001b[0;32m      1\u001b[0m \u001b[0mdictionary_x\u001b[0m \u001b[1;33m=\u001b[0m \u001b[1;33m{\u001b[0m\u001b[1;34m'a'\u001b[0m\u001b[1;33m:\u001b[0m \u001b[1;36m1\u001b[0m\u001b[1;33m,\u001b[0m \u001b[1;34m'b'\u001b[0m\u001b[1;33m:\u001b[0m \u001b[1;36m2\u001b[0m\u001b[1;33m,\u001b[0m \u001b[1;34m'c'\u001b[0m\u001b[1;33m:\u001b[0m \u001b[1;36m3\u001b[0m\u001b[1;33m,\u001b[0m\u001b[1;34m'd'\u001b[0m\u001b[1;33m:\u001b[0m \u001b[1;36m4\u001b[0m\u001b[1;33m,\u001b[0m \u001b[1;34m'e'\u001b[0m\u001b[1;33m:\u001b[0m \u001b[1;36m5\u001b[0m\u001b[1;33m,\u001b[0m \u001b[1;34m'f'\u001b[0m\u001b[1;33m:\u001b[0m \u001b[1;36m6\u001b[0m\u001b[1;33m}\u001b[0m\u001b[1;33m\u001b[0m\u001b[0m\n\u001b[1;32m----> 2\u001b[1;33m \u001b[1;32mfor\u001b[0m \u001b[0mi\u001b[0m\u001b[1;33m,\u001b[0m \u001b[0mj\u001b[0m \u001b[1;32min\u001b[0m \u001b[0mdictionary_x\u001b[0m\u001b[1;33m:\u001b[0m\u001b[1;33m\u001b[0m\u001b[0m\n\u001b[0m\u001b[0;32m      3\u001b[0m     \u001b[0mprint\u001b[0m\u001b[1;33m(\u001b[0m\u001b[0mj\u001b[0m\u001b[1;33m)\u001b[0m\u001b[1;33m\u001b[0m\u001b[0m\n",
      "\u001b[1;31mValueError\u001b[0m: not enough values to unpack (expected 2, got 1)"
     ]
    }
   ],
   "source": [
    "dictionary_x = {'a': 1, 'b': 2, 'c': 3,'d': 4, 'e': 5, 'f': 6}\n",
    "for i, j in dictionary_x:\n",
    "    print(j)"
   ]
  },
  {
   "cell_type": "code",
   "execution_count": null,
   "metadata": {},
   "outputs": [],
   "source": [
    "#What is the root cause of the error?\n",
    "#1. .items() is spelled wrongly. instead of .item(), it should be .items()\n",
    "#2. forgot to put .items() at the end of the for loop (dictionary)\n",
    "#3. forgot to put : at the end of the for loop statement\n",
    "#4. forgot to type () after .items"
   ]
  },
  {
   "cell_type": "markdown",
   "metadata": {},
   "source": [
    "#### Question 24 (Debugging)"
   ]
  },
  {
   "cell_type": "code",
   "execution_count": 22,
   "metadata": {},
   "outputs": [
    {
     "ename": "SyntaxError",
     "evalue": "invalid syntax (<ipython-input-22-d4b76765d7a1>, line 2)",
     "output_type": "error",
     "traceback": [
      "\u001b[1;36m  File \u001b[1;32m\"<ipython-input-22-d4b76765d7a1>\"\u001b[1;36m, line \u001b[1;32m2\u001b[0m\n\u001b[1;33m    for i,j in dictionary_x.items()\u001b[0m\n\u001b[1;37m                                   ^\u001b[0m\n\u001b[1;31mSyntaxError\u001b[0m\u001b[1;31m:\u001b[0m invalid syntax\n"
     ]
    }
   ],
   "source": [
    "dictionary_x = {'a': 1, 'b': 2, 'c': 3,'d': 4, 'e': 5, 'f': 6}\n",
    "for i,j in dictionary_x.items()\n",
    "    print(j)"
   ]
  },
  {
   "cell_type": "code",
   "execution_count": null,
   "metadata": {},
   "outputs": [],
   "source": [
    "#What is the root cause of the error?\n",
    "#1. .items() is spelled wrongly. instead of .item(), it should be .items()\n",
    "#2. forgot to put .items() at the end of the for loop (dictionary)\n",
    "#3. forgot to put : at the end of the for loop statement\n",
    "#4. forgot to type () after .items"
   ]
  },
  {
   "cell_type": "markdown",
   "metadata": {},
   "source": [
    "#### Question 25 (Debugging)"
   ]
  },
  {
   "cell_type": "code",
   "execution_count": 23,
   "metadata": {},
   "outputs": [
    {
     "ename": "TypeError",
     "evalue": "'builtin_function_or_method' object is not iterable",
     "output_type": "error",
     "traceback": [
      "\u001b[1;31m---------------------------------------------------------------------------\u001b[0m",
      "\u001b[1;31mTypeError\u001b[0m                                 Traceback (most recent call last)",
      "\u001b[1;32m<ipython-input-23-783655cc18d8>\u001b[0m in \u001b[0;36m<module>\u001b[1;34m()\u001b[0m\n\u001b[0;32m      1\u001b[0m \u001b[0mdictionary_x\u001b[0m \u001b[1;33m=\u001b[0m \u001b[1;33m{\u001b[0m\u001b[1;34m'a'\u001b[0m\u001b[1;33m:\u001b[0m \u001b[1;36m1\u001b[0m\u001b[1;33m,\u001b[0m \u001b[1;34m'b'\u001b[0m\u001b[1;33m:\u001b[0m \u001b[1;36m2\u001b[0m\u001b[1;33m,\u001b[0m \u001b[1;34m'c'\u001b[0m\u001b[1;33m:\u001b[0m \u001b[1;36m3\u001b[0m\u001b[1;33m,\u001b[0m\u001b[1;34m'd'\u001b[0m\u001b[1;33m:\u001b[0m \u001b[1;36m4\u001b[0m\u001b[1;33m,\u001b[0m \u001b[1;34m'e'\u001b[0m\u001b[1;33m:\u001b[0m \u001b[1;36m5\u001b[0m\u001b[1;33m,\u001b[0m \u001b[1;34m'f'\u001b[0m\u001b[1;33m:\u001b[0m \u001b[1;36m6\u001b[0m\u001b[1;33m}\u001b[0m\u001b[1;33m\u001b[0m\u001b[0m\n\u001b[1;32m----> 2\u001b[1;33m \u001b[1;32mfor\u001b[0m \u001b[0mi\u001b[0m\u001b[1;33m,\u001b[0m\u001b[0mj\u001b[0m \u001b[1;32min\u001b[0m \u001b[0mdictionary_x\u001b[0m\u001b[1;33m.\u001b[0m\u001b[0mitems\u001b[0m\u001b[1;33m:\u001b[0m\u001b[1;33m\u001b[0m\u001b[0m\n\u001b[0m\u001b[0;32m      3\u001b[0m     \u001b[0mprint\u001b[0m\u001b[1;33m(\u001b[0m\u001b[0mj\u001b[0m\u001b[1;33m)\u001b[0m\u001b[1;33m\u001b[0m\u001b[0m\n",
      "\u001b[1;31mTypeError\u001b[0m: 'builtin_function_or_method' object is not iterable"
     ]
    }
   ],
   "source": [
    "dictionary_x = {'a': 1, 'b': 2, 'c': 3,'d': 4, 'e': 5, 'f': 6}\n",
    "for i,j in dictionary_x.items:\n",
    "    print(j)"
   ]
  },
  {
   "cell_type": "code",
   "execution_count": null,
   "metadata": {},
   "outputs": [],
   "source": [
    "#What is the root cause of the error?\n",
    "#1. .items() is spelled wrongly. instead of .item(), it should be .items()\n",
    "#2. forgot to put .items() at the end of the for loop (dictionary)\n",
    "#3. forgot to put : at the end of the for loop statement\n",
    "#4. forgot to type () after .items"
   ]
  },
  {
   "cell_type": "markdown",
   "metadata": {},
   "source": [
    "#### Question 26 (Debugging)"
   ]
  },
  {
   "cell_type": "code",
   "execution_count": 26,
   "metadata": {},
   "outputs": [
    {
     "ename": "KeyError",
     "evalue": "1",
     "output_type": "error",
     "traceback": [
      "\u001b[1;31m---------------------------------------------------------------------------\u001b[0m",
      "\u001b[1;31mKeyError\u001b[0m                                  Traceback (most recent call last)",
      "\u001b[1;32m<ipython-input-26-94719254bf23>\u001b[0m in \u001b[0;36m<module>\u001b[1;34m()\u001b[0m\n\u001b[0;32m      5\u001b[0m \u001b[1;33m\u001b[0m\u001b[0m\n\u001b[0;32m      6\u001b[0m \u001b[1;32mfor\u001b[0m \u001b[0mrow\u001b[0m \u001b[1;32min\u001b[0m \u001b[0mdata_set\u001b[0m\u001b[1;33m:\u001b[0m\u001b[1;33m\u001b[0m\u001b[0m\n\u001b[1;32m----> 7\u001b[1;33m     \u001b[0mprint\u001b[0m\u001b[1;33m(\u001b[0m\u001b[0mrow\u001b[0m\u001b[1;33m[\u001b[0m\u001b[1;36m1\u001b[0m\u001b[1;33m]\u001b[0m\u001b[1;33m)\u001b[0m\u001b[1;33m\u001b[0m\u001b[0m\n\u001b[0m",
      "\u001b[1;31mKeyError\u001b[0m: 1"
     ]
    }
   ],
   "source": [
    "data_set = [\n",
    "    {'a': 1, 'b': 2, 'c': 3},\n",
    "    {'a': 4, 'b': 5, 'c': 6}\n",
    "]\n",
    "\n",
    "for row in data_set:\n",
    "    print(row[1])"
   ]
  },
  {
   "cell_type": "code",
   "execution_count": null,
   "metadata": {},
   "outputs": [],
   "source": [
    "#What is the root cause of the error?\n",
    "#1. Each row in the data_set is supposed to be a dictionary, not a list. Therefore, it is expecting a key rather than index\n",
    "#2. As print is outside of the for loop. it will only print out the last element it was assigned to. (usually is the last row)\n",
    "#3. The outer layer of the data_set is a dictionary not a list. Thus, you should iterate through using dictionary for loop \n",
    "#4. The outer layer of the data_set is a list not a dictionary. Thus, you should iterate through using list for loop"
   ]
  },
  {
   "cell_type": "markdown",
   "metadata": {},
   "source": [
    "#### Question 27 (Debugging)"
   ]
  },
  {
   "cell_type": "code",
   "execution_count": 27,
   "metadata": {},
   "outputs": [
    {
     "ename": "AttributeError",
     "evalue": "'list' object has no attribute 'items'",
     "output_type": "error",
     "traceback": [
      "\u001b[1;31m---------------------------------------------------------------------------\u001b[0m",
      "\u001b[1;31mAttributeError\u001b[0m                            Traceback (most recent call last)",
      "\u001b[1;32m<ipython-input-27-9c75b397178d>\u001b[0m in \u001b[0;36m<module>\u001b[1;34m()\u001b[0m\n\u001b[0;32m      4\u001b[0m ]\n\u001b[0;32m      5\u001b[0m \u001b[1;33m\u001b[0m\u001b[0m\n\u001b[1;32m----> 6\u001b[1;33m \u001b[1;32mfor\u001b[0m \u001b[0mkey\u001b[0m\u001b[1;33m,\u001b[0m\u001b[0mvalue\u001b[0m \u001b[1;32min\u001b[0m \u001b[0mdata_set\u001b[0m\u001b[1;33m.\u001b[0m\u001b[0mitems\u001b[0m\u001b[1;33m(\u001b[0m\u001b[1;33m)\u001b[0m\u001b[1;33m:\u001b[0m\u001b[1;33m\u001b[0m\u001b[0m\n\u001b[0m\u001b[0;32m      7\u001b[0m     \u001b[0mprint\u001b[0m\u001b[1;33m(\u001b[0m\u001b[0mvalue\u001b[0m\u001b[1;33m)\u001b[0m\u001b[1;33m\u001b[0m\u001b[0m\n",
      "\u001b[1;31mAttributeError\u001b[0m: 'list' object has no attribute 'items'"
     ]
    }
   ],
   "source": [
    "data_set = [\n",
    "    {'a': 1, 'b': 2, 'c': 3},\n",
    "    {'a': 4, 'b': 5, 'c': 6}\n",
    "]\n",
    "\n",
    "for key,value in data_set.items():\n",
    "    print(value)"
   ]
  },
  {
   "cell_type": "code",
   "execution_count": null,
   "metadata": {},
   "outputs": [],
   "source": [
    "#What is the root cause of the error?\n",
    "#1. Each row in the data_set is supposed to be a dictionary, not a list. Therefore, it is expecting a key rather than index\n",
    "#2. As print is outside of the for loop. it will only print out the last element it was assigned to. (usually is the last row)\n",
    "#3. The outer layer of the data_set is a dictionary not a list. Thus, you should iterate through using dictionary for loop \n",
    "#4. The outer layer of the data_set is a list not a dictionary. Thus, you should iterate through using list for loop"
   ]
  },
  {
   "cell_type": "markdown",
   "metadata": {},
   "source": [
    "#### Question 28 (Debugging)"
   ]
  },
  {
   "cell_type": "code",
   "execution_count": 30,
   "metadata": {},
   "outputs": [
    {
     "name": "stdout",
     "output_type": "stream",
     "text": [
      "4\n"
     ]
    }
   ],
   "source": [
    "#create a code that prints 1\n",
    "data_set = [\n",
    "    {'a': 1, 'b': 2, 'c': 3},\n",
    "    {'a': 4, 'b': 5, 'c': 6}\n",
    "]\n",
    "\n",
    "for row in data_set:\n",
    "    value = row['a']\n",
    "print(value)\n",
    "#why does value not print 1?"
   ]
  },
  {
   "cell_type": "code",
   "execution_count": null,
   "metadata": {},
   "outputs": [],
   "source": [
    "#What is the root cause of the error?\n",
    "#1. Each row in the data_set is supposed to be a dictionary, not a list. Therefore, it is expecting a key rather than index\n",
    "#2. As print is outside of the for loop. it will only print out the last element it was assigned to. (usually is the last row)\n",
    "#3. The outer layer of the data_set is a dictionary not a list. Thus, you should iterate through using dictionary for loop \n",
    "#4. The outer layer of the data_set is a list not a dictionary. Thus, you should iterate through using list for loop"
   ]
  },
  {
   "cell_type": "markdown",
   "metadata": {},
   "source": [
    "#### Question 29 (Debugging)"
   ]
  },
  {
   "cell_type": "code",
   "execution_count": 31,
   "metadata": {},
   "outputs": [
    {
     "ename": "TypeError",
     "evalue": "string indices must be integers",
     "output_type": "error",
     "traceback": [
      "\u001b[1;31m---------------------------------------------------------------------------\u001b[0m",
      "\u001b[1;31mTypeError\u001b[0m                                 Traceback (most recent call last)",
      "\u001b[1;32m<ipython-input-31-2802a9545844>\u001b[0m in \u001b[0;36m<module>\u001b[1;34m()\u001b[0m\n\u001b[0;32m      6\u001b[0m \u001b[1;33m\u001b[0m\u001b[0m\n\u001b[0;32m      7\u001b[0m \u001b[1;32mfor\u001b[0m \u001b[0mrow\u001b[0m \u001b[1;32min\u001b[0m \u001b[0mdata_set\u001b[0m\u001b[1;33m:\u001b[0m\u001b[1;33m\u001b[0m\u001b[0m\n\u001b[1;32m----> 8\u001b[1;33m     \u001b[0mvalue\u001b[0m \u001b[1;33m=\u001b[0m \u001b[0mrow\u001b[0m\u001b[1;33m[\u001b[0m\u001b[1;34m'a'\u001b[0m\u001b[1;33m]\u001b[0m\u001b[1;33m\u001b[0m\u001b[0m\n\u001b[0m\u001b[0;32m      9\u001b[0m \u001b[0mprint\u001b[0m\u001b[1;33m(\u001b[0m\u001b[0mvalue\u001b[0m\u001b[1;33m)\u001b[0m\u001b[1;33m\u001b[0m\u001b[0m\n\u001b[0;32m     10\u001b[0m \u001b[1;31m#why does value not print 1?\u001b[0m\u001b[1;33m\u001b[0m\u001b[1;33m\u001b[0m\u001b[0m\n",
      "\u001b[1;31mTypeError\u001b[0m: string indices must be integers"
     ]
    }
   ],
   "source": [
    "data_set = {\n",
    "    'Darren': {'a': 1, 'b': 2, 'c': 3},\n",
    "    'Sally': {'a': 4, 'b': 5, 'c': 6}\n",
    "}\n",
    "\n",
    "for row in data_set:\n",
    "    value = row['a']\n",
    "print(value)"
   ]
  },
  {
   "cell_type": "code",
   "execution_count": null,
   "metadata": {},
   "outputs": [],
   "source": [
    "#What is the root cause of the error?\n",
    "#1. Each row in the data_set is supposed to be a dictionary, not a list. Therefore, it is expecting a key rather than index\n",
    "#2. As print is outside of the for loop. it will only print out the last element it was assigned to. (usually is the last row)\n",
    "#3. The outer layer of the data_set is a dictionary not a list. Thus, you should iterate through using dictionary for loop \n",
    "#4. The outer layer of the data_set is a list not a dictionary. Thus, you should iterate through using list for loop"
   ]
  }
 ],
 "metadata": {
  "kernelspec": {
   "display_name": "Python 3",
   "language": "python",
   "name": "python3"
  },
  "language_info": {
   "codemirror_mode": {
    "name": "ipython",
    "version": 3
   },
   "file_extension": ".py",
   "mimetype": "text/x-python",
   "name": "python",
   "nbconvert_exporter": "python",
   "pygments_lexer": "ipython3",
   "version": "3.7.3"
  }
 },
 "nbformat": 4,
 "nbformat_minor": 2
}
