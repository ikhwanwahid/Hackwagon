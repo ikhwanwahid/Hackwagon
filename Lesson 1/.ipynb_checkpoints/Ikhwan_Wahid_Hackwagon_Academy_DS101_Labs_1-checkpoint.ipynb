{
 "cells": [
  {
   "cell_type": "markdown",
   "metadata": {},
   "source": [
    "<img src=\"https://i2.wp.com/hackwagon.com/wp-content/uploads/2017/02/Logo-Web-Export.png?ssl=1\" width=150/>\n",
    "\n",
    "<h1> Hackwagon Academy - DS101 Lab 1 </h1>\n",
    "<hr>\n",
    "This lab exercise consists of 5 questions, with each correct answer to be awarded 1 mark, totalling up to 5 marks.\n",
    "\n",
    "Attempt but minor syntax errors are awarded half the mark."
   ]
  },
  {
   "cell_type": "code",
   "execution_count": null,
   "metadata": {},
   "outputs": [],
   "source": [
    "#Before you start, please perform the following 2 steps:\n",
    "#1. Rename the file to <First_Name>_<Last_Name>_DS101_Lab_1 e.g. john_doe_DS101_Lab_1\n",
    "\n",
    "#2. Fill in your details here:\n",
    "#Name                    :Muhammad Ikhwan Bin Wahid\n",
    "\n",
    "#Start of Course Class(Edit accordingly): 17 Jul 2019 12.15pm"
   ]
  },
  {
   "cell_type": "markdown",
   "metadata": {},
   "source": [
    "### Question 1\n",
    "Print the type of the following variables by using the `type( )` function shown in class.\n",
    "\n",
    "Channel_Title = \"20th Century Fox\" <br>\n",
    "Title = 'Pirates of the Caribbean' <br>\n",
    "Likes = 23009 <br>\n",
    "Comments = 2000 <br>\n",
    "Rating = 4.7 <br>\n",
    "Popular = True\n"
   ]
  },
  {
   "cell_type": "code",
   "execution_count": 2,
   "metadata": {},
   "outputs": [
    {
     "name": "stdout",
     "output_type": "stream",
     "text": [
      "<class 'str'>\n",
      "<class 'str'>\n",
      "<class 'str'>\n",
      "<class 'int'>\n",
      "<class 'int'>\n",
      "<class 'float'>\n",
      "<class 'bool'>\n"
     ]
    }
   ],
   "source": [
    "#Write your answer in comments. For example\n",
    "example = \"example\"  \n",
    "print(type(example))\n",
    "#the type is ____ \n",
    "\n",
    "#Write your answers here\n",
    "Channel_Title = \"20th Century Fox\"\n",
    "print(type(Channel_Title))\n",
    "#the type is str\n",
    "Title = 'Pirates of the Caribbean'\n",
    "print(type(Title))\n",
    "#the type is str\n",
    "Likes = 23009\n",
    "print(type(Likes))\n",
    "#the type is int\n",
    "Comments = 2000\n",
    "print(type(Comments))\n",
    "#the type is int\n",
    "Rating = 4.7\n",
    "print(type(Rating))\n",
    "#the type is float\n",
    "Popular = True\n",
    "print(type(Popular))\n",
    "#the type is bool"
   ]
  },
  {
   "cell_type": "markdown",
   "metadata": {},
   "source": [
    "### Question 2: \n",
    "One of the typical metrics for measuring the engagement of videos is through comments per view. Given the following data, write a program to measure the comments/view of \"Lord of the Rings\"\n",
    "\n",
    "```python\n",
    "\n",
    "title = \"Lord of the Rings\" \n",
    "number_of_comments = \"30\" \n",
    "number_of_views = 30218\n",
    "\n",
    "```\n",
    "Your output should be: \n",
    "\n",
    "    Lord of the Rings has an engagement rate of : 0.0009927857568336753"
   ]
  },
  {
   "cell_type": "code",
   "execution_count": 6,
   "metadata": {},
   "outputs": [
    {
     "name": "stdout",
     "output_type": "stream",
     "text": [
      "Lord of the Rings has an engagement rate of :0.0009927857568336753\n"
     ]
    }
   ],
   "source": [
    "#Write your answer below\n",
    "title = \"Lord of the Rings\" \n",
    "number_of_comments = \"30\" \n",
    "number_of_views = 30218\n",
    "engagement_rate = int(number_of_comments)/number_of_views\n",
    "print(\"Lord of the Rings has an engagement rate of :\"+ str(engagement_rate))\n"
   ]
  },
  {
   "cell_type": "markdown",
   "metadata": {},
   "source": [
    "### Question 3:\n",
    "One of the title of the video contains some special characters. Make use of string indexing to remove it\n",
    "\n",
    "Title = \"Lord of the*&@#(* Rings\" <br>\n",
    "\n",
    "Your output should be\n",
    "\n",
    "    \"Lord of the Rings\"\n"
   ]
  },
  {
   "cell_type": "code",
   "execution_count": 14,
   "metadata": {},
   "outputs": [
    {
     "name": "stdout",
     "output_type": "stream",
     "text": [
      "Lord of the Rings\n"
     ]
    }
   ],
   "source": [
    "Title = \"Lord of the&@#( Rings\" \n",
    "\n",
    "#Write your answer below\n",
    "print(Title[0:11]+Title[15:])                   \n"
   ]
  },
  {
   "cell_type": "markdown",
   "metadata": {},
   "source": [
    "##### YOUTUBE ENGAGEMENT RATE\n",
    "One of the common metrics used to evaluate YouTube channel success is the engagement rate (formula given below). \n",
    "<div class=\"alert alert-block alert-info\"><center>engagement_rate = video_comments/video_views\n",
    " </center></div>"
   ]
  },
  {
   "cell_type": "markdown",
   "metadata": {},
   "source": [
    "### Question 4\n",
    "Another newbie to programming wrote the following piece of code to calculate the engagement of a video. However, his codes were met with syntax, logic bugs and exceptions. \n",
    "\n",
    "Expected output:\n",
    "\n",
    "    The engagement rate is: 0.2857142857142857\n",
    "\n",
    "Debug the following code for him."
   ]
  },
  {
   "cell_type": "code",
   "execution_count": 17,
   "metadata": {},
   "outputs": [
    {
     "name": "stdout",
     "output_type": "stream",
     "text": [
      "The engagement rate is: 0.2857142857142857\n"
     ]
    }
   ],
   "source": [
    "#debug the following\n",
    "\n",
    "# quotes unequal\n",
    "Number_of_views = \"35000\" \n",
    "Number_of_comments = 10000\n",
    "\n",
    "engagement = Number_of_comments/ int(Number_of_views) # engagement = Number_of_comments/int(Number_of_views)\n",
    "\n",
    "print (\"The engagement rate is: \" + str(engagement)) #missing brackets and engagement needs str()\n",
    "\n"
   ]
  },
  {
   "cell_type": "markdown",
   "metadata": {},
   "source": [
    "### Question 5\n",
    "Another newbie to programming wrote the following piece of code to calculate the engagement of a video. However, her codes were met with syntax, logic bugs and exceptions. \n",
    "\n",
    "Expected output: \n",
    "\n",
    "    The engagement rate is: 0.00025874580309758475\n",
    "\n",
    "Debug the following code for her.\n"
   ]
  },
  {
   "cell_type": "code",
   "execution_count": 20,
   "metadata": {},
   "outputs": [
    {
     "name": "stdout",
     "output_type": "stream",
     "text": [
      "The engagement rate is: 0.00025874580309758475\n"
     ]
    }
   ],
   "source": [
    "#Another way to calculate engagement is the number of comments per view\n",
    "\n",
    "#debug the following\n",
    "Num_of_comments = 2389\n",
    "Num_of_views = 9233000\n",
    "\n",
    "Engagement_lvl = Num_of_comments / Num_of_views # logic error here\n",
    "\n",
    "# uneven quotation marks here, type conversion to str()\n",
    "print(\"The engagement rate is: \" + str(Engagement_lvl)) \n",
    "\n"
   ]
  },
  {
   "cell_type": "markdown",
   "metadata": {},
   "source": [
    "<div class=\"alert alert-success\">\n",
    "    <b>Checkpoint</b>: You are done! Upload your progress to eLearn. eLearn only accepts the latest notebooks so if you have an existing notebook, your latest upload will <b>override</b> it.\n",
    "</div>"
   ]
  },
  {
   "cell_type": "markdown",
   "metadata": {},
   "source": [
    "### Last to do\n",
    "Watch the following short videos in preparation for the next lesson:\n",
    "\n",
    "Strings, Lists, Tuples, and Dictionaries: https://www.youtube.com/watch?v=19EfbO5D_8s <br>\n",
    "Conditionals, If, Else, Elif: https://www.youtube.com/watch?v=mQrci1kAwh4\n"
   ]
  },
  {
   "cell_type": "code",
   "execution_count": null,
   "metadata": {},
   "outputs": [],
   "source": []
  }
 ],
 "metadata": {
  "kernelspec": {
   "display_name": "Python 3",
   "language": "python",
   "name": "python3"
  },
  "language_info": {
   "codemirror_mode": {
    "name": "ipython",
    "version": 3
   },
   "file_extension": ".py",
   "mimetype": "text/x-python",
   "name": "python",
   "nbconvert_exporter": "python",
   "pygments_lexer": "ipython3",
   "version": "3.7.3"
  }
 },
 "nbformat": 4,
 "nbformat_minor": 2
}
