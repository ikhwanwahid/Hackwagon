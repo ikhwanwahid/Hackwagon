{
 "cells": [
  {
   "cell_type": "markdown",
   "metadata": {},
   "source": [
    "<center><img src=\"https://i2.wp.com/hackwagon.com/wp-content/uploads/2017/02/Logo-Web-Export.png?ssl=1\" width=200/></center>\n",
    "\n",
    "<h1> Hackwagon Academy DS101 Lesson 1B </h1>\n",
    "<h2> Strings & Debugging</h2> \n",
    "<h3> Lesson Outline </h3>\n",
    "\n",
    "- 1. [String Manipulation](#1)\n",
    "    - 1.1 [Indexing](#1.1)\n",
    "    - 1.2 [String Concatenation](#1.2)\n",
    "    - 1.3 [Numbers and Strings](#1.3)\n",
    "    - [Practice I](#P1)\n",
    "- 2. [Debugging](#2)\n",
    "    - 2.1 [Reading Error Messages](#2.1)\n",
    "    - [Practice II](#P2)"
   ]
  },
  {
   "cell_type": "markdown",
   "metadata": {},
   "source": [
    "<a id='1'><h2><img src=\"https://images.vexels.com/media/users/3/153978/isolated/preview/483ef8b10a46e28d02293a31570c8c56-warning-sign-colored-stroke-icon-by-vexels.png\" width=23 align=\"left\"><font color=\"salmon\">&nbsp;1.</font><font color=\"salmon\"> String Manipulation </font> </h2></a>\n",
    "\n",
    "Sometimes, we may want to manipulate textual data. From printing meaningful messages / output, to complex text analysis. To manipulate strings, we first need to understand <b>indexing</b>: \n",
    "\n",
    "<a id=\"5.1\"><h3>5.1 Indexing</h3></a>\n",
    "\n",
    "Indexing is accessing a particular subset of a collection. Collections in Python include\n",
    "\n",
    "* strings (collection of characters)\n",
    "* lists (collection of values) <i>covered later</i>\n",
    "* tuples (collection of values) <i>covered later</i>\n",
    "* dictionaries (collection of key value pairs) <i>covered next lesson</i>\n",
    "\n",
    "Indexing is done via a `[]` next to the value you want to index\n",
    "\n",
    "\n",
    "<img src=\"https://i.imgur.com/ar8YmuJ.png\" width=\"300\" />\n",
    "\n",
    "An illustration of how the position of each character is like in programming can be seen here:\n",
    "\n",
    "<img src=\"https://i.imgur.com/0DJmGBw.png\" width=\"500\"/>\n",
    "<img src=\"https://i.imgur.com/oLAWK1k.png\" width=\"400\"/>"
   ]
  },
  {
   "cell_type": "markdown",
   "metadata": {},
   "source": [
    "#### A single character (with `indexing`)"
   ]
  },
  {
   "cell_type": "code",
   "execution_count": 6,
   "metadata": {},
   "outputs": [
    {
     "name": "stdout",
     "output_type": "stream",
     "text": [
      "w\n"
     ]
    },
    {
     "data": {
      "text/plain": [
       "'w'"
      ]
     },
     "execution_count": 6,
     "metadata": {},
     "output_type": "execute_result"
    }
   ],
   "source": [
    "string = \"Awesome!\"\n",
    "print(string[1])\n",
    "string[1]                      #without print works only in jupiter notebook"
   ]
  },
  {
   "cell_type": "markdown",
   "metadata": {},
   "source": [
    "### Multiple characters (with `slicing`)\n",
    "See the image below for an illustrated example\n",
    "\n",
    "<img src=\"https://i.imgur.com/LggXshQ.png\" width=500>\n",
    "\n",
    "To extract characters from a string, use the **square bracket notation**:\n",
    "\n",
    "You can retrieve more than 1 value from a collection by using `[start:stop]`.\n",
    "\n",
    "<img src=\"https://i.imgur.com/a30IyfR.png\" width=\"300\" />"
   ]
  },
  {
   "cell_type": "code",
   "execution_count": 18,
   "metadata": {},
   "outputs": [
    {
     "name": "stdout",
     "output_type": "stream",
     "text": [
      "wsm\n",
      "esom\n",
      "Awe\n",
      "me!\n",
      "osew\n",
      "osewA\n"
     ]
    }
   ],
   "source": [
    "string = \"Awesome!\"\n",
    "print(string[1:6:2])  #gets \"wsm\"\n",
    "print(string[-6:-2])  #gets \"esom\"\n",
    "print(string[:3])  #gets \"Awe\"\n",
    "print(string[-3:])  #gets \"me!\"\n",
    "print(string[4:0:-1])  #gets \"osew\"\n",
    "print(string[4::-1])  #gets \"osewA\""
   ]
  },
  {
   "cell_type": "markdown",
   "metadata": {},
   "source": [
    "### Skipping Values\n",
    "\n",
    "You can get every nth item in a list by using `[start:stop:steps]`\n",
    "<img src=\"https://i.imgur.com/12o9cnj.png\" width=\"400\" />\n",
    "<img src=\"https://i.imgur.com/yv1yD5i.png\" width=\"500\" />"
   ]
  },
  {
   "cell_type": "code",
   "execution_count": null,
   "metadata": {},
   "outputs": [],
   "source": [
    "string = \"Awesome!\"\n",
    "\n"
   ]
  },
  {
   "cell_type": "markdown",
   "metadata": {},
   "source": [
    "<a id=\"2.1\"><h3>2.2 String Concatenation</h3></a>\n",
    "\n",
    "Combining strings -- use the `+` operator to **concatenate** 2 strings together! Doing this will <b> make an entirely new `string`! </b>"
   ]
  },
  {
   "cell_type": "code",
   "execution_count": 23,
   "metadata": {},
   "outputs": [
    {
     "name": "stdout",
     "output_type": "stream",
     "text": [
      "HackWagon\n",
      "Hack Wagon\n",
      "Hack Wagon\n"
     ]
    }
   ],
   "source": [
    "first_name = \"Hack\"\n",
    "last_name = \"Wagon\"\n",
    "print(first_name+last_name)\n",
    "print(first_name+\" \"+last_name)\n",
    "print(first_name,last_name)\n"
   ]
  },
  {
   "cell_type": "markdown",
   "metadata": {},
   "source": [
    "<a id=\"2.3\"><h3>2.3 Printing Numbers and Strings</h3></a>\n",
    "\n",
    "After computing some value, we might wish to print it out together with some descriptive text. For example, we have a variable `BMI = 5000`, and we wish to output the following message:\n",
    "\n",
    "> `My BMI is: 5000`\n",
    "\n",
    "This requires combining the message string with the variable. "
   ]
  },
  {
   "cell_type": "code",
   "execution_count": 24,
   "metadata": {},
   "outputs": [
    {
     "name": "stdout",
     "output_type": "stream",
     "text": [
      "My BMI is: 85218\n",
      "My BMI is: 85218\n"
     ]
    }
   ],
   "source": [
    "BMI = 85218\n",
    "\n",
    "# Some choices when it comes to printing strings and numbers together:\n",
    "# 1. by + \n",
    "print('My BMI is: ' + str(BMI))\n",
    "\n",
    "# 2. by ,  \n",
    "print('My BMI is:', BMI)"
   ]
  },
  {
   "cell_type": "markdown",
   "metadata": {},
   "source": [
    "<a id=\"P1\"><h2> <img src=\"https://cdn.shopify.com/s/files/1/1200/7374/products/book_aec28e76-52ec-44ab-bc01-41df1279c89f_550x825.png?v=1473897430\" width=25 align=\"left\"> <font color=\"darkorange\"> &nbsp; Practice I </font><font color=\"skyblue\"> * </font></h2></a>\n",
    "\n",
    "### String Manipulation\n",
    "\n",
    "With the data below, let's get the following outputs:\n",
    "\n",
    "1. `v`\n",
    "2. `Everybody`\n",
    "3. `it teaches you how to think.`\n",
    "4. `.kniht ot woh uoy sehcaet ti esuaceb ,retupmoc a margorp ot nrael dluohs yrtnuoc siht ni ydobyrevE'`"
   ]
  },
  {
   "cell_type": "code",
   "execution_count": 38,
   "metadata": {},
   "outputs": [
    {
     "name": "stdout",
     "output_type": "stream",
     "text": [
      "v\n",
      "Everybody\n",
      "because it teaches you how to think.\n",
      ".kniht ot woh uoy sehcaet ti esuaceb ,retupmoc a margorp ot nrael dluohs yrtnuoc siht ni ydobyrevE\n",
      ".kniht ot woh uoy sehcaet ti esuaceb ,retupmoc a margorp ot nrael dluohs yrtnuoc siht ni ydobyrevE\n"
     ]
    }
   ],
   "source": [
    "deep_words = \"Everybody in this country should learn to program a computer, because it teaches you how to think.\"\n",
    "\n",
    "# 1 \n",
    "print(deep_words[1])\n",
    "\n",
    "# 2\n",
    "print(deep_words[:9])\n",
    "\n",
    "# 3\n",
    "print(deep_words[62:])               #print(deep_words[-28:])\n",
    "\n",
    "# 4\n",
    "print(deep_words[97::-1])            #print(deep_words[-1::-1]) \n",
    "print(deep_words[::-1]) "
   ]
  },
  {
   "cell_type": "markdown",
   "metadata": {},
   "source": [
    "<h2><img src=\"https://img.icons8.com/color/50/000000/blunt-bulb.png\" width=23 align=\"left\"><font color=\"dodgerblue\"> Data Types Covered So Far... </font> </h2>\n",
    "\n",
    "\n",
    "```python \n",
    "\n",
    "int_variable = 10 \n",
    "float_variable = 10.0\n",
    "bool_variable = True # or False\n",
    "str_variable = \"10\"  \n",
    "\n",
    "```\n",
    "\n",
    "We will learn the <b>Collections</b> data types in the next lesson! "
   ]
  },
  {
   "cell_type": "markdown",
   "metadata": {},
   "source": [
    "<a id='2'><h2><img src=\"https://images.vexels.com/media/users/3/153978/isolated/preview/483ef8b10a46e28d02293a31570c8c56-warning-sign-colored-stroke-icon-by-vexels.png\" width=23 align=\"left\"><font color=\"salmon\">&nbsp;2.</font><font color=\"salmon\"> Debugging </font> </h2></a><img src=\"https://gph.to/2C7Td09\" align=\"center\" width=100>\n",
    "\n",
    "<center><i>It's inevitable</i></center>\n",
    "\n",
    " <img src=\"https://i.imgur.com/B9cuR7n.png\" width=\"300\">\n",
    "\n",
    "\n",
    "By now, you would have seen numerous messages like these:\n",
    "\n",
    " <img src=\"https://i.imgur.com/HUnW9pa.png\" width=\"400\">\n",
    "\n",
    "<b> Technique of debugging </b>\n",
    "* **Rule 1**: Set small incremental goals for your program. Don’t try and write large programs all at once. Stop and test your work often as you go by printing out the intermediate outputs. Celebrate small successes!\n",
    "\n",
    "* **Rule 2**: Use comment to have Python ignore certain lines that are giving you trouble (putting a # infront of your code)\n",
    "\n",
    "* **Rule 3**: For large programs, use print statement to print out intermediate outputs in order to check the codes\n",
    "\n",
    "* **Rule 4**: Understand what kind of error you are facing, and Google for potential solutions. Usually, [stackoverflow](https://stackoverflow.com) should have the answer you need!\n",
    "\n"
   ]
  },
  {
   "cell_type": "markdown",
   "metadata": {},
   "source": [
    "<a id='2.1'><h3>2.1 Reading Error Messages</h3></a>\n",
    "\n",
    "What to do when you receive an error message:\n",
    "\n",
    "1. Don't panic, don't stress, don't cry\n",
    "2. Go to the <b>last error</b> and read the line with the error message. It usually shows the source of the error.\n",
    "3. Understand the error type\n",
    "4. Resolve bug\n",
    "5. Can't resolve? Consult [stackoverflow](https://stackoverflow.com), TAs or Instructor \n",
    "\n",
    "<img src=\"https://i.imgur.com/iPj0bf8.png\" width=600>"
   ]
  },
  {
   "cell_type": "markdown",
   "metadata": {},
   "source": [
    "#### SyntaxError\n",
    "\n",
    "**Problem:** One of the most common errors, where the python syntax(grammar) is wrong.\n",
    "\n",
    "**Resolution:** Check for missing brackets, commas etc."
   ]
  },
  {
   "cell_type": "code",
   "execution_count": 46,
   "metadata": {},
   "outputs": [
    {
     "name": "stdout",
     "output_type": "stream",
     "text": [
      "Hello World\n"
     ]
    }
   ],
   "source": [
    "print(\"Hello World\")"
   ]
  },
  {
   "cell_type": "markdown",
   "metadata": {},
   "source": [
    "#### NameError \n",
    "\n",
    "**Problem:** Tried using a variable that doesnt exists/created. \n",
    "\n",
    "**Resolution:** Check code and create that variable if necessary"
   ]
  },
  {
   "cell_type": "code",
   "execution_count": null,
   "metadata": {},
   "outputs": [],
   "source": [
    "x = 1\n",
    "b = unknown + x # variable unknown was never created "
   ]
  },
  {
   "cell_type": "markdown",
   "metadata": {},
   "source": [
    "#### IndexError\n",
    "\n",
    "**Problem:** Tried using a index that is out of the range for that string or list\n",
    "\n",
    "**Resolution:** Check length of string or list"
   ]
  },
  {
   "cell_type": "code",
   "execution_count": 47,
   "metadata": {},
   "outputs": [
    {
     "name": "stdout",
     "output_type": "stream",
     "text": [
      "c\n"
     ]
    }
   ],
   "source": [
    "x = \"Hackwagon\"\n",
    "print(x[2]) # there is no character at the 200th index"
   ]
  },
  {
   "cell_type": "markdown",
   "metadata": {},
   "source": [
    "#### Guided Practice"
   ]
  },
  {
   "cell_type": "code",
   "execution_count": 45,
   "metadata": {},
   "outputs": [
    {
     "name": "stdout",
     "output_type": "stream",
     "text": [
      "The engagement rate is: 0.03333333333333333\n"
     ]
    }
   ],
   "source": [
    "#Debug the following\n",
    "video_views = '300'\n",
    "video_likes = 10\n",
    "\n",
    "Engagement = video_likes / int(video_views)\n",
    "\n",
    "print(\"The engagement rate is:\"+ str(Engagement))"
   ]
  },
  {
   "cell_type": "markdown",
   "metadata": {},
   "source": [
    "<a id=\"P2\"><h2><img src=\"https://cdn.shopify.com/s/files/1/1200/7374/products/book_aec28e76-52ec-44ab-bc01-41df1279c89f_550x825.png?v=1473897430\" width=25 align=\"left\"> <font color=\"darkorange\"> &nbsp; Practice II </font><font color=\"skyblue\"> * </font></h2></a>\n",
    "\n",
    "### Question 1 \n",
    "\n",
    "Expected output:  \n",
    "\n",
    "    823.5"
   ]
  },
  {
   "cell_type": "code",
   "execution_count": 50,
   "metadata": {},
   "outputs": [
    {
     "name": "stdout",
     "output_type": "stream",
     "text": [
      "823.5\n"
     ]
    }
   ],
   "source": [
    "# do not change the variable directly\n",
    "cash1 = '400'\n",
    "cash2 = '423.5'\n",
    "\n",
    "print(float(cash1) + float(cash2)) "
   ]
  },
  {
   "cell_type": "markdown",
   "metadata": {},
   "source": [
    "### Question 2\n",
    "\n",
    "Expected output:  \n",
    "\n",
    "    pawsome\n",
    "    w"
   ]
  },
  {
   "cell_type": "code",
   "execution_count": 52,
   "metadata": {},
   "outputs": [
    {
     "name": "stdout",
     "output_type": "stream",
     "text": [
      "pawsome\n",
      "w\n"
     ]
    }
   ],
   "source": [
    "hackwagon = \"Awesome pawsome\"\n",
    "print(hackwagon[8:])\n",
    "print(hackwagon[1])"
   ]
  },
  {
   "cell_type": "markdown",
   "metadata": {},
   "source": [
    "### Question 3\n",
    "Observe and think carefully before running this next cell... If you are stuck, approach a Instructor or TA.\n",
    "\n",
    "Expected output:  \n",
    "\n",
    "    that's all for today\n"
   ]
  },
  {
   "cell_type": "code",
   "execution_count": 56,
   "metadata": {},
   "outputs": [
    {
     "name": "stdout",
     "output_type": "stream",
     "text": [
      "that's all for todaythat's all for todaythat's all for todaythat's all for todaythat's all for todaythat's all for todaythat's all for todaythat's all for todaythat's all for todaythat's all for today\n"
     ]
    }
   ],
   "source": [
    "number = 10\n",
    "print(number*\"that's all for today\")"
   ]
  },
  {
   "cell_type": "markdown",
   "metadata": {},
   "source": [
    "<center><h1>FIN</h1><center>"
   ]
  }
 ],
 "metadata": {
  "kernelspec": {
   "display_name": "Python 3",
   "language": "python",
   "name": "python3"
  },
  "language_info": {
   "codemirror_mode": {
    "name": "ipython",
    "version": 3
   },
   "file_extension": ".py",
   "mimetype": "text/x-python",
   "name": "python",
   "nbconvert_exporter": "python",
   "pygments_lexer": "ipython3",
   "version": "3.7.3"
  }
 },
 "nbformat": 4,
 "nbformat_minor": 2
}
