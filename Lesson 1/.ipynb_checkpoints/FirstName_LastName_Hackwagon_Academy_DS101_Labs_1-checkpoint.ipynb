{
 "cells": [
  {
   "cell_type": "markdown",
   "metadata": {},
   "source": [
    "<img src=\"https://i2.wp.com/hackwagon.com/wp-content/uploads/2017/02/Logo-Web-Export.png?ssl=1\" width=150/>\n",
    "\n",
    "<h1> Hackwagon Academy - DS101 Lab 1 </h1>\n",
    "<hr>\n",
    "This lab exercise consists of 5 questions, with each correct answer to be awarded 1 mark, totalling up to 5 marks.\n",
    "\n",
    "Attempt but minor syntax errors are awarded half the mark."
   ]
  },
  {
   "cell_type": "code",
   "execution_count": null,
   "metadata": {},
   "outputs": [],
   "source": [
    "#Before you start, please perform the following 2 steps:\n",
    "#1. Rename the file to <First_Name>_<Last_Name>_DS101_Lab_1 e.g. john_doe_DS101_Lab_1\n",
    "\n",
    "#2. Fill in your details here:\n",
    "#Name                    : _______________________\n",
    "\n",
    "#Start of Course Class(Edit accordingly): __7 Jul 2018 3.15pm____"
   ]
  },
  {
   "cell_type": "markdown",
   "metadata": {},
   "source": [
    "### Question 1\n",
    "Print the type of the following variables by using the `type( )` function shown in class.\n",
    "\n",
    "Channel_Title = \"20th Century Fox\" <br>\n",
    "Title = 'Pirates of the Caribbean' <br>\n",
    "Likes = 23009 <br>\n",
    "Comments = 2000 <br>\n",
    "Rating = 4.7 <br>\n",
    "Popular = True\n"
   ]
  },
  {
   "cell_type": "code",
   "execution_count": null,
   "metadata": {},
   "outputs": [],
   "source": [
    "#Write your answer in comments. For example\n",
    "example = \"example\"  \n",
    "print(type(example))\n",
    "#the type is ____ \n",
    "\n",
    "#Write your answers here\n",
    "Channel_Title = \"20th Century Fox\"\n",
    "Title = 'Pirates of the Caribbean' \n",
    "Likes = 23009 \n",
    "Comments = 2000 \n",
    "Rating = 4.7 \n",
    "Popular = True"
   ]
  },
  {
   "cell_type": "markdown",
   "metadata": {},
   "source": [
    "### Question 2: \n",
    "One of the typical metrics for measuring the engagement of videos is through comments per view. Given the following data, write a program to measure the comments/view of \"Lord of the Rings\"\n",
    "\n",
    "```python\n",
    "\n",
    "title = \"Lord of the Rings\" \n",
    "number_of_comments = \"30\" \n",
    "number_of_views = 30218\n",
    "\n",
    "```\n",
    "Your output should be: \n",
    "\n",
    "    Lord of the Rings has an engagement rate of : 0.0009927857568336753"
   ]
  },
  {
   "cell_type": "code",
   "execution_count": null,
   "metadata": {},
   "outputs": [],
   "source": [
    "#Write your answer below\n",
    "\n"
   ]
  },
  {
   "cell_type": "markdown",
   "metadata": {},
   "source": [
    "### Question 3:\n",
    "One of the title of the video contains some special characters. Make use of string indexing to remove it\n",
    "\n",
    "Title = \"Lord of the*&@#(* Rings\" <br>\n",
    "\n",
    "Your output should be\n",
    "\n",
    "    \"Lord of the Rings\"\n"
   ]
  },
  {
   "cell_type": "code",
   "execution_count": null,
   "metadata": {},
   "outputs": [],
   "source": [
    "Title = \"Lord of the&@#( Rings\" \n",
    "\n",
    "#Write your answer below\n"
   ]
  },
  {
   "cell_type": "markdown",
   "metadata": {},
   "source": [
    "##### YOUTUBE ENGAGEMENT RATE\n",
    "One of the common metrics used to evaluate YouTube channel success is the engagement rate (formula given below). \n",
    "<div class=\"alert alert-block alert-info\"><center>engagement_rate = video_comments/video_views\n",
    " </center></div>"
   ]
  },
  {
   "cell_type": "markdown",
   "metadata": {},
   "source": [
    "### Question 4\n",
    "Another newbie to programming wrote the following piece of code to calculate the engagement of a video. However, his codes were met with syntax, logic bugs and exceptions. \n",
    "\n",
    "Expected output:\n",
    "\n",
    "    The engagement rate is: 0.2857142857142857\n",
    "\n",
    "Debug the following code for him."
   ]
  },
  {
   "cell_type": "code",
   "execution_count": null,
   "metadata": {},
   "outputs": [],
   "source": [
    "#debug the following\n",
    "\n",
    "# quotes unequal\n",
    "Number of views = '35000\" \n",
    "Number_of_comments = 10000\n",
    "\n",
    "engagement = Number_of_views / Number_Of_views # type conversion here\n",
    "\n",
    "print \"The engagement rate is: \" + engagement #missing brackets and engagement needs str()\n",
    "\n"
   ]
  },
  {
   "cell_type": "markdown",
   "metadata": {},
   "source": [
    "### Question 5\n",
    "Another newbie to programming wrote the following piece of code to calculate the engagement of a video. However, her codes were met with syntax, logic bugs and exceptions. \n",
    "\n",
    "Expected output: \n",
    "\n",
    "    The engagement rate is: 0.00025874580309758475\n",
    "\n",
    "Debug the following code for her.\n"
   ]
  },
  {
   "cell_type": "code",
   "execution_count": null,
   "metadata": {},
   "outputs": [],
   "source": [
    "#Another way to calculate engagement is the number of comments per view\n",
    "\n",
    "#debug the following\n",
    "Num_of_comments = 2389\n",
    "Num_of_views = 9233000\n",
    "\n",
    "Engagement_lvl = Num_of_views / Num_of_comments # logic error here\n",
    "\n",
    "# uneven quotation marks here, type conversion to str()\n",
    "print('The engagement rate is: \" + engagement) \n",
    "\n"
   ]
  },
  {
   "cell_type": "markdown",
   "metadata": {},
   "source": [
    "<div class=\"alert alert-success\">\n",
    "    <b>Checkpoint</b>: You are done! Upload your progress to eLearn. eLearn only accepts the latest notebooks so if you have an existing notebook, your latest upload will <b>override</b> it.\n",
    "</div>"
   ]
  },
  {
   "cell_type": "markdown",
   "metadata": {},
   "source": [
    "### Last to do\n",
    "Watch the following short videos in preparation for the next lesson:\n",
    "\n",
    "Strings, Lists, Tuples, and Dictionaries: https://www.youtube.com/watch?v=19EfbO5D_8s <br>\n",
    "Conditionals, If, Else, Elif: https://www.youtube.com/watch?v=mQrci1kAwh4\n"
   ]
  },
  {
   "cell_type": "code",
   "execution_count": null,
   "metadata": {},
   "outputs": [],
   "source": []
  }
 ],
 "metadata": {
  "kernelspec": {
   "display_name": "Python 3",
   "language": "python",
   "name": "python3"
  },
  "language_info": {
   "codemirror_mode": {
    "name": "ipython",
    "version": 3
   },
   "file_extension": ".py",
   "mimetype": "text/x-python",
   "name": "python",
   "nbconvert_exporter": "python",
   "pygments_lexer": "ipython3",
   "version": "3.6.8"
  }
 },
 "nbformat": 4,
 "nbformat_minor": 2
}
