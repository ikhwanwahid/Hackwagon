{
 "cells": [
  {
   "cell_type": "markdown",
   "metadata": {},
   "source": [
    "<center><img src=\"https://i2.wp.com/hackwagon.com/wp-content/uploads/2017/02/Logo-Web-Export.png?ssl=1\" width=200/></center>\n",
    "<h1> Hackwagon Academy DS101 Lesson 1A </h1>\n",
    "<h2> Variables & Data Types</h2> \n",
    "<h3> Lesson Outline </h3>\n",
    "\n",
    "- 1. [Jupyter Notebook](#1)\n",
    "- 2. [Python Functions](#2)\n",
    "- 3. [Python Data Types & Variables](#3)\n",
    "    - 3.1 [Python Data Types](#3.1)\n",
    "    - 3.2 [Variables](#3.2)\n",
    "        - 3.2.1 [Changing Variable Values](#4.2.1)\n",
    "        - 3.2.2 [Rules for Variable Names](#4.2.2)\n",
    "        - 3.2.3 [Good Naming Conventions](#4.2.3)\n",
    "        - [Practice I](#P1)\n",
    "- 4. [Arithmetic Operators](#4)\n",
    "    - 4.1 [Arithmetic Operators](#4.1)\n",
    "    - [Practice II](#P2)\n",
    "- 5. [Importance of Data Types & Variables](#5)\n",
    "    - 5.1 [Data is Dirty](#5.1)\n",
    "    - 5.2 [Variables Makes Life Easier](#5.2)"
   ]
  },
  {
   "cell_type": "markdown",
   "metadata": {},
   "source": [
    "## Python As A Language \n",
    "\n",
    "<img src=\"https://upload.wikimedia.org/wikipedia/commons/c/c3/Python-logo-notext.svg\">\n",
    "\n",
    "Like many of the languages of the world, computer languages are just a means of <b>communication</b>. Computer languages are how humans can communicate with computers, as well as with other programmers.\n",
    "\n",
    "Each language has their own set of rules to form a sentence structure. Some languages are more difficult to pick up, some are easier. The <b style=\"color:green\">Python</b> language is considered one of the easier computer languages to learn, which is why it is often used to teach programming."
   ]
  },
  {
   "cell_type": "markdown",
   "metadata": {},
   "source": [
    "<hr/>\n",
    "\n",
    "<a id='1'><h2><img src=\"https://images.vexels.com/media/users/3/153978/isolated/preview/483ef8b10a46e28d02293a31570c8c56-warning-sign-colored-stroke-icon-by-vexels.png\" width=23 align=\"left\"><font color=\"salmon\">&nbsp;1.</font><font color=\"salmon\"> Jupyter Notebook </font> </h2></a>\n",
    "\n",
    "<span style=\"font-weight:bold;color:green\">Jupyter Notebook</span> is one of the toolsets that Anaconda Navigator provides for you. Similar to your text editors, it allows you to edit texts in a file. Let's get familiar with Jupyter Notebook."
   ]
  },
  {
   "cell_type": "markdown",
   "metadata": {},
   "source": [
    "### Function Buttons"
   ]
  },
  {
   "cell_type": "markdown",
   "metadata": {},
   "source": [
    "###### Line Numbers \n",
    "\n",
    "You will be writing many lines of codes and sometimes <i>(in fact, all the time)</i> there will be errors along the way. Toggle and view line numbers in Jupyter Notebook so that identifying these errors will be easier.\n",
    "\n",
    "\n",
    "<center><img src='https://i.imgur.com/Xe70NJ0.png' width='150'></center>\n",
    "\n",
    "Follow the Instructor's actions to see what effect this has on your notebook."
   ]
  },
  {
   "cell_type": "markdown",
   "metadata": {},
   "source": [
    "###### Run & Stop \n",
    "Throughout the course you will be hearing us repeat the word <b>Run</b>. This simply means to execute the code. There are two ways to execute the codes you have written. One is with with run button above (<img src=\"https://i.imgur.com/QZTQy1o.png\" width=50 style=\"display:inline-block;margin-top:0\">). Another is to click on a cell and press <b>Shift-Return / Shift-Enter</b> \n",
    "\n",
    "There are instances where your code runs indefinitely. Take the below code for as an example. To stop an instance of a cell. Click on the stop button\n",
    "(<img src=\"https://i.imgur.com/YL91XHW.png\" width=25 style=\"display:inline-block;margin:0px;border:1px black\" width=\"50\"/>)\n",
    "to stop the cell.\n",
    "\n",
    "<center><img src='https://i.imgur.com/kg6Pk82.png' width='250'></center>"
   ]
  },
  {
   "cell_type": "markdown",
   "metadata": {},
   "source": [
    "#### Cell\n",
    "\n",
    "This is a **cell**. A cell is where you write your Python codes in Jupyter Notebook.\n",
    "\n",
    "<img src='https://i.imgur.com/Gu6AkBP.png' width='500'>\n",
    "\n",
    "When you press **shift-return** or **shift-enter** or press the **run** button, Jupyter Notebook will read your code and carry out your instructions.\n",
    "\n",
    "For example, if you enter the following in a cell,\n",
    "\n",
    "```python\n",
    "print(\"Hello World!\")\n",
    "```\n",
    "\n",
    "and press the run button, Jupyter Notebooks will display the following below your cell:\n",
    "\n",
    "    Hello World!"
   ]
  },
  {
   "cell_type": "code",
   "execution_count": 2,
   "metadata": {},
   "outputs": [
    {
     "name": "stdout",
     "output_type": "stream",
     "text": [
      "hello\n",
      "goodbye!!\n"
     ]
    }
   ],
   "source": [
    "print(\"hello\")\n",
    "\n",
    "print(\"goodbye!!\")\n"
   ]
  },
  {
   "cell_type": "markdown",
   "metadata": {},
   "source": [
    "### Types of Notebook cells\n",
    "\n",
    "Jupyter Notebook has four different types of cells:\n",
    "\n",
    "<center><img src='https://i.imgur.com/tb8pU3n.png' width='200'></center>\n",
    "\n",
    "1. Code\n",
    "2. Markdown\n",
    "3. Raw NBConvert\n",
    "4. Heading\n",
    "\n",
    "All your answers will be typed into <b style=\"color:blue\">Code</b> notebook cells. Instructions will be put in <b style=\"color:blue\">Markdown</b> notebook cells.\n",
    "\n",
    "Double clicking on a Markdown cell like this one reveals what we call *HTML-codes*.\n",
    "Don't worry when you see something like this. Just press <b>shift-enter</b> or <b>shift-return</b> it to return it to 'normal'."
   ]
  },
  {
   "cell_type": "markdown",
   "metadata": {},
   "source": [
    "<hr/>\n",
    "\n",
    "<a id='2'><h2><img src=\"https://images.vexels.com/media/users/3/153978/isolated/preview/483ef8b10a46e28d02293a31570c8c56-warning-sign-colored-stroke-icon-by-vexels.png\" width=23 align=\"left\"><font color=\"salmon\">&nbsp;2.</font><font color=\"salmon\"> Python In-Built Functions </font> </h2></a>\n",
    "\n",
    "Just like Excel spreadsheets, there are in-built functions within Python that helps us to quickly do the things we want done. For example:\n",
    "\n",
    "<img src=\"https://i.imgur.com/KSiSVco.png\" />\n",
    "\n",
    "To use them:\n",
    "\n",
    "1. State the function name\n",
    "2. Put in the necessary arguments, surrounded by `()`\n",
    "3. Each argument is separated by commas"
   ]
  },
  {
   "cell_type": "markdown",
   "metadata": {},
   "source": [
    "##### `print( )` \n",
    "\n",
    "The `print()` function is one of the most commonly used function in Python. Not only does it show you the output of your codes, it helps you so much it comes to <b>debugging</b> your codes which will be covered later"
   ]
  },
  {
   "cell_type": "code",
   "execution_count": 7,
   "metadata": {},
   "outputs": [
    {
     "name": "stdout",
     "output_type": "stream",
     "text": [
      "Hello World!\n"
     ]
    }
   ],
   "source": [
    "print(\"Hello World!\")"
   ]
  },
  {
   "cell_type": "markdown",
   "metadata": {},
   "source": [
    "##### `round(variable, number_of_decimal_places )` \n",
    "\n",
    "The `round()` function allows us to clean up the display of floating-point numbers, rounding them to the given number of decimal places.\n",
    "\n",
    "##### Example:\n",
    "\n",
    "```python\n",
    "print(round(3.1415926535, 2))\n",
    "```\n",
    "\n",
    "Output:\n",
    "\n",
    "    3.14"
   ]
  },
  {
   "cell_type": "code",
   "execution_count": 11,
   "metadata": {},
   "outputs": [
    {
     "name": "stdout",
     "output_type": "stream",
     "text": [
      "3.1416\n"
     ]
    }
   ],
   "source": [
    "print(round(3.1415926535, 4))"
   ]
  },
  {
   "cell_type": "markdown",
   "metadata": {},
   "source": [
    "#### Commenting\n",
    "\n",
    "Comments are notes you make on your code so you and other programmers will know what you're thinking.\n",
    "\n",
    "##### Example:\n",
    "\n",
    "```python\n",
    "# I want to print \"all okay\"\n",
    "print(\"all okay\")\n",
    "```\n",
    "\n",
    "Output:\n",
    "\n",
    "    all okay"
   ]
  },
  {
   "cell_type": "code",
   "execution_count": 14,
   "metadata": {},
   "outputs": [
    {
     "name": "stdout",
     "output_type": "stream",
     "text": [
      "all okay\n"
     ]
    }
   ],
   "source": [
    "# I want to print \"all okay\"\n",
    "print(\"all okay\")"
   ]
  },
  {
   "cell_type": "markdown",
   "metadata": {},
   "source": [
    "<a id='3'><h2><img src=\"https://images.vexels.com/media/users/3/153978/isolated/preview/483ef8b10a46e28d02293a31570c8c56-warning-sign-colored-stroke-icon-by-vexels.png\" width=23 align=\"left\"><font color=\"salmon\">&nbsp;3.</font><font color=\"salmon\"> Values & Python Data Types </font> </h2></a>\n",
    "\n",
    "Just as in real world, we deal with values on a daily basis. Take for example, numbers and texts we use in real life.\n",
    "\n",
    "#### Examples:\n",
    "\n",
    "```python\n",
    "    5 # a number value (integer)\n",
    "    5.2 # a number value (decimal)\n",
    "    \"hello\" # a textual value\n",
    "```"
   ]
  },
  {
   "cell_type": "markdown",
   "metadata": {},
   "source": [
    "<a id='3.1'><h3>3.1 Python Data Types</h3></a>\n",
    "\n",
    "Just like elements in real life that we can intepret, for example, Earth, Fire, Water and Air, data types are things that the computer can interpret.\n",
    "\n",
    "\n",
    "| Data Type | type() | Example |\n",
    "|- | -| - |\n",
    "| Integer | `<int>` | `1` |\n",
    "| Float | `<float>` | `1.0` |\n",
    "| Boolean | `<bool>` | `True` or `False`|\n",
    "| String | `<str>` | `\"Hello\"`|\n",
    "\n",
    "\n",
    "The python function <code style=\"color:green\">type()</code> will tell you what a variable's type is."
   ]
  },
  {
   "cell_type": "markdown",
   "metadata": {},
   "source": [
    "### `int` , `float`\n",
    "\n",
    "In Python, numeric values are represented in two kinds of types: <b>Integer</b> and <b>Float</b>. They appear as <font color='green'>green</font> in Jupyter Notebook."
   ]
  },
  {
   "cell_type": "code",
   "execution_count": 16,
   "metadata": {},
   "outputs": [
    {
     "name": "stdout",
     "output_type": "stream",
     "text": [
      "<class 'float'>\n"
     ]
    }
   ],
   "source": [
    "a = 1.0\n",
    "print(type(a))"
   ]
  },
  {
   "cell_type": "markdown",
   "metadata": {},
   "source": [
    "### `str`\n",
    "\n",
    "In Python, text values (called *strings*) are put in *double-quotes* (`\"` `\"`). Text values appear as <span style=\"color:#BA2121\">red</span> in Jupyter Notebook.\n",
    "\n",
    "Note you can also use *single-quotes* (`'`).\n",
    "\n",
    "<b>It is important to remember the quotation marks and they must be the same kind (i.e \" \" or ' ' )! </b>\n"
   ]
  },
  {
   "cell_type": "code",
   "execution_count": 18,
   "metadata": {},
   "outputs": [
    {
     "name": "stdout",
     "output_type": "stream",
     "text": [
      "hello\n",
      "<class 'str'>\n",
      "h\n"
     ]
    }
   ],
   "source": [
    "h = \"hello\"\n",
    "\n",
    "print(h)\n",
    "print(type(h))\n",
    "print(\"h\")                 #there is a difference here"
   ]
  },
  {
   "cell_type": "markdown",
   "metadata": {},
   "source": [
    "### `bool` \n",
    "\n",
    "Boolean data types are simply computer's way of understanding a yes or no. We will learn more about boolean values when we study the <code style=\"color:green\">if</code> statement next lesson.\n",
    "\n",
    "The operator <code style=\"color:green;font-weight:bold\">in</code> will return the boolean value <code style=\"color:green;font-weight:bold\">True</code> if the given item is in the list, otherwise it will return <code style=\"color:green;font-weight:bold\">False</code>."
   ]
  },
  {
   "cell_type": "code",
   "execution_count": 20,
   "metadata": {},
   "outputs": [
    {
     "name": "stdout",
     "output_type": "stream",
     "text": [
      "True\n",
      "False\n",
      "True\n"
     ]
    }
   ],
   "source": [
    "print(5 == 5)\n",
    "\n",
    "print(5 == 4)\n",
    "\n",
    "print('a'in 'alice')                     # '' or \"\" does not matter in python"
   ]
  },
  {
   "cell_type": "markdown",
   "metadata": {},
   "source": [
    "<a id='3.2'><h3>3.2 Variables</h3></a>\n",
    "\n",
    "`Variables` help us assign **meaningful names** to data / values that we have. The idea of variables in programming is similar to that of mathematics. Just like what you have learned in algebra class, a `variable` is a name (or symbol) that refers to a value. \n",
    "\n",
    "In algebra, variables refer to numbers only. In programming languages, `variables` **can refer to numbers, text and other types of data.**\n",
    "\n",
    "`Variables` store data and are building blocks of any computer program. One of the most powerful features of programming languages is the ability to manipulate variables rapidly & repeatedly.\n",
    "\n",
    "In excel, we have variable cells.\n",
    "<img src=\"https://i.imgur.com/cm1LCKU.png\" width=250 />\n",
    "\n",
    "To refer to these cells, we would use the cell address, `A1`, `B1`, `C1` to get their values.\n",
    "<img src=\"https://i.imgur.com/JjaPa4l.png\" width=250 />\n",
    "\n",
    "Python code acts similarly.\n",
    "\n",
    "##### Example:\n",
    "\n",
    "```python\n",
    "a1 = 5\n",
    "b1 = 10\n",
    "c1 = \"Hello\"\n",
    "```"
   ]
  },
  {
   "cell_type": "code",
   "execution_count": null,
   "metadata": {},
   "outputs": [],
   "source": []
  },
  {
   "cell_type": "markdown",
   "metadata": {},
   "source": [
    "<a id='3.2.1'><h3>3.2.1 Changing Variable Values</h3></a>\n",
    "\n",
    "Python instructions are executed one after the other.\n",
    "Thus you can easily change a variable's value later in your code:\n",
    "\n",
    "##### Example:\n",
    "\n",
    "```Python\n",
    "a4 = 100\n",
    "a5 = a4 + 100\n",
    "print(a5)\n",
    "a5 = a5 * 10\n",
    "print(a5)\n",
    "```\n",
    "\n",
    "Output:\n",
    "\n",
    "    200\n",
    "    2000\n",
    "    \n",
    "From above example, we also can see that code is executed <b>line by line</b>. Below shows a simple illustration of how the code is executed.\n",
    "<img src=\"https://i.imgur.com/MAdrN5O.png\" width=300 />"
   ]
  },
  {
   "cell_type": "code",
   "execution_count": 21,
   "metadata": {},
   "outputs": [
    {
     "name": "stdout",
     "output_type": "stream",
     "text": [
      "200\n",
      "2000\n"
     ]
    }
   ],
   "source": [
    "a4 = 100\n",
    "a5 = a4 + 100\n",
    "print(a5)\n",
    "a5 = a5 * 10            #  a5 *= 10 is same as a5= a5*10\n",
    "print(a5)"
   ]
  },
  {
   "cell_type": "markdown",
   "metadata": {},
   "source": [
    "<a id='3.2.2'><h3>3.2.2 Rules for Variable Names</h3></a>\n",
    "\n",
    "\n",
    "* Must start with letter\n",
    "* Cannot contain spaces (use `_` instead)\n",
    "* Should not use python's reserved names, e.g. `sum`, `list`, `for`, `def`, `if`, `else`\n",
    "\n",
    "Example of invalid names:\n",
    "\n",
    "* `1a`\n",
    "* `a b`\n",
    "* <code style=\"color:green;font-weight:bold\">list</code>\n",
    "\n",
    "Example of valid names:\n",
    "\n",
    "* `a1`\n",
    "* `a_b`\n",
    "* `number_list`\n",
    "\n",
    "Practice typing valid and invalid variable names below to see what sort of error messages you get.\n",
    "If you try a reserved name (like <code style=\"color:green;font-weight:bold\">print</code>) you will\n",
    "have to restart the kernel and clear output!"
   ]
  },
  {
   "cell_type": "code",
   "execution_count": null,
   "metadata": {},
   "outputs": [],
   "source": [
    "# my name = \"Hackwagon\"\n",
    "# 1apple = 10\n",
    "\n",
    "my_name = \"Hackwagon\""
   ]
  },
  {
   "cell_type": "markdown",
   "metadata": {},
   "source": [
    "<div class=\"alert alert-block alert-danger\">\n",
    "Do not ever do this! (Your instructor will show you why) \n",
    "\n",
    "**DO NOT RUN THE CELL BELOW**\n",
    "\n",
    "<i>but if you do.. let the TAs know</i>\n",
    "</div>\n"
   ]
  },
  {
   "cell_type": "code",
   "execution_count": null,
   "metadata": {},
   "outputs": [],
   "source": [
    "print = 10"
   ]
  },
  {
   "cell_type": "markdown",
   "metadata": {},
   "source": [
    "<a id='3.2.3'><h3>3.2.3 Good Naming Conventions</h3></a>\n",
    "\n",
    "Here are some examples of good naming practices for your variables:\n",
    "\n",
    "**Using underscore** ( _ ) to represent spaces\n",
    "```python\n",
    "\n",
    "first_name = \"Hackwagon\"\n",
    "\n",
    "```\n",
    "\n",
    "**Camel Casing** - Using camel casing to represent different words \n",
    "```python\n",
    "\n",
    "firstName = \"Hackwagon\"\n",
    "\n",
    "```\n",
    "\n",
    "**Meaningful Names** - So that you and other people reading your code can understand what it is trying to do.\n",
    "```python\n",
    "\n",
    "hours = 10\n",
    "per_hour = 20\n",
    "total = hours * per_hour\n",
    "\n",
    "```\n",
    "\n",
    "Variable names that provide no meaning to the code is like the code below, that does the exact same thing as the previous example.\n",
    "```python\n",
    "\n",
    "a = 10\n",
    "b = 20 \n",
    "c = a * b\n",
    "\n",
    "```"
   ]
  },
  {
   "cell_type": "markdown",
   "metadata": {},
   "source": [
    "<a id='P1'><h2> <img src=\"https://cdn.shopify.com/s/files/1/1200/7374/products/book_aec28e76-52ec-44ab-bc01-41df1279c89f_550x825.png?v=1473897430\" width=25 align=\"left\"> <font color=\"darkorange\"> &nbsp; Practice I </font><font color=\"skyblue\"> * </font></h2></a>\n",
    "\n",
    "#### Your information\n",
    "\n",
    "Create some variables to reflect the following details about yourself:\n",
    "\n",
    "1. Name\n",
    "2. Age\n",
    "3. Occupation\n",
    "4. Company / School\n",
    "\n",
    "... Get creative!"
   ]
  },
  {
   "cell_type": "code",
   "execution_count": 27,
   "metadata": {},
   "outputs": [
    {
     "name": "stdout",
     "output_type": "stream",
     "text": [
      "ikhyvicky 27 master of my own bed my bed\n"
     ]
    }
   ],
   "source": [
    "my_name = \"ikhyvicky\"                       #capital letter makes a difference eg Age different from age\n",
    "Age = 27                                    #try to keep the type true  so that operations can be done 27 instead of \"27\"\n",
    "Occupation= \"master of my own bed\"\n",
    "Company=\"my bed\"\n",
    "print(my_name,Age,Occupation,Company)\n"
   ]
  },
  {
   "cell_type": "markdown",
   "metadata": {},
   "source": [
    "<a id='4'><h2><img src=\"https://images.vexels.com/media/users/3/153978/isolated/preview/483ef8b10a46e28d02293a31570c8c56-warning-sign-colored-stroke-icon-by-vexels.png\" width=23 align=\"left\"><font color=\"salmon\">&nbsp;4.</font><font color=\"salmon\"> Arithmetic Operators </font> </h2></a>"
   ]
  },
  {
   "cell_type": "markdown",
   "metadata": {},
   "source": [
    "<a id='4.1'><h3>4.1 Arithmetic Operators</h3></a>\n",
    "\n",
    "Operators are special characters like the following. They can be used on numbers (`int` or `float`).\n",
    "\n",
    "| Operator | Meaning | Example |\n",
    "| -- | -- | -- |\n",
    "| `+` | Add | `1 + 1` results in `2`|\n",
    "| `-` | Subtract | `2 - 1` results in `1` |\n",
    "| `*` | Multiply | `1 * 2` results in `2` |\n",
    "| `/` | Divide | `4 / 2 ` results in `2.0` |\n",
    "| `//` | Floor Division | `5 // 2` results in `2` |\n",
    "| `%` | Modulus | `10 % 3` results in `1` |\n",
    "| `**` | Power | `10 ** 2` results in `100` |"
   ]
  },
  {
   "cell_type": "code",
   "execution_count": 28,
   "metadata": {},
   "outputs": [
    {
     "name": "stdout",
     "output_type": "stream",
     "text": [
      "a + b :  25\n",
      "a - b :  5\n",
      "a * b :  150\n",
      "a / b :  1.5\n",
      "a // b :  1\n",
      "a % b :  5\n",
      "a ** b :  576650390625\n"
     ]
    }
   ],
   "source": [
    "a = 15\n",
    "b = 10\n",
    "\n",
    "# Add comments\n",
    "print(\"a + b : \", a + b)  \n",
    "print(\"a - b : \", a - b)  \n",
    "print(\"a * b : \", a * b)  \n",
    "print(\"a / b : \", a / b)                    \n",
    "print(\"a // b : \", a // b)                  #  //how many times it can be divisible by\n",
    "print(\"a % b : \",a % b)                     # % how much is left over (remainder)\n",
    "print(\"a ** b : \",a ** b) "
   ]
  },
  {
   "cell_type": "markdown",
   "metadata": {},
   "source": [
    "<a id='4.1.1'><h3>4.1.1 Incrementing and Decrementing Numbers</h3></a>\n",
    "\n",
    "<div class=\"alert alert-block alert-info\">\n",
    "<b>Important!</b>\n",
    "\n",
    "Sometimes we may wish to increase or decrease the numeric value of a variable. We can do so with the `+=` and `-=` operator:\n",
    "</div>"
   ]
  },
  {
   "cell_type": "code",
   "execution_count": null,
   "metadata": {},
   "outputs": [],
   "source": [
    "x = 1\n",
    "print(x)\n",
    "\n",
    "# increase by 10\n",
    "x += 10\n",
    "print(x)\n",
    "\n",
    "# increase by 5\n",
    "x -= 5\n",
    "print(x)"
   ]
  },
  {
   "cell_type": "markdown",
   "metadata": {},
   "source": [
    "<a id='P2'><h2><img src=\"https://cdn.shopify.com/s/files/1/1200/7374/products/book_aec28e76-52ec-44ab-bc01-41df1279c89f_550x825.png?v=1473897430\" width=25 align=\"left\"> <font color=\"darkorange\"> &nbsp; Practice II </font><font color=\"skyblue\"> * </font></h2></a>\n",
    "\n",
    "\n",
    "### Question 1 - BMI Calculator\n",
    "\n",
    "John is **50** kg and **1.7** m tall.\n",
    "\n",
    "Compute his BMI with the following formula: <br><br>\n",
    "\n",
    "<center><font size=4.5> $ BMI = \\frac{weight}{height^{2}} $</font></center>\n",
    "\n",
    "Expected output:\n",
    "\n",
    "    17.301038062283737"
   ]
  },
  {
   "cell_type": "code",
   "execution_count": 35,
   "metadata": {},
   "outputs": [
    {
     "name": "stdout",
     "output_type": "stream",
     "text": [
      "17.301038062283737\n",
      "17.301\n"
     ]
    }
   ],
   "source": [
    "weight = 50\n",
    "height= 1.7\n",
    "BMI= weight/height**2                    #no need bracket the denominator  but better to have lah if got operators\n",
    "print(BMI)                               # or height*height\n",
    "print(round(BMI,3))"
   ]
  },
  {
   "cell_type": "markdown",
   "metadata": {},
   "source": [
    "### Question 2 - Compound Interest\n",
    "\n",
    "<img src=\"https://www.thecalculatorsite.com/images/compound-interest-formula-diagram.png\" width=500>\n",
    "\n",
    "Where:\n",
    "```\n",
    "A = the future value of the investment/loan, including interest\n",
    "P = the principal investment amount (the initial deposit or loan amount)\n",
    "r = the annual interest rate (decimal)\n",
    "n = the number of times that interest is compounded per year\n",
    "t = the number of years the money is invested or borrowed fo\n",
    "```\n",
    "\n",
    "Given the formula above and the values below, **compute the total amount payable**.\n",
    "\n",
    "\n",
    "| Principal | Interest Rate | Time (years) | Number of times <br> compounded per year |\n",
    "| -- | -- | -- | -- |\n",
    "| 18888 | 0.0188 | 5 | 1 |\n",
    "\n",
    "\n",
    "\n",
    "Expected output:\n",
    "\n",
    "    20731.496634634772"
   ]
  },
  {
   "cell_type": "code",
   "execution_count": 36,
   "metadata": {},
   "outputs": [
    {
     "name": "stdout",
     "output_type": "stream",
     "text": [
      "20731.496634634772\n"
     ]
    }
   ],
   "source": [
    "P = 18888\n",
    "r= 0.0188\n",
    "t= 5\n",
    "n= 1\n",
    "A= P*(1+r/n)**(n*t)                    #need brackets\n",
    "print(A)"
   ]
  },
  {
   "cell_type": "markdown",
   "metadata": {},
   "source": [
    "<a id='5'><h2><img src=\"https://images.vexels.com/media/users/3/153978/isolated/preview/483ef8b10a46e28d02293a31570c8c56-warning-sign-colored-stroke-icon-by-vexels.png\" width=23 align=\"left\"><font color=\"salmon\">&nbsp;5.</font><font color=\"salmon\"> Importance of Data Types and Variables</font> </h2></a>\n",
    "\n",
    "<a id='5.1'><h3>5.1 Data is Dirty</h3></a>\n",
    "\n",
    "In the real world, and in the duration of the course, we will realise the data we get is not in their relevant types for us to process. This is why we will be using in-built functions to do <b>Type Conversion</b>.\n",
    "\n",
    "For example we want to calculate the total pay based on the given data. "
   ]
  },
  {
   "cell_type": "code",
   "execution_count": 38,
   "metadata": {},
   "outputs": [
    {
     "name": "stdout",
     "output_type": "stream",
     "text": [
      "50\n"
     ]
    }
   ],
   "source": [
    "# cannot remove quotes\n",
    "per_hour = 10\n",
    "hours = '5'\n",
    "\n",
    "# Strings cannot be used for numerical calculation\n",
    "total = per_hour * int(hours)                  #type conversion here to make sure int(per_hour)*int(hours)\n",
    "print(total)"
   ]
  },
  {
   "cell_type": "markdown",
   "metadata": {},
   "source": [
    "<a id='5.2'><h3>5.2 Variables Make Life Easier</h3></a>\n",
    "\n",
    "Making variables make our lives easier when values change frequently, since we do not have through the entire code to change values. Take the following code as an example.\n",
    "\n",
    "Let's say the selling price for each unit is 10 dollars and the cost of each unit is 2 dollars. In your inventory, you've got 5 units to sell. What is the maximum profit you would expect to make?\n",
    "\n",
    "**Without dynamic variables**"
   ]
  },
  {
   "cell_type": "code",
   "execution_count": null,
   "metadata": {},
   "outputs": [],
   "source": [
    "#revenue\n",
    "revenue = 5 * 10\n",
    "#cost\n",
    "cost = 5 * 2\n",
    "#profit\n",
    "profit = revenue - cost\n",
    "print(profit)"
   ]
  },
  {
   "cell_type": "markdown",
   "metadata": {},
   "source": [
    "**With dynamic variables**"
   ]
  },
  {
   "cell_type": "code",
   "execution_count": null,
   "metadata": {},
   "outputs": [],
   "source": [
    "price_per_item = 10\n",
    "num = 5\n",
    "cost_per_item = 2\n",
    "\n",
    "##########\n",
    "#revenue\n",
    "revenue = num * price_per_item\n",
    "#cost\n",
    "cost = num * cost_per_item\n",
    "#profit\n",
    "profit = revenue - cost\n",
    "print(profit)\n"
   ]
  },
  {
   "cell_type": "code",
   "execution_count": null,
   "metadata": {},
   "outputs": [],
   "source": []
  }
 ],
 "metadata": {
  "kernelspec": {
   "display_name": "Python 3",
   "language": "python",
   "name": "python3"
  },
  "language_info": {
   "codemirror_mode": {
    "name": "ipython",
    "version": 3
   },
   "file_extension": ".py",
   "mimetype": "text/x-python",
   "name": "python",
   "nbconvert_exporter": "python",
   "pygments_lexer": "ipython3",
   "version": "3.7.3"
  }
 },
 "nbformat": 4,
 "nbformat_minor": 2
}
