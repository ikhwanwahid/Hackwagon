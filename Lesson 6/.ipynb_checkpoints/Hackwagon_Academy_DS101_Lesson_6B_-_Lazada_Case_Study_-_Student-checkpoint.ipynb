{
 "cells": [
  {
   "cell_type": "markdown",
   "metadata": {},
   "source": [
    "<img src=\"https://i2.wp.com/hackwagon.com/wp-content/uploads/2017/02/Logo-Web-Export.png?ssl=1\" width=200/>\n",
    "<h1> <center> Hackwagon Academy: DS101 In-Class Practice Week 6</center> </h1>\n",
    "<h2><center>Exploratory Data Analysis - Lazada Case Study</center></h2>\n",
    "\n",
    "<h2> Lesson Outline</h2>\n",
    "\n",
    "- 1. [Data Science Project Stages](#1)\n",
    "- 2. [Lazada Case Study](#2)\n",
    "    - 2.1 [Open File](#2.1)\n",
    "    - 2.2 [Simple Data Cleaning](#2.2)\n",
    "    - 2.3 [Exploring With Questions](#2.3)\n",
    "    - 2.4 [Visualisation](#2.4)\n",
    "\n",
    "<b><i>A table of important collections functions is here for your use</b></i>\n",
    "\n",
    "<h3> References </h3>\n",
    "\n",
    "<h3> <center> Important Collections Functions </center> </h3>\n",
    "<h3> <center> Creation </center></h3>\n",
    "\n",
    "|Collection Type | Function | Examples |\n",
    "| ---------|---------|---------|\n",
    "| `list` | <center>None</center>| `new_list = []` <br><br> `new_list = [1,2,3,4]` |\n",
    "| `dict` | <center>None</center>| `new_dict = {}` <br><br> `new_dict = {'a': 1, 'b':2}`|\n",
    "\n",
    "<h3><center> Add / Appending Data </center></h3>\n",
    "\n",
    "|Collection Type | Functions | Examples | Resulting Output|\n",
    "| ---------|---------|---------| ------ |\n",
    "| `list` | <center>`.append()`</center>| `new_list = [1,2,3]` <br><br> `new_list.append(4)` | `[1,2,3,4]`|\n",
    "| `list` | <center>`.extend()`</center>| `new_list = [1,2]` <br><br> `new_list.extend([3,4])` | `[1,2,3,4]`|\n",
    "| `dict` | <center>None</center>| `new_dict = {}` <br><br> `new_dict['a'] = 1` <br><br> `new_dict['b'] = 2` | `{'a': 1, 'b':2}`|\n",
    "\n",
    "<h3> <center> Updating / Changing Data </center></h3>\n",
    "\n",
    "|Collection Type | Functions | Examples | Resulting Output|\n",
    "| ---------|---------|---------| ------ |\n",
    "| `list` | <center>None</center>| `new_list = [1,2,3]` <br><br> `new_list[0] = 5` | `[5,2,3]`|\n",
    "| `dict` | <center>None</center>| `new_dict = {'a': 1, 'b':2}` <br><br> `new_dict['a'] = 10`| `{'a': 10, 'b':2}`|\n",
    "\n",
    "<h3> <center> Accessing / Taking Out Data </center></h3>\n",
    "\n",
    "|Collection Type | Functions | x to be| Examples |\n",
    "| ---------|---------|---------| ------ |\n",
    "| `list` | <center>None</center>| 3 |`new_list = [1,2,3]` <br><br> `x = new_list[2] `|\n",
    "| `list of list` | <center>None</center>|3 |`new_list = [[1,2],[3,4]]` <br><br> `x = new_list[1][0] `|\n",
    "| `list of dict` | <center>None</center>| 2 |`new_list = [{'a':1},{'b':2}]` <br><br> `x = new_list[1]['b'] `|\n",
    "| `dict` | <center>None</center>| 2|`new_dict = {'a': 1, 'b':2}` <br><br> `x = new_dict['b']`|\n",
    "\n",
    "<h3>CITU Framework & Applied Iterations</h3>\n",
    "\n",
    "1. What variables do you need to answer this question?\n",
    "1. <b>Create</b> the results container\n",
    "2. <b>Iterate</b> the input data/list\n",
    "3. <b>Extract the variables you needed in step 1</b>\n",
    "3. <b>Test</b> conditions of each value\n",
    "4. <b>Update</b> the results container when condition is fulfilled"
   ]
  },
  {
   "cell_type": "markdown",
   "metadata": {},
   "source": [
    "<a id='1'><h2><img src=\"https://images.vexels.com/media/users/3/153978/isolated/preview/483ef8b10a46e28d02293a31570c8c56-warning-sign-colored-stroke-icon-by-vexels.png\" width=25 align=\"left\"><font color=\"salmon\">&nbsp;1.</font><font color=\"salmon\"> Data Science Project Stages </font> </h2></a>\n",
    "\n",
    "<img src=\"https://i.imgur.com/NzCT5EB.png\">"
   ]
  },
  {
   "cell_type": "markdown",
   "metadata": {},
   "source": [
    "<a id='2'><h2><img src=\"https://images.vexels.com/media/users/3/153978/isolated/preview/483ef8b10a46e28d02293a31570c8c56-warning-sign-colored-stroke-icon-by-vexels.png\" width=25 align=\"left\"><font color=\"salmon\">&nbsp;2.</font><font color=\"salmon\"> Lazada Dataset Case Study </font> </h2></a>\n",
    "\n",
    "<img src=\"https://s.yimg.com/ny/api/res/1.2/_qLpCqbdgKq0nnY3UDmI2w--~A/YXBwaWQ9aGlnaGxhbmRlcjtzbT0xO3c9NzQ0O2g9Mzcy/http://media.zenfs.com/en/homerun/feed_manager_auto_publish_494/87db61c8ea6d6fcc4122595bb0c0c2c5\" width=\"300\">\n",
    "\n",
    "This dataset has been source from the Lazada marketplace, where we have above <b>36 thousand rows</b> of data to work with. <b>Each row represents one product</b>. Opening this file in Microsoft Excel would look like this:\n",
    "\n",
    "<img src=\"https://i.imgur.com/E0QJP92.png\" width=\"500\">\n",
    "\n",
    "We're going to do some simple analysis with these products and see what we can come up with.\n",
    "\n",
    "<a id=\"2.1\"> <h3>2.1 Opening File </h3></a>\n",
    "\n",
    "<a id=\"P2\"><h3><img src=\"https://cdn.shopify.com/s/files/1/1200/7374/products/book_aec28e76-52ec-44ab-bc01-41df1279c89f_550x825.png?v=1473897430\" width=25 align=\"left\"> <font color=\"darkorange\"> &nbsp; Practice I </font><font color=\"skyblue\"> * </font></h3></a>\n",
    "\n",
    "Just as you did in your recap, read the `lazada_data.csv` file in to a list of dictionaries and store them in to a variable called `lazada_data`."
   ]
  },
  {
   "cell_type": "code",
   "execution_count": 1,
   "metadata": {},
   "outputs": [],
   "source": [
    "# load the data\n",
    "#remember the encoding ='utf-8'!#\n",
    "\n",
    "import csv              #remembeer this!!!\n",
    "\n",
    "with open('lazada_data.csv', encoding='utf-8') as file:\n",
    "\n",
    "    lazada_data = []\n",
    "    \n",
    "    for row in csv.DictReader(file):\n",
    "        lazada_data.append(dict(row))\n"
   ]
  },
  {
   "cell_type": "markdown",
   "metadata": {},
   "source": [
    "<h3>Preview Data </h3>\n",
    "\n",
    "As you might have seen in all the lab exercises, we've always previewed the data. This step is crucial because it allows us to first visually understand what is going on with our data, if there is any problems with it and if so, how we can go about tackling these issues.\n",
    "\n",
    "Previewing this data would give you something that looks like this:\n",
    "```python\n",
    "    {\n",
    "        'country': 'my',\n",
    "        'sku_id': 'AD674FAASTLXANMY',\n",
    "        'title': 'Adana Gallery Suri Square Hijab – Light Pink',\n",
    "        'category_lvl_1': 'Fashion',\n",
    "        'category_lvl_2': 'Women',\n",
    "        'category_lvl_3': 'Muslim Wear',\n",
    "        'short_description': '<ul><li>Material : Non sheer shimmer chiffon</li><li>Sizes : 52 x 52 inches OR 56 x 56 inches</li><li>Cut\\xa0with curved ends</li></ul>',\n",
    "        'price': '49',\n",
    "        'product_type': 'local'\n",
    "    }\n",
    "```"
   ]
  },
  {
   "cell_type": "code",
   "execution_count": 2,
   "metadata": {},
   "outputs": [
    {
     "data": {
      "text/plain": [
       "{'country': 'my',\n",
       " 'sku_id': 'AD674FAASTLXANMY',\n",
       " 'title': 'Adana Gallery Suri Square Hijab – Light Pink',\n",
       " 'category_lvl_1': 'Fashion',\n",
       " 'category_lvl_2': 'Women',\n",
       " 'category_lvl_3': 'Muslim Wear',\n",
       " 'short_description': '<ul><li>Material : Non sheer shimmer chiffon</li><li>Sizes : 52 x 52 inches OR 56 x 56 inches</li><li>Cut\\xa0with curved ends</li></ul>',\n",
       " 'price': '49',\n",
       " 'product_type': 'local'}"
      ]
     },
     "execution_count": 2,
     "metadata": {},
     "output_type": "execute_result"
    }
   ],
   "source": [
    "lazada_data[0]"
   ]
  },
  {
   "cell_type": "markdown",
   "metadata": {},
   "source": [
    "<a id=\"2.2\"> <h3>2.2 Simple Data Cleaning </h3></a>\n",
    "\n",
    "As you've might observed, after previewing the data, we've realised some issues. In any Data Science project, data cleaning can take up to <b>80%</b> of the project time because of the numerous special cases you need to be aware of and <i>clean</i> them up for you to be able to use them.\n",
    "\n",
    "After previewing the data, we've observed the following issues with the Lazada dataset. One of the following is:\n",
    "\n",
    "1. The `price` column is a `string`\n",
    "\n",
    "<a id=\"P2\"><h3><img src=\"https://cdn.shopify.com/s/files/1/1200/7374/products/book_aec28e76-52ec-44ab-bc01-41df1279c89f_550x825.png?v=1473897430\" width=25 align=\"left\"> <font color=\"darkorange\"> &nbsp; Practice II </font><font color=\"skyblue\"> * </font></h3></a>\n",
    "\n",
    "We're going to practice some simple data cleaning. The other 2 issues have been resolved for you. Your job is simple:\n",
    "\n",
    "1. Clean the `price` column\n",
    "\n",
    "Our primary goal is to turn what we saw in the preview earlier and turn our dictionaries to this :\n",
    "```python\n",
    "    {\n",
    "        'country': 'my', \n",
    "        'sku_id': 'AD674FAASTLXANMY', \n",
    "        'title': 'Adana Gallery Suri Square Hijab   Light Pink', \n",
    "        'category_lvl_1': 'Fashion', \n",
    "        'category_lvl_2': 'Women', \n",
    "        'category_lvl_3': 'Muslim Wear', \n",
    "        'short_description': 'Material : Non sheer shimmer chiffon  Sizes : 52 x 52 inches OR 56 x 56 inches  Cut\\xa0with curved ends', \n",
    "        'price': 49.0, \n",
    "        'product_type': 'local'\n",
    "    }\n",
    "```"
   ]
  },
  {
   "cell_type": "code",
   "execution_count": 63,
   "metadata": {},
   "outputs": [
    {
     "data": {
      "text/plain": [
       "{'country': 'my',\n",
       " 'sku_id': 'AD674FAASTLXANMY',\n",
       " 'title': 'Adana Gallery Suri Square Hijab – Light Pink',\n",
       " 'category_lvl_1': 'Fashion',\n",
       " 'category_lvl_2': 'Women',\n",
       " 'category_lvl_3': 'Muslim Wear',\n",
       " 'short_description': '<ul><li>Material : Non sheer shimmer chiffon</li><li>Sizes : 52 x 52 inches OR 56 x 56 inches</li><li>Cut\\xa0with curved ends</li></ul>',\n",
       " 'price': 49.0,\n",
       " 'product_type': 'local'}"
      ]
     },
     "execution_count": 63,
     "metadata": {},
     "output_type": "execute_result"
    }
   ],
   "source": [
    "#only fix the price\n",
    "for row in lazada_data:\n",
    "    row['price']=float(row['price'])\n",
    "lazada_data[0]"
   ]
  },
  {
   "cell_type": "markdown",
   "metadata": {},
   "source": [
    "<a id=\"2.3\"> <h3>2.3 Explore with Questions </h3></a>\n",
    "\n",
    "<a id=\"P3\"><h3><img src=\"https://cdn.shopify.com/s/files/1/1200/7374/products/book_aec28e76-52ec-44ab-bc01-41df1279c89f_550x825.png?v=1473897430\" width=25 align=\"left\"> <font color=\"darkorange\"> &nbsp; Practice III </font><font color=\"skyblue\"> * </font></h3></a>\n",
    "\n",
    "#### Question 1\n",
    "How many items are more than $50?\n",
    "\n",
    "<b>Expected Output:</b>\n",
    "\n",
    "    The number of items with price greater than $50 is: 21135"
   ]
  },
  {
   "cell_type": "code",
   "execution_count": 64,
   "metadata": {},
   "outputs": [
    {
     "name": "stdout",
     "output_type": "stream",
     "text": [
      "The number of items with price greater than $50 is: 21135\n"
     ]
    }
   ],
   "source": [
    "highest_price=50\n",
    "count = 0\n",
    "for row in lazada_data:\n",
    "    price = row['price']\n",
    "    if price> highest_price:\n",
    "        count+=1\n",
    "print(\"The number of items with price greater than $50 is:\", count)\n"
   ]
  },
  {
   "cell_type": "markdown",
   "metadata": {},
   "source": [
    "#### Question 2\n",
    "\n",
    "How many items are listed in <b>Singapore</b>, <b>Malaysia</b>, <b>Phillippines</b>?\n",
    "\n",
    "\n",
    "<b>Expected Output:</b>\n",
    "\n",
    "    SG:  8638\n",
    "    MY:  16413\n",
    "    PH:  11232\n",
    "    "
   ]
  },
  {
   "cell_type": "code",
   "execution_count": 52,
   "metadata": {},
   "outputs": [
    {
     "name": "stdout",
     "output_type": "stream",
     "text": [
      "sg: 8638\n",
      "my: 16413\n",
      "ph: 11232\n"
     ]
    }
   ],
   "source": [
    "country_counts={}\n",
    "for row in lazada_data:\n",
    "    country=row['country']\n",
    "    if country not in country_counts:\n",
    "        country_counts[country]=1\n",
    "    else:\n",
    "        country_counts[country]+=1\n",
    "print('sg:', country_counts['sg'])\n",
    "print('my:', country_counts['my'])\n",
    "print('ph:', country_counts['ph'])"
   ]
  },
  {
   "cell_type": "markdown",
   "metadata": {},
   "source": [
    "#### Question 3\n",
    "\n",
    "For the `category_1` of `Fashion`, how many items are for `Men` and how many items are for `Women`?\n",
    "\n",
    "<b>Expected Output:</b>\n",
    "\n",
    "    Male Fashion: 1609\n",
    "    Women Fashion: 3944\n",
    "    "
   ]
  },
  {
   "cell_type": "code",
   "execution_count": 65,
   "metadata": {},
   "outputs": [
    {
     "name": "stdout",
     "output_type": "stream",
     "text": [
      "Male Fashion 1609\n",
      "Women Fashion 3944\n"
     ]
    }
   ],
   "source": [
    "#category_lvl_1==\"Fashion\"\n",
    "#category_lvl_2==\"Men\"or\"Women\"\n",
    "gender_counts = {}\n",
    "for row in lazada_data:\n",
    "    category_lvl_1 = row['category_lvl_1']\n",
    "    category_lvl_2 = row['category_lvl_2']\n",
    "    if category_lvl_1 == 'Fashion':\n",
    "        if category_lvl_2 not in gender_counts:\n",
    "            gender_counts[category_lvl_2] = 1\n",
    "        else:\n",
    "            gender_counts[category_lvl_2] += 1\n",
    "print(\"Male Fashion\", gender_counts['Men'])\n",
    "print(\"Women Fashion\", gender_counts['Women'])"
   ]
  },
  {
   "cell_type": "markdown",
   "metadata": {},
   "source": [
    "<a id=\"2.4\"> <h3>2.4 Visualisation </h3></a>\n",
    "\n",
    "We will be plotting a barchart for product distribution of each country. In order to do so, we need to first prepare the data into the following data structure.\n",
    "\n",
    "<a id=\"P4\"><h3><img src=\"https://cdn.shopify.com/s/files/1/1200/7374/products/book_aec28e76-52ec-44ab-bc01-41df1279c89f_550x825.png?v=1473897430\" width=25 align=\"left\"> <font color=\"darkorange\"> &nbsp; Practice IV </font><font color=\"skyblue\"> * </font></h3></a>\n",
    "\n",
    "#### Question 1\n",
    "Using counting with dictionaries, find the number of items `category_lvl_1` items there are in Singapore and store it in `SG_Products`.\n",
    "\n",
    "<b>Expected Output:</b>\n",
    "   \n",
    "       {\n",
    "           'Computers & Laptops': 698,\n",
    "           'TV Audio / Video Gaming & Wearables': 593,\n",
    "           'Fashion': 1352,\n",
    "           'Mobiles & Tablets': 1407,\n",
    "           'Health & Beauty': 1010,\n",
    "           'Home & Living': 1563,\n",
    "           'Watches Sunglasses Jewellery': 1069,\n",
    "           'Home Appliances': 434,\n",
    "           'Cameras': 512\n",
    "       }\n"
   ]
  },
  {
   "cell_type": "code",
   "execution_count": 60,
   "metadata": {},
   "outputs": [
    {
     "name": "stdout",
     "output_type": "stream",
     "text": [
      "{'Computers & Laptops': 698, 'TV Audio / Video Gaming & Wearables': 593, 'Fashion': 1352, 'Mobiles & Tablets': 1407, 'Health & Beauty': 1010, 'Home & Living': 1563, 'Watches Sunglasses Jewellery': 1069, 'Home Appliances': 434, 'Cameras': 512}\n"
     ]
    }
   ],
   "source": [
    "def country_products(country_code):\n",
    "    SG_Products = {}\n",
    "    for row in lazada_data:\n",
    "        country=row['country']\n",
    "        cat_1_items=row['category_lvl_1']\n",
    "        if country == country_code:\n",
    "            if cat_1_items not in SG_Products:\n",
    "                SG_Products[cat_1_items]=1\n",
    "            else:\n",
    "                SG_Products[cat_1_items]+=1\n",
    "    return(SG_Products)\n",
    "SG_Products= country_products('sg')\n",
    "print(SG_Products)"
   ]
  },
  {
   "cell_type": "markdown",
   "metadata": {},
   "source": [
    "#### Question 2\n",
    "Using what you've done in Question 1, apply this for both Malaysia and Phillippines and store them in `MY_Products` and `PH_Products`, respectively.\n",
    "\n",
    "**Expected Output:**\n",
    "```python\n",
    "#MY_Products\n",
    "{'Fashion': 2539,\n",
    " 'Health & Beauty': 1790,\n",
    " 'TV Audio / Video Gaming & Wearables': 1018,\n",
    " 'Computers & Laptops': 1452,\n",
    " 'Cameras': 832,\n",
    " 'Home & Living': 2595,\n",
    " 'Watches Sunglasses Jewellery': 1888,\n",
    " 'Mobiles & Tablets': 3666,\n",
    " 'Home Appliances': 633}\n",
    "\n",
    "#PH_Products\n",
    "{'Computers & Laptops': 775,\n",
    " 'Cameras': 608,\n",
    " 'Home & Living': 1890,\n",
    " 'Mobiles & Tablets': 2204,\n",
    " 'TV Audio / Video Gaming & Wearables': 900,\n",
    " 'Fashion': 1838,\n",
    " 'Watches Sunglasses Jewellery': 1259,\n",
    " 'Health & Beauty': 1240,\n",
    " 'Home Appliances': 518}\n",
    "```"
   ]
  },
  {
   "cell_type": "code",
   "execution_count": 67,
   "metadata": {},
   "outputs": [
    {
     "data": {
      "text/plain": [
       "{'Fashion': 2539,\n",
       " 'Health & Beauty': 1790,\n",
       " 'TV Audio / Video Gaming & Wearables': 1018,\n",
       " 'Computers & Laptops': 1452,\n",
       " 'Cameras': 832,\n",
       " 'Home & Living': 2595,\n",
       " 'Watches Sunglasses Jewellery': 1888,\n",
       " 'Mobiles & Tablets': 3666,\n",
       " 'Home Appliances': 633}"
      ]
     },
     "metadata": {},
     "output_type": "display_data"
    },
    {
     "data": {
      "text/plain": [
       "{'Computers & Laptops': 775,\n",
       " 'Cameras': 608,\n",
       " 'Home & Living': 1890,\n",
       " 'Mobiles & Tablets': 2204,\n",
       " 'TV Audio / Video Gaming & Wearables': 900,\n",
       " 'Fashion': 1838,\n",
       " 'Watches Sunglasses Jewellery': 1259,\n",
       " 'Health & Beauty': 1240,\n",
       " 'Home Appliances': 518}"
      ]
     },
     "metadata": {},
     "output_type": "display_data"
    }
   ],
   "source": [
    "MY_Products=country_products('my')\n",
    "PH_Products=country_products('ph')\n",
    "display(MY_Products)\n",
    "display(PH_Products)\n",
    "# Code below"
   ]
  },
  {
   "cell_type": "markdown",
   "metadata": {},
   "source": [
    "### Bar Charts"
   ]
  },
  {
   "cell_type": "code",
   "execution_count": 71,
   "metadata": {},
   "outputs": [
    {
     "data": {
      "image/png": "[encoded data removed]",
      "text/plain": [
       "<Figure size 432x288 with 1 Axes>"
      ]
     },
     "metadata": {
      "needs_background": "light"
     },
     "output_type": "display_data"
    }
   ],
   "source": [
    "import matplotlib.pyplot as plt\n",
    "\n",
    "def plot_country_products(country_code):\n",
    "    SG_Products = country_products(country_code)\n",
    "    fig = plt.figure()\n",
    "    keys = sorted(SG_Products.keys())\n",
    "    values = []\n",
    "    for key in keys:\n",
    "        values.append(SG_Products[key])\n",
    "    plt.bar(range(len(SG_Products)), values, align='center')\n",
    "    plt.xticks(range(len(SG_Products)), keys,rotation='vertical')\n",
    "    fig.suptitle(country_code.upper() + ' Product Distribution', fontsize=20)\n",
    "    return fig\n",
    "\n",
    "fig = plot_country_products('sg')\n",
    "plt.show()\n"
   ]
  },
  {
   "cell_type": "markdown",
   "metadata": {},
   "source": [
    "\n",
    "<a id=\"P4\"><h3><img src=\"https://cdn.shopify.com/s/files/1/1200/7374/products/book_aec28e76-52ec-44ab-bc01-41df1279c89f_550x825.png?v=1473897430\" width=25 align=\"left\"> <font color=\"darkorange\"> &nbsp; Practice IV </font><font color=\"skyblue\"> * </font></h3></a>\n",
    "\n",
    "#### Question 1\n",
    "Apply what you've learnt from the example for the products from <b>Malaysia</b>."
   ]
  },
  {
   "cell_type": "code",
   "execution_count": 69,
   "metadata": {},
   "outputs": [
    {
     "data": {
      "image/png": "[encoded data removed]",
      "text/plain": [
       "<Figure size 432x288 with 1 Axes>"
      ]
     },
     "metadata": {
      "needs_background": "light"
     },
     "output_type": "display_data"
    }
   ],
   "source": [
    "fig = plot_country_products('my')\n",
    "plt.show()"
   ]
  },
  {
   "cell_type": "markdown",
   "metadata": {},
   "source": [
    "#### Question 2\n",
    "Apply what you've learnt from the example for the products from <b>Phillippines</b>."
   ]
  },
  {
   "cell_type": "code",
   "execution_count": 70,
   "metadata": {},
   "outputs": [
    {
     "data": {
      "image/png": "[encoded data removed]",
      "text/plain": [
       "<Figure size 432x288 with 1 Axes>"
      ]
     },
     "metadata": {
      "needs_background": "light"
     },
     "output_type": "display_data"
    }
   ],
   "source": [
    "fig = plot_country_products('ph')\n",
    "plt.show()"
   ]
  },
  {
   "cell_type": "code",
   "execution_count": null,
   "metadata": {},
   "outputs": [],
   "source": []
  }
 ],
 "metadata": {
  "kernelspec": {
   "display_name": "Python 3",
   "language": "python",
   "name": "python3"
  },
  "language_info": {
   "codemirror_mode": {
    "name": "ipython",
    "version": 3
   },
   "file_extension": ".py",
   "mimetype": "text/x-python",
   "name": "python",
   "nbconvert_exporter": "python",
   "pygments_lexer": "ipython3",
   "version": "3.7.3"
  }
 },
 "nbformat": 4,
 "nbformat_minor": 2
}
