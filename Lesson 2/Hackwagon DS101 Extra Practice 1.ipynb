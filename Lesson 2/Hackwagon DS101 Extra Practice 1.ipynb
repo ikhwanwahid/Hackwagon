{
 "cells": [
  {
   "cell_type": "markdown",
   "metadata": {},
   "source": [
    "<img src=\"https://i2.wp.com/hackwagon.com/wp-content/uploads/2017/02/Logo-Web-Export.png?ssl=1\" width=200/>\n",
    "\n",
    "<h1> Hackwagon Academy - DS101 Extra Practice 1</h1>"
   ]
  },
  {
   "cell_type": "markdown",
   "metadata": {},
   "source": [
    "<p>The following questions serve to strengthen your understanding in handling data from nested collections. The following collection structure are some of the common ways which people use to store their data for processing later on. </p>\n"
   ]
  },
  {
   "cell_type": "markdown",
   "metadata": {},
   "source": [
    "### Q1 \n",
    "<font color='red'><b>Run this cell first to get the `linked_data`</b></font>"
   ]
  },
  {
   "cell_type": "code",
   "execution_count": null,
   "metadata": {},
   "outputs": [],
   "source": [
    "linked_data = [\n",
    "    ['Rick Jones', 'Software Engineer', 909802],\n",
    "    ['Marissa Meyer', 'COO', 9320809],\n",
    "    ['Avril Ting', 'MD', 932846]\n",
    "]"
   ]
  },
  {
   "cell_type": "markdown",
   "metadata": {},
   "source": [
    "##### Q1a\n",
    "Extract Marissa's salary and print her name + salary\n",
    "\n",
    "**Expected output**: \n",
    "    \n",
    "    Marissa Meyer has a salary of $ 9320809"
   ]
  },
  {
   "cell_type": "code",
   "execution_count": null,
   "metadata": {},
   "outputs": [],
   "source": [
    "#Type your code below\n"
   ]
  },
  {
   "cell_type": "markdown",
   "metadata": {},
   "source": [
    "##### Q1b\n",
    "Change Marissa's salary in linked_data to 78973930 & print out her data\n",
    "\n",
    "**Expected output**: \n",
    "\n",
    "    \n",
    "    ['Marissa Meyer', 'COO', 78973930]"
   ]
  },
  {
   "cell_type": "code",
   "execution_count": null,
   "metadata": {},
   "outputs": [],
   "source": [
    "#Type your code below\n"
   ]
  },
  {
   "cell_type": "markdown",
   "metadata": {},
   "source": [
    "##### Q1c\n",
    "Replace Avril Ting's entire data with the following ['Avril Tan', 'None', 0] & print `linked_data`\n",
    "\n",
    "**Expected output**: \n",
    "\n",
    "    [\n",
    "        ['Rick Jones', 'Software Engineer', 909802],\n",
    "        ['Marissa Meyer', 'COO', 78973930],\n",
    "        ['Avril Tan', 'None', 0]\n",
    "    ]\n",
    "    "
   ]
  },
  {
   "cell_type": "code",
   "execution_count": null,
   "metadata": {},
   "outputs": [],
   "source": [
    "#Type your code below\n"
   ]
  },
  {
   "cell_type": "markdown",
   "metadata": {},
   "source": [
    "##### Q1d\n",
    "Add age data using the index method & print the `linked_data`. Age of the three person respectively: 20, 45, 55\n",
    "\n",
    "Hint: Remember the_list[0] = 1000?\n",
    "\n",
    "**Expected output**: \n",
    "\n",
    "    [\n",
    "        ['Rick Jones', 'Software Engineer', 909802, 20],\n",
    "        ['Marissa Meyer', 'COO', 78973930, 45],\n",
    "        ['Avril Tan', 'None', 0, 55]\n",
    "    ]\n",
    "    "
   ]
  },
  {
   "cell_type": "code",
   "execution_count": null,
   "metadata": {},
   "outputs": [],
   "source": [
    "#Type your code below\n"
   ]
  },
  {
   "cell_type": "markdown",
   "metadata": {},
   "source": [
    "### Q2\n",
    "<font color='red'><b>Run this cell first to get the `linked_data`</b></font>"
   ]
  },
  {
   "cell_type": "code",
   "execution_count": null,
   "metadata": {},
   "outputs": [],
   "source": [
    "linked_data = [{'Name':'Rick Jones', 'Job':'Software Engineer', 'Salary':909802},\n",
    "               {'Name':'Marissa Meyer', 'Job':'COO', 'Salary':9320809},\n",
    "               {'Name':'Avril Ting', 'Job':'MD', 'Salary':932846}]"
   ]
  },
  {
   "cell_type": "markdown",
   "metadata": {},
   "source": [
    "##### Q2a\n",
    "Extract Marissa's salary and print her name + salary\n",
    "\n",
    "**Expected output**: \n",
    "    \n",
    "    Marissa Meyer has a salary of $ 9320809"
   ]
  },
  {
   "cell_type": "code",
   "execution_count": null,
   "metadata": {},
   "outputs": [],
   "source": [
    "#Type your code below\n"
   ]
  },
  {
   "cell_type": "markdown",
   "metadata": {},
   "source": [
    "##### Q2b\n",
    "Change Marissa's salary in linked_data to 78973930 & print out her data\n",
    "\n",
    "**Expected output**: \n",
    "    \n",
    "    { \n",
    "        'Name':'Marissa Meyer', \n",
    "        'Job':'COO', \n",
    "        'Salary':78973930\n",
    "    }"
   ]
  },
  {
   "cell_type": "code",
   "execution_count": null,
   "metadata": {},
   "outputs": [],
   "source": [
    "#Type your code below\n"
   ]
  },
  {
   "cell_type": "markdown",
   "metadata": {},
   "source": [
    "##### Q2c\n",
    "Replace Avril Ting's entire data with the following `{'Name':'Avril Tan', 'Job':'None', 'Salary':0}` & print `linked_data`\n",
    "\n",
    "**Expected output**: \n",
    "\n",
    "    [\n",
    "        {\n",
    "            'Name':'Rick Jones', \n",
    "            'Job':'Software Engineer', \n",
    "            'Salary':909802\n",
    "        },\n",
    "        {\n",
    "            'Name':'Marissa Meyer', \n",
    "            'Job':'COO', \n",
    "            'Salary':78973930\n",
    "        },\n",
    "        {\n",
    "            'Name':'Avril Tan', \n",
    "            'Job':'None', \n",
    "            'Salary':0\n",
    "        }\n",
    "    ]\n",
    "    "
   ]
  },
  {
   "cell_type": "code",
   "execution_count": null,
   "metadata": {},
   "outputs": [],
   "source": [
    "#Type your code below\n"
   ]
  },
  {
   "cell_type": "markdown",
   "metadata": {},
   "source": [
    "##### Q2d\n",
    "Add age data using the index method & print the `linked_data`. Age of the three person respectively: 20, 45, 55\n",
    "\n",
    "Hint: Remember dict['key'] = 1000?\n",
    "\n",
    "Expected output:\n",
    "\n",
    "    [\n",
    "        {\n",
    "            'Name':'Rick Jones', \n",
    "            'Job':'Software Engineer', \n",
    "            'Salary':909802, \n",
    "            'age':20\n",
    "        },\n",
    "        {\n",
    "            'Name':'Marissa Meyer', \n",
    "            'Job':'COO', \n",
    "            'Salary':78973930, \n",
    "            'age':45\n",
    "        },\n",
    "        {\n",
    "            'Name':'Avril Tan', \n",
    "            'Job':'None', \n",
    "            'Salary':0, \n",
    "            'age':55\n",
    "        }\n",
    "    ]\n",
    "    "
   ]
  },
  {
   "cell_type": "code",
   "execution_count": null,
   "metadata": {},
   "outputs": [],
   "source": [
    "#Type your code below\n"
   ]
  },
  {
   "cell_type": "markdown",
   "metadata": {},
   "source": [
    "### Q3\n",
    "<font color='red'><b>Run this cell first to get the `Department_Employee_data`</b></font>"
   ]
  },
  {
   "cell_type": "code",
   "execution_count": null,
   "metadata": {},
   "outputs": [],
   "source": [
    "Department_Employee_data= [{'Purchase': ['John', 'Avery', 'Obama'], 'Sales': ['Orea', 'Stark']},\n",
    "                           {'Purchase': [2000, 4000, 10000], 'Sales': [2344, 32442]}]"
   ]
  },
  {
   "cell_type": "markdown",
   "metadata": {},
   "source": [
    "#### Q3a\n",
    "Extract Orea's salary and print her name + salary\n",
    "\n",
    "**Expected output**: \n",
    "    \n",
    "    Orea has a salary of $ 2344"
   ]
  },
  {
   "cell_type": "code",
   "execution_count": null,
   "metadata": {},
   "outputs": [],
   "source": [
    "#Type your code below\n"
   ]
  },
  {
   "cell_type": "markdown",
   "metadata": {},
   "source": [
    "#### Q3b\n",
    "Change Orea's salary to 2398 and print the entire Sales department's salary\n",
    "\n",
    "**Expected output**: \n",
    "    \n",
    "    [2398, 32442]"
   ]
  },
  {
   "cell_type": "code",
   "execution_count": null,
   "metadata": {},
   "outputs": [],
   "source": [
    "#Type your code below\n"
   ]
  }
 ],
 "metadata": {
  "kernelspec": {
   "display_name": "Python 3",
   "language": "python",
   "name": "python3"
  },
  "language_info": {
   "codemirror_mode": {
    "name": "ipython",
    "version": 3
   },
   "file_extension": ".py",
   "mimetype": "text/x-python",
   "name": "python",
   "nbconvert_exporter": "python",
   "pygments_lexer": "ipython3",
   "version": "3.6.5"
  }
 },
 "nbformat": 4,
 "nbformat_minor": 2
}
