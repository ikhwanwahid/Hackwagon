{
 "cells": [
  {
   "cell_type": "markdown",
   "metadata": {},
   "source": [
    "<img src=\"https://i2.wp.com/hackwagon.com/wp-content/uploads/2017/02/Logo-Web-Export.png?ssl=1\" width=200/>\n",
    "\n",
    "<h1> Hackwagon Academy - DS101 Lab 2 </h1>\n",
    "\n",
    "This lab exercise consists of 10 questions, with each correct answer to be awarded 2 marks, totalling up to 20 marks.\n",
    "\n",
    "Attempt but minor syntax errors are awarded half the mark."
   ]
  },
  {
   "cell_type": "code",
   "execution_count": null,
   "metadata": {},
   "outputs": [],
   "source": [
    "#Before you start, please perform the following 2 steps:\n",
    "#1. Rename the file to <First_Name>_<Last_Name>_DS101_Lab_1 e.g. john_doe_DS101_Lab_1\n",
    "\n",
    "#2. Fill in your details here:\n",
    "#Name                    : Muhammad Ikhwan Bin Wahid\n",
    "\n",
    "#Start of Course Class(Edit accordingly): 16 Jul 2018 12.15pm\n",
    "\n",
    "# FOR TA/INSTRUCTOR \n",
    "# Total Marks:  / 20"
   ]
  },
  {
   "cell_type": "markdown",
   "metadata": {},
   "source": [
    "## Warm Up"
   ]
  },
  {
   "cell_type": "markdown",
   "metadata": {},
   "source": [
    "### Question 1\n",
    "\n",
    "Create a simple if-else algorithm to check your BMI:\n",
    "\n",
    "- If BMI is lesser than 18.5, print \"Underweight\"\n",
    "- If BMI is between 18.5 (inclusive) and lesser than 25, print \"Normal\"  \n",
    "- If BMI is between 25 (inclusive) and lesser than 30,  print \"Overweight\"\n",
    "- If BMI is greater than 30, print \"Obese\"\n",
    "\n",
    "***You should have only 1 if keyword (elif is okay)***"
   ]
  },
  {
   "cell_type": "code",
   "execution_count": 4,
   "metadata": {},
   "outputs": [
    {
     "name": "stdout",
     "output_type": "stream",
     "text": [
      "Normal\n"
     ]
    }
   ],
   "source": [
    "BMI = 23\n",
    "\n",
    "# Code here\n",
    "if BMI > 30:\n",
    "    print(\"Obese\")\n",
    "elif 25<=BMI<30:\n",
    "    print(\"Overweight\")\n",
    "elif 18.5<=BMI<25:\n",
    "    print(\"Normal\")\n",
    "else:\n",
    "    print(\"Underweight\")\n"
   ]
  },
  {
   "cell_type": "markdown",
   "metadata": {},
   "source": [
    "### Question 2\n",
    "\n",
    "Given the following 2 dictionaries, find the total number of views then create a <b>new dictionary</b> called `summary_data` and print the dictionary.\n",
    "\n",
    "**Expected Output**:\n",
    "\n",
    "    {\n",
    "        'all_views': 104600\n",
    "    }"
   ]
  },
  {
   "cell_type": "code",
   "execution_count": 4,
   "metadata": {},
   "outputs": [
    {
     "name": "stdout",
     "output_type": "stream",
     "text": [
      "{'all_views': 7000}\n"
     ]
    }
   ],
   "source": [
    "baby_by_bieber = {\n",
    "    'views': 5600\n",
    "}\n",
    "\n",
    "yellow_coldplay = {\n",
    "    'views': 99000\n",
    "}\n",
    "summary_data = {\"all_views\": baby_by_bieber[\"views\"]+yellow_coldplay[\"views\"]}\n",
    "print(summary_data)"
   ]
  },
  {
   "cell_type": "markdown",
   "metadata": {},
   "source": [
    "## YouTube Data Analyst\n",
    "\n",
    "#### Context\n",
    "\n",
    "Right now, you are a data analyst at YouTube. You're working with a team to answer some simple analytics questions. Due to some buggy code written previously by an intern, it is now your job to debug the mistakes. At the same time, some old data has made its way into the production environment, and it is within your job scope to filter out those as well.\n",
    "\n",
    "The following cell shows a snippet of code that an intern has written previously, and the definitions for each of the key-value pairs are described as per below.\n",
    "\n",
    "|Keys:| <center>`\"title\"` </center>       |<center> `\"company\"`</center> | <center> `\"views\"`</center>  | \n",
    "|:---| :----------- |:----------------- | :----- | \n",
    "|<b>Value:</b>| Title of the video ad  <br><br><center>e.g.</center><br><center>`\"Title A\"` </center>     | Company name <br><br><center>e.g.</center><br> <center>`\"Company A\"`</center> | Number of video views<br><br><center>e.g.</center><br><center> `1000`</center>|\n",
    "\n",
    "<br>\n",
    "\n",
    "<font color='red'><b>Remember to run the code snippet below with `CTRL-ENTER` or `SHIFT-ENTER` or `SHIFT-RETURN` by clicking the run button above to initialise the variables.</b></font>\n"
   ]
  },
  {
   "cell_type": "code",
   "execution_count": 6,
   "metadata": {},
   "outputs": [],
   "source": [
    "video_ad_1 = {\n",
    "    \"title\": \"Healthy Living\", \n",
    "    \"company\": \"Health Promotion Board\", \n",
    "    \"views\": 65423\n",
    "}\n",
    "\n",
    "video_ad_2 = {\n",
    "    \"title\": \"Get a ride, anytime anywhere\", \n",
    "    \"company\": \"GoJek\", \n",
    "    \"views\": 54323\n",
    "}\n",
    "\n",
    "video_ad_3 = {\n",
    "    \"title\": \"Send money to your friends with GrabPay\", \n",
    "    \"company\": \"Grab\", \n",
    "    \"views\": 654306\n",
    "}\n",
    "\n",
    "video_ad_4 = {\n",
    "    \"title\": \"GrabEat now delivers nationwide\", \n",
    "    \"company\": \"Grab\", \n",
    "    \"views\": 5123\n",
    "}\n",
    "\n",
    "video_ad_5 = {\n",
    "    \"title\": \"Get cabs now with GoJekFlash\", \n",
    "    \"company\": \"GoJek\", \n",
    "    \"views\": 62353\n",
    "}"
   ]
  },
  {
   "cell_type": "markdown",
   "metadata": {},
   "source": [
    "### Question 3\n",
    "\n",
    "Find and print out the total views of all the videos provided above. You are to use index key method of the dictionaries to **extract** the data and aggregate total views. Make sure you **do not hard-code the answers**.\n",
    "\n",
    "**Example of hard-coding:**\n",
    "```python\n",
    "# This is hard-coding, and should not be done\n",
    "print(65423 + 54323 + 654306 + 5123 + 62353)\n",
    "```\n",
    "\n",
    "**Expected output:**\n",
    "```python\n",
    "841528\n",
    "```"
   ]
  },
  {
   "cell_type": "code",
   "execution_count": 7,
   "metadata": {},
   "outputs": [
    {
     "name": "stdout",
     "output_type": "stream",
     "text": [
      "841528\n"
     ]
    }
   ],
   "source": [
    "total_views = video_ad_1[\"views\"]+video_ad_2[\"views\"]+video_ad_3[\"views\"]+video_ad_4[\"views\"]+video_ad_5[\"views\"]\n",
    "print(total_views)"
   ]
  },
  {
   "cell_type": "markdown",
   "metadata": {},
   "source": [
    "### Question 4\n",
    "\n",
    "**A Company and Views Database doesn't exists. Create a NEW dictionary that stores the total views of videos for each unique company**, and print the dictionary. You are to use the key-value pair of the dictionaries to access the data, and to add up the total views.\n",
    "\n",
    "Make sure you **do not hard-code the answers**\n",
    "\n",
    "**Example of hard-coding:**\n",
    "```python\n",
    "# This is hard-coding, and should not be done\n",
    "views_dict = {}\n",
    "views_dict = {\"Health Promotion Board\": 65423, \"GoJek\": 54323 + 62353, \"Grab\": 654306 + 5123}\n",
    "print(views_dict)\n",
    "```\n",
    "The above will give you the right answer, but that is not how we want you to do it. In the above method, if the data in the original dictionary is changed, that means we have to change our calculations. We want our method to be dynamic!\n",
    "\n",
    "\n",
    "**Expected output:**\n",
    "```python\n",
    "{'Health Promotion Board': 65423, 'GoJek': 116676, 'Grab': 659429}\n",
    "```\n",
    "\n",
    "**Hint:**\n",
    "```python\n",
    "views_dict = {}\n",
    "views_dict[\"GoJek\"] = video_ad_2[\"views\"] + ... + ...\n",
    "print(views_dict)\n",
    "```\n"
   ]
  },
  {
   "cell_type": "code",
   "execution_count": 9,
   "metadata": {},
   "outputs": [
    {
     "name": "stdout",
     "output_type": "stream",
     "text": [
      "{'Health Promotion Board': 65423, 'Gojek': 116676, 'Grab': 659429}\n"
     ]
    }
   ],
   "source": [
    "views_dict={}\n",
    "views_dict[\"Health Promotion Board\"]=video_ad_1[\"views\"]\n",
    "views_dict[\"Gojek\"]=video_ad_2[\"views\"]+video_ad_5[\"views\"]\n",
    "views_dict[\"Grab\"]=video_ad_3[\"views\"]+video_ad_4[\"views\"]\n",
    "print(views_dict)"
   ]
  },
  {
   "cell_type": "markdown",
   "metadata": {},
   "source": [
    "### Question 5\n",
    "\n",
    "The following represents a <b>list of dictionaries</b>. Each dictionary represents a video advertisement and its respective view numbers. Unfortunately, these advertisements are more than a year old, and YouTube is not interested in performing analysis for these older videos.\n",
    "\n",
    "Remove the 2 old videos from the variable `video_ads_list` by the use of the <b>`del`</b> function, and print the resulting `video_ads_list` variable.\n",
    "\n",
    "Make sure you **do not hard-code the answers**\n",
    "\n",
    "**Example of hard-coding:**\n",
    "```python\n",
    "# This is hard-coding, and should not be done\n",
    "video_ads_list = []\n",
    "print(video_ads_list)\n",
    "```\n",
    "\n",
    "**Expected output:**\n",
    "```python\n",
    "[]\n",
    "```"
   ]
  },
  {
   "cell_type": "code",
   "execution_count": 20,
   "metadata": {},
   "outputs": [
    {
     "name": "stdout",
     "output_type": "stream",
     "text": [
      "[]\n"
     ]
    }
   ],
   "source": [
    "video_ads_list = [\n",
    "    {\"title\": \"Get the newest iPhone 6\", \"company\": \"Apple\", \"views\": 389824},\n",
    "    {\"title\": \"Samsung Galaxy S2 out now!\", \"company\": \"Saumsung\", \"views\": 230123}\n",
    "]\n",
    "\n",
    "# write some code below to show us how you would clean out this list with the use of del function\n",
    "del video_ads_list[:]           # or del video_ads_list[0] twice\n",
    "print(video_ads_list)"
   ]
  },
  {
   "cell_type": "markdown",
   "metadata": {},
   "source": [
    "### Question 6\n",
    "\n",
    "After cleaning out the above `video_ads_list` list, now we want to add in the newer videos (variables declared in part 1) e.g. `video_ad_1`, `video_ad_2` etc...\n",
    "\n",
    "Your task is to add all the newer videos into the variable `video_ads_list` by the use of the `.append()` function, and to print out the resulting `video_ads_list` variable. <b>Recall that you have already created 5 video_ads in the cells above. </b>\n",
    "\n",
    "Make sure you **do not hard-code the answers**\n",
    "\n",
    "**Example of hard-coding:**\n",
    "```python\n",
    "# This is hard-coding, and should not be done\n",
    "video_ads_list = [\n",
    "    {\"title\": \"Healthy Living\", \"company\": \"Health Promotion Board\", \"views\": 65423}, \n",
    "    {\"title\": \"Get a ride, anytime anywhere\", \"company\": \"GoJek\", \"views\": 54323}\n",
    "]\n",
    "print(video_ads_list)\n",
    "```\n",
    "\n",
    "**Expected output:**\n",
    "```python\n",
    "[\n",
    " {'title': 'Healthy Living', 'company': 'Health Promotion Board','views': 65423},\n",
    " {'title': 'Get a ride, anytime anywhere', 'company': 'GoJek', 'views': 54323},\n",
    " {'title': 'Send money to your friends with GrabPay', 'company': 'Grab', 'views': 654306},\n",
    " {'title': 'GrabEat now delivers nationwide', 'company': 'Grab', 'views': 5123},\n",
    " {'title': 'Get cabs now with GoJekFlash', 'company': 'GoJek', 'views': 62353}\n",
    "]\n",
    "```"
   ]
  },
  {
   "cell_type": "code",
   "execution_count": 22,
   "metadata": {},
   "outputs": [
    {
     "name": "stdout",
     "output_type": "stream",
     "text": [
      "[{'title': 'Healthy Living', 'company': 'Health Promotion Board', 'views': 65423}, {'title': 'Get a ride, anytime anywhere', 'company': 'GoJek', 'views': 54323}, {'title': 'Send money to your friends with GrabPay', 'company': 'Grab', 'views': 654306}, {'title': 'GrabEat now delivers nationwide', 'company': 'Grab', 'views': 5123}, {'title': 'Get cabs now with GoJekFlash', 'company': 'GoJek', 'views': 62353}]\n"
     ]
    }
   ],
   "source": [
    "video_ads_list.append(video_ad_1)\n",
    "video_ads_list.append(video_ad_2)\n",
    "video_ads_list.append(video_ad_3)\n",
    "video_ads_list.append(video_ad_4)\n",
    "video_ads_list.append(video_ad_5)\n",
    "print(video_ads_list)"
   ]
  },
  {
   "cell_type": "markdown",
   "metadata": {},
   "source": [
    "### Question 7\n",
    "\n",
    "After having created a list of videos stored inside of `video_ads_list`, we want to finalise these videos and ensure that no modifications can be done to the list. We want to pass the data to another data analyst, and prevent future newbies from altering the list of video ads.\n",
    "\n",
    "Based on your understanding, you know that tuples are able to store immutable data. This means that you cannot modify the data stored inside of tuples. As such, you intend to store a **`tuple` filled with the video ads** instead.\n",
    "\n",
    "Your task is to add all the videos printed earlier into a tuple variable `video_ads` and to print out the resulting `video_ads` variable. In order to do this, you have no choice but to hard-code the answer.\n",
    "\n",
    "**Example of how to proceed:**\n",
    "```python\n",
    "video_ads_list = (\n",
    "    {\"title\": \"Healthy Living\", \"company\": \"Health Promotion Board\", \"views\": 65423}, \n",
    "    {\"title\": \"Get a ride, anytime anywhere\", \"company\": \"GoJek\", \"views\": 54323}\n",
    ")\n",
    "print(video_ads_list)\n",
    "```\n",
    "\n",
    "**Expected output:**\n",
    "```python\n",
    "    (\n",
    "        {\n",
    "            \"title\": \"Healthy Living\", \n",
    "            \"company\": \"Health Promotion Board\", \n",
    "            \"views\": 65423\n",
    "        }, \n",
    "        {\n",
    "            \"title\": \"Get a ride, anytime anywhere\", \n",
    "            \"company\": \"GoJek\", \n",
    "            \"views\": 54323\n",
    "        }\n",
    "        ...\n",
    "    )\n",
    "```\n",
    "\n",
    "The reason why you have to hard-code this answer is primarily because tuples are immutable. Once you create the tuple, there's no way to add or remove from the tuple."
   ]
  },
  {
   "cell_type": "code",
   "execution_count": 25,
   "metadata": {},
   "outputs": [
    {
     "name": "stdout",
     "output_type": "stream",
     "text": [
      "({'title': 'Healthy Living', 'company': 'Health Promotion Board', 'views': 65423}, {'title': 'Get a ride, anytime anywhere', 'company': 'GoJek', 'views': 54323}, {'title': 'Send money to your friends with GrabPay', 'company': 'Grab', 'views': 654306}, {'title': 'GrabEat now delivers nationwide', 'company': 'Grab', 'views': 5123}, {'title': 'Get cabs now with GoJekFlash', 'company': 'GoJek', 'views': 62353})\n"
     ]
    }
   ],
   "source": [
    "video_ads = (\n",
    "{'title': 'Healthy Living', 'company': 'Health Promotion Board','views': 65423},\n",
    " {'title': 'Get a ride, anytime anywhere', 'company': 'GoJek', 'views': 54323},\n",
    " {'title': 'Send money to your friends with GrabPay', 'company': 'Grab', 'views': 654306},\n",
    " {'title': 'GrabEat now delivers nationwide', 'company': 'Grab', 'views': 5123},\n",
    " {'title': 'Get cabs now with GoJekFlash', 'company': 'GoJek', 'views': 62353}\n",
    ")\n",
    "print(video_ads)"
   ]
  },
  {
   "cell_type": "markdown",
   "metadata": {},
   "source": [
    "### Question 8\n",
    "After having created a `tuple` variable `video_ads`, we want to find out how much we should be paid for each video (since YouTube charge for advertising). Let's create a payment model to calculate the the amount paid to us for each video \n",
    "\n",
    "**Here are the rules for the payment model:**\n",
    "\n",
    "- If there are fewer than 10,000 views, each view is charged at \\$0.82 each\n",
    "- If there are fewer than 50,000 views but more than or equal to 10,000 views, each view is charged at \\$0.68 each\n",
    "- If there are more than or equal to 50,000 views, each view is charged at \\$0.55 each\n",
    "\n",
    "Make use of `if-elif-else` conditions to solve this problem, and get the final amount paid for each video.\n",
    "\n",
    "**If you find yourself repeating the same logic many times, try copy-pasting your codes but changing the index.**\n",
    "\n",
    "**Expected output:**\n",
    "```\n",
    "Healthy Living: $35982.65\n",
    "Get a ride, anytime anywhere: $29877.65\n",
    "Send money to your friends with GrabPay: $359868.30000000005\n",
    "GrabEat now delivers nationwide: $4200.86\n",
    "Get cabs now with GoJekFlash: $34294.15\n",
    "```"
   ]
  },
  {
   "cell_type": "code",
   "execution_count": 42,
   "metadata": {},
   "outputs": [
    {
     "name": "stdout",
     "output_type": "stream",
     "text": [
      "Healthy Living : $ 35982.65\n",
      "Get a ride, anytime anywhere : $ 29877.65\n",
      "Send money to your friends with GrabPay : $ 359868.30000000005\n",
      "GrabEat now delivers nationwide : $ 4200.86\n",
      "Get cabs now with GoJekFlash : $ 34294.15\n"
     ]
    }
   ],
   "source": [
    "name=video_ads[0][\"title\"]\n",
    "if video_ads[0][\"views\"] >50000:\n",
    "    amount=video_ads[0][\"views\"]*0.55\n",
    "    print(name,\": $\",amount)\n",
    "elif 10000<=video_ads[0][\"views\"]<50000:\n",
    "    amount=video_ads[0][\"views\"]*0.68\n",
    "    print(name,\": $\",amount)\n",
    "else:\n",
    "    amount=video_ads[0][\"views\"]*0.82\n",
    "    print(name,\": $\",amount)\n",
    "name=video_ads[1][\"title\"]\n",
    "if video_ads[1][\"views\"] >50000:\n",
    "    amount=video_ads[1][\"views\"]*0.55\n",
    "    print(name,\": $\",amount)\n",
    "elif 10000<=video_ads[1][\"views\"]<50000:\n",
    "    amount=video_ads[1][\"views\"]*0.68\n",
    "    print(name,\": $\",amount)\n",
    "else:\n",
    "    amount=video_ads[1][\"views\"]*0.82\n",
    "    print(name,\": $\",amount)\n",
    "name=video_ads[2][\"title\"]\n",
    "if video_ads[2][\"views\"] >50000:\n",
    "    amount=video_ads[2][\"views\"]*0.55\n",
    "    print(name,\": $\",amount)\n",
    "elif 10000<=video_ads[2][\"views\"]<50000:\n",
    "    amount=video_ads[2][\"views\"]*0.68\n",
    "    print(name,\": $\",amount)\n",
    "else:\n",
    "    amount=video_ads[2][\"views\"]*0.82\n",
    "    print(name,\": $\",amount)\n",
    "name=video_ads[3][\"title\"]\n",
    "if video_ads[3][\"views\"] >50000:\n",
    "    amount=video_ads[3][\"views\"]*0.55\n",
    "    print(name,\": $\",amount)\n",
    "elif 10000<=video_ads[3][\"views\"]<50000:\n",
    "    amount=video_ads[3][\"views\"]*0.68\n",
    "    print(name,\": $\",amount)\n",
    "else:\n",
    "    amount=video_ads[3][\"views\"]*0.82\n",
    "    print(name,\": $\",amount)\n",
    "name=video_ads[4][\"title\"]\n",
    "if video_ads[4][\"views\"] >50000:\n",
    "    amount=video_ads[4][\"views\"]*0.55\n",
    "    print(name,\": $\",amount)\n",
    "elif 10000<=video_ads[4][\"views\"]<50000:\n",
    "    amount=video_ads[4][\"views\"]*0.68\n",
    "    print(name,\": $\",amount)\n",
    "else:\n",
    "    amount=video_ads[4][\"views\"]*0.82\n",
    "    print(name,\": $\",amount)\n",
    "\n",
    "    \n",
    "        \n",
    "\n",
    "\n",
    "    "
   ]
  },
  {
   "cell_type": "markdown",
   "metadata": {},
   "source": [
    "## Debugging\n",
    "##### YOUTUBE ENGAGEMENT RATE\n",
    "One of the common metrics used to evaluate YouTube channel success is the engagement rate (formula given below). \n",
    "<div class=\"alert alert-block alert-info\"><center>engagement_rate = video_comments/video_views\n",
    " </center></div>"
   ]
  },
  {
   "cell_type": "markdown",
   "metadata": {},
   "source": [
    "### Question 9\n",
    "Another newbie to programming wrote the following piece of code to calculate the engagement rate of all videos in the database. However, her codes were met with syntax, logic bugs and exceptions. \n",
    "\n",
    "**Expected output**: \n",
    "\n",
    "    Total engagement rate is: 0.05202821869488536\n",
    "    \n",
    "Debug the following code for her."
   ]
  },
  {
   "cell_type": "code",
   "execution_count": 53,
   "metadata": {},
   "outputs": [
    {
     "name": "stdout",
     "output_type": "stream",
     "text": [
      "Total engagement rate is 0.05202821869488536\n"
     ]
    }
   ],
   "source": [
    "all_videos = [\n",
    "    {\n",
    "        'title':'Kitchen Nightmares',\n",
    "        'views': 45000,\n",
    "        'comments': 2300 \n",
    "    },\n",
    "    {\n",
    "        'title':'Overcooked Nightmares',\n",
    "        'views': 65000,\n",
    "        'comments': 3400\n",
    "    },\n",
    "    {\n",
    "        'title':'Cooking Mama',\n",
    "        'views': 3400,      \n",
    "        'comments': 200\n",
    "    }\n",
    "]\n",
    "\n",
    "all_views = all_videos[0]['views'] + all_videos[1]['views'] + all_videos[2]['views']\n",
    "all_comments = all_videos[0]['comments'] + all_videos[1]['comments'] + all_videos[2]['comments']\n",
    "\n",
    "print(\"Total engagement rate is\", all_comments/all_views) "
   ]
  },
  {
   "cell_type": "markdown",
   "metadata": {},
   "source": [
    "### Question 10\n",
    "Another newbie to programming wrote the following piece of code to check if one video has higher views than the other. However, him codes were met with syntax, logic bugs and exceptions. \n",
    "\n",
    "**Expected output**: \n",
    "\n",
    "\n",
    "    pompen has more views than purple rain\n",
    "\n",
    "Debug the following code for him."
   ]
  },
  {
   "cell_type": "code",
   "execution_count": 2,
   "metadata": {},
   "outputs": [
    {
     "name": "stdout",
     "output_type": "stream",
     "text": [
      "pompen has more views than purple rain\n"
     ]
    }
   ],
   "source": [
    "videos =[ \n",
    "    { \n",
    "    'purple rain' : 7800,\n",
    "    'pompen' : 12000\n",
    "    }\n",
    "]\n",
    "\n",
    "purple_rain_views = videos[0]['purple rain']\n",
    "pompen_views = videos[0]['pompen']\n",
    "    \n",
    "if purple_rain_views> pompen_views:\n",
    "    print(\"purple rain has more views than pompen\") \n",
    "else: \n",
    "    print(\"pompen has more views than purple rain\")"
   ]
  },
  {
   "cell_type": "code",
   "execution_count": null,
   "metadata": {},
   "outputs": [],
   "source": []
  },
  {
   "cell_type": "code",
   "execution_count": null,
   "metadata": {},
   "outputs": [],
   "source": []
  },
  {
   "cell_type": "code",
   "execution_count": null,
   "metadata": {},
   "outputs": [],
   "source": []
  },
  {
   "cell_type": "code",
   "execution_count": null,
   "metadata": {},
   "outputs": [],
   "source": []
  }
 ],
 "metadata": {
  "kernelspec": {
   "display_name": "Python 3",
   "language": "python",
   "name": "python3"
  },
  "language_info": {
   "codemirror_mode": {
    "name": "ipython",
    "version": 3
   },
   "file_extension": ".py",
   "mimetype": "text/x-python",
   "name": "python",
   "nbconvert_exporter": "python",
   "pygments_lexer": "ipython3",
   "version": "3.7.3"
  }
 },
 "nbformat": 4,
 "nbformat_minor": 2
}
