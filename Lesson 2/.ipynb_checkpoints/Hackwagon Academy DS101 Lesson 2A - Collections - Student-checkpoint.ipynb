{
 "cells": [
  {
   "cell_type": "markdown",
   "metadata": {},
   "source": [
    "<center><img src=\"https://i2.wp.com/hackwagon.com/wp-content/uploads/2017/02/Logo-Web-Export.png?ssl=1\" width=200/></center>\n",
    "<h1> Hackwagon Academy DS101 Lesson 2A </h1>\n",
    "<h2> Lists & Dictionaries</h2> \n",
    "<h3> Lesson Outline </h3>\n",
    "\n",
    "- 1. [Recap](#1)\n",
    "- 2. [Collections](#2)\n",
    "- 3. [Lists](#3)\n",
    "    - [Practice I](#P1)\n",
    "    - 3.1 [Nested Lists](#2.1)\n",
    "    - [Practice II](#P2)\n",
    "- 4. [Tuples](#3)\n",
    "- 5. [Dictionaries](#3)\n",
    "    - [Practice III](#P3)\n",
    "    - [Difference between Lists and Dictionaries](#3.1)\n",
    "    - 5.1 [Dictionary Keys Are Unique](#5.1)\n",
    "- 4. [Nested Collections](#4)\n",
    "- 5. [Which Collection to Use?](#5)\n",
    "-    [Summary of Important Functions](#S)"
   ]
  },
  {
   "cell_type": "markdown",
   "metadata": {},
   "source": [
    "<a id='1'><h2><img src=\"https://images.vexels.com/media/users/3/153978/isolated/preview/483ef8b10a46e28d02293a31570c8c56-warning-sign-colored-stroke-icon-by-vexels.png\" width=23 align=\"left\"><font color=\"salmon\">&nbsp;1.</font><font color=\"salmon\"> Recap </font> </h2></a>\n",
    "\n",
    "#### Variables & Data Types\n",
    "\n",
    "|Use|Type|Example|\n",
    "|---|---|---|\n",
    "|Numbers|`int`,`float`|`int` - `5` <br> `float` - `5.0`|\n",
    "|Text|`str`|`\"Hackwagon\"`|\n",
    "|Yes/No|`bool`|`True` <br> `False`|\n",
    "|Collection of Values|`list`|`[1,2,3,4]`|\n",
    "|Collection of Values|`dict`|`{\"a\":1, \"b\":2}`|"
   ]
  },
  {
   "cell_type": "code",
   "execution_count": 1,
   "metadata": {},
   "outputs": [
    {
     "name": "stdout",
     "output_type": "stream",
     "text": [
      "50\n"
     ]
    }
   ],
   "source": [
    "# Variable Names\n",
    "# Anything in black is a variable\n",
    "name = \"Hackwagon\"\n",
    "\n",
    "# Data Types\n",
    "# green numbers are numeric values\n",
    "# red is a string\n",
    "x = 10\n",
    "y = 10.2\n",
    "name = \"Hackwagon\" \n",
    "\n",
    "# Reserved Keywords\n",
    "# Green words are reserved keywords\n",
    "# print = 10\n",
    "sum\n",
    "\n",
    "# Type Conversion\n",
    "per_hour = '10'\n",
    "hours = 5\n",
    "total = per_hour * hours\n",
    "print(total)"
   ]
  },
  {
   "cell_type": "markdown",
   "metadata": {},
   "source": [
    "#### Functions of Data Types\n",
    "Let's contextual data types and their functions. Imagine in the animal kingdom, each animal has their own set of functions and how is it that they use those functions. \n",
    "\n",
    "Same for programming, each data type are like an animal with their own set for functions.\n",
    "\n",
    "How we use these functions is as follows: \n",
    "    \n",
    "    <data type> . <function> ( <input if any> ) "
   ]
  },
  {
   "cell_type": "code",
   "execution_count": 1,
   "metadata": {},
   "outputs": [
    {
     "name": "stdout",
     "output_type": "stream",
     "text": [
      "hello there\n"
     ]
    }
   ],
   "source": [
    "string =\"HeLlo ThErE\"\n",
    "lower_string=string.lower()\n",
    "print(lower_string)\n"
   ]
  },
  {
   "cell_type": "markdown",
   "metadata": {},
   "source": [
    "<a id='2'><h2><img src=\"https://images.vexels.com/media/users/3/153978/isolated/preview/483ef8b10a46e28d02293a31570c8c56-warning-sign-colored-stroke-icon-by-vexels.png\" width=23 align=\"left\"><font color=\"salmon\">&nbsp;2.</font><font color=\"salmon\"> Collections </font> </h2></a>\n",
    "\n",
    "Collections are data types that hold many values together in one variable. For example,\n",
    "\n",
    "```python\n",
    "despacito = 15000\n",
    "see_you_again = 5000\n",
    "im_yours = 3000\n",
    "```\n",
    "\n",
    "We use <b>Collections</b> to store these 3 variables into one convenient package. The 4 commonly used collections are: \n",
    "    \n",
    "* strings (collection of characters) <i>covered earlier</i>\n",
    "* lists (collection of values)\n",
    "* tuples (collection of values)\n",
    "* dictionaries (collection of key value pairs) <i>covered next lesson</i>\n",
    "\n",
    "| Collection Type | Brackets | \n",
    "| - | - |\n",
    "| Strings | `\" \"` or `' '` |\n",
    "| Lists | `[ ]` |\n",
    "| Tuples | `( )` |\n",
    "| Dictionary | `{ }` |"
   ]
  },
  {
   "cell_type": "markdown",
   "metadata": {},
   "source": [
    "<a id='3'><h2><img src=\"https://images.vexels.com/media/users/3/153978/isolated/preview/483ef8b10a46e28d02293a31570c8c56-warning-sign-colored-stroke-icon-by-vexels.png\" width=23 align=\"left\"><font color=\"salmon\">&nbsp;3.</font><font color=\"salmon\"> Lists </font> </h2></a>\n",
    "\n",
    "`Lists` allow us to hold **multiple values** in a single container. This effectively gives us a single point of reference -- rather than having 1 million variables to capture 1 million different values, we can use a single `list` to store them!\n",
    "\n",
    "\n",
    "<img src=\"https://i.imgur.com/PPW0OBb.png\" width=500 align=\"center\">\n"
   ]
  },
  {
   "cell_type": "code",
   "execution_count": 77,
   "metadata": {},
   "outputs": [
    {
     "name": "stdout",
     "output_type": "stream",
     "text": [
      "[15000, 5000, 3000]\n"
     ]
    }
   ],
   "source": [
    "despacito = 15000\n",
    "see_you_again = 5000\n",
    "im_yours = 3000\n",
    "\n",
    "# List Example\n",
    "\n",
    "views_1= [15000,5000,3000]\n",
    "views = [despacito,see_you_again,im_yours]           #same result, does not matter which one\n",
    "print(views)"
   ]
  },
  {
   "cell_type": "markdown",
   "metadata": {},
   "source": [
    "**Accessing `elements` in a list**\n",
    "- Single element (with `indexing`)\n",
    "- A sub-list (with `slicing`)\n",
    "    \n",
    "_Just like a string!_"
   ]
  },
  {
   "cell_type": "code",
   "execution_count": 81,
   "metadata": {},
   "outputs": [
    {
     "name": "stdout",
     "output_type": "stream",
     "text": [
      "third letter is C\n",
      "last three letters are ['D', 'E', 'F']\n"
     ]
    }
   ],
   "source": [
    "new_list = ['A', 'B', 'C', 'D', 'E', 'F']\n",
    "\n",
    "print(\"third letter is\", new_list[2])\n",
    "print(\"last three letters are\", new_list[3:])"
   ]
  },
  {
   "cell_type": "markdown",
   "metadata": {},
   "source": [
    "**Changing an `element` in a list**"
   ]
  },
  {
   "cell_type": "code",
   "execution_count": 9,
   "metadata": {},
   "outputs": [
    {
     "name": "stdout",
     "output_type": "stream",
     "text": [
      "['A', 'B', 'C', 'D', 'e', 'F']\n"
     ]
    }
   ],
   "source": [
    "new_string = \"ABCDEF\"\n",
    "new_list = ['A', 'B', 'C', 'D', 'E', 'F']\n",
    "\n",
    "#new_string[4] = \"e\"           #will get a type error. string cannot be changed\n",
    "new_list[4] = \"e\"\n",
    "print(new_list)"
   ]
  },
  {
   "cell_type": "markdown",
   "metadata": {},
   "source": [
    "**Check if value exists in a list - `in`**"
   ]
  },
  {
   "cell_type": "code",
   "execution_count": 12,
   "metadata": {},
   "outputs": [
    {
     "name": "stdout",
     "output_type": "stream",
     "text": [
      "False\n",
      "True\n"
     ]
    }
   ],
   "source": [
    "new_list = ['A', 'B', 'C', 'D', 'E', 'F']\n",
    "\n",
    "print(\"Z\"in new_list)\n",
    "print(\"A\"in new_list)"
   ]
  },
  {
   "cell_type": "markdown",
   "metadata": {},
   "source": [
    "**Number of items in a list - `len()`**\n",
    "\n",
    "_Similar to Excel count function_"
   ]
  },
  {
   "cell_type": "code",
   "execution_count": 13,
   "metadata": {},
   "outputs": [
    {
     "name": "stdout",
     "output_type": "stream",
     "text": [
      "6\n"
     ]
    }
   ],
   "source": [
    "new_list = ['A', 'B', 'C', 'D', 'E', 'F']\n",
    "print(len(new_list))\n"
   ]
  },
  {
   "cell_type": "markdown",
   "metadata": {},
   "source": [
    "**Adding elements to a list - `.append()`**\n",
    "\n",
    "Adds an element to the list to end back of the list."
   ]
  },
  {
   "cell_type": "code",
   "execution_count": 15,
   "metadata": {},
   "outputs": [
    {
     "name": "stdout",
     "output_type": "stream",
     "text": [
      "ABCDEFG\n",
      "['A', 'B', 'C', 'D', 'E', 'F', 'G']\n"
     ]
    }
   ],
   "source": [
    "new_list = ['A', 'B', 'C', 'D', 'E', 'F']\n",
    "new_string= \"ABCDEF\"\n",
    "\n",
    "new_string+= \"G\"\n",
    "print(new_string)\n",
    "\n",
    "new_list.append(\"G\")\n",
    "print(new_list)\n"
   ]
  },
  {
   "cell_type": "markdown",
   "metadata": {},
   "source": [
    "**Removing a value from a list - `.remove()`**\n",
    "\n",
    "The `.remove()` function removes the very first instance of <b>a given value</b>, from left to right of the list; index 0 to the last index of a list.\n",
    "\n",
    "Using the `.remove()` function, remove the number `4` from `data`.\n",
    "\n",
    "<b>Expected output</b>: \n",
    "    \n",
    "    [1,2,3,8,7,10,9]"
   ]
  },
  {
   "cell_type": "code",
   "execution_count": 16,
   "metadata": {},
   "outputs": [
    {
     "name": "stdout",
     "output_type": "stream",
     "text": [
      "[1, 2, 3, 8, 7, 10, 9]\n"
     ]
    }
   ],
   "source": [
    "new_list = [1,2,3,8,4,7,10,9]\n",
    "\n",
    "new_list.remove(4)\n",
    "print(new_list)"
   ]
  },
  {
   "cell_type": "markdown",
   "metadata": {},
   "source": [
    "**Deleting by index - `del`**\n",
    "\n",
    "The <font color='green'><b>del</b></font> function removes a value based on its <b>index</b> \n",
    "\n"
   ]
  },
  {
   "cell_type": "code",
   "execution_count": 17,
   "metadata": {},
   "outputs": [
    {
     "name": "stdout",
     "output_type": "stream",
     "text": [
      "['A', 'B', 'D', 'E', 'F']\n"
     ]
    }
   ],
   "source": [
    "new_list = ['A', 'B', 'C', 'D', 'E', 'F']\n",
    "del new_list[2]              #del is a darker green indicating its a command not really a function. function is lite green\n",
    "print(new_list)"
   ]
  },
  {
   "cell_type": "markdown",
   "metadata": {},
   "source": [
    "##### `sorted()`\n",
    "The `sorted` function sorts values in a list in ascending order and gives a new list of sorted values. \n",
    "\n",
    "Sort `data` in a <b>descending order</b> to get our final data list.\n",
    "\n",
    "<b>Expected output</b> \n",
    "    \n",
    "    [10, 9, 8, 3, 2, 1]"
   ]
  },
  {
   "cell_type": "code",
   "execution_count": 46,
   "metadata": {},
   "outputs": [
    {
     "name": "stdout",
     "output_type": "stream",
     "text": [
      "[10, 9, 8, 3, 2, 1]\n"
     ]
    }
   ],
   "source": [
    "#code below\n",
    "data = [1,2,3,8,10,9]\n",
    "\n",
    "sorted_data = sorted(data, reverse = True)          #default for sort is ascending order sorted(data, reverse = True/False)\n",
    "print(sorted_data)"
   ]
  },
  {
   "cell_type": "markdown",
   "metadata": {},
   "source": [
    "<a id='P1'><h2> <img src=\"https://cdn.shopify.com/s/files/1/1200/7374/products/book_aec28e76-52ec-44ab-bc01-41df1279c89f_550x825.png?v=1473897430\" width=25 align=\"left\"> <font color=\"darkorange\"> &nbsp; Practice I </font><font color=\"skyblue\"> * </font></h2></a>\n",
    "\n",
    "Complete the following questions to test your overall understanding on list functions:\n",
    "\n",
    "1. Create 2 lists:\n",
    "    \n",
    "    `x` with numbers `10` and `20` <br>`y` with numbers `30` and `40`\n",
    "    \n",
    "    \n",
    "2. Using `.append()`, add the 2 lists to a new list called `combi`\n",
    "3. With the `del` function, remove both lists\n",
    "\n",
    "You should have an **empty list** at the end of the practice."
   ]
  },
  {
   "cell_type": "code",
   "execution_count": 48,
   "metadata": {},
   "outputs": [
    {
     "name": "stdout",
     "output_type": "stream",
     "text": [
      "[10, 20]\n",
      "[30, 40]\n",
      "[[10, 20], [30, 40]]\n",
      "[]\n"
     ]
    }
   ],
   "source": [
    "#Qns 1\n",
    "x = [10,20]\n",
    "print(x)\n",
    "y= [30,40]\n",
    "print(y)\n",
    "#Qns 2\n",
    "combi = [] # do not remove this line\n",
    "combi.append(x)                  #if want to add more then one, cannot do in just one line, need to split\n",
    "combi.append(y)\n",
    "print(combi)\n",
    "#Qns 3\n",
    "del combi[:]                    # del combi[0]  and del combi[0] do it twice     # the best function > combi.clear\n",
    "print(combi)"
   ]
  },
  {
   "cell_type": "markdown",
   "metadata": {},
   "source": [
    "<a id='3.1'><h3>3.1 Nested List Concept</h3></a>\n",
    "\n",
    "During the later part of the course, we will encountering nested lists very often so this is a good opportunity to be exposed to this concept.\n",
    "\n",
    "As we showed above, we can have lists of numbers, lists of strings, and we can also have *lists of lists*.\n",
    "\n",
    "How to access the inner list elements?\n",
    "\n",
    "Say you needed to capture and process data of students in a given class:\n",
    "\n",
    "| Name | Student ID | Age |\n",
    "| - | - | - |\n",
    "| Alex | S3124 | 12 |\n",
    "| Bob | S3194 | 13 |\n",
    "| Cat | S0497 | 18 |"
   ]
  },
  {
   "cell_type": "code",
   "execution_count": 50,
   "metadata": {},
   "outputs": [
    {
     "name": "stdout",
     "output_type": "stream",
     "text": [
      "12\n",
      "S3214\n"
     ]
    }
   ],
   "source": [
    "data = [\n",
    "    # Col 0, Col 1, Col, 2\n",
    "    ['Alex', 'S3124', 12], # Row 0\n",
    "    ['Bob', 'S3194', 13], # Row 1\n",
    "    ['Cat', 'S0497', 18] # Row 2\n",
    "]\n",
    "\n",
    "# [Row][Col] do row first then column\n",
    "# How do we get Alex's age? row 0 column 2\n",
    "print(data[0][2])\n",
    "\n",
    "# How do we change Bob's Student ID?\n",
    "data[1][1]=\"S3214\"\n",
    "print(data[1][1])"
   ]
  },
  {
   "cell_type": "markdown",
   "metadata": {},
   "source": [
    "<a id='P2'><h2><img src=\"https://cdn.shopify.com/s/files/1/1200/7374/products/book_aec28e76-52ec-44ab-bc01-41df1279c89f_550x825.png?v=1473897430\" width=25 align=\"left\"> <font color=\"darkorange\"> &nbsp; Practice II </font><font color=\"skyblue\"> * </font></h2></a>\n",
    "\n",
    "We have a new record to add to `data`! Add the following new row to `data`.\n",
    "\n",
    "| Name | Student ID | Age |\n",
    "| - | - | - |\n",
    "| Dan | S0977 | 19 |\n",
    "\n",
    "So that it looks like this now: \n",
    "\n",
    "| Name | Student ID | Age |\n",
    "| - | - | - |\n",
    "| Alex | S3124 | 12 |\n",
    "| Bob | S3194 | 13 |\n",
    "| Cat | S0497 | 18 |\n",
    "| Dan | S0977 | 19 |\n",
    "\n",
    "_Hint: Use the `.append()` method._"
   ]
  },
  {
   "cell_type": "code",
   "execution_count": 52,
   "metadata": {},
   "outputs": [
    {
     "name": "stdout",
     "output_type": "stream",
     "text": [
      "[['Alex', 'S3124', 12], ['Bob', 'S3194', 13], ['Cat', 'S0497', 18], ['Dan', 'S0977', '19']]\n"
     ]
    },
    {
     "data": {
      "text/plain": [
       "[['Alex', 'S3124', 12],\n",
       " ['Bob', 'S3194', 13],\n",
       " ['Cat', 'S0497', 18],\n",
       " ['Dan', 'S0977', '19']]"
      ]
     },
     "metadata": {},
     "output_type": "display_data"
    }
   ],
   "source": [
    "data = [\n",
    "    ['Alex', 'S3124', 12],\n",
    "    ['Bob', 'S3194', 13],\n",
    "    ['Cat', 'S0497', 18]\n",
    "]\n",
    "\n",
    "# Your code here:\n",
    "dan = ['Dan', 'S0977', '19']\n",
    "data.append(dan)                   # or data.append (['Dan', 'S0977', '19'])\n",
    "print(data)\n",
    "display(data)                      #display is a jupyter notebook not python "
   ]
  },
  {
   "cell_type": "markdown",
   "metadata": {},
   "source": [
    "<a id='4'><h2><img src=\"https://images.vexels.com/media/users/3/153978/isolated/preview/483ef8b10a46e28d02293a31570c8c56-warning-sign-colored-stroke-icon-by-vexels.png\" width=23 align=\"left\"><font color=\"salmon\">&nbsp;4.</font><font color=\"salmon\"> Tuples </font> </h2></a>\n",
    "\n",
    "<b>Tuples</b> are just like <b>lists</b> but the only difference is that its' contents are <b>immutable</b>, meaning they cannot be altered in any way.\n",
    "\n",
    "They are represented by the brackets (parenthesis) - ` ( ) `"
   ]
  },
  {
   "cell_type": "markdown",
   "metadata": {},
   "source": [
    "#### Creating a tuple"
   ]
  },
  {
   "cell_type": "code",
   "execution_count": 54,
   "metadata": {},
   "outputs": [
    {
     "name": "stdout",
     "output_type": "stream",
     "text": [
      "(10, 20, 30)\n"
     ]
    }
   ],
   "source": [
    "my_tuple = (10,20,30)\n",
    "print(my_tuple)"
   ]
  },
  {
   "cell_type": "markdown",
   "metadata": {},
   "source": [
    "#### Accessing an `element` in a tuple\n",
    "\n",
    "This is same as accessing a character in a string or a list"
   ]
  },
  {
   "cell_type": "code",
   "execution_count": 55,
   "metadata": {},
   "outputs": [
    {
     "name": "stdout",
     "output_type": "stream",
     "text": [
      "10\n"
     ]
    }
   ],
   "source": [
    "print(my_tuple[0])"
   ]
  },
  {
   "cell_type": "markdown",
   "metadata": {},
   "source": [
    "#### Immutability Examples"
   ]
  },
  {
   "cell_type": "code",
   "execution_count": 57,
   "metadata": {},
   "outputs": [
    {
     "ename": "TypeError",
     "evalue": "'tuple' object does not support item assignment",
     "output_type": "error",
     "traceback": [
      "\u001b[1;31m---------------------------------------------------------------------------\u001b[0m",
      "\u001b[1;31mTypeError\u001b[0m                                 Traceback (most recent call last)",
      "\u001b[1;32m<ipython-input-57-4fb35e52245d>\u001b[0m in \u001b[0;36m<module>\u001b[1;34m\u001b[0m\n\u001b[0;32m      2\u001b[0m \u001b[0mx\u001b[0m \u001b[1;33m=\u001b[0m \u001b[1;33m(\u001b[0m\u001b[1;36m1\u001b[0m\u001b[1;33m,\u001b[0m\u001b[1;36m2\u001b[0m\u001b[1;33m,\u001b[0m\u001b[1;36m3\u001b[0m\u001b[1;33m,\u001b[0m\u001b[1;36m4\u001b[0m\u001b[1;33m)\u001b[0m\u001b[1;33m\u001b[0m\u001b[1;33m\u001b[0m\u001b[0m\n\u001b[0;32m      3\u001b[0m \u001b[1;33m\u001b[0m\u001b[0m\n\u001b[1;32m----> 4\u001b[1;33m \u001b[0mx\u001b[0m\u001b[1;33m[\u001b[0m\u001b[1;36m0\u001b[0m\u001b[1;33m]\u001b[0m \u001b[1;33m=\u001b[0m \u001b[1;36m10\u001b[0m    \u001b[1;31m# << Error\u001b[0m\u001b[1;33m\u001b[0m\u001b[1;33m\u001b[0m\u001b[0m\n\u001b[0m\u001b[0;32m      5\u001b[0m \u001b[0mx\u001b[0m\u001b[1;33m.\u001b[0m\u001b[0mappend\u001b[0m\u001b[1;33m(\u001b[0m\u001b[1;36m4\u001b[0m\u001b[1;33m)\u001b[0m  \u001b[1;31m# << Error\u001b[0m\u001b[1;33m\u001b[0m\u001b[1;33m\u001b[0m\u001b[0m\n",
      "\u001b[1;31mTypeError\u001b[0m: 'tuple' object does not support item assignment"
     ]
    }
   ],
   "source": [
    "# run this cell to see an error message\n",
    "x = (1,2,3,4)\n",
    "\n",
    "x[0] = 10    # << Error\n",
    "x.append(4)  # << Error"
   ]
  },
  {
   "cell_type": "markdown",
   "metadata": {},
   "source": [
    "<a id='5'><h2><img src=\"https://images.vexels.com/media/users/3/153978/isolated/preview/483ef8b10a46e28d02293a31570c8c56-warning-sign-colored-stroke-icon-by-vexels.png\" width=23 align=\"left\"><font color=\"salmon\">&nbsp;5.</font><font color=\"salmon\"> Dictionaries </font> </h2></a>\n",
    "\n",
    "We will now learn how to use a dictionary. Dictionaries are identified by their `{ }`. \n",
    "1. Create key-value pair\n",
    "2. Updating key-value pair\n",
    "3. Retrieving value from key-value pair\n",
    "4. Deleting key-value pair \n",
    "5. Check if key exists within a dictionary\n",
    "\n",
    "<h4> IN-CLASS EXAMPLE: DICTIONARY FUNCTIONS </h4>\n",
    "In this example below, we will go through a simple example of using dictionary as a database."
   ]
  },
  {
   "cell_type": "markdown",
   "metadata": {},
   "source": [
    "##### Creating key-value pair\n",
    "You need to upload 2 new videos into your `all_videos_database`. Create a new key-value pairs with the following information:\n",
    "    \n",
    "|<center>Keys: Video Title</center>| <center>Values: Views</center> | \n",
    "|:---| :----------- |\n",
    "|`\"Despacito\"`| `5500`|\n",
    "|`\"See You Again\"`| `12500`|\n",
    "\n",
    "<b> Expected output</b>:\n",
    "    \n",
    "    { \n",
    "        \"Gangnam Style\": 195000,\n",
    "        \"Despacito\": 5500,\n",
    "        \"See You Again\": 12500\n",
    "    }\n",
    "    "
   ]
  },
  {
   "cell_type": "code",
   "execution_count": 60,
   "metadata": {},
   "outputs": [
    {
     "name": "stdout",
     "output_type": "stream",
     "text": [
      "------ before ------\n",
      "{'Gangnam Style': 195000}\n",
      "------  after ------\n",
      "{'Gangnam Style': 195000, 'Despacito': 5500, 'See You Again': 12500}\n"
     ]
    }
   ],
   "source": [
    "print(\"------ before ------\")\n",
    "all_videos_database = { \n",
    "    \"Gangnam Style\": 195000 \n",
    "}\n",
    "print(all_videos_database)\n",
    "print(\"------  after ------\")\n",
    "#code below\n",
    "# <dictionary to update>[new_key] = new value\n",
    "# left side of = is the key\n",
    "# right side of = is the value\n",
    "all_videos_database['Despacito']=5500\n",
    "all_videos_database['See You Again']=12500\n",
    "print(all_videos_database)"
   ]
  },
  {
   "cell_type": "markdown",
   "metadata": {},
   "source": [
    "##### Retrieving value from key-value pair\n",
    "Vin Diesel wants to see how many views `See You Again` got.\n",
    "\n",
    "<b>Expected Output</b>:\n",
    "\n",
    "    12500"
   ]
  },
  {
   "cell_type": "code",
   "execution_count": 63,
   "metadata": {},
   "outputs": [
    {
     "name": "stdout",
     "output_type": "stream",
     "text": [
      "12500\n"
     ]
    }
   ],
   "source": [
    "#code below\n",
    "all_videos_database = { \n",
    "        \"Gangnam Style\": 195000,\n",
    "        \"Despacito\": 5500,\n",
    "        \"See You Again\": 12500\n",
    "}\n",
    "print(all_videos_database['See You Again'])             #key need to match exactly uppercase or lowercase\n",
    "\n"
   ]
  },
  {
   "cell_type": "markdown",
   "metadata": {},
   "source": [
    "##### Updating key-value pair\n",
    "Alexa has kept playing `Despacito`. `Despacito` views has now <b>increased</b> by 100000.\n",
    "\n",
    "**IMPORTANT**\n",
    "\n",
    "Creating and updating is the **same** syntax! So even if the key exists in the dictionary, it just replaces the value entirely. If it doesn't exist in the dictionary, it creates a new key-value pair entry. \n",
    "\n",
    "<b>Expected Output</b>:\n",
    "\n",
    "\n",
    "    { \n",
    "        \"Gangnam Style\": 195000,\n",
    "        \"Despacito\": 105500,\n",
    "        \"See You Again\": 12500\n",
    "    }"
   ]
  },
  {
   "cell_type": "code",
   "execution_count": 66,
   "metadata": {},
   "outputs": [
    {
     "name": "stdout",
     "output_type": "stream",
     "text": [
      "------ before ------\n",
      "{'Gangnam Style': 195000, 'Despacito': 5500, 'See You Again': 12500}\n",
      "------  after ------\n",
      "{'Gangnam Style': 195000, 'Despacito': 105500, 'See You Again': 12500}\n",
      "{'Gangnam Style': 195000, 'Despacito': 205500, 'See You Again': 12500}\n"
     ]
    }
   ],
   "source": [
    "print(\"------ before ------\")\n",
    "all_videos_database = { \n",
    "        \"Gangnam Style\": 195000,\n",
    "        \"Despacito\": 5500,\n",
    "        \"See You Again\": 12500\n",
    "    }\n",
    "print(all_videos_database)\n",
    "print(\"------  after ------\")\n",
    "\n",
    "#code below\n",
    "# <dictionary to update>[key to update] = updated value\n",
    "# Not recommended\n",
    "all_videos_database[\"Despacito\"]= 105500                #this is hard coding which is not allowed\n",
    "print(all_videos_database)\n",
    "# Recommended\n",
    "# all_videos_database[\"Despacito\"] = all_videos_database[\"Despacito\"] + 100000 \n",
    "#all_videos_database[\"Despacito\"]= all_videos_database[\"Despacito\"]+ 100000\n",
    "all_videos_database[\"Despacito\"] += 100000\n",
    "print(all_videos_database)\n",
    "# If key exists, it will update, otherwise it will create"
   ]
  },
  {
   "cell_type": "markdown",
   "metadata": {},
   "source": [
    "##### Deleting key-value pair\n",
    "`Gangnam Style` is now out of style. Remove it from our `all_videos_database`. Using the <font color='green'><b>del</b></font> function, remove the key `Gangnam Style` from `all_videos_database`.\n",
    "\n",
    "<b>Expected Output</b>:\n",
    "\n",
    "    { \n",
    "        \"Despacito\": 105500,\n",
    "        \"See You Again\": 12500\n",
    "    }"
   ]
  },
  {
   "cell_type": "code",
   "execution_count": 65,
   "metadata": {},
   "outputs": [
    {
     "name": "stdout",
     "output_type": "stream",
     "text": [
      "------ before ------\n",
      "{'Gangnam Style': 195000, 'Despacito': 105500, 'See You Again': 12500}\n",
      "\n",
      "------  after ------\n",
      "{'Despacito': 105500, 'See You Again': 12500}\n"
     ]
    }
   ],
   "source": [
    "print(\"------ before ------\")\n",
    "all_videos_database = { \n",
    "        \"Gangnam Style\": 195000,\n",
    "        \"Despacito\": 105500,\n",
    "        \"See You Again\": 12500\n",
    "    }\n",
    "print(all_videos_database)\n",
    "print()\n",
    "print(\"------  after ------\")\n",
    "#code below\n",
    "# del dictionary[key to delete]\n",
    "\n",
    "del all_videos_database[\"Gangnam Style\"]\n",
    "print(all_videos_database)"
   ]
  },
  {
   "cell_type": "markdown",
   "metadata": {},
   "source": [
    "##### Check if key exists in dictionary\n",
    "Some people are still living in the past. Check if `Gangnam Style` still exists within `all_videos_database`. \n",
    "\n",
    "<b>Expected Output</b>:\n",
    "    \n",
    "    False"
   ]
  },
  {
   "cell_type": "code",
   "execution_count": 82,
   "metadata": {},
   "outputs": [
    {
     "name": "stdout",
     "output_type": "stream",
     "text": [
      "False\n"
     ]
    }
   ],
   "source": [
    "#code below\n",
    "all_videos_database = { \n",
    "        \"Despacito\": 105500,\n",
    "        \"See You Again\": 12500\n",
    "}\n",
    "\n",
    "print('Gangnam Style' in all_videos_database)          "
   ]
  },
  {
   "cell_type": "markdown",
   "metadata": {},
   "source": [
    "<a id='P3'><h2> <img src=\"https://cdn.shopify.com/s/files/1/1200/7374/products/book_aec28e76-52ec-44ab-bc01-41df1279c89f_550x825.png?v=1473897430\" width=25 align=\"left\"> <font color=\"darkorange\"> &nbsp; Practice III </font><font color=\"skyblue\"> * </font></h2></a>\n",
    "\n",
    "Complete the following questions to test your overall understanding on list functions:\n",
    "\n",
    "1. Create a new dictionary database called `my_class` as an empty dictionary\n",
    "2. Add the following key-value pairs:\n",
    "\n",
    "|<center>Keys</center>| <center>Values</center> | Type |\n",
    "|:---| :----------- |---|\n",
    "|`\"Instructor\"`| `\"Your Instructor\"`| `String` |\n",
    "|`\"TAs\"`| `[\"TA1\",\"TA2\",\"TA3\"]`| `List`|\n",
    "|`\"Students\"`| 40 | `Int`|\n",
    "\n",
    "3. Add a fourth TA to your database\n",
    "4. Someone from another class has joined for make up. Update your database by 1 count\n",
    "\n",
    "[Click here for the summary of all list and dictionary functions](#S)\n",
    "\n",
    "<b>Final Expected Output</b>:\n",
    "```python\n",
    "    {\n",
    "        \"Instructor\": \"Your Instructor\",\n",
    "        \"TAs\": [\"TA1\",\"TA2\",\"TA3\",\"TA4\"]\n",
    "        \"Students\": 41\n",
    "    }\n",
    "```"
   ]
  },
  {
   "cell_type": "code",
   "execution_count": 74,
   "metadata": {},
   "outputs": [
    {
     "name": "stdout",
     "output_type": "stream",
     "text": [
      "{'Instructor': 'Your Instructor'}\n",
      "{'Instructor': 'Your Instructor', 'TAs': ['TA1', 'TA2', 'TA3']}\n",
      "{'Instructor': 'Your Instructor', 'TAs': ['TA1', 'TA2', 'TA3'], 'Students': 40}\n",
      "{'Instructor': 'Your Instructor', 'TAs': ['TA1', 'TA2', 'TA3', 'TA4'], 'Students': 40}\n",
      "{'Instructor': 'Your Instructor', 'TAs': ['TA1', 'TA2', 'TA3', 'TA4'], 'Students': 41}\n"
     ]
    }
   ],
   "source": [
    "# Qns1\n",
    "my_class={}\n",
    "\n",
    "# Qns2\n",
    "my_class[\"Instructor\"]= \"Your Instructor\"\n",
    "print(my_class)\n",
    "my_class[\"TAs\"]=[\"TA1\",\"TA2\",\"TA3\"]\n",
    "print(my_class)\n",
    "my_class[\"Students\"]= 40\n",
    "print(my_class)\n",
    "#Qns3\n",
    "my_class[\"TAs\"]=my_class[\"TAs\"] + [\"TA4\"]        #my_class[\"TAs\"].append(\"TA4\")    can use append cause editing a list\n",
    "print(my_class)\n",
    "#Qns4\n",
    "my_class[\"Students\"]= my_class[\"Students\"]+ 1\n",
    "print(my_class)"
   ]
  },
  {
   "cell_type": "markdown",
   "metadata": {},
   "source": [
    "<a id='5.1'><h3>5.1 Dictionary Keys Are Unique - Re-emphasis</h3></a>\n",
    "\n",
    "The keys in dictionaries are always unique. There will never be duplicate keys!"
   ]
  },
  {
   "cell_type": "code",
   "execution_count": null,
   "metadata": {},
   "outputs": [],
   "source": [
    "all_videos_database = { \n",
    "        \"Gangnam Style\": 195000,\n",
    "        \"Despacito\": 5500,\n",
    "        \"See You Again\": 12500\n",
    "}\n",
    "\n",
    "# This means that there are 3 unique videos\n",
    "# Not possible to add another video of the same name"
   ]
  },
  {
   "cell_type": "markdown",
   "metadata": {},
   "source": [
    "<a id=\"3.1\"><h2><img src=\"https://img.icons8.com/color/50/000000/blunt-bulb.png\" width=23 align=\"left\"><font color=\"dodgerblue\"> Lists, Tuples & Dictionary </font> </h2></a> \n",
    "\n",
    "<img src=\"https://i.imgur.com/aE84Rm9.png\" width=600>"
   ]
  },
  {
   "cell_type": "markdown",
   "metadata": {},
   "source": [
    "<a id=\"S\"><h2> <center> Important Collections Functions (methods) </center> </h2></a>\n",
    "<h3> <center> Creation </center></h3>\n",
    "\n",
    "|Collection Type | Function | Examples |\n",
    "| ---------|---------|---------|\n",
    "| `list` | <center>None</center>| `new_list = []` <br><br> `new_list = [1,2,3,4]` |\n",
    "| `tuple`| <center>None</center>| `new_tuple = (10,20,30)`|\n",
    "| `dict` | <center>None</center>| `new_dict = {}` <br><br> `new_dict = {'a': 1, 'b':2}`|\n",
    "\n",
    "<h3> <center> Add / Appending Data </center></h3>\n",
    "\n",
    "|Collection Type | Functions | Examples | Resulting Output|\n",
    "| ---------|---------|---------| ------ |\n",
    "| `list` | <center>`.append()`</center>| `new_list = [1,2,3]` <br><br> `new_list.append(4)` | `[1,2,3,4]`|\n",
    "| `list` | <center>`.extend()`</center>| `new_list = [1,2]` <br><br> `new_list.extend([3,4])` | `[1,2,3,4]`|\n",
    "| `tuple`| <center>Cannot change structure at all</center>| Nil | Nil|\n",
    "| `dict` | <center>None</center>| `new_dict = {}` <br><br> `new_dict['a'] = 1` <br><br> `new_dict['b'] = 2` | `{'a': 1, 'b':2}`|\n",
    "\n",
    "<h3> <center> Updating / Changing Data </center></h3>\n",
    "\n",
    "|Collection Type | Functions | Examples | Resulting Output|\n",
    "| ---------|---------|---------| ------ |\n",
    "| `list` | <center>None</center>| `new_list = [1,2,3]` <br><br> `new_list[0] = 5` | `[5,2,3]`|\n",
    "| `tuple`| <center>Cannot change structure at all</center>| Nil | Nil|\n",
    "| `dict` | <center>None</center>| `new_dict = {'a': 1, 'b':2}` <br><br> `new_dict['a'] = 10`| `{'a': 10, 'b':2}`|\n",
    "\n",
    "<h3> <center> Accessing / Taking Out Data </center></h3>\n",
    "\n",
    "|Collection Type | Functions | x to be| Examples |\n",
    "| ---------|---------|---------| ------ |\n",
    "| `list` | <center>None</center>| 3 |`new_list = [1,2,3]` <br><br> `x = new_list[2] `|\n",
    "| `list of list` | <center>None</center>|3 |`new_list = [[1,2],[3,4]]` <br><br> `x = new_list[1][0] `|\n",
    "| `list of dict` | <center>None</center>| 2 |`new_list = [{'a':1},{'b':2}]` <br><br> `x = new_list[1]['b'] `|\n",
    "| `tuple`| <center>None</center>| 3 |`new_tuple = (1,2,3)` <br><br> `x = new_list[2] ` |\n",
    "| `dict` | <center>None</center>| 2|`new_dict = {'a': 1, 'b':2}` <br><br> `x = new_dict['b']`|"
   ]
  },
  {
   "cell_type": "markdown",
   "metadata": {},
   "source": [
    "<a id='4'><h2><img src=\"https://images.vexels.com/media/users/3/153978/isolated/preview/483ef8b10a46e28d02293a31570c8c56-warning-sign-colored-stroke-icon-by-vexels.png\" width=23 align=\"left\"><font color=\"salmon\">&nbsp;4.</font><font color=\"salmon\"> Nested Collections </font> </h2></a>\n",
    "\n",
    "By combining the two different types, `list` and `dict`, we have a better way to organise our data. Take the following as an example. \n",
    "\n",
    "Given the following list of historical three days video views data of two videos, find the engagement score of each video, where engagement score is comments/views.\n",
    "\n",
    "<img src=\"https://i.imgur.com/q2n6lut.png\" width=\"300\"/>\n",
    "\n",
    "<b>Expected output</b>: \n",
    "\n",
    "    0.15\n",
    "    0.05\n",
    "    "
   ]
  },
  {
   "cell_type": "code",
   "execution_count": null,
   "metadata": {},
   "outputs": [],
   "source": [
    "hist_video_views = [\n",
    "    {  # row 1\n",
    "        # column header : actual data\n",
    "        'video_title': 'despacito',\n",
    "        'comments': 150,\n",
    "        'views': 1000\n",
    "    },\n",
    "    {  # row 2\n",
    "        'video_title': 'im yours',\n",
    "        'comments': 100,\n",
    "        'views': 2000\n",
    "    }\n",
    "]\n",
    "\n"
   ]
  },
  {
   "cell_type": "markdown",
   "metadata": {},
   "source": [
    "<a id='5'><h2><img src=\"https://images.vexels.com/media/users/3/153978/isolated/preview/483ef8b10a46e28d02293a31570c8c56-warning-sign-colored-stroke-icon-by-vexels.png\" width=23 align=\"left\"><font color=\"salmon\">&nbsp;5.</font><font color=\"salmon\"> Which Collections to Use? </font> </h2></a>\n",
    "\n",
    "When given a dataset, we will sometimes want to partition our dataset into more manageable parts. This requires us to know which collection to use and when to use them. To decide we need to ask the following questions:\n",
    "\n",
    "1. What do you want to store?\n",
    "2. What do you want to use it for? \n",
    "3. How do you want to identify your collections?\n",
    "\n",
    "Let's compare again the difference between the 3 types\n",
    "\n",
    "<img src=\"https://i.imgur.com/aE84Rm9.png\" width=600>"
   ]
  },
  {
   "cell_type": "markdown",
   "metadata": {},
   "source": [
    "Let's consider the following sample dataset, where we have historical transactions of users Arya, Bran, Sansa. Your role is to restructure the following dataset into python collections for further processing.\n",
    "\n",
    "<img src='https://i.imgur.com/lAEcC8d.png' width='300'>"
   ]
  },
  {
   "cell_type": "markdown",
   "metadata": {},
   "source": [
    "#### A collection of all amounts\n",
    "\n",
    "Use case - Summary Statistics (i.e mean, mode, median, max, sum, min)"
   ]
  },
  {
   "cell_type": "code",
   "execution_count": null,
   "metadata": {},
   "outputs": [],
   "source": [
    "#list of numbers"
   ]
  },
  {
   "cell_type": "markdown",
   "metadata": {},
   "source": [
    "#### A collection of the number of times each user appear\n",
    "\n",
    "Use case: Find most common users"
   ]
  },
  {
   "cell_type": "code",
   "execution_count": null,
   "metadata": {},
   "outputs": [],
   "source": [
    "#list of dictionaries, key= username"
   ]
  },
  {
   "cell_type": "markdown",
   "metadata": {},
   "source": [
    "#### A collection of each user and their spending amount\n",
    "\n",
    "Use case: User profiling"
   ]
  },
  {
   "cell_type": "code",
   "execution_count": null,
   "metadata": {},
   "outputs": [],
   "source": [
    "#list of dictionaries, key= username, value is list of transcations"
   ]
  }
 ],
 "metadata": {
  "kernelspec": {
   "display_name": "Python 3",
   "language": "python",
   "name": "python3"
  },
  "language_info": {
   "codemirror_mode": {
    "name": "ipython",
    "version": 3
   },
   "file_extension": ".py",
   "mimetype": "text/x-python",
   "name": "python",
   "nbconvert_exporter": "python",
   "pygments_lexer": "ipython3",
   "version": "3.7.3"
  }
 },
 "nbformat": 4,
 "nbformat_minor": 2
}
