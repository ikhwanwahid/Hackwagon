{
 "cells": [
  {
   "cell_type": "markdown",
   "metadata": {},
   "source": [
    "<img src=\"https://i2.wp.com/hackwagon.com/wp-content/uploads/2017/02/Logo-Web-Export.png?ssl=1\" width=200/>\n",
    "\n",
    "<h1> Hackwagon Academy - DS101 Week 2 Extra Practice</h1>\n",
    "\n",
    "This extra exercise consists of <b>3 coding question</b> to test you understanding of list and dictionaries and follow by <b>17 multiple choice questions</b>.  \n",
    "\n",
    "For Multiple Choice Questons, You will be asked what will be output of the code <b>without</b> running them. However, if you want to look at the answer, you may run the cell to see how the code runs as well. Answers and explanation can be found in the ANSWER notebook. It should be in the location where you downloaded this file.\n",
    "\n",
    "<p>The following are additional questions that serves to strengthen your understanding in this week's knowledge. There is <b>no need</b> to submit this extra practice.</p>"
   ]
  },
  {
   "cell_type": "markdown",
   "metadata": {},
   "source": [
    "## Part I: Coding Practice (Nested List and Dictionary)"
   ]
  },
  {
   "cell_type": "markdown",
   "metadata": {},
   "source": [
    "<p>The following questions serve to strengthen your understanding in handling data from nested collections. The following collection structure are some of the common ways which people use to store their data for processing later on. </p>\n"
   ]
  },
  {
   "cell_type": "markdown",
   "metadata": {},
   "source": [
    "### Question 1 (Nested List)\n",
    "<font color='red'><b>Run this cell first to get the `linked_data`</b></font>"
   ]
  },
  {
   "cell_type": "code",
   "execution_count": null,
   "metadata": {},
   "outputs": [],
   "source": [
    "linked_data = [\n",
    "    ['Rick Jones', 'Software Engineer', 909802],\n",
    "    ['Marissa Meyer', 'COO', 9320809],\n",
    "    ['Avril Ting', 'MD', 932846]\n",
    "]"
   ]
  },
  {
   "cell_type": "markdown",
   "metadata": {},
   "source": [
    "##### Q1a\n",
    "Extract Marissa's salary and print her name + salary\n",
    "\n",
    "**Expected output**: \n",
    "    \n",
    "    Marissa Meyer has a salary of $ 9320809"
   ]
  },
  {
   "cell_type": "code",
   "execution_count": null,
   "metadata": {},
   "outputs": [],
   "source": [
    "#Type your code below\n"
   ]
  },
  {
   "cell_type": "markdown",
   "metadata": {},
   "source": [
    "##### Q1b\n",
    "Change Marissa's salary in linked_data to 78973930 & print out her data\n",
    "\n",
    "**Expected output**: \n",
    "\n",
    "    \n",
    "    ['Marissa Meyer', 'COO', 78973930]"
   ]
  },
  {
   "cell_type": "code",
   "execution_count": null,
   "metadata": {},
   "outputs": [],
   "source": [
    "#Type your code below\n"
   ]
  },
  {
   "cell_type": "markdown",
   "metadata": {},
   "source": [
    "##### Q1c\n",
    "Replace Avril Ting's entire data with the following ['Avril Tan', 'None', 0] & print `linked_data`\n",
    "\n",
    "**Expected output**: \n",
    "\n",
    "    [\n",
    "        ['Rick Jones', 'Software Engineer', 909802],\n",
    "        ['Marissa Meyer', 'COO', 78973930],\n",
    "        ['Avril Tan', 'None', 0]\n",
    "    ]\n",
    "    "
   ]
  },
  {
   "cell_type": "code",
   "execution_count": null,
   "metadata": {},
   "outputs": [],
   "source": [
    "#Type your code below\n"
   ]
  },
  {
   "cell_type": "markdown",
   "metadata": {},
   "source": [
    "##### Q1d\n",
    "Add age data using the index method & print the `linked_data`. Age of the three person respectively: 20, 45, 55\n",
    "\n",
    "Hint: Remember the_list[0] = 1000?\n",
    "\n",
    "**Expected output**: \n",
    "\n",
    "    [\n",
    "        ['Rick Jones', 'Software Engineer', 909802, 20],\n",
    "        ['Marissa Meyer', 'COO', 78973930, 45],\n",
    "        ['Avril Tan', 'None', 0, 55]\n",
    "    ]\n",
    "    "
   ]
  },
  {
   "cell_type": "code",
   "execution_count": null,
   "metadata": {},
   "outputs": [],
   "source": [
    "#Type your code below\n"
   ]
  },
  {
   "cell_type": "markdown",
   "metadata": {},
   "source": [
    "### Question 2 (Nested Dictionary)\n",
    "<font color='red'><b>Run this cell first to get the `linked_data`</b></font>"
   ]
  },
  {
   "cell_type": "code",
   "execution_count": null,
   "metadata": {},
   "outputs": [],
   "source": [
    "linked_data = [{'Name':'Rick Jones', 'Job':'Software Engineer', 'Salary':909802},\n",
    "               {'Name':'Marissa Meyer', 'Job':'COO', 'Salary':9320809},\n",
    "               {'Name':'Avril Ting', 'Job':'MD', 'Salary':932846}]"
   ]
  },
  {
   "cell_type": "markdown",
   "metadata": {},
   "source": [
    "##### Q2a\n",
    "Extract Marissa's salary and print her name + salary\n",
    "\n",
    "**Expected output**: \n",
    "    \n",
    "    Marissa Meyer has a salary of $ 9320809"
   ]
  },
  {
   "cell_type": "code",
   "execution_count": null,
   "metadata": {},
   "outputs": [],
   "source": [
    "#Type your code below\n"
   ]
  },
  {
   "cell_type": "markdown",
   "metadata": {},
   "source": [
    "##### Q2b\n",
    "Change Marissa's salary in linked_data to 78973930 & print out her data\n",
    "\n",
    "**Expected output**: \n",
    "    \n",
    "    { \n",
    "        'Name':'Marissa Meyer', \n",
    "        'Job':'COO', \n",
    "        'Salary':78973930\n",
    "    }"
   ]
  },
  {
   "cell_type": "code",
   "execution_count": null,
   "metadata": {},
   "outputs": [],
   "source": [
    "#Type your code below\n"
   ]
  },
  {
   "cell_type": "markdown",
   "metadata": {},
   "source": [
    "##### Q2c\n",
    "Replace Avril Ting's entire data with the following `{'Name':'Avril Tan', 'Job':'None', 'Salary':0}` & print `linked_data`\n",
    "\n",
    "**Expected output**: \n",
    "\n",
    "    [\n",
    "        {\n",
    "            'Name':'Rick Jones', \n",
    "            'Job':'Software Engineer', \n",
    "            'Salary':909802\n",
    "        },\n",
    "        {\n",
    "            'Name':'Marissa Meyer', \n",
    "            'Job':'COO', \n",
    "            'Salary':78973930\n",
    "        },\n",
    "        {\n",
    "            'Name':'Avril Tan', \n",
    "            'Job':'None', \n",
    "            'Salary':0\n",
    "        }\n",
    "    ]\n",
    "    "
   ]
  },
  {
   "cell_type": "code",
   "execution_count": null,
   "metadata": {},
   "outputs": [],
   "source": [
    "#Type your code below\n"
   ]
  },
  {
   "cell_type": "markdown",
   "metadata": {},
   "source": [
    "##### Q2d\n",
    "Add age data using the index method & print the `linked_data`. Age of the three person respectively: 20, 45, 55\n",
    "\n",
    "Hint: Remember dict['key'] = 1000?\n",
    "\n",
    "Expected output:\n",
    "\n",
    "    [\n",
    "        {\n",
    "            'Name':'Rick Jones', \n",
    "            'Job':'Software Engineer', \n",
    "            'Salary':909802, \n",
    "            'age':20\n",
    "        },\n",
    "        {\n",
    "            'Name':'Marissa Meyer', \n",
    "            'Job':'COO', \n",
    "            'Salary':78973930, \n",
    "            'age':45\n",
    "        },\n",
    "        {\n",
    "            'Name':'Avril Tan', \n",
    "            'Job':'None', \n",
    "            'Salary':0, \n",
    "            'age':55\n",
    "        }\n",
    "    ]\n",
    "    "
   ]
  },
  {
   "cell_type": "code",
   "execution_count": null,
   "metadata": {},
   "outputs": [],
   "source": [
    "#Type your code below\n"
   ]
  },
  {
   "cell_type": "markdown",
   "metadata": {},
   "source": [
    "### Question 3 (Nested List and Dictionary)\n",
    "<font color='red'><b>Run this cell first to get the `Department_Employee_data`</b></font>"
   ]
  },
  {
   "cell_type": "code",
   "execution_count": null,
   "metadata": {},
   "outputs": [],
   "source": [
    "Department_Employee_data= [{'Purchase': ['John', 'Avery', 'Obama'], 'Sales': ['Orea', 'Stark']},\n",
    "                           {'Purchase': [2000, 4000, 10000], 'Sales': [2344, 32442]}]"
   ]
  },
  {
   "cell_type": "markdown",
   "metadata": {},
   "source": [
    "#### Q3a\n",
    "Extract Orea's salary and print her name + salary\n",
    "\n",
    "**Expected output**: \n",
    "    \n",
    "    Orea has a salary of $ 2344"
   ]
  },
  {
   "cell_type": "code",
   "execution_count": null,
   "metadata": {},
   "outputs": [],
   "source": [
    "#Type your code below\n"
   ]
  },
  {
   "cell_type": "markdown",
   "metadata": {},
   "source": [
    "#### Q3b\n",
    "Change Orea's salary to 2398 and print the entire Sales department's salary\n",
    "\n",
    "**Expected output**: \n",
    "    \n",
    "    [2398, 32442]"
   ]
  },
  {
   "cell_type": "code",
   "execution_count": null,
   "metadata": {},
   "outputs": [],
   "source": [
    "#Type your code below\n"
   ]
  },
  {
   "cell_type": "markdown",
   "metadata": {},
   "source": [
    "## Part II: Multiple Choice Questions\n",
    "\n",
    "Without running the code below, guess what is the output of the code. There are multiple choice to help you. Answers will be at the end."
   ]
  },
  {
   "cell_type": "markdown",
   "metadata": {},
   "source": [
    "#### Question 4 (Dictionary)"
   ]
  },
  {
   "cell_type": "code",
   "execution_count": 24,
   "metadata": {},
   "outputs": [
    {
     "name": "stdout",
     "output_type": "stream",
     "text": [
      "50\n"
     ]
    }
   ],
   "source": [
    "hackwagon_salary = {\n",
    "    \"Sally\" : 10, \n",
    "    \"Darren\" : 20, \n",
    "    \"Agnes\" : 20, \n",
    "    \"Vincent\" : 20,\n",
    "    \"Vincent\" : 50\n",
    "    }\n",
    "\n",
    "print(hackwagon_salary[\"Vincent\"])"
   ]
  },
  {
   "cell_type": "code",
   "execution_count": null,
   "metadata": {},
   "outputs": [],
   "source": [
    "#What will be printed?\n",
    "# 1. \"Vincent\"\n",
    "# 2. \"Vincent\" : 20\n",
    "# 3. 20\n",
    "# 4. 50"
   ]
  },
  {
   "cell_type": "markdown",
   "metadata": {},
   "source": [
    "#### Question 5 (Dictionary)"
   ]
  },
  {
   "cell_type": "code",
   "execution_count": null,
   "metadata": {},
   "outputs": [],
   "source": [
    "hackwagon_salary = {\n",
    "    \"Sally\" : 10, \n",
    "    \"Darren\" : 20, \n",
    "    \"Agnes\" : 20, \n",
    "    \"Vincent\" : 20\n",
    "    }\n",
    "\n",
    "hackwagon_salary[\"Vincent\"] += 10\n",
    "print(hackwagon_salary[\"Vincent\"])"
   ]
  },
  {
   "cell_type": "code",
   "execution_count": null,
   "metadata": {},
   "outputs": [],
   "source": [
    "#What will be printed?\n",
    "# 1. \"Vincent\"\n",
    "# 2. 10\n",
    "# 3. 20\n",
    "# 4. 30"
   ]
  },
  {
   "cell_type": "markdown",
   "metadata": {},
   "source": [
    "#### Question 6 (If Else Conditions)"
   ]
  },
  {
   "cell_type": "code",
   "execution_count": null,
   "metadata": {},
   "outputs": [],
   "source": [
    "x = 2\n",
    "if x > 1:\n",
    "    print(\"1\")\n",
    "else:\n",
    "    print(\"3\")\n",
    "if x == 2:\n",
    "    print(\"2\")\n",
    "else:\n",
    "    print(\"3\")\n",
    "print(4)"
   ]
  },
  {
   "cell_type": "code",
   "execution_count": null,
   "metadata": {},
   "outputs": [],
   "source": [
    "#What will be printed?\n",
    "# 1. '1' then next line '2' then next line '4'\n",
    "# 2. '1' then next line '3' then next line '4'\n",
    "# 3. '2' then next line '4'\n",
    "# 4. '1'"
   ]
  },
  {
   "cell_type": "markdown",
   "metadata": {},
   "source": [
    "#### Question 7 (If Else Conditions)"
   ]
  },
  {
   "cell_type": "code",
   "execution_count": 22,
   "metadata": {},
   "outputs": [],
   "source": [
    "x = [\"12345678\"]\n",
    "y = \"12345678\"\n",
    "if y == x :\n",
    "    print(\"1\")"
   ]
  },
  {
   "cell_type": "code",
   "execution_count": null,
   "metadata": {},
   "outputs": [],
   "source": [
    "#What will be printed?\n",
    "# 1. True\n",
    "# 2. '1'\n",
    "# 3. nothing will be printed\n",
    "# 4. error message"
   ]
  },
  {
   "cell_type": "markdown",
   "metadata": {},
   "source": [
    "#### Question 8 (Debugging)"
   ]
  },
  {
   "cell_type": "code",
   "execution_count": 5,
   "metadata": {},
   "outputs": [
    {
     "ename": "KeyError",
     "evalue": "'Vincent'",
     "output_type": "error",
     "traceback": [
      "\u001b[1;31m---------------------------------------------------------------------------\u001b[0m",
      "\u001b[1;31mKeyError\u001b[0m                                  Traceback (most recent call last)",
      "\u001b[1;32m<ipython-input-5-0f55af7be66c>\u001b[0m in \u001b[0;36m<module>\u001b[1;34m()\u001b[0m\n\u001b[0;32m      5\u001b[0m     }\n\u001b[0;32m      6\u001b[0m \u001b[1;33m\u001b[0m\u001b[0m\n\u001b[1;32m----> 7\u001b[1;33m \u001b[0mprint\u001b[0m\u001b[1;33m(\u001b[0m\u001b[0mhackwagon_salary\u001b[0m\u001b[1;33m[\u001b[0m\u001b[1;34m\"Vincent\"\u001b[0m\u001b[1;33m]\u001b[0m\u001b[1;33m)\u001b[0m\u001b[1;33m\u001b[0m\u001b[0m\n\u001b[0m",
      "\u001b[1;31mKeyError\u001b[0m: 'Vincent'"
     ]
    }
   ],
   "source": [
    "hackwagon_salary = {\n",
    "    \"Sally\" : 10, \n",
    "    \"Darren\" : 20, \n",
    "    \"Agnes\" : 20\n",
    "    }\n",
    "\n",
    "print(hackwagon_salary[\"Vincent\"])"
   ]
  },
  {
   "cell_type": "code",
   "execution_count": 25,
   "metadata": {},
   "outputs": [],
   "source": [
    "#What is the root cause of the error?\n",
    "#1. You have an index error where you are retrieving an index from a list that does NOT exist\n",
    "#2. You have an index error where you are placing strings instead of interger (as list expects a number instead of string)\n",
    "#3. You have a key error where you try to retrieve value using a key that does NOT exist within the dictionary\n",
    "#4. You have an index error where you are retrieving value using a key that does not exist within the list"
   ]
  },
  {
   "cell_type": "markdown",
   "metadata": {},
   "source": [
    "#### Question 9 (Debugging)"
   ]
  },
  {
   "cell_type": "code",
   "execution_count": 6,
   "metadata": {},
   "outputs": [
    {
     "ename": "KeyError",
     "evalue": "0",
     "output_type": "error",
     "traceback": [
      "\u001b[1;31m---------------------------------------------------------------------------\u001b[0m",
      "\u001b[1;31mKeyError\u001b[0m                                  Traceback (most recent call last)",
      "\u001b[1;32m<ipython-input-6-9e847d7084e6>\u001b[0m in \u001b[0;36m<module>\u001b[1;34m()\u001b[0m\n\u001b[0;32m      5\u001b[0m     }\n\u001b[0;32m      6\u001b[0m \u001b[1;33m\u001b[0m\u001b[0m\n\u001b[1;32m----> 7\u001b[1;33m \u001b[0mprint\u001b[0m\u001b[1;33m(\u001b[0m\u001b[0mhackwagon_salary\u001b[0m\u001b[1;33m[\u001b[0m\u001b[1;36m0\u001b[0m\u001b[1;33m]\u001b[0m\u001b[1;33m)\u001b[0m\u001b[1;33m\u001b[0m\u001b[0m\n\u001b[0m",
      "\u001b[1;31mKeyError\u001b[0m: 0"
     ]
    }
   ],
   "source": [
    "hackwagon_salary = {\n",
    "    \"Sally\" : 10, \n",
    "    \"Darren\" : 20, \n",
    "    \"Agnes\" : 20\n",
    "    }\n",
    "\n",
    "print(hackwagon_salary[0])"
   ]
  },
  {
   "cell_type": "code",
   "execution_count": null,
   "metadata": {},
   "outputs": [],
   "source": [
    "#What is the root cause of the error?\n",
    "#1. You have an index error where you are retrieving an index from a list that does NOT exist\n",
    "#2. You have an index error where you are placing strings instead of interger (as list expects a number instead of string)\n",
    "#3. You have a key error where you try to retrieve value using a key that does NOT exist within the dictionary\n",
    "#4. You have an index error where you are retrieving value using a key that does not exist within the list"
   ]
  },
  {
   "cell_type": "markdown",
   "metadata": {},
   "source": [
    "#### Question 10 (Debugging)"
   ]
  },
  {
   "cell_type": "code",
   "execution_count": 8,
   "metadata": {},
   "outputs": [
    {
     "ename": "AttributeError",
     "evalue": "'dict' object has no attribute 'append'",
     "output_type": "error",
     "traceback": [
      "\u001b[1;31m---------------------------------------------------------------------------\u001b[0m",
      "\u001b[1;31mAttributeError\u001b[0m                            Traceback (most recent call last)",
      "\u001b[1;32m<ipython-input-8-7cacc9d8856b>\u001b[0m in \u001b[0;36m<module>\u001b[1;34m()\u001b[0m\n\u001b[0;32m      5\u001b[0m     }\n\u001b[0;32m      6\u001b[0m \u001b[1;33m\u001b[0m\u001b[0m\n\u001b[1;32m----> 7\u001b[1;33m \u001b[0mhackwagon_salary\u001b[0m\u001b[1;33m.\u001b[0m\u001b[0mappend\u001b[0m\u001b[1;33m(\u001b[0m\u001b[1;36m40\u001b[0m\u001b[1;33m)\u001b[0m\u001b[1;33m\u001b[0m\u001b[0m\n\u001b[0m\u001b[0;32m      8\u001b[0m \u001b[1;33m\u001b[0m\u001b[0m\n\u001b[0;32m      9\u001b[0m \u001b[0mprint\u001b[0m\u001b[1;33m(\u001b[0m\u001b[0mhackwagon_salary\u001b[0m\u001b[1;33m[\u001b[0m\u001b[1;36m0\u001b[0m\u001b[1;33m]\u001b[0m\u001b[1;33m)\u001b[0m\u001b[1;33m\u001b[0m\u001b[0m\n",
      "\u001b[1;31mAttributeError\u001b[0m: 'dict' object has no attribute 'append'"
     ]
    }
   ],
   "source": [
    "hackwagon_salary = {\n",
    "    \"Sally\" : 10, \n",
    "    \"Darren\" : 20, \n",
    "    \"Agnes\" : 20\n",
    "    }\n",
    "\n",
    "hackwagon_salary.append(40) \n",
    "print(hackwagon_salary)"
   ]
  },
  {
   "cell_type": "code",
   "execution_count": null,
   "metadata": {},
   "outputs": [],
   "source": [
    "#What is the root cause of the error?\n",
    "#1. You have an index error where you are retrieving an index from a list that does NOT exist\n",
    "#2. You have an attribute error where you are trying to use append on dictionary (append is a function only for list)\n",
    "#3. You have a key error where you try to retrieve value using a key that does NOT exist within the dictionary\n",
    "#4. You have an index error where you are retrieving value using a key that does not exist within the list"
   ]
  },
  {
   "cell_type": "markdown",
   "metadata": {},
   "source": [
    "#### Question 11 (Debugging)"
   ]
  },
  {
   "cell_type": "code",
   "execution_count": 9,
   "metadata": {},
   "outputs": [
    {
     "ename": "AttributeError",
     "evalue": "'dict' object has no attribute 'extend'",
     "output_type": "error",
     "traceback": [
      "\u001b[1;31m---------------------------------------------------------------------------\u001b[0m",
      "\u001b[1;31mAttributeError\u001b[0m                            Traceback (most recent call last)",
      "\u001b[1;32m<ipython-input-9-834f24ee664b>\u001b[0m in \u001b[0;36m<module>\u001b[1;34m()\u001b[0m\n\u001b[0;32m      5\u001b[0m     }\n\u001b[0;32m      6\u001b[0m \u001b[1;33m\u001b[0m\u001b[0m\n\u001b[1;32m----> 7\u001b[1;33m \u001b[0mhackwagon_salary\u001b[0m\u001b[1;33m.\u001b[0m\u001b[0mextend\u001b[0m\u001b[1;33m(\u001b[0m\u001b[1;36m40\u001b[0m\u001b[1;33m)\u001b[0m\u001b[1;33m\u001b[0m\u001b[0m\n\u001b[0m\u001b[0;32m      8\u001b[0m \u001b[0mprint\u001b[0m\u001b[1;33m(\u001b[0m\u001b[0mhackwagon_salary\u001b[0m\u001b[1;33m)\u001b[0m\u001b[1;33m\u001b[0m\u001b[0m\n",
      "\u001b[1;31mAttributeError\u001b[0m: 'dict' object has no attribute 'extend'"
     ]
    }
   ],
   "source": [
    "hackwagon_salary = {\n",
    "    \"Sally\" : 10, \n",
    "    \"Darren\" : 20, \n",
    "    \"Agnes\" : 20\n",
    "    }\n",
    "\n",
    "hackwagon_salary.extend(40) \n",
    "print(hackwagon_salary)"
   ]
  },
  {
   "cell_type": "code",
   "execution_count": null,
   "metadata": {},
   "outputs": [],
   "source": [
    "#What is the root cause of the error?\n",
    "#1. You have an index error where you are retrieving an index from a list that does NOT exist\n",
    "#2. You have an attribute error where you are trying to use extend on dictionary (extend is a function only for list)\n",
    "#3. You have a key error where you try to retrieve value using a key that does NOT exist within the dictionary\n",
    "#4. You have an index error where you are retrieving value using a key that does not exist within the list"
   ]
  },
  {
   "cell_type": "markdown",
   "metadata": {},
   "source": [
    "#### Question 12 (Debugging)"
   ]
  },
  {
   "cell_type": "code",
   "execution_count": 10,
   "metadata": {},
   "outputs": [
    {
     "ename": "TypeError",
     "evalue": "list indices must be integers or slices, not str",
     "output_type": "error",
     "traceback": [
      "\u001b[1;31m---------------------------------------------------------------------------\u001b[0m",
      "\u001b[1;31mTypeError\u001b[0m                                 Traceback (most recent call last)",
      "\u001b[1;32m<ipython-input-10-f336739c06f3>\u001b[0m in \u001b[0;36m<module>\u001b[1;34m()\u001b[0m\n\u001b[0;32m      1\u001b[0m \u001b[0mlist_x\u001b[0m \u001b[1;33m=\u001b[0m \u001b[1;33m[\u001b[0m\u001b[1;36m1\u001b[0m\u001b[1;33m,\u001b[0m\u001b[1;36m2\u001b[0m\u001b[1;33m,\u001b[0m\u001b[1;36m3\u001b[0m\u001b[1;33m,\u001b[0m\u001b[1;36m4\u001b[0m\u001b[1;33m,\u001b[0m\u001b[1;36m5\u001b[0m\u001b[1;33m,\u001b[0m\u001b[1;36m6\u001b[0m\u001b[1;33m,\u001b[0m\u001b[1;36m7\u001b[0m\u001b[1;33m]\u001b[0m\u001b[1;33m\u001b[0m\u001b[0m\n\u001b[1;32m----> 2\u001b[1;33m \u001b[0mlist_x\u001b[0m\u001b[1;33m[\u001b[0m\u001b[1;34m\"Sally\"\u001b[0m\u001b[1;33m]\u001b[0m \u001b[1;33m=\u001b[0m \u001b[1;36m8\u001b[0m\u001b[1;33m\u001b[0m\u001b[0m\n\u001b[0m\u001b[0;32m      3\u001b[0m \u001b[0mprint\u001b[0m\u001b[1;33m(\u001b[0m\u001b[0mlist_x\u001b[0m\u001b[1;33m)\u001b[0m\u001b[1;33m\u001b[0m\u001b[0m\n",
      "\u001b[1;31mTypeError\u001b[0m: list indices must be integers or slices, not str"
     ]
    }
   ],
   "source": [
    "list_x = [1,2,3,4,5,6,7]\n",
    "list_x[\"Sally\"] = 8\n",
    "print(list_x)"
   ]
  },
  {
   "cell_type": "code",
   "execution_count": null,
   "metadata": {},
   "outputs": [],
   "source": [
    "#What is the root cause of the error?\n",
    "#1. You have a type error where you try to use key-value pair logic on a list (key-value pair is for dictionary)\n",
    "#2. You have an attribute error where you are trying to use append on dictionary (append is a function only for list)\n",
    "#3. You have a key error where you try to retrieve value using a key that does NOT exist within the dictionary\n",
    "#4. You have an index error where you are retrieving value using a key that does not exist within the list"
   ]
  },
  {
   "cell_type": "markdown",
   "metadata": {},
   "source": [
    "#### Question 13 (Debugging)"
   ]
  },
  {
   "cell_type": "code",
   "execution_count": 11,
   "metadata": {},
   "outputs": [
    {
     "ename": "SyntaxError",
     "evalue": "invalid syntax (<ipython-input-11-ad2121f4e115>, line 1)",
     "output_type": "error",
     "traceback": [
      "\u001b[1;36m  File \u001b[1;32m\"<ipython-input-11-ad2121f4e115>\"\u001b[1;36m, line \u001b[1;32m1\u001b[0m\n\u001b[1;33m    if 3 > 1\u001b[0m\n\u001b[1;37m            ^\u001b[0m\n\u001b[1;31mSyntaxError\u001b[0m\u001b[1;31m:\u001b[0m invalid syntax\n"
     ]
    }
   ],
   "source": [
    "if 3 > 1\n",
    "    print(5)"
   ]
  },
  {
   "cell_type": "code",
   "execution_count": null,
   "metadata": {},
   "outputs": [],
   "source": [
    "#What is the root cause of the error?\n",
    "#1. forgot to add : on the if condition line\n",
    "#2. no error, but there is no condition within the if statement (code will still work but not advisable)\n",
    "#3. there is no if block before elif / else\n",
    "#4. forgot to indent the next line after the if / elif / else statement"
   ]
  },
  {
   "cell_type": "markdown",
   "metadata": {},
   "source": [
    "#### Question 14 (Debugging)"
   ]
  },
  {
   "cell_type": "code",
   "execution_count": 18,
   "metadata": {},
   "outputs": [
    {
     "name": "stdout",
     "output_type": "stream",
     "text": [
      "5\n"
     ]
    }
   ],
   "source": [
    "if 1 and 2:\n",
    "    print(5)"
   ]
  },
  {
   "cell_type": "code",
   "execution_count": null,
   "metadata": {},
   "outputs": [],
   "source": [
    "#What is the root cause of the error?\n",
    "#1. forgot to add : on the if condition line\n",
    "#2. no error, but there is no condition within the if statement (code will still work but not advisable)\n",
    "#3. there is no if block before elif / else\n",
    "#4. forgot to indent the next line after the if / elif / else statement"
   ]
  },
  {
   "cell_type": "markdown",
   "metadata": {},
   "source": [
    "#### Question 15 (Debugging)"
   ]
  },
  {
   "cell_type": "code",
   "execution_count": 17,
   "metadata": {},
   "outputs": [
    {
     "name": "stdout",
     "output_type": "stream",
     "text": [
      "5\n"
     ]
    }
   ],
   "source": [
    "if \"a\" and \"b\":\n",
    "    print(5)"
   ]
  },
  {
   "cell_type": "code",
   "execution_count": null,
   "metadata": {},
   "outputs": [],
   "source": [
    "#What is the root cause of the error?\n",
    "#1. forgot to add : on the if condition line\n",
    "#2. no error, but there is no condition within the if statement (code will still work but not advisable)\n",
    "#3. there is no if block before elif / else\n",
    "#4. forgot to indent the next line after the if / elif / else statement"
   ]
  },
  {
   "cell_type": "markdown",
   "metadata": {},
   "source": [
    "#### Question 16 (Debugging)"
   ]
  },
  {
   "cell_type": "code",
   "execution_count": 16,
   "metadata": {},
   "outputs": [
    {
     "ename": "SyntaxError",
     "evalue": "invalid syntax (<ipython-input-16-b7b256d070c6>, line 1)",
     "output_type": "error",
     "traceback": [
      "\u001b[1;36m  File \u001b[1;32m\"<ipython-input-16-b7b256d070c6>\"\u001b[1;36m, line \u001b[1;32m1\u001b[0m\n\u001b[1;33m    elif 3 > 1:\u001b[0m\n\u001b[1;37m       ^\u001b[0m\n\u001b[1;31mSyntaxError\u001b[0m\u001b[1;31m:\u001b[0m invalid syntax\n"
     ]
    }
   ],
   "source": [
    "elif 3 > 1:\n",
    "    print(5)"
   ]
  },
  {
   "cell_type": "code",
   "execution_count": null,
   "metadata": {},
   "outputs": [],
   "source": [
    "#What is the root cause of the error?\n",
    "#1. forgot to add : on the if condition line\n",
    "#2. no error, but there is no condition within the if statement (code will still work but not advisable)\n",
    "#3. there is no if block before elif / else\n",
    "#4. forgot to indent the next line after the if / elif / else statement"
   ]
  },
  {
   "cell_type": "markdown",
   "metadata": {},
   "source": [
    "#### Question 17 (Debugging)"
   ]
  },
  {
   "cell_type": "code",
   "execution_count": 19,
   "metadata": {},
   "outputs": [
    {
     "ename": "SyntaxError",
     "evalue": "invalid syntax (<ipython-input-19-b0b72086c332>, line 2)",
     "output_type": "error",
     "traceback": [
      "\u001b[1;36m  File \u001b[1;32m\"<ipython-input-19-b0b72086c332>\"\u001b[1;36m, line \u001b[1;32m2\u001b[0m\n\u001b[1;33m    else 3 > 1:\u001b[0m\n\u001b[1;37m       ^\u001b[0m\n\u001b[1;31mSyntaxError\u001b[0m\u001b[1;31m:\u001b[0m invalid syntax\n"
     ]
    }
   ],
   "source": [
    "if 1 < 2:\n",
    "    else 3 > 1:\n",
    "        print(5)"
   ]
  },
  {
   "cell_type": "code",
   "execution_count": null,
   "metadata": {},
   "outputs": [],
   "source": [
    "#What is the root cause of the error?\n",
    "#1. forgot to add : on the if condition line\n",
    "#2. no error, but there is no condition within the if statement (code will still work but not advisable)\n",
    "#3. there is no if block before elif / else\n",
    "#4. forgot to indent the next line after the if / elif / else statement"
   ]
  },
  {
   "cell_type": "markdown",
   "metadata": {},
   "source": [
    "#### Question 18 (Debugging)"
   ]
  },
  {
   "cell_type": "code",
   "execution_count": 20,
   "metadata": {},
   "outputs": [
    {
     "ename": "IndentationError",
     "evalue": "expected an indented block (<ipython-input-20-632bfd79170c>, line 2)",
     "output_type": "error",
     "traceback": [
      "\u001b[1;36m  File \u001b[1;32m\"<ipython-input-20-632bfd79170c>\"\u001b[1;36m, line \u001b[1;32m2\u001b[0m\n\u001b[1;33m    print(5)\u001b[0m\n\u001b[1;37m        ^\u001b[0m\n\u001b[1;31mIndentationError\u001b[0m\u001b[1;31m:\u001b[0m expected an indented block\n"
     ]
    }
   ],
   "source": [
    "if 3 > 1:\n",
    "print(5)"
   ]
  },
  {
   "cell_type": "code",
   "execution_count": null,
   "metadata": {},
   "outputs": [],
   "source": [
    "#What is the root cause of the error?\n",
    "#1. forgot to add : on the if condition line\n",
    "#2. equality sign is == and not = (a single = is assignment)\n",
    "#3. indent for no reason (when no if / elif / else was written)\n",
    "#4. forgot to indent the next line after the if / elif / else statement"
   ]
  },
  {
   "cell_type": "markdown",
   "metadata": {},
   "source": [
    "#### Question 19 (Debugging)"
   ]
  },
  {
   "cell_type": "code",
   "execution_count": 21,
   "metadata": {},
   "outputs": [
    {
     "ename": "IndentationError",
     "evalue": "unexpected indent (<ipython-input-21-a1aaebc30eb4>, line 2)",
     "output_type": "error",
     "traceback": [
      "\u001b[1;36m  File \u001b[1;32m\"<ipython-input-21-a1aaebc30eb4>\"\u001b[1;36m, line \u001b[1;32m2\u001b[0m\n\u001b[1;33m    print(x)\u001b[0m\n\u001b[1;37m    ^\u001b[0m\n\u001b[1;31mIndentationError\u001b[0m\u001b[1;31m:\u001b[0m unexpected indent\n"
     ]
    }
   ],
   "source": [
    "x = 3\n",
    "    print(x)"
   ]
  },
  {
   "cell_type": "code",
   "execution_count": null,
   "metadata": {},
   "outputs": [],
   "source": [
    "#What is the root cause of the error?\n",
    "#1. forgot to add : on the if condition line\n",
    "#2. equality sign is == and not = (a single = is assignment)\n",
    "#3. indent for no reason (when no if / elif / else was written)\n",
    "#4. forgot to indent the next line after the if / elif / else statement"
   ]
  },
  {
   "cell_type": "markdown",
   "metadata": {},
   "source": [
    "#### Question 20 (Debugging)"
   ]
  },
  {
   "cell_type": "code",
   "execution_count": 23,
   "metadata": {},
   "outputs": [
    {
     "ename": "SyntaxError",
     "evalue": "invalid syntax (<ipython-input-23-c368e352ce14>, line 2)",
     "output_type": "error",
     "traceback": [
      "\u001b[1;36m  File \u001b[1;32m\"<ipython-input-23-c368e352ce14>\"\u001b[1;36m, line \u001b[1;32m2\u001b[0m\n\u001b[1;33m    if x = 3:\u001b[0m\n\u001b[1;37m         ^\u001b[0m\n\u001b[1;31mSyntaxError\u001b[0m\u001b[1;31m:\u001b[0m invalid syntax\n"
     ]
    }
   ],
   "source": [
    "x = 3\n",
    "if x = 3:\n",
    "    print(x)"
   ]
  },
  {
   "cell_type": "code",
   "execution_count": null,
   "metadata": {},
   "outputs": [],
   "source": [
    "#What is the root cause of the error?\n",
    "#1. forgot to add : on the if condition line\n",
    "#2. equality sign is == and not = (a single = is assignment)\n",
    "#3. indent for no reason (when no if / elif / else was written)\n",
    "#4. forgot to indent the next line after the if / elif / else statement"
   ]
  }
 ],
 "metadata": {
  "kernelspec": {
   "display_name": "Python 3",
   "language": "python",
   "name": "python3"
  },
  "language_info": {
   "codemirror_mode": {
    "name": "ipython",
    "version": 3
   },
   "file_extension": ".py",
   "mimetype": "text/x-python",
   "name": "python",
   "nbconvert_exporter": "python",
   "pygments_lexer": "ipython3",
   "version": "3.7.3"
  }
 },
 "nbformat": 4,
 "nbformat_minor": 2
}
