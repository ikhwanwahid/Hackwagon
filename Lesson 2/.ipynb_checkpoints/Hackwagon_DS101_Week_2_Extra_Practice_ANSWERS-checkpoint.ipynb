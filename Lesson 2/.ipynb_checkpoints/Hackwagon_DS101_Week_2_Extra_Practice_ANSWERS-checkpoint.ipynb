{
 "cells": [
  {
   "cell_type": "markdown",
   "metadata": {},
   "source": [
    "<img src=\"https://i2.wp.com/hackwagon.com/wp-content/uploads/2017/02/Logo-Web-Export.png?ssl=1\" width=200/>\n",
    "\n",
    "<h1> Hackwagon Academy - DS101 Week 2 Extra Practice ANSWERS</h1>\n",
    "\n",
    "This notebook consists of <b>ANSWERS</b> to DS101 Week 2 Extra Practice. Do give them a try first before looking at this notebook!\n"
   ]
  },
  {
   "cell_type": "markdown",
   "metadata": {},
   "source": [
    "## Part I: Coding Practice (Nested List and Dictionary)\n",
    "\n",
    "<p>The following questions serve to strengthen your understanding in handling data from nested collections. The following collection structure are some of the common ways which people use to store their data for processing later on. </p>\n"
   ]
  },
  {
   "cell_type": "markdown",
   "metadata": {},
   "source": [
    "### Question 1 (Nested List)\n",
    "<font color='red'><b>Run this cell first to get the `linked_data`</b></font>"
   ]
  },
  {
   "cell_type": "code",
   "execution_count": 1,
   "metadata": {},
   "outputs": [],
   "source": [
    "linked_data = [\n",
    "    ['Rick Jones', 'Software Engineer', 909802],\n",
    "    ['Marissa Meyer', 'COO', 9320809],\n",
    "    ['Avril Ting', 'MD', 932846]\n",
    "]"
   ]
  },
  {
   "cell_type": "markdown",
   "metadata": {},
   "source": [
    "##### Q1a\n",
    "Extract Marissa's salary and print her name + salary\n",
    "\n",
    "**Expected output**: \n",
    "    \n",
    "    Marissa Meyer has a salary of $ 9320809"
   ]
  },
  {
   "cell_type": "code",
   "execution_count": 2,
   "metadata": {},
   "outputs": [
    {
     "name": "stdout",
     "output_type": "stream",
     "text": [
      "Marissa Meyer has a salary of $ 9320809\n"
     ]
    }
   ],
   "source": [
    "#Q1a) list uses [] and index (numbers) to READ data within a list\n",
    "\n",
    "name = linked_data[1][0] #retrieve name from row index 1 and column index 0\n",
    "salary = linked_data[1][2] #retrieve salary from row index 1 and column index 2\n",
    "print(name, \"has a salary of $\", salary)"
   ]
  },
  {
   "cell_type": "markdown",
   "metadata": {},
   "source": [
    "##### Q1b\n",
    "Change Marissa's salary in linked_data to 78973930 & print out her data\n",
    "\n",
    "**Expected output**: \n",
    "\n",
    "    \n",
    "    ['Marissa Meyer', 'COO', 78973930]"
   ]
  },
  {
   "cell_type": "code",
   "execution_count": 7,
   "metadata": {},
   "outputs": [
    {
     "name": "stdout",
     "output_type": "stream",
     "text": [
      "['Marissa Meyer', 'COO', 78973930, 45]\n"
     ]
    }
   ],
   "source": [
    "#Q1b) list uses [] and index (numbers) and the = sign to UPDATE data within a list\n",
    "\n",
    "linked_data[1][2] = 78973930 #edit directly from row index 1 column index 2\n",
    "print(linked_data[1])"
   ]
  },
  {
   "cell_type": "markdown",
   "metadata": {},
   "source": [
    "##### Q1c\n",
    "Replace Avril Ting's entire data with the following ['Avril Tan', 'None', 0] & print `linked_data`\n",
    "\n",
    "**Expected output**: \n",
    "\n",
    "    [\n",
    "        ['Rick Jones', 'Software Engineer', 909802],\n",
    "        ['Marissa Meyer', 'COO', 78973930],\n",
    "        ['Avril Tan', 'None', 0]\n",
    "    ]\n",
    "    "
   ]
  },
  {
   "cell_type": "code",
   "execution_count": 5,
   "metadata": {},
   "outputs": [
    {
     "name": "stdout",
     "output_type": "stream",
     "text": [
      "[['Rick Jones', 'Software Engineer', 909802], ['Marissa Meyer', 'COO', 78973930], ['Avril Tan', 'None', 0]]\n"
     ]
    }
   ],
   "source": [
    "#Q1c) list uses [] and index (numbers) and the = sign to UPDATE data within a list\n",
    "\n",
    "linked_data[2] = ['Avril Tan', 'None', 0] #edit the ENTIRE row index 2\n",
    "print(linked_data)"
   ]
  },
  {
   "cell_type": "markdown",
   "metadata": {},
   "source": [
    "##### Q1d\n",
    "Add age data using the index method & print the `linked_data`. Age of the three person respectively: 20, 45, 55\n",
    "\n",
    "Hint: Remember the_list[0] = 1000?\n",
    "\n",
    "**Expected output**: \n",
    "\n",
    "    [\n",
    "        ['Rick Jones', 'Software Engineer', 909802, 20],\n",
    "        ['Marissa Meyer', 'COO', 78973930, 45],\n",
    "        ['Avril Tan', 'None', 0, 55]\n",
    "    ]\n",
    "    "
   ]
  },
  {
   "cell_type": "code",
   "execution_count": 6,
   "metadata": {},
   "outputs": [
    {
     "name": "stdout",
     "output_type": "stream",
     "text": [
      "[['Rick Jones', 'Software Engineer', 909802, 20], ['Marissa Meyer', 'COO', 78973930, 45], ['Avril Tan', 'None', 0, 55]]\n"
     ]
    }
   ],
   "source": [
    "#Q1d) list uses .append() to ADD data within a list\n",
    "\n",
    "linked_data[0].append(20) #append 20 into row index 0\n",
    "linked_data[1].append(45) #append 45 into row index 1\n",
    "linked_data[2].append(55) #append 55 into row index 2\n",
    "print(linked_data)"
   ]
  },
  {
   "cell_type": "markdown",
   "metadata": {},
   "source": [
    "### Question 2 (Nested Dictionary)\n",
    "<font color='red'><b>Run this cell first to get the `linked_data`</b></font>"
   ]
  },
  {
   "cell_type": "code",
   "execution_count": 12,
   "metadata": {},
   "outputs": [],
   "source": [
    "linked_data = [{'Name':'Rick Jones', 'Job':'Software Engineer', 'Salary':909802},\n",
    "               {'Name':'Marissa Meyer', 'Job':'COO', 'Salary':9320809},\n",
    "               {'Name':'Avril Ting', 'Job':'MD', 'Salary':932846}]"
   ]
  },
  {
   "cell_type": "markdown",
   "metadata": {},
   "source": [
    "##### Q2a\n",
    "Extract Marissa's salary and print her name + salary\n",
    "\n",
    "**Expected output**: \n",
    "    \n",
    "    Marissa Meyer has a salary of $ 9320809"
   ]
  },
  {
   "cell_type": "code",
   "execution_count": 13,
   "metadata": {},
   "outputs": [
    {
     "name": "stdout",
     "output_type": "stream",
     "text": [
      "Marissa Meyer has a salary of $ 9320809\n"
     ]
    }
   ],
   "source": [
    "#Q2a) dictionary uses [] and index (numbers) to READ data within a dictionary\n",
    "\n",
    "name = linked_data[1]['Name'] #retrieve name from row index 1 and from dictionary using the key, \"Name\"\n",
    "salary = linked_data[1]['Salary'] #retrieve salary from row index 1 and from dictionary using the key, \"Salary\"\n",
    "print(name, \"has a salary of $\", salary)"
   ]
  },
  {
   "cell_type": "markdown",
   "metadata": {},
   "source": [
    "##### Q2b\n",
    "Change Marissa's salary in linked_data to 78973930 & print out her data\n",
    "\n",
    "**Expected output**: \n",
    "    \n",
    "    { \n",
    "        'Name':'Marissa Meyer', \n",
    "        'Job':'COO', \n",
    "        'Salary':78973930\n",
    "    }"
   ]
  },
  {
   "cell_type": "code",
   "execution_count": 14,
   "metadata": {},
   "outputs": [
    {
     "name": "stdout",
     "output_type": "stream",
     "text": [
      "{'Name': 'Marissa Meyer', 'Job': 'COO', 'Salary': 78973930}\n"
     ]
    }
   ],
   "source": [
    "#Q2b) dictionary uses [] and key (string) and the = sign to UPDATE data within a dictionary\n",
    "\n",
    "linked_data[1]['Salary'] = 78973930 #edit directly from row index 1 and from dictionary using the key, \"Salary\"\n",
    "print(linked_data[1])"
   ]
  },
  {
   "cell_type": "markdown",
   "metadata": {},
   "source": [
    "##### Q2c\n",
    "Replace Avril Ting's entire data with the following `{'Name':'Avril Tan', 'Job':'None', 'Salary':0}` & print `linked_data`\n",
    "\n",
    "**Expected output**: \n",
    "\n",
    "    [\n",
    "        {\n",
    "            'Name':'Rick Jones', \n",
    "            'Job':'Software Engineer', \n",
    "            'Salary':909802\n",
    "        },\n",
    "        {\n",
    "            'Name':'Marissa Meyer', \n",
    "            'Job':'COO', \n",
    "            'Salary':78973930\n",
    "        },\n",
    "        {\n",
    "            'Name':'Avril Tan', \n",
    "            'Job':'None', \n",
    "            'Salary':0\n",
    "        }\n",
    "    ]\n",
    "    "
   ]
  },
  {
   "cell_type": "code",
   "execution_count": 15,
   "metadata": {},
   "outputs": [
    {
     "name": "stdout",
     "output_type": "stream",
     "text": [
      "[{'Name': 'Rick Jones', 'Job': 'Software Engineer', 'Salary': 909802}, {'Name': 'Marissa Meyer', 'Job': 'COO', 'Salary': 78973930}, {'Name': 'Avril Tan', 'Job': 'None', 'Salary': 0}]\n"
     ]
    }
   ],
   "source": [
    "#Q2c) dictionary uses [] and key (string) and the = sign to UPDATE data within a dictionary\n",
    "\n",
    "linked_data[2]['Name'] = 'Avril Tan' #edit directly from row index 2 and from dictionary using the key, \"Name\"\n",
    "linked_data[2]['Job'] = 'None' #edit directly from row index 2 and from dictionary using the key, \"Job\"\n",
    "linked_data[2]['Salary'] = 0 #edit directly from row index 2 and from dictionary using the key, \"salary\"\n",
    "print(linked_data)"
   ]
  },
  {
   "cell_type": "markdown",
   "metadata": {},
   "source": [
    "##### Q2d\n",
    "Add age data using the index method & print the `linked_data`. Age of the three person respectively: 20, 45, 55\n",
    "\n",
    "Hint: Remember dict['key'] = 1000?\n",
    "\n",
    "Expected output:\n",
    "\n",
    "    [\n",
    "        {\n",
    "            'Name':'Rick Jones', \n",
    "            'Job':'Software Engineer', \n",
    "            'Salary':909802, \n",
    "            'age':20\n",
    "        },\n",
    "        {\n",
    "            'Name':'Marissa Meyer', \n",
    "            'Job':'COO', \n",
    "            'Salary':78973930, \n",
    "            'age':45\n",
    "        },\n",
    "        {\n",
    "            'Name':'Avril Tan', \n",
    "            'Job':'None', \n",
    "            'Salary':0, \n",
    "            'age':55\n",
    "        }\n",
    "    ]\n",
    "    "
   ]
  },
  {
   "cell_type": "code",
   "execution_count": 16,
   "metadata": {},
   "outputs": [
    {
     "name": "stdout",
     "output_type": "stream",
     "text": [
      "[{'Name': 'Rick Jones', 'Job': 'Software Engineer', 'Salary': 909802, 'age': 20}, {'Name': 'Marissa Meyer', 'Job': 'COO', 'Salary': 78973930, 'age': 45}, {'Name': 'Avril Tan', 'Job': 'None', 'Salary': 0, 'age': 55}]\n"
     ]
    }
   ],
   "source": [
    "#Q2d) list uses .append() to ADD data within a list\n",
    "\n",
    "linked_data[0]['age'] = 20 #add 20 into row index 0 into the dictionary with a key titled, \"age\"\n",
    "linked_data[1]['age'] = 45 #add 45 into row index 1 into the dictionary with a key titled, \"age\"\n",
    "linked_data[2]['age'] = 55 #add 55 into row index 2 into the dictionary with a key titled, \"age\"\n",
    "print(linked_data)"
   ]
  },
  {
   "cell_type": "markdown",
   "metadata": {},
   "source": [
    "### Question 3 (Nested List and Dictionary)\n",
    "<font color='red'><b>Run this cell first to get the `Department_Employee_data`</b></font>"
   ]
  },
  {
   "cell_type": "code",
   "execution_count": 18,
   "metadata": {},
   "outputs": [],
   "source": [
    "Department_Employee_data= [{'Purchase': ['John', 'Avery', 'Obama'], 'Sales': ['Orea', 'Stark']},\n",
    "                           {'Purchase': [2000, 4000, 10000], 'Sales': [2344, 32442]}]"
   ]
  },
  {
   "cell_type": "markdown",
   "metadata": {},
   "source": [
    "#### Q3a\n",
    "Extract Orea's salary and print her name + salary\n",
    "\n",
    "**Expected output**: \n",
    "    \n",
    "    Orea has a salary of $ 2344"
   ]
  },
  {
   "cell_type": "code",
   "execution_count": 19,
   "metadata": {},
   "outputs": [
    {
     "name": "stdout",
     "output_type": "stream",
     "text": [
      "Orea has a salary of 2344\n"
     ]
    }
   ],
   "source": [
    "#Q3a) list uses [] and index (numbers) to READ data within a list while dictionary uses [] and index (numbers)\n",
    "\n",
    "#to READ data within a dictionary\n",
    "name = Department_Employee_data[0]['Sales'][0] #retrieve from row index 0, key \"Sales\" and element index 0\n",
    "salary = Department_Employee_data[1]['Sales'][0] #retrieve from row index 1, key \"Sales\" and element index 0\n",
    "print(name,\"has a salary of\",salary)"
   ]
  },
  {
   "cell_type": "markdown",
   "metadata": {},
   "source": [
    "#### Q3b\n",
    "Change Orea's salary to 2398 and print the entire Sales department's salary\n",
    "\n",
    "**Expected output**: \n",
    "    \n",
    "    [2398, 32442]"
   ]
  },
  {
   "cell_type": "code",
   "execution_count": 20,
   "metadata": {},
   "outputs": [
    {
     "name": "stdout",
     "output_type": "stream",
     "text": [
      "[2398, 32442]\n"
     ]
    }
   ],
   "source": [
    "#Q3b) list uses [] and index (numbers) and the = sign to UPDATE data within a list while \n",
    "\n",
    "#dictionary uses [] and key (string) and the = sign to UPDATE data within a dictionary\n",
    "Department_Employee_data[1]['Sales'][0] = 2398 #edit directly on row index 1, key \"Sales\" and element index 0\n",
    "print(Department_Employee_data[1]['Sales'])"
   ]
  },
  {
   "cell_type": "markdown",
   "metadata": {},
   "source": [
    "## Part II: Multiple Choice Questions\n",
    "\n",
    "\n",
    "    (Question 4) \n",
    "      Answer: 4\n",
    "      Because in dictionary keys are unqiue. When you have second key with a different value. \n",
    "      The value of the second key will overwrite the value of the first key.\n",
    "      \n",
    "    (Question 5) \n",
    "      Answer: 4\n",
    "      += will allow you to add value on top of the current value\n",
    "      since our key, [\"vincent\"] was originally 20, the code += 10, will add 10 on top of 20. Thus [\"vincent\"] is now 30\n",
    "      \n",
    "    (Question 6) \n",
    "      Answer: 1\n",
    "      As x is 2. The first if condition will be fulfilled, which prints \"1\". This will also ignore the else since if is true.\n",
    "      And the secoond if condition will also be fulfilled, which prints \"2\". This will also ignore the else since if is true.\n",
    "      Lastly, since print(4) is outside of the if else block. It will get printed no matter what happens\n",
    "      \n",
    "    (Question 7) \n",
    "      Answer: 3\n",
    "      nothing will be printed. As \"12345678\" is NOT the same as [\"12345678\"]. But if you type\n",
    "      if \"12345678\" in [\"12345678\"]:\n",
    "      The if condition will be true, as \"12345678\" is indeed within the list, [\"12345678\"].\n",
    "      \n",
    "    (Question 8) \n",
    "      Answer: 3\n",
    "      It is a keyerror. Keyerror means when you are trying to use a key that does NOT exist within the dictionary to\n",
    "      retrieve a value from the dictionary.\n",
    "        \n",
    "    (Question 9) \n",
    "      Answer: 3\n",
    "      We often see students mistaken key and index with dictionary and list even on later labs. Some students like to use \n",
    "      key on list and index on dictionary. Be extra careful on your variable type always. It could be misleading sometimes.\n",
    "      It is a keyerror. Keyerror means when you are trying to use a key that does NOT exist within the dictionary to\n",
    "      retrieve a value from the dictionary.\n",
    "      \n",
    "    (Question 10) \n",
    "      Answer: 2\n",
    "      We also often see students mistaken to use .append() on dictionary. When you are supposed to just type\n",
    "      dictionary_name [key] = value\n",
    "      to append a value into a specific key in dictionray (no matter whether the exist already exist or not)\n",
    "      \n",
    "    (Question 11) \n",
    "      Answer: 2\n",
    "      .append(), .extend() and .remove() are all functions of list. You shouldn't be using them on dictionary or even tuples\n",
    "      \n",
    "    (Question 12) \n",
    "      Answer: 4\n",
    "      Another classic example of mistaking key and index. list uses index.\n",
    "      \n",
    "    (Question 13) \n",
    "      Answer: 1\n",
    "      if statements must always always always ends with a : \n",
    "      \n",
    "    (Question 14) \n",
    "      Answer: 2\n",
    "      There isn't any error, but from here we can learn that, if only an integer with no signs (e.g == , <= or >) \n",
    "      The if condition is still True. Therefore, any integer placed into the if condition will be treated as True.\n",
    "      This probably might NOT be the exactly your intention. Since, whenever we use if, we would like to check something.\n",
    "      \n",
    "    (Question 15)\n",
    "      Answer: 2\n",
    "      So, apparently strings are also treated as True always. Becareful of these!\n",
    "        \n",
    "    (Question 16)\n",
    "      Answer: 3\n",
    "      You can NEVER start a elif block or a else block without the if block.\n",
    "      possible ones are as follows, \n",
    "      1. just a if block\n",
    "      2. if block with a elif block\n",
    "      3. if block with a else block\n",
    "      4. if block with a elif block and a else block\n",
    "      4. if block with many elif blocks and a else block\n",
    "        \n",
    "    (Question 17)\n",
    "      Answer: 3\n",
    "      Even though, there's already a if block before the else block. The code still did not work.\n",
    "      The reason is because, the else block is NOT on the same level as the if block.\n",
    "      In fact, the else block is WITHIN the if block.\n",
    "      Take extra note on the indentation. you will see that the else block is one extra indentation more than the if block\n",
    "      Therefore, it will NOT treat the previous if block as it's starting point.\n",
    "      \n",
    "    (Question 18)\n",
    "      Answer: 4\n",
    "      After every if / elif / else statement, the following line MUST be indented. Take note of the error message. \n",
    "      It would be useful when you are coding long codes and sometimes forgot where you coding.\n",
    "      \n",
    "    (Question 19)\n",
    "      Answer: 3\n",
    "      You indent something for no reason. Take note of the error message. It would be useful when you are coding long codes \n",
    "      and sometimes forgot where you coding.\n",
    "      \n",
    "    (Question 20)\n",
    "      Answer: 2\n",
    "      == is equality sign (means to check with something is the same as the other)\n",
    "      = is assignemnt sign (means you assignment the right side (value) to the left side (variable name)) "
   ]
  },
  {
   "cell_type": "code",
   "execution_count": null,
   "metadata": {},
   "outputs": [],
   "source": []
  }
 ],
 "metadata": {
  "kernelspec": {
   "display_name": "Python 3",
   "language": "python",
   "name": "python3"
  },
  "language_info": {
   "codemirror_mode": {
    "name": "ipython",
    "version": 3
   },
   "file_extension": ".py",
   "mimetype": "text/x-python",
   "name": "python",
   "nbconvert_exporter": "python",
   "pygments_lexer": "ipython3",
   "version": "3.7.3"
  }
 },
 "nbformat": 4,
 "nbformat_minor": 2
}
