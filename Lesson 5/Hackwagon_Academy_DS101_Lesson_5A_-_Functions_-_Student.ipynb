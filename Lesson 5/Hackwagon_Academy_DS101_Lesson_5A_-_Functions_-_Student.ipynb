{
 "cells": [
  {
   "cell_type": "markdown",
   "metadata": {},
   "source": [
    "<center><img src=\"https://i2.wp.com/hackwagon.com/wp-content/uploads/2017/02/Logo-Web-Export.png?ssl=1\" width=200/></center>\n",
    "\n",
    "<h1> Hackwagon Academy DS101 Lesson 5A </h1>\n",
    "<h2> Functions</h2> \n",
    "<h3> Lesson Outline </h3>\n",
    "\n",
    "- 1. [Functions](#1)\n",
    "- 2. [Parameters](#2)\n",
    "    - 2.1 [Default Parameters](#2.1)\n",
    "    - 2.2 [Keyword Arguments](#2.2)\n",
    "    - 2.3 [`Return` Ends A Function](#2.3)\n",
    "- 3. [In-class Practice](#3)\n",
    "    - [Practice I](#P1)\n",
    "    - [Practice II - Summary Statistics](#P2)"
   ]
  },
  {
   "cell_type": "markdown",
   "metadata": {},
   "source": [
    "<a id='1'><h2><img src=\"https://images.vexels.com/media/users/3/153978/isolated/preview/483ef8b10a46e28d02293a31570c8c56-warning-sign-colored-stroke-icon-by-vexels.png\" width=25 align=\"left\"><font color=\"salmon\">&nbsp;1.</font><font color=\"salmon\"> Functions </font> </h2></a>\n",
    "\n",
    "You can **\"call\"** functions to perform an action for you, very much like Excel's functions. \n",
    "\n",
    "Python's built-in functions:\n",
    "\n",
    "| Function | Purpose |\n",
    "|------|------|\n",
    "| `sum(x)` | Summing a list |\n",
    "| `len(x)` | Getting the length / size of a list |\n",
    "| `min(x)` | Getting the min of a list |\n",
    "| `max(x)` | Getting the max of a list |\n",
    "| `sorted(x)` | Getting a sorted copy of the list |\n",
    "| `str(x)` | Convert `x` to a str |\n",
    "| `int(x)` | Convert `x` to a int |\n",
    "| `float(x)` | Convert `x` to a float |\n",
    "\n",
    "<hr></hr>\n",
    "\n",
    "**In programming, functions are like giftboxes of code written by others / ourselves that we can use conveniently.**\n",
    "\n",
    "`print` is a function we've been using all along. The source code for print can be found [here](https://github.com/python/cpython/blob/2.7/Python/bltinmodule.c#L1580)."
   ]
  },
  {
   "cell_type": "code",
   "execution_count": null,
   "metadata": {
    "ExecuteTime": {
     "end_time": "2019-07-01T17:22:33.632276Z",
     "start_time": "2019-07-01T17:22:33.629647Z"
    },
    "scrolled": false
   },
   "outputs": [],
   "source": [
    "print(\"hello world!\")"
   ]
  },
  {
   "cell_type": "markdown",
   "metadata": {},
   "source": [
    "Why do we want to build functions:\n",
    "1. Makes code reusable\n",
    "2. Provides structure for longer programmes\n",
    "3. Makes it easier for other programmers to understand your work"
   ]
  },
  {
   "cell_type": "code",
   "execution_count": 96,
   "metadata": {
    "ExecuteTime": {
     "end_time": "2019-07-01T17:22:33.638538Z",
     "start_time": "2019-07-01T17:22:33.634089Z"
    },
    "cell_style": "center"
   },
   "outputs": [
    {
     "name": "stdout",
     "output_type": "stream",
     "text": [
      "11\n",
      "126166\n",
      "1454639\n"
     ]
    }
   ],
   "source": [
    "data1 = [1, 2, 4,1 , 3]\n",
    "data2 = [121598, 2147 ,2421]\n",
    "data3 = [1231278, 2148 , 218342, 2871]\n",
    "\n",
    "print(sum(data1))\n",
    "print(sum(data2))\n",
    "print(sum(data3))"
   ]
  },
  {
   "cell_type": "markdown",
   "metadata": {},
   "source": [
    "<hr>"
   ]
  },
  {
   "cell_type": "markdown",
   "metadata": {
    "ExecuteTime": {
     "end_time": "2019-07-01T16:15:25.585123Z",
     "start_time": "2019-07-01T16:15:25.581105Z"
    }
   },
   "source": [
    "### <font color=\"salmon\">Components of a function:</font>\n",
    "1. `Name`\n",
    "2. `Parameters` <font color=\"grey\">_input_</font>\n",
    "3. `Returned value` <font color=\"grey\">_output_</font>\n",
    "\n",
    "<img src=\"https://support.content.office.net/en-us/media/5feb1ba8-a0fb-49d1-8188-dcf1ba878a42.jpg\" align=\"right\">\n",
    "\n",
    "<img src='https://i.imgur.com/jhpovl8.png' width=\"350\" align='left'>"
   ]
  },
  {
   "cell_type": "markdown",
   "metadata": {},
   "source": [
    "To use the function, just type the exact name of the function `get_message()`. "
   ]
  },
  {
   "cell_type": "code",
   "execution_count": 4,
   "metadata": {
    "ExecuteTime": {
     "end_time": "2019-07-01T17:22:33.642909Z",
     "start_time": "2019-07-01T17:22:33.640843Z"
    },
    "scrolled": true
   },
   "outputs": [],
   "source": [
    "# Creating our very first function:\n",
    "def get_message():\n",
    "    print(\"hello,there!\")\n",
    "\n"
   ]
  },
  {
   "cell_type": "code",
   "execution_count": 5,
   "metadata": {},
   "outputs": [
    {
     "name": "stdout",
     "output_type": "stream",
     "text": [
      "hello,there!\n"
     ]
    }
   ],
   "source": [
    "get_message()"
   ]
  },
  {
   "cell_type": "markdown",
   "metadata": {
    "ExecuteTime": {
     "end_time": "2019-06-01T12:18:50.877402Z",
     "start_time": "2019-06-01T12:18:50.873868Z"
    }
   },
   "source": [
    "<div class=\"alert alert-info\">Once a function is created, it is stored only in the current Jupyter Notebook session, just like a variable.</div>"
   ]
  },
  {
   "cell_type": "markdown",
   "metadata": {},
   "source": [
    "<hr>"
   ]
  },
  {
   "cell_type": "markdown",
   "metadata": {},
   "source": [
    "<a id='2'><h2><img src=\"https://images.vexels.com/media/users/3/153978/isolated/preview/483ef8b10a46e28d02293a31570c8c56-warning-sign-colored-stroke-icon-by-vexels.png\" width=25 align=\"left\"><font color=\"salmon\">&nbsp;2.</font><font color=\"salmon\"> Parameters </font> </h2></a>\n",
    "\n",
    "> `Parameters` are like variables, created to store the function's <font color=\"darkorange\">**INPUTS**</font> <i>(Cell 1 Line 1)</i>.\n",
    "\n",
    "> `Parameters` will assume the values of `arguments` which are supplied by whoever calls the function <i>(Cell 2 Line 1)</i>.\n",
    "\n",
    "> What you choose to `return` will be the function's <font color=\"navy\">**OUTPUT**</font> <i>(Behind the scenes Line 4)</i>.\n",
    "\n",
    "Functions can have any number of parameters. Let's see the following as an example. \n",
    "\n",
    "\n",
    "\n",
    "<img src=\"https://www.cyberphysics.co.uk/graphics/graphs/ymxc.gif\" width=\"300\" align=\"right\">\n",
    "\n",
    "<img src=\"https://i.imgur.com/gOrGBvL.png\" width=\"500\" align=\"left\">"
   ]
  },
  {
   "cell_type": "code",
   "execution_count": 6,
   "metadata": {
    "ExecuteTime": {
     "end_time": "2019-07-01T17:22:33.646498Z",
     "start_time": "2019-07-01T17:22:33.644724Z"
    }
   },
   "outputs": [],
   "source": [
    "# Create the y_1 function:\n",
    "def y_1(m,x,c):\n",
    "    return m*x+c\n",
    "\n"
   ]
  },
  {
   "cell_type": "code",
   "execution_count": 11,
   "metadata": {},
   "outputs": [
    {
     "name": "stdout",
     "output_type": "stream",
     "text": [
      "25\n"
     ]
    }
   ],
   "source": [
    "# Call the y_1 function:\n",
    "result=y_1(10,2,5)\n",
    "print(result)\n"
   ]
  },
  {
   "cell_type": "markdown",
   "metadata": {},
   "source": [
    "<a id='2.1'><h3>2.1 Default Arguments</h3></a>\n",
    "\n",
    "We can also specify default parameters within a function. <br>\n",
    "If we don't specify any arguments to the parameters, the default values will take over instead.\n",
    "\n",
    "<img src=\"https://i.imgur.com/UeglqcQ.png\" width=500>"
   ]
  },
  {
   "cell_type": "code",
   "execution_count": 12,
   "metadata": {
    "ExecuteTime": {
     "end_time": "2019-07-01T17:22:33.650522Z",
     "start_time": "2019-07-01T17:22:33.648564Z"
    }
   },
   "outputs": [],
   "source": [
    "# Create the y_2 function:\n",
    "def y_2(m=2,x=2, c=2):\n",
    "    return m*x+c\n",
    "\n"
   ]
  },
  {
   "cell_type": "code",
   "execution_count": 97,
   "metadata": {
    "ExecuteTime": {
     "end_time": "2019-07-01T17:22:33.707981Z",
     "start_time": "2019-07-01T17:22:33.652196Z"
    }
   },
   "outputs": [
    {
     "name": "stdout",
     "output_type": "stream",
     "text": [
      "8\n",
      "[4, 3, 2, 1, -1]\n",
      "{'a': 3, 'b': 4} {'a': 3, 'b': 4}\n"
     ]
    }
   ],
   "source": [
    "result = y_2(c=4) \n",
    "print(result)\n",
    "\n",
    "p =sorted([1,3,2,4,-1], reverse= True)\n",
    "print(p)\n",
    "\n",
    "g =dict(a=3,b=4)\n",
    "g1 ={\"a\":3,\"b\":4}\n",
    "print(g,g1)"
   ]
  },
  {
   "cell_type": "markdown",
   "metadata": {},
   "source": [
    "By specifying default arguments, we can omit those arguments when we want to use them. \n",
    "\n",
    "<img src=\"https://i.imgur.com/rLuRSuV.png\" width=\"500\">"
   ]
  },
  {
   "cell_type": "code",
   "execution_count": null,
   "metadata": {
    "ExecuteTime": {
     "end_time": "2019-07-01T17:22:33.650522Z",
     "start_time": "2019-07-01T17:22:33.648564Z"
    }
   },
   "outputs": [],
   "source": [
    "def y_3(m=2, x=2, c=2):\n",
    "    return m * x + c"
   ]
  },
  {
   "cell_type": "code",
   "execution_count": null,
   "metadata": {
    "ExecuteTime": {
     "end_time": "2019-07-01T17:22:33.707981Z",
     "start_time": "2019-07-01T17:22:33.652196Z"
    }
   },
   "outputs": [],
   "source": [
    "result = y_3() \n",
    "print(result)"
   ]
  },
  {
   "cell_type": "markdown",
   "metadata": {},
   "source": [
    "<a id='2.2'><h3>2.2 Keyword Arguments</h3></a>\n",
    "\n",
    "We can also be very specific about what values to put for each argument, **without regard for their position**. \n",
    "\n",
    "<img src=\"https://i.imgur.com/DaUwRP2.png\" width=500>"
   ]
  },
  {
   "cell_type": "code",
   "execution_count": 27,
   "metadata": {
    "ExecuteTime": {
     "end_time": "2019-07-01T17:22:33.709567Z",
     "start_time": "2019-07-01T17:22:33.640Z"
    }
   },
   "outputs": [],
   "source": [
    "def y_4(m=2, x=2, c=2):\n",
    "    return m * x + c\n"
   ]
  },
  {
   "cell_type": "code",
   "execution_count": 28,
   "metadata": {
    "ExecuteTime": {
     "end_time": "2019-07-01T17:22:33.710440Z",
     "start_time": "2019-07-01T17:22:33.641Z"
    }
   },
   "outputs": [
    {
     "name": "stdout",
     "output_type": "stream",
     "text": [
      "20\n"
     ]
    }
   ],
   "source": [
    "result = y_4(c=10, m=2, x=5)\n",
    "print(result)"
   ]
  },
  {
   "cell_type": "markdown",
   "metadata": {},
   "source": [
    "<a id='2.3'><h3>2.3 <code>Return</code> Ends a Function</h3></a>\n",
    "\n",
    "The `return` keyword is special because it not only gives the ouput of a function, but it also **ends** that function."
   ]
  },
  {
   "cell_type": "code",
   "execution_count": 109,
   "metadata": {
    "ExecuteTime": {
     "end_time": "2019-07-01T17:22:33.711725Z",
     "start_time": "2019-07-01T17:22:33.644Z"
    }
   },
   "outputs": [
    {
     "name": "stdout",
     "output_type": "stream",
     "text": [
      "23\n",
      "1\n"
     ]
    }
   ],
   "source": [
    "def my_sum(numbers):\n",
    "    total = 0\n",
    "    for number in numbers:\n",
    "        total += number\n",
    "    return(total)\n",
    "    # This code will never be executed\n",
    "    total += 10\n",
    "    return total\n",
    "\n",
    "a = my_sum([4,2,8,9])\n",
    "print(a)\n",
    "\n",
    "def func(a):\n",
    "    if a > 10:\n",
    "        return 1\n",
    "    # This is returned only if a <= 10:\n",
    "    return 2\n",
    "    # This will never be returned\n",
    "    return 3\n",
    "\n",
    "print(func(11))"
   ]
  },
  {
   "cell_type": "code",
   "execution_count": null,
   "metadata": {
    "ExecuteTime": {
     "end_time": "2019-07-01T17:22:33.712720Z",
     "start_time": "2019-07-01T17:22:33.645Z"
    }
   },
   "outputs": [],
   "source": [
    "func()"
   ]
  },
  {
   "cell_type": "markdown",
   "metadata": {},
   "source": [
    "<hr>"
   ]
  },
  {
   "cell_type": "markdown",
   "metadata": {},
   "source": [
    "<a id=\"3\"></a>\n",
    "<center><h1><font color=\"slateblue\"> In-class Practice </font></h1></center>"
   ]
  },
  {
   "cell_type": "markdown",
   "metadata": {},
   "source": [
    "<hr>"
   ]
  },
  {
   "cell_type": "markdown",
   "metadata": {},
   "source": [
    "<a id=\"P1\"><h2><img src=\"https://cdn.shopify.com/s/files/1/1200/7374/products/book_aec28e76-52ec-44ab-bc01-41df1279c89f_550x825.png?v=1473897430\" width=25 align=\"left\"> <font color=\"darkorange\"> &nbsp; Practice I </font><font color=\"skyblue\"> * </font></h2></a>\n",
    "\n",
    "### Question 1 \n",
    "\n",
    "> Write a function named `larger` that has 2 parameters `x` and `y` (both ints) and `returns` the larger of the two. <br> <font color=\"grey\">If the two numbers are equal, return either</font>"
   ]
  },
  {
   "cell_type": "code",
   "execution_count": 107,
   "metadata": {
    "ExecuteTime": {
     "end_time": "2019-07-01T17:22:33.713705Z",
     "start_time": "2019-07-01T17:22:33.648Z"
    }
   },
   "outputs": [
    {
     "name": "stdout",
     "output_type": "stream",
     "text": [
      "10\n"
     ]
    }
   ],
   "source": [
    "# Your code here:\n",
    "def larger(x,y):\n",
    "    if x>y:\n",
    "        return(x)\n",
    "# Note: no need to check y > x or y == x -- as long as x is not > y, we can always return y!\n",
    "    return y\n"
   ]
  },
  {
   "cell_type": "markdown",
   "metadata": {},
   "source": [
    "**Expected Output:**\n",
    "```python\n",
    "3\n",
    "100\n",
    "``` "
   ]
  },
  {
   "cell_type": "code",
   "execution_count": 108,
   "metadata": {
    "ExecuteTime": {
     "end_time": "2019-07-01T17:22:33.714414Z",
     "start_time": "2019-07-01T17:22:33.650Z"
    }
   },
   "outputs": [
    {
     "name": "stdout",
     "output_type": "stream",
     "text": [
      "3\n",
      "100\n"
     ]
    }
   ],
   "source": [
    "# Test Case 1\n",
    "print(larger(3, 2))\n",
    "\n",
    "# Test Case 2\n",
    "print(larger(10, 100)) "
   ]
  },
  {
   "cell_type": "markdown",
   "metadata": {},
   "source": [
    "<hr>"
   ]
  },
  {
   "cell_type": "markdown",
   "metadata": {},
   "source": [
    "### Question 2\n",
    "> Write a function named `get_total` that has a parameter `a_list` (list) and returns the sum of the `a_list`\n",
    "\n",
    "<div class=\"alert alert-warning\">Do not use the sum() function for this question</div>"
   ]
  },
  {
   "cell_type": "code",
   "execution_count": 59,
   "metadata": {
    "ExecuteTime": {
     "end_time": "2019-07-01T17:22:33.715310Z",
     "start_time": "2019-07-01T17:22:33.652Z"
    }
   },
   "outputs": [],
   "source": [
    "def get_total(a_list): \n",
    "    \n",
    "    # Your code here:\n",
    "    total=0\n",
    "    for number in a_list:\n",
    "        total += number\n",
    "    return(total)\n",
    "\n"
   ]
  },
  {
   "cell_type": "markdown",
   "metadata": {},
   "source": [
    "**Expected Output:**\n",
    "```python\n",
    "60\n",
    "1009\n",
    "```"
   ]
  },
  {
   "cell_type": "code",
   "execution_count": 60,
   "metadata": {
    "ExecuteTime": {
     "end_time": "2019-07-01T17:22:33.716024Z",
     "start_time": "2019-07-01T17:22:33.654Z"
    }
   },
   "outputs": [
    {
     "name": "stdout",
     "output_type": "stream",
     "text": [
      "60\n",
      "1009\n"
     ]
    }
   ],
   "source": [
    "# Test Case 1\n",
    "print(get_total([10,20,30])) \n",
    "\n",
    "# Test Case 2\n",
    "print(get_total([1, 5, 3, 1000])) "
   ]
  },
  {
   "cell_type": "markdown",
   "metadata": {},
   "source": [
    "<hr>"
   ]
  },
  {
   "cell_type": "markdown",
   "metadata": {},
   "source": [
    "### Question 3\n",
    "\n",
    "> Write a function named `get_counts` that has a parameter `data` (will always be a list) and returns a `dictionary` capturing the counts of all elements inside the `data` list. "
   ]
  },
  {
   "cell_type": "code",
   "execution_count": 105,
   "metadata": {
    "ExecuteTime": {
     "end_time": "2019-07-01T17:22:33.716983Z",
     "start_time": "2019-07-01T17:22:33.658Z"
    }
   },
   "outputs": [],
   "source": [
    "def get_counts(data):\n",
    "    # Your code here:\n",
    "    dictionary={}\n",
    "    for row in data:\n",
    "        if row not in dictionary:\n",
    "            dictionary[row]= 1 \n",
    "        else:\n",
    "            dictionary[row]+=1 \n",
    "    return (dictionary)"
   ]
  },
  {
   "cell_type": "markdown",
   "metadata": {},
   "source": [
    "**Expected Output** <font color=\"grey\">(_Order does not matter_)</font>:\n",
    "\n",
    "```python\n",
    "{10200: 1, 20304: 1, 8188: 2, 10222: 1, 2123: 1, 9402: 1, 30293: 1, 35863: 1, 21392: 1, 2: 1}\n",
    "\n",
    "{'Pikachu': 3, 'Bulbasaur': 1, 'Charmander': 2, 'Squirtle': 1}\n",
    "```"
   ]
  },
  {
   "cell_type": "code",
   "execution_count": 106,
   "metadata": {
    "ExecuteTime": {
     "end_time": "2019-07-01T17:22:33.718213Z",
     "start_time": "2019-07-01T17:22:33.660Z"
    }
   },
   "outputs": [
    {
     "name": "stdout",
     "output_type": "stream",
     "text": [
      "{10200: 1, 20304: 1, 8188: 2, 10222: 1, 2123: 1, 9402: 1, 30293: 1, 35863: 1, 21392: 1, 2: 1}\n",
      "{'Pikachu': 3, 'Bulbasaur': 1, 'Charmander': 2, 'Squirtle': 1}\n"
     ]
    }
   ],
   "source": [
    "test_1 = [10200, 20304, 8188, 10222, 2123, 9402, 8188, 30293, 35863, 21392, 2]\n",
    "test_2 = [\"Pikachu\", \"Bulbasaur\", \"Charmander\", \"Pikachu\", \"Charmander\", \"Squirtle\", \"Pikachu\"]\n",
    "\n",
    "# Test Case 1\n",
    "print(get_counts(test_1))\n",
    "\n",
    "# Test Case 2\n",
    "print(get_counts(test_2))"
   ]
  },
  {
   "cell_type": "markdown",
   "metadata": {},
   "source": [
    "<hr>"
   ]
  },
  {
   "cell_type": "markdown",
   "metadata": {},
   "source": [
    "<a id=\"P2\"><h2><img src=\"https://cdn.shopify.com/s/files/1/1200/7374/products/book_aec28e76-52ec-44ab-bc01-41df1279c89f_550x825.png?v=1473897430\" width=25 align=\"left\"> <font color=\"darkorange\"> &nbsp; Practice II - Summary Statistics </font><font color=\"maroon\"> ** </font></h2></a>\n",
    "\n",
    "### Question 1 - Mean\n",
    "> Complete the function `mean` below that accepts a list of numbers as input, and returns the **mean** of all the numbers."
   ]
  },
  {
   "cell_type": "code",
   "execution_count": 110,
   "metadata": {
    "ExecuteTime": {
     "end_time": "2019-07-01T17:22:33.719229Z",
     "start_time": "2019-07-01T17:22:33.662Z"
    }
   },
   "outputs": [],
   "source": [
    " #def get_total(a_list):     #just to see hhhow previous functions work\n",
    "    # Your code here:\n",
    "    #total=0\n",
    "    #for number in a_list:\n",
    "        #total += number\n",
    "    #return(total)\n",
    "def mean(data):\n",
    "    # Your code here:\n",
    "    # you can re-use functions you already defined:\n",
    "    total = get_total(data)\n",
    "    return total / len(data)\n",
    "        "
   ]
  },
  {
   "cell_type": "markdown",
   "metadata": {},
   "source": [
    "\n",
    "Expected output when `mean(numbers)` is called:\n",
    "```python\n",
    "14390.727272727272\n",
    "```"
   ]
  },
  {
   "cell_type": "code",
   "execution_count": 111,
   "metadata": {
    "ExecuteTime": {
     "end_time": "2019-07-01T17:22:33.720111Z",
     "start_time": "2019-07-01T17:22:33.663Z"
    }
   },
   "outputs": [
    {
     "data": {
      "text/plain": [
       "14390.727272727272"
      ]
     },
     "execution_count": 111,
     "metadata": {},
     "output_type": "execute_result"
    }
   ],
   "source": [
    "# Run this to test your code\n",
    "numbers = [10200, 20304, 8188, 10222, 2123, 9402, 2123, 8188, 30293, 35863, 21392]\n",
    "mean(numbers)"
   ]
  },
  {
   "cell_type": "markdown",
   "metadata": {},
   "source": [
    "<hr>"
   ]
  },
  {
   "cell_type": "markdown",
   "metadata": {},
   "source": [
    "### Question 2 - Mode\n",
    "> Complete the function `mode` below that accepts a list of numbers as input, and returns the **mode** of all the numbers.\n",
    "\n",
    "_Mode_ refers to the value in the list that occurs the most number of times.\n",
    "\n",
    "<div class=\"alert alert-info\"> Hint: Use the <i>counting with dictionaries</i> concept! </div>"
   ]
  },
  {
   "cell_type": "code",
   "execution_count": 117,
   "metadata": {
    "ExecuteTime": {
     "end_time": "2019-07-01T17:22:33.722979Z",
     "start_time": "2019-07-01T17:22:33.668Z"
    }
   },
   "outputs": [],
   "source": [
    "def get_counts(data):\n",
    "    # Your code here:\n",
    "    dictionary={}\n",
    "    for row in data:\n",
    "        if row not in dictionary:\n",
    "            dictionary[row]= 1 \n",
    "        else:\n",
    "            dictionary[row]+=1 \n",
    "    return (dictionary)\n",
    "def mode(data):\n",
    "    # Your code here:\n",
    "    #mode is value that appears the most\n",
    "    counts = get_counts(data)\n",
    "    # The next two lines get the first key & value from counts:\n",
    "    max_item = list(counts.items())[0][0]\n",
    "    max_value = list(counts.items())[0][1]\n",
    "    # ALTERNATE: the next two lines set to default values\n",
    "    # Note value is guaranteed to be >= 1 (or it wouldn't be in the dictionary)\n",
    "    max_item =\"\"\n",
    "    max_value = 0\n",
    "    for item, value in counts.items():   #item is the key, j is the value associated with key\n",
    "        if value > max_value:\n",
    "            max_item = item\n",
    "            max_value = value\n",
    "    return max_item\n",
    "    \n",
    "        \n",
    "\n"
   ]
  },
  {
   "cell_type": "markdown",
   "metadata": {},
   "source": [
    "Expected output when `mode(numbers)` is called:\n",
    "```python\n",
    "8188\n",
    "```\n",
    "\n"
   ]
  },
  {
   "cell_type": "code",
   "execution_count": 121,
   "metadata": {
    "ExecuteTime": {
     "end_time": "2019-07-01T17:22:33.723876Z",
     "start_time": "2019-07-01T17:22:33.670Z"
    }
   },
   "outputs": [
    {
     "data": {
      "text/plain": [
       "{10200: 1,\n",
       " 20304: 1,\n",
       " 8188: 2,\n",
       " 10222: 1,\n",
       " 2123: 1,\n",
       " 9402: 1,\n",
       " 30293: 1,\n",
       " 35863: 1,\n",
       " 21392: 1}"
      ]
     },
     "execution_count": 121,
     "metadata": {},
     "output_type": "execute_result"
    }
   ],
   "source": [
    "# Run this to test your code\n",
    "\n",
    "numbers = [10200, 20304, 8188, 10222, 2123, 9402, 8188, 30293, 35863, 21392]\n",
    "get_counts(numbers)\n",
    "\n"
   ]
  },
  {
   "cell_type": "markdown",
   "metadata": {},
   "source": [
    "<hr>"
   ]
  },
  {
   "cell_type": "markdown",
   "metadata": {},
   "source": [
    "### Question 3 - Median \n",
    "> Complete the function `median` below that accepts a list of numbers as input, and returns the **median** of all the numbers.\n",
    "\n",
    "_Median_ is the value at the midpoint of the list if the list contains an odd number of elements, else it will be the average of the middle two values.\n",
    "\n",
    "<div class=\"alert alert-info\">\n",
    "<i>\n",
    "Hint <br>\n",
    "    1. You need to first use <code>.sort()</code> or <code>sorted()</code> to sort the numbers in order<br>\n",
    "2. Find middle point using the <code>//</code> operator <br>\n",
    "3. If odd, then return middle point, else return average of the two middle values. Use the <code>%</code> operator.\n",
    "</i></div>"
   ]
  },
  {
   "cell_type": "code",
   "execution_count": 122,
   "metadata": {
    "ExecuteTime": {
     "end_time": "2019-07-01T17:22:33.721031Z",
     "start_time": "2019-07-01T17:22:33.665Z"
    }
   },
   "outputs": [],
   "source": [
    "def median(data):\n",
    "    # Your code here:\n",
    "    sorted_data = sorted(data)\n",
    "    # Notice the math:\n",
    "    #   if len(data) is odd, len(data) // 2 == (len(data) - 1) // 2\n",
    "    #                           5 // 2 == 2 == 4 // 2\n",
    "    #   if len(data) is even len(data) // 2 == (len(data) - 1) // 2) + 1\n",
    "    #                           4 // 2 == 2 == (3 // 2 == 1) + 1\n",
    "    upper_midpoint = len(data) // 2\n",
    "    lower_midpoint = (len(data) - 1) // 2\n",
    "    return (sorted_data[lower_midpoint] + sorted_data[upper_midpoint]) / 2\n",
    "\n",
    "    # OR THIS WAY IS EASIER TO COMPREHEND:\n",
    "    if len(data) % 2 == 1:\n",
    "        return sorted_data[len(data) // 2]\n",
    "    else:\n",
    "        upper_midpoint = len(data) // 2\n",
    "        lower_midpoint = upper_midpoint - 1\n",
    "        return (sorted_data[lower_midpoint] + sorted_data[upper_midpoint]) / 2"
   ]
  },
  {
   "cell_type": "markdown",
   "metadata": {},
   "source": [
    "Expected output when `median(numbers)` is called:\n",
    "```python\n",
    "10200\n",
    "```"
   ]
  },
  {
   "cell_type": "code",
   "execution_count": 123,
   "metadata": {
    "ExecuteTime": {
     "end_time": "2019-07-01T17:22:33.721980Z",
     "start_time": "2019-07-01T17:22:33.667Z"
    }
   },
   "outputs": [
    {
     "data": {
      "text/plain": [
       "10200.0"
      ]
     },
     "execution_count": 123,
     "metadata": {},
     "output_type": "execute_result"
    }
   ],
   "source": [
    "# Run this to test your code\n",
    "\n",
    "numbers = [10200, 20304, 8188, 10222, 2123, 9402, 8188, 30293, 35863, 21392, 2]\n",
    "median(numbers)"
   ]
  },
  {
   "cell_type": "markdown",
   "metadata": {},
   "source": [
    "<hr>"
   ]
  },
  {
   "cell_type": "markdown",
   "metadata": {},
   "source": [
    "### Question 4 - Summary Statistics \n",
    "> Complete the function `summarise` below that takes in a list of numbers, and returns a dictionary summarising the numbers with three important statistics -- mean, median and mode. \n",
    "\n",
    "<div class=\"alert alert-info\"> Hint: You already created multiple functions, one each for mean, median and mode. You can use them in your <code>summarise</code> function! </div>"
   ]
  },
  {
   "cell_type": "code",
   "execution_count": 125,
   "metadata": {
    "ExecuteTime": {
     "end_time": "2019-07-01T17:22:33.724842Z",
     "start_time": "2019-07-01T17:22:33.672Z"
    }
   },
   "outputs": [],
   "source": [
    "def summarise(data):\n",
    "    # Your code here: \n",
    "    p = dict(\n",
    "        mean=mean(data),\n",
    "        mode=mode(data),\n",
    "        median=median(data)\n",
    "    )\n",
    "    p = {\n",
    "        'mean' : mean(data),\n",
    "        'mode' : mode(data),\n",
    "        'median' : median(data)\n",
    "    }\n",
    "    p = {}\n",
    "    p['mean'] = mean(data)\n",
    "    p['mode'] = mode(data)\n",
    "    p['median'] = median(data)\n",
    "    return p"
   ]
  },
  {
   "cell_type": "markdown",
   "metadata": {},
   "source": [
    "Expected output:\n",
    "```python\n",
    "{'mean': 15617.5, 'mode': 8188, 'median': 10211.0}\n",
    "```\n",
    "\n"
   ]
  },
  {
   "cell_type": "code",
   "execution_count": 126,
   "metadata": {
    "ExecuteTime": {
     "end_time": "2019-07-01T17:22:33.725850Z",
     "start_time": "2019-07-01T17:22:33.674Z"
    }
   },
   "outputs": [
    {
     "data": {
      "text/plain": [
       "{'mean': 15617.5, 'mode': 8188, 'median': 10211.0}"
      ]
     },
     "execution_count": 126,
     "metadata": {},
     "output_type": "execute_result"
    }
   ],
   "source": [
    "# Run this to test your code\n",
    "\n",
    "numbers = [10200, 20304, 8188, 10222, 2123, 9402, 8188, 30293, 35863, 21392]\n",
    "summarise(numbers)"
   ]
  },
  {
   "cell_type": "code",
   "execution_count": null,
   "metadata": {},
   "outputs": [],
   "source": []
  }
 ],
 "metadata": {
  "kernelspec": {
   "display_name": "Python 3",
   "language": "python",
   "name": "python3"
  },
  "language_info": {
   "codemirror_mode": {
    "name": "ipython",
    "version": 3
   },
   "file_extension": ".py",
   "mimetype": "text/x-python",
   "name": "python",
   "nbconvert_exporter": "python",
   "pygments_lexer": "ipython3",
   "version": "3.7.3"
  },
  "varInspector": {
   "cols": {
    "lenName": 16,
    "lenType": 16,
    "lenVar": 40
   },
   "kernels_config": {
    "python": {
     "delete_cmd_postfix": "",
     "delete_cmd_prefix": "del ",
     "library": "var_list.py",
     "varRefreshCmd": "print(var_dic_list())"
    },
    "r": {
     "delete_cmd_postfix": ") ",
     "delete_cmd_prefix": "rm(",
     "library": "var_list.r",
     "varRefreshCmd": "cat(var_dic_list()) "
    }
   },
   "types_to_exclude": [
    "module",
    "function",
    "builtin_function_or_method",
    "instance",
    "_Feature"
   ],
   "window_display": false
  }
 },
 "nbformat": 4,
 "nbformat_minor": 2
}
