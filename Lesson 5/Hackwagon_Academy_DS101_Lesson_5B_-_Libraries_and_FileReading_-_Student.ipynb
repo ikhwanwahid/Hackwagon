{
 "cells": [
  {
   "cell_type": "markdown",
   "metadata": {},
   "source": [
    "<center><img src=\"https://i2.wp.com/hackwagon.com/wp-content/uploads/2017/02/Logo-Web-Export.png?ssl=1\" width=200/></center>\n",
    "\n",
    "<h1> Hackwagon Academy DS101 Lesson 5B </h1>\n",
    "<h2> Libraries and File Reading</h2> \n",
    "<h3> Lesson Outline </h3>\n",
    "\n",
    "- 1. [Libraries](#1)\n",
    "    - [Math Library](#1.1)\n",
    "    - [Statistics Library](#1.2)\n",
    "- 2. [File Opening](#2)\n",
    "    - [CSV Library](#2.1)"
   ]
  },
  {
   "cell_type": "markdown",
   "metadata": {},
   "source": [
    "<a id='1'><h1><img src=\"https://images.vexels.com/media/users/3/153978/isolated/preview/483ef8b10a46e28d02293a31570c8c56-warning-sign-colored-stroke-icon-by-vexels.png\" width=25 align=\"left\"><font color=\"salmon\">&nbsp;1.</font><font color=\"salmon\"> Libraries </font> </h2></a>"
   ]
  },
  {
   "cell_type": "markdown",
   "metadata": {},
   "source": [
    "\n",
    "Libraries are what makes Python one of the most popular languages for Data Science. Libraries are just a collection of many functions that are written by others. In order to use libraries, we need to understand how to read documentation on libraries. \n",
    "\n",
    "Below are some of the most popular libraries in Data Science.\n",
    "\n",
    "<img src=\"https://discoversdkcdn.azureedge.net/postscontent/python/python-data-science2.png\" width=400> \n",
    "\n",
    "1. [Numpy](https://www.numpy.org) - Numerical Computation\n",
    "2. [Matplotlib](https://matplotlib.org) - Data Visualisation\n",
    "3. [Pandas](http://pandas.pydata.org/pandas-docs/stable/) - Data Cleaning / Wrangling \n",
    "4. [sklearn](http://scikit-learn.github.io/stable) - Machine Learning\n",
    "\n",
    "and many more!\n",
    "\n",
    "<img src=\"https://i.imgur.com/YKSJ4wq.png\" width=\"600\">\n"
   ]
  },
  {
   "cell_type": "markdown",
   "metadata": {},
   "source": [
    "<hr>"
   ]
  },
  {
   "cell_type": "markdown",
   "metadata": {},
   "source": [
    "<a id=\"1.1\"> <h2><code>math</code></h3></a>\n",
    "\n",
    "<!-- <img src=\"https://i.imgur.com/1x7RL15.png\" width=400 style=\"float: right\"> -->\n",
    "\n",
    "This library allows you to use some math functions unavailable by default in Python. <br>\n",
    "Read the documentation here: https://docs.python.org/3/library/math.html \n",
    "\n",
    "For example, we can use the `math` library's `exp()` function on a given number `x`:"
   ]
  },
  {
   "cell_type": "code",
   "execution_count": 2,
   "metadata": {
    "ExecuteTime": {
     "end_time": "2019-07-01T15:22:32.162671Z",
     "start_time": "2019-07-01T15:22:32.158936Z"
    }
   },
   "outputs": [
    {
     "name": "stdout",
     "output_type": "stream",
     "text": [
      "1096.6331584284585\n"
     ]
    }
   ],
   "source": [
    "import math\n",
    "\n",
    "x = 7\n",
    "y= math.exp(x)\n",
    "print(y)"
   ]
  },
  {
   "cell_type": "markdown",
   "metadata": {},
   "source": [
    "## <img src=\"https://cdn.shopify.com/s/files/1/1200/7374/products/book_aec28e76-52ec-44ab-bc01-41df1279c89f_550x825.png?v=1473897430\" width=20 align=\"left\"> &nbsp; <font color=\"darkorange\"> Try it out I </font>\n",
    "<font color=\"grey\"><i>Using math functions + Pythagorean Theorem</i></font>\n",
    "\n",
    "> Use functions in the `math` library to calculate `c`\n",
    "\n",
    "<img src=\"http://www.justscience.in/wp-content/uploads/2017/05/Pythagorean-Theorem.jpeg\" width=400>\n",
    "\n",
    "#### Expected Output:\n",
    "```python\n",
    "22.3606...\n",
    "```"
   ]
  },
  {
   "cell_type": "code",
   "execution_count": 10,
   "metadata": {
    "ExecuteTime": {
     "end_time": "2019-07-01T15:20:18.574371Z",
     "start_time": "2019-07-01T15:20:18.572092Z"
    }
   },
   "outputs": [
    {
     "name": "stdout",
     "output_type": "stream",
     "text": [
      "22.360679774997898\n"
     ]
    }
   ],
   "source": [
    "import math\n",
    "\n",
    "a = 10\n",
    "b = 20\n",
    "\n",
    "hypothenues =math.hypot(a, b)\n",
    "print(hypothenues)\n",
    "\n"
   ]
  },
  {
   "cell_type": "markdown",
   "metadata": {},
   "source": [
    "<hr>"
   ]
  },
  {
   "cell_type": "markdown",
   "metadata": {},
   "source": [
    "<a id=\"1.2\"> <h2><code>statistics</code></h2></a>\n",
    "\n",
    "This library gives you many statistical functions you can use in with lists of numbers!<br>\n",
    "Read the documentation here: https://docs.python.org/3/library/statistics.html"
   ]
  },
  {
   "cell_type": "markdown",
   "metadata": {},
   "source": [
    "## <img src=\"https://cdn.shopify.com/s/files/1/1200/7374/products/book_aec28e76-52ec-44ab-bc01-41df1279c89f_550x825.png?v=1473897430\" width=20 align=\"left\"> &nbsp; <font color=\"darkorange\"> Try it out II </font>\n",
    "<font color=\"grey\"><i>Using statistics functions</i></font>\n",
    "\n",
    "> Find the mean, median, mode of `[10,100,20,30,40,50,60,70]`\n",
    "\n",
    "#### Expected Output:\n",
    "```python\n",
    "mean: 40.36...\n",
    "median: 42\n",
    "mode: 42\n",
    "```"
   ]
  },
  {
   "cell_type": "code",
   "execution_count": 11,
   "metadata": {
    "ExecuteTime": {
     "end_time": "2019-07-01T15:14:44.541087Z",
     "start_time": "2019-07-01T15:14:44.538466Z"
    }
   },
   "outputs": [
    {
     "data": {
      "text/plain": [
       "{'mean': 40.36363636363637, 'mode': 42, 'median': 42}"
      ]
     },
     "metadata": {},
     "output_type": "display_data"
    }
   ],
   "source": [
    "import statistics\n",
    "\n",
    "data = [42, 42, 16, 5, 98, 42, 81, 1, 11, 8, 98]\n",
    "\n",
    "p = dict(\n",
    "    mean=statistics.mean(data),\n",
    "    mode=statistics.mode(data),\n",
    "    median=statistics.median(data)\n",
    ")\n",
    "\n",
    "display(p)"
   ]
  },
  {
   "cell_type": "markdown",
   "metadata": {},
   "source": [
    "<hr>"
   ]
  },
  {
   "cell_type": "markdown",
   "metadata": {},
   "source": [
    "<h1><code>Matplotlib</code></h1>\n",
    "\n",
    "<font color=\"grey\"><i>A simple example</i></font>"
   ]
  },
  {
   "cell_type": "code",
   "execution_count": 9,
   "metadata": {
    "ExecuteTime": {
     "end_time": "2019-06-01T14:10:47.472293Z",
     "start_time": "2019-06-01T14:10:47.364825Z"
    }
   },
   "outputs": [
    {
     "data": {
      "image/png": "[encoded data removed]",
      "text/plain": [
       "<Figure size 432x288 with 1 Axes>"
      ]
     },
     "metadata": {
      "needs_background": "light"
     },
     "output_type": "display_data"
    }
   ],
   "source": [
    "import matplotlib.pyplot as plt # <<< a shorter name for the long library name!\n",
    "\n",
    "x = [1, 2, 3, 4, 5, 6,  7,  8]\n",
    "y = [1, 1, 2, 3, 5, 8, 13, 21]\n",
    "\n",
    "plt.plot(x, y, c=\"red\")\n",
    "\n",
    "plt.show()"
   ]
  },
  {
   "cell_type": "markdown",
   "metadata": {},
   "source": [
    "<hr>"
   ]
  },
  {
   "cell_type": "markdown",
   "metadata": {},
   "source": [
    "<a id='2'><h2><img src=\"https://images.vexels.com/media/users/3/153978/isolated/preview/483ef8b10a46e28d02293a31570c8c56-warning-sign-colored-stroke-icon-by-vexels.png\" width=25 align=\"left\"><font color=\"salmon\">&nbsp;2.</font><font color=\"salmon\"> File Opening </font> </h2></a>\n",
    "\n",
    "\n",
    "Many datasets are stored in CSV because it is more efficient to store them in these file type. Also be cause the values are separated by commas. CSV stands for <b>Comma Separated Values</b>.\n",
    "\n",
    "<img src=\"https://i.imgur.com/XmWDOy0.png\" width=\"600\">"
   ]
  },
  {
   "cell_type": "markdown",
   "metadata": {},
   "source": [
    "<div class=\"alert alert-danger\">\n",
    "    \n",
    "### File opening without library\n",
    "Not recommended!\n",
    "    \n",
    "</div>"
   ]
  },
  {
   "cell_type": "code",
   "execution_count": 8,
   "metadata": {
    "ExecuteTime": {
     "end_time": "2019-06-01T14:02:57.548055Z",
     "start_time": "2019-06-01T14:02:57.543973Z"
    }
   },
   "outputs": [
    {
     "name": "stdout",
     "output_type": "stream",
     "text": [
      "[['see you again', '123123'], ['despacito', '500000'], ['im yours', '8000']]\n"
     ]
    }
   ],
   "source": [
    "file = open('videos.csv')  #not recommended\n",
    "\n",
    "data = file.read()\n",
    "lines = data.split('\\n')\n",
    "\n",
    "cleaned_data = []\n",
    "\n",
    "for row in data.split('\\n'):\n",
    "    cleaned_data.append(row.split(','))\n",
    "\n",
    "del cleaned_data[0]\n",
    "\n",
    "print(cleaned_data)\n",
    "\n",
    "file.close() #everytime open need to close"
   ]
  },
  {
   "cell_type": "code",
   "execution_count": null,
   "metadata": {},
   "outputs": [],
   "source": [
    "cleaned_data = []\n",
    "\n",
    "with open('videos.csv') as file:\n",
    "\n",
    "    data = file.read()\n",
    "\n",
    "    for row in data.split('\\n'):\n",
    "        cleaned_data.append(row.split(','))\n",
    "\n",
    "    del cleaned_data[0]\n",
    "    \n",
    "cleaned_data"
   ]
  },
  {
   "cell_type": "markdown",
   "metadata": {},
   "source": [
    "<hr>"
   ]
  },
  {
   "cell_type": "markdown",
   "metadata": {},
   "source": [
    "<a id=\"2.1\"><h2><code>CSV</code> library</h2></a>\n",
    "\n",
    "The CSV library provides helpful functions for reading `csv` files easily.<br>The two main functions commonly used are:\n",
    "1. `.reader()`\n",
    "2. `.DictReader()`"
   ]
  },
  {
   "cell_type": "markdown",
   "metadata": {
    "ExecuteTime": {
     "end_time": "2019-07-01T15:50:01.145225Z",
     "start_time": "2019-07-01T15:50:01.142209Z"
    }
   },
   "source": [
    "<div class=\"alert alert-warning\">\n",
    "\n",
    "## Better\n",
    "\n",
    "#### `.reader()` - List of Lists \n",
    "Read the `videos.csv` file and put it into a list called `video_list_of_lists`.\n",
    "\n",
    "</div>"
   ]
  },
  {
   "cell_type": "code",
   "execution_count": 48,
   "metadata": {
    "ExecuteTime": {
     "end_time": "2019-06-01T14:07:12.190562Z",
     "start_time": "2019-06-01T14:07:12.185120Z"
    }
   },
   "outputs": [
    {
     "data": {
      "text/plain": [
       "[['see you again', '123123'], ['despacito', '500000'], ['im yours', '8000']]"
      ]
     },
     "execution_count": 48,
     "metadata": {},
     "output_type": "execute_result"
    }
   ],
   "source": [
    "import csv\n",
    "\n",
    "with open('videos.csv', encoding='utf-8') as file:\n",
    "\n",
    "    data = []\n",
    "    \n",
    "    for row in csv.reader(file):\n",
    "        data.append(row)\n",
    "        \n",
    "    del data[0]\n",
    "\n",
    "data"
   ]
  },
  {
   "cell_type": "markdown",
   "metadata": {},
   "source": [
    "<div class=\"alert alert-success\">\n",
    "\n",
    "## Preferred!\n",
    "#### `.DictReader()` - List of Dictionaries\n",
    "Read the `videos.csv` file and put it into a list called `video_list_of_dictionaries`.\n",
    "\n",
    "</div>"
   ]
  },
  {
   "cell_type": "code",
   "execution_count": 50,
   "metadata": {
    "ExecuteTime": {
     "end_time": "2019-06-01T14:08:14.269460Z",
     "start_time": "2019-06-01T14:08:14.264161Z"
    },
    "scrolled": true
   },
   "outputs": [
    {
     "data": {
      "text/plain": [
       "[{'title': 'see you again', 'views': '123123'},\n",
       " {'title': 'despacito', 'views': '500000'},\n",
       " {'title': 'im yours', 'views': '8000'}]"
      ]
     },
     "execution_count": 50,
     "metadata": {},
     "output_type": "execute_result"
    }
   ],
   "source": [
    "import csv              #remembeer this!!!\n",
    "\n",
    "with open('videos.csv', encoding='utf-8') as file:\n",
    "\n",
    "    data = []\n",
    "    \n",
    "    for row in csv.DictReader(file):\n",
    "        data.append(dict(row))\n",
    "\n",
    "data"
   ]
  },
  {
   "cell_type": "markdown",
   "metadata": {},
   "source": [
    "<hr>"
   ]
  },
  {
   "cell_type": "markdown",
   "metadata": {},
   "source": [
    "<a><h1><img src=\"https://www.neurobalanceasia.com/wp-content/uploads/2016/09/ca_brainbooks.png\" width=70 align=\"left\"><br>&nbsp;<font color=\"orange\"> Post-class Exploration </font> </h2></a>"
   ]
  },
  {
   "cell_type": "markdown",
   "metadata": {},
   "source": [
    "### Regular Expressions\n",
    "_Pattern-based string manipulation_\n",
    "\n",
    "> _\"A sequence of symbols and characters expressing a string or pattern to be searched for within a longer piece of text.\"_ - [Wikipedia](https://en.wikipedia.org/wiki/Regular_expression)\n",
    "\n",
    "`Regular expressions` (regex) are extremely helpful in text cleaning and mining.\n",
    "\n",
    "They allow you to search for and extract certain portions of a body of text based on **patterns**.\n",
    "\n",
    "\n",
    "<img src=\"https://packagecontrol.io/readmes/img/ee0f3a47ca91d9f6ae5a0835c5dffb1912399b53.gif\">\n",
    "\n",
    "\n",
    "Learn more at https://regexone.com"
   ]
  },
  {
   "cell_type": "markdown",
   "metadata": {},
   "source": [
    "### Examples\n",
    "\n",
    "Using [Python's regex library](https://docs.python.org/3/library/re.html)"
   ]
  },
  {
   "cell_type": "code",
   "execution_count": 12,
   "metadata": {},
   "outputs": [
    {
     "name": "stdout",
     "output_type": "stream",
     "text": [
      "983489\n"
     ]
    }
   ],
   "source": [
    "import re\n",
    "\n",
    "data =\"$9834/89.\"  # Let's remove the special characters\n",
    "\n",
    "data = re.sub('[^A-Za-z0-9]+', '', data)\n",
    "\n",
    "print(data)"
   ]
  },
  {
   "cell_type": "code",
   "execution_count": null,
   "metadata": {},
   "outputs": [],
   "source": [
    "# Regex to check a string for emails\n",
    "\n",
    "long_string = \"Hi my name is WY and my email is hello@yahoo.com. Hope you have a wonderful time!\"\n",
    "\n",
    "pattern = re.compile(r\"\\b([a-zA-Z0-9.-]+)@([a-zA-Z0-9]+).([a-zA-Z]{2,5})\\b\")\n",
    "\n",
    "email = re.search(pattern, long_string).group(0)\n",
    "\n",
    "print(email)"
   ]
  }
 ],
 "metadata": {
  "kernelspec": {
   "display_name": "Python 3",
   "language": "python",
   "name": "python3"
  },
  "language_info": {
   "codemirror_mode": {
    "name": "ipython",
    "version": 3
   },
   "file_extension": ".py",
   "mimetype": "text/x-python",
   "name": "python",
   "nbconvert_exporter": "python",
   "pygments_lexer": "ipython3",
   "version": "3.7.3"
  }
 },
 "nbformat": 4,
 "nbformat_minor": 2
}
