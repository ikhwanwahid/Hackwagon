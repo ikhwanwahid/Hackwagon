{
 "cells": [
  {
   "cell_type": "markdown",
   "metadata": {},
   "source": [
    "<img src=\"https://i2.wp.com/hackwagon.com/wp-content/uploads/2017/02/Logo-Web-Export.png?ssl=1\" width=200/>\n",
    "\n",
    "<h1> Hackwagon Academy - DS101 Week 4 Extra Practice</h1>\n",
    "\n",
    "This extra exercise consists of <b>7 coding question</b> to test you understanding of list and dictionaries and follow by <b>22 multiple choice questions</b>. \n",
    "\n",
    "For Multiple Choice Questons, You will be asked what will be output of the code <b>without</b> running them. However, if you want to look at the answer, you may run the cell to see how the code runs as well. Answers and explanation can be found in the ANSWER notebook. It should be in the location where you downloaded this file.\n",
    "\n",
    "<p>The following are additional questions that serves to strengthen your understanding in this week's knowledge. There is <b>no need</b> to submit this extra practice.</p>"
   ]
  },
  {
   "cell_type": "markdown",
   "metadata": {},
   "source": [
    "## Part I: Coding Practice (For Loops & Counting with Dictionary)\n",
    "\n",
    "<p>The following questions serve to strengthen your understanding in handling data using iterations.</p>"
   ]
  },
  {
   "cell_type": "markdown",
   "metadata": {},
   "source": [
    "### Question 1 - Easy\n",
    "\n",
    "Print out the names of all students in this dataset\n",
    "\n",
    "<b>Expected Output:</b>\n",
    "\n",
    "    KT\n",
    "    John\n",
    "    Henry\n",
    "    Mark"
   ]
  },
  {
   "cell_type": "code",
   "execution_count": 7,
   "metadata": {},
   "outputs": [
    {
     "name": "stdout",
     "output_type": "stream",
     "text": [
      "KT\n",
      "John\n",
      "Henry\n",
      "Mark\n"
     ]
    }
   ],
   "source": [
    "data = {\n",
    "    'results': {\n",
    "        'name': 'Classes',\n",
    "        'data': [\n",
    "            {\n",
    "                'Class': 'A',\n",
    "                'Students': ['KT', 'John']\n",
    "            },\n",
    "            {\n",
    "                'Class': 'A',\n",
    "                'Students': ['Henry', 'Mark']\n",
    "            }\n",
    "        ]\n",
    "    }\n",
    "}\n",
    "#Write your code below\n",
    "results= data['results']\n",
    "info=results['data']\n",
    "for row in info:\n",
    "    students = row[\"Students\"]\n",
    "    for i in students:\n",
    "        print(i)\n",
    "\n"
   ]
  },
  {
   "cell_type": "markdown",
   "metadata": {},
   "source": [
    "### Question 2 - Easy\n",
    "\n",
    "Print the total score of teachers and students in data, broken down by occupation\n",
    "\n",
    "<b>Expected Output:</b>\n",
    "\n",
    "\n",
    "    {\n",
    "        'teacher': 4,\n",
    "        'student': 15\n",
    "    }"
   ]
  },
  {
   "cell_type": "code",
   "execution_count": 10,
   "metadata": {},
   "outputs": [
    {
     "name": "stdout",
     "output_type": "stream",
     "text": [
      "{'student': 15, 'teacher': 4}\n"
     ]
    }
   ],
   "source": [
    "data = {\n",
    "    'kt': { 'nric': 'S93250888', 'score': 10, 'occupation': 'student'},\n",
    "    'john': {'nric': 'S93250818', 'score': 5, 'occupation': 'student'},\n",
    "    'henry': { 'nric': 'S93250288', 'score': 2, 'occupation': 'teacher'},\n",
    "    'mark': { 'nric': 'S93250218', 'score': 7, 'occupation': 'student'},\n",
    "    'mark': { 'nric': 'S93250248', 'score': 2, 'occupation': 'teacher'},\n",
    "}\n",
    "#Write your code below\n",
    "# we want to extract occupation & total score\n",
    "scores={}\n",
    "for name,row in data.items():       #its a dictionary in a dictionary so use {}\n",
    "    occupation = row[\"occupation\"]\n",
    "    score=row[\"score\"]\n",
    "    if occupation not in scores:\n",
    "        scores[occupation]=score\n",
    "    else:\n",
    "        scores[occupation]+=score\n",
    "print(scores)"
   ]
  },
  {
   "cell_type": "markdown",
   "metadata": {},
   "source": [
    "### Question 3 - Easy\n",
    "\n",
    "Print the average score of teachers and students in data, broken down by occupation\n",
    "\n",
    "<b>Expected Output:</b>\n",
    "\n",
    "    {\n",
    "        'student': 7.5, \n",
    "        'teacher': 2.0\n",
    "    }"
   ]
  },
  {
   "cell_type": "code",
   "execution_count": 23,
   "metadata": {},
   "outputs": [
    {
     "name": "stdout",
     "output_type": "stream",
     "text": [
      "{'student': 7.5, 'teacher': 2.0}\n"
     ]
    }
   ],
   "source": [
    "data = {\n",
    "    'kt': { 'nric': 'S93250888', 'score': 10, 'occupation': 'student'},\n",
    "    'john': {'nric': 'S93250818', 'score': 5, 'occupation': 'student'},\n",
    "    'henry': { 'nric': 'S93250288', 'score': 2, 'occupation': 'teacher'},\n",
    "    'mark': { 'nric': 'S93250218', 'score': 7, 'occupation': 'student'},\n",
    "    'mark': { 'nric': 'S93250248', 'score': 2, 'occupation': 'teacher'},\n",
    "}\n",
    "#Write your code below\n",
    "#need to create a blank count and score dictionary\n",
    "#need to extract occupation and scores\n",
    "# take a total and average it by no of student or teacher\n",
    "# list of dictionaries in a dictionary so use {}\n",
    "countdictionary={}\n",
    "scoredictionary={}\n",
    "for name,row in data.items():\n",
    "    score=row['score']\n",
    "    occupation=row['occupation']\n",
    "    if occupation not in scoredictionary:\n",
    "        scoredictionary[occupation]=score\n",
    "        countdictionary[occupation]=1\n",
    "    else:\n",
    "        scoredictionary[occupation]+=score\n",
    "        countdictionary[occupation]+=1\n",
    "averagedictionary={}\n",
    "for key, value in scoredictionary.items():\n",
    "    count=countdictionary[key]\n",
    "    total_score=value\n",
    "    average=total_score/count\n",
    "    averagedictionary[key]= average\n",
    "print(averagedictionary)\n"
   ]
  },
  {
   "cell_type": "markdown",
   "metadata": {},
   "source": [
    "### Question 4 Difficult\n",
    "\n",
    "<h3> Largest palindrome product </h3>\n",
    "\n",
    "A palindromic number reads the same both ways. The largest palindrome made from the product of two 2-digit numbers is 9009 = 91 × 99.\n",
    "\n",
    "Find the largest palindrome made from the product of two 3-digit numbers.\n",
    "\n",
    "**Expected Answers:**\n",
    "\n",
    "    906609"
   ]
  },
  {
   "cell_type": "code",
   "execution_count": 36,
   "metadata": {},
   "outputs": [
    {
     "name": "stdout",
     "output_type": "stream",
     "text": [
      "906609\n"
     ]
    }
   ],
   "source": [
    "#Write your code below\n",
    "#range from 100 to 999\n",
    "#1 number needs to be multiplied by all 3 digit numbers\n",
    "#a multiply of that to get a number\n",
    "#need to change int to string?\n",
    "# maybe use number in [::-1] to be true then set as largest\n",
    "# if subsequent number larger, update largest palindrome\n",
    "largest_number= 0\n",
    "for i in range(100,1000):\n",
    "    for j in range(100,1000):\n",
    "        number= i*j\n",
    "        value= str(number)\n",
    "        if number >largest_number and value == value[::-1]:\n",
    "            largest_number=number \n",
    "        \n",
    "print(largest_number)\n",
    "\n",
    "# TA ANSWER\n",
    "#This is question is asking us to multiply two 3-digits numbers together.\n",
    "#For example\n",
    "# 111 * 112\n",
    "# 999 * 999\n",
    "# 500 * 400\n",
    "\n",
    "#And this question also wants the result of the product of those two numbers to be a palindrome. \n",
    "#A palindrome would mean it is read exactly the same when it is flipped over\n",
    "\n",
    "#For example,\n",
    "\n",
    "# number  flipped over  is it a palindrome?\n",
    "# 1221        1221               Yes \n",
    "# 333         333                Yes\n",
    "# 456         654                No\n",
    "# 764         467                No\n",
    "# 848         848                Yes\n",
    "\n",
    "#To check if its a palindrome, simply turn the number to a string and use [::-1] to flip it over\n",
    "#And check for equality\n",
    "\n",
    "#There are a few ways of doing this. The simple way, would be to iterate through 100 to 999\n",
    "#Store all products that are palindrome then after afterwards sort them by the highest\n",
    "#And get the highest out of them\n",
    "\n",
    "#Create a blank list to store all product that are palindrome\n",
    "palindrome_product_list = []\n",
    "\n",
    "#Iterate through the range 100 to 1000 (exclusive) twice to get both numbers\n",
    "for first_number in range(100,1000):\n",
    "    for second_number in range(100,1000):\n",
    "        \n",
    "        #multiply first number with second number\n",
    "        product = first_number * second_number\n",
    "        \n",
    "        #make the product into a string so that we can use [::-1]\n",
    "        product_string = str(product)\n",
    "        \n",
    "        #Flip the number over and check for equality\n",
    "        #If this is TRUE, it means that it is a palindrome\n",
    "        if product_string == product_string[::-1]:\n",
    "            \n",
    "            #If this is TRUE. We keep the product\n",
    "            palindrome_product_list.append(product)\n",
    "\n",
    "#Sort the list from the highest to the smallest\n",
    "palindrome_product_list.sort(reverse=True)\n",
    "\n",
    "print(palindrome_product_list[0])                \n",
    "\n",
    "    "
   ]
  },
  {
   "cell_type": "markdown",
   "metadata": {},
   "source": [
    "### Question 5 - Difficult\n",
    "\n",
    "<h3> Print a Christmas tree </h3>\n",
    "\n",
    "For a given n, where n is odd, print out a christmas tree that looks like this\n",
    "\n",
    "When **n**  = 3\n",
    "\n",
    "&nbsp;&nbsp;\\*<br>\n",
    "&nbsp;\\*\\*\\* <br>\n",
    "\\*\\*\\*\\*\\* <br>\n",
    "\n",
    "When **n**  = 5\n",
    "\n",
    "&nbsp;&nbsp;&nbsp;&nbsp;\\*<br>\n",
    "&nbsp;&nbsp;&nbsp;\\*\\*\\* <br>\n",
    "&nbsp;&nbsp;\\*\\*\\*\\*\\* <br>\n",
    "&nbsp;\\*\\*\\*\\*\\*\\*\\* <br>\n",
    "\\*\\*\\*\\*\\*\\*\\*\\*\\* <br>\n",
    "\n",
    "When **n** = 1 <br>\n",
    "\n",
    "*"
   ]
  },
  {
   "cell_type": "code",
   "execution_count": null,
   "metadata": {},
   "outputs": [],
   "source": [
    "n = 11\n",
    "\n",
    "#This question DOES NOT requires you to do double (nested) for loop. \n",
    "#Understanding of the question is ALWAYS more important that jumping into it and randomly try\n",
    "\n",
    "#If you notice, n actually represents the number of rows of the chrismas tree.\n",
    "#So for the first for loop (usually represents the row), you can simply loop to the range of n\n",
    "#and within each line is a little more tricky\n",
    "#but if we look at the last line of each example. \n",
    "\n",
    "#   n       number of * at last line     how to get number of * at last line?   formula for num of *\n",
    "#   3                  5                          (3*2) - 1 = 5                      (n*2) - 1\n",
    "#   5                  9                          (5*2) - 1 = 9                      (n*2) - 1\n",
    "#   1                  1                          (1*2) - 1 = 1                      (n*2) - 1\n",
    "\n",
    "#with the understanding of this, we would know what are the total column each n will be.\n",
    "#next all you need to do is to identify each row needs to add how many space and how many *\n",
    "# so if we look at the n= 5 example (since that has the most sample)\n",
    "\n",
    "# row num   num of space before *    num of *    how to get num of space    formula for space\n",
    "#    1               4                  1               5 - 1 = 4               n-row_num\n",
    "#    2               3                  3               5 - 2 = 3               n-row_num\n",
    "#    3               2                  5               5 - 3 = 2               n-row_num\n",
    "#    4               1                  7               5 - 4 = 1               n-row_num\n",
    "#    5               0                  9               5 - 5 = 0               n-row_num\n",
    "\n",
    "### num of * is calculated using the first formula we found above\n",
    "\n",
    "#With both of these formuals, we can start to code!\n",
    "\n",
    "#We don't want to start from 0, we wanna start from 1 this time\n",
    "for i in range(1,n+1):\n",
    "        \n",
    "    row_num = i\n",
    "    num_of_stars = (row_num * 2) - 1\n",
    "    num_of_space = (n-row_num)\n",
    "\n",
    "    #Recap, Strings can be added and multiplied using + and *\n",
    "    # + means concatentation in this situation, when 2 strings are place with + then join together\n",
    "    # * means multiply the number of times the string\n",
    "    text_to_print_this_line = (\" \" * num_of_space) +  (\"*\" * num_of_stars)\n",
    "\n",
    "    #Print the current line\n",
    "    print(text_to_print_this_line)\n"
   ]
  },
  {
   "cell_type": "markdown",
   "metadata": {},
   "source": [
    "## Part II: Multiple Choice Questions\n",
    "\n",
    "Without running the code below, guess what is the output of the code. There are multiple choice to help you. Answers will be at the end."
   ]
  },
  {
   "cell_type": "markdown",
   "metadata": {},
   "source": [
    "#### Question 6 (CITU Framework)"
   ]
  },
  {
   "cell_type": "code",
   "execution_count": null,
   "metadata": {},
   "outputs": [],
   "source": [
    "y = [1,5,7,9,2,6,4,8,3]\n",
    "x = y[0]\n",
    "\n",
    "for i in y:\n",
    "    if i > x:\n",
    "        x = i\n",
    "print(x)"
   ]
  },
  {
   "cell_type": "code",
   "execution_count": 6,
   "metadata": {},
   "outputs": [],
   "source": [
    "#What will be printed? What is this question trying to achieve?\n",
    "# 1. 5.0 will be printed - This question is to find out the average numbers that is even\n",
    "# 2. 5 will be printed - This question is to find out the count of numbers that is higher than 4\n",
    "# 3. 9 will be printed - This question is to find out the highest number in the list\n",
    "# 4. 7 will be printed - This question is to find out the number of 1s in the list"
   ]
  },
  {
   "cell_type": "markdown",
   "metadata": {},
   "source": [
    "#### Question 7 (CITU Framework)"
   ]
  },
  {
   "cell_type": "code",
   "execution_count": 28,
   "metadata": {},
   "outputs": [
    {
     "name": "stdout",
     "output_type": "stream",
     "text": [
      "5\n"
     ]
    }
   ],
   "source": [
    "x = 0\n",
    "y = [1,5,7,9,2,6,4,8,3]\n",
    "\n",
    "for i in y:\n",
    "    if i > 4:\n",
    "        x += 1\n",
    "print(x)"
   ]
  },
  {
   "cell_type": "code",
   "execution_count": null,
   "metadata": {},
   "outputs": [],
   "source": [
    "#What will be printed? What is this question trying to achieve?\n",
    "# 1. 5.0 will be printed - This question is to find out the average numbers that is even\n",
    "# 2. 5 will be printed - This question is to find out the count of numbers that is higher than 4\n",
    "# 3. 9 will be printed - This question is to find out the highest number in the list\n",
    "# 4. 7 will be printed - This question is to find out the number of 1s in the list"
   ]
  },
  {
   "cell_type": "markdown",
   "metadata": {},
   "source": [
    "#### Question 8 (CITU Framework)"
   ]
  },
  {
   "cell_type": "code",
   "execution_count": 29,
   "metadata": {},
   "outputs": [
    {
     "name": "stdout",
     "output_type": "stream",
     "text": [
      "5.0\n"
     ]
    }
   ],
   "source": [
    "x = [1,5,7,9,2,6,4,8,3]\n",
    "y = 0\n",
    "z = 0\n",
    "\n",
    "for i in x:\n",
    "    if i % 2 == 0:\n",
    "        y += i\n",
    "        z += 1\n",
    "        \n",
    "a = y/z\n",
    "print(a)"
   ]
  },
  {
   "cell_type": "code",
   "execution_count": null,
   "metadata": {},
   "outputs": [],
   "source": [
    "#What will be printed? What is this question trying to achieve?\n",
    "# 1. 5.0 will be printed - This question is to find out the average numbers that is even\n",
    "# 2. 5 will be printed - This question is to find out the count of numbers that is higher than 4\n",
    "# 3. 9 will be printed - This question is to find out the highest number in the list\n",
    "# 4. 7 will be printed - This question is to find out the number of 1s in the list"
   ]
  },
  {
   "cell_type": "markdown",
   "metadata": {},
   "source": [
    "#### Question 9 (CITU Framework)"
   ]
  },
  {
   "cell_type": "code",
   "execution_count": 31,
   "metadata": {},
   "outputs": [
    {
     "name": "stdout",
     "output_type": "stream",
     "text": [
      "7\n"
     ]
    }
   ],
   "source": [
    "x = [1,1,2,4,5,6,7,7,1,1,7,7,8,9,9,1,1,1,'1']\n",
    "y = 0\n",
    "for i in x:\n",
    "    if i == 1:\n",
    "        y += 1\n",
    "print(y)"
   ]
  },
  {
   "cell_type": "code",
   "execution_count": null,
   "metadata": {},
   "outputs": [],
   "source": [
    "#What will be printed? What is this question trying to achieve?\n",
    "# 1. 5.0 will be printed - This question is to find out the average numbers that is even\n",
    "# 2. 5 will be printed - This question is to find out the count of numbers that is higher than 4\n",
    "# 3. 9 will be printed - This question is to find out the highest number in the list\n",
    "# 4. 7 will be printed - This question is to find out the number of 1s in the list"
   ]
  },
  {
   "cell_type": "markdown",
   "metadata": {},
   "source": [
    "#### Question 10 (Couting with Dictionary)"
   ]
  },
  {
   "cell_type": "code",
   "execution_count": null,
   "metadata": {},
   "outputs": [],
   "source": [
    "x = ['a','a','b','a','c','e','f','c','a','a','a','b','b','c','d','d','e']\n",
    "y = {}\n",
    "for i in x:\n",
    "    if i in y:\n",
    "        y[i] += 1\n",
    "    else:\n",
    "        y[i] = 1\n",
    "print(y['a'])"
   ]
  },
  {
   "cell_type": "code",
   "execution_count": null,
   "metadata": {},
   "outputs": [],
   "source": [
    "#What will be printed? What is this question trying to achieve?\n",
    "# 1. 'a' will be printed - This question is to count the number of each element (alphabet) - Counting with Dictionary\n",
    "# 2. 1 will be printed - This question is to count the number of each element (number) - Counting with Dictionary\n",
    "# 3. 6 will be printed - This question is to count the number of each element (alphabet) - Counting with Dictionary\n",
    "# 4. 7 will be printed - This question is to count the number of each element (number) - Counting with Dictionary"
   ]
  },
  {
   "cell_type": "markdown",
   "metadata": {},
   "source": [
    "#### Question 11 (Couting with Dictionary)"
   ]
  },
  {
   "cell_type": "code",
   "execution_count": null,
   "metadata": {},
   "outputs": [],
   "source": [
    "x = [1,1,2,4,5,6,7,7,1,1,7,7,8,9,9,1,1,1]\n",
    "y = {}\n",
    "for i in x:\n",
    "    if i in y:\n",
    "        y[i] += 1\n",
    "    else:\n",
    "        y[i] = 1\n",
    "print(y[1])"
   ]
  },
  {
   "cell_type": "code",
   "execution_count": null,
   "metadata": {},
   "outputs": [],
   "source": [
    "#What will be printed? What is this question trying to achieve?\n",
    "# 1. 'a' will be printed - This question is to count the number of each element (alphabet) - Counting with Dictionary\n",
    "# 2. 1 will be printed - This question is to count the number of each element (number) - Counting with Dictionary\n",
    "# 3. 6 will be printed - This question is to count the number of each element (alphabet) - Counting with Dictionary\n",
    "# 4. 7 will be printed - This question is to count the number of each element (number) - Counting with Dictionary"
   ]
  },
  {
   "cell_type": "markdown",
   "metadata": {},
   "source": [
    "#### Question 12 (Debugging)"
   ]
  },
  {
   "cell_type": "code",
   "execution_count": 22,
   "metadata": {},
   "outputs": [
    {
     "name": "stdout",
     "output_type": "stream",
     "text": [
      "1\n"
     ]
    }
   ],
   "source": [
    "x = ['a','a','b','a','c','e','f','c','a','a','a','b','b','c','d','d','e']\n",
    "y = {}\n",
    "for i in x:\n",
    "    if i in y:\n",
    "        y['a'] += 1\n",
    "    else:\n",
    "        y['a'] = 1\n",
    "print(y['a'])"
   ]
  },
  {
   "cell_type": "code",
   "execution_count": null,
   "metadata": {},
   "outputs": [],
   "source": [
    "#What is the root cause of the error?\n",
    "# 1. No code error. However, this is a logic error. hard-coding 'a' on line 5 and 7 will not allow you to count elements\n",
    "# 2. Forget to indent after else:\n",
    "# 3. Hard-coding 'a' on line 4 will cause the if condition to be always true (as 'a' is the first element to place in dictionary)\n",
    "#    Which it will cause error when it comes to 'b' where the dictionary have not inserted 'b' yet is forced to conduct += 1\n",
    "# 4. Error was caused by code checking the wrong variable, supposed to check if i is inside dictionary but it is checking if i\n",
    "#    is inside the list instead (and it will always be true as the alphabets all came from the list itself) which cause the\n",
    "#    if condition to be always True and the dictionary to have an error when it is forced to do += 1 "
   ]
  },
  {
   "cell_type": "markdown",
   "metadata": {},
   "source": [
    "#### Question 13 (Debugging)"
   ]
  },
  {
   "cell_type": "code",
   "execution_count": 23,
   "metadata": {},
   "outputs": [
    {
     "ename": "IndentationError",
     "evalue": "expected an indented block (<ipython-input-23-fa01c8f0e699>, line 7)",
     "output_type": "error",
     "traceback": [
      "\u001b[1;36m  File \u001b[1;32m\"<ipython-input-23-fa01c8f0e699>\"\u001b[1;36m, line \u001b[1;32m7\u001b[0m\n\u001b[1;33m    y['a'] = 1\u001b[0m\n\u001b[1;37m    ^\u001b[0m\n\u001b[1;31mIndentationError\u001b[0m\u001b[1;31m:\u001b[0m expected an indented block\n"
     ]
    }
   ],
   "source": [
    "x = ['a','a','b','a','c','e','f','c','a','a','a','b','b','c','d','d','e']\n",
    "y = {}\n",
    "for i in x:\n",
    "    if i in y:\n",
    "        y['a'] += 1\n",
    "    else:\n",
    "    y['a'] = 1\n",
    "print(y['a'])"
   ]
  },
  {
   "cell_type": "code",
   "execution_count": null,
   "metadata": {},
   "outputs": [],
   "source": [
    "#What is the root cause of the error?\n",
    "# 1. No code error. However, this is a logic error. hard-coding 'a' on line 5 and 7 will not allow you to count elements\n",
    "# 2. Forget to indent after else:\n",
    "# 3. Hard-coding 'a' on line 4 will cause the if condition to be always true (as 'a' is the first element to place in dictionary)\n",
    "#    Which it will cause error when it comes to 'b' where the dictionary have not inserted 'b' yet is forced to conduct += 1\n",
    "# 4. Error was caused by code checking the wrong variable, supposed to check if i is inside dictionary but it is checking if i\n",
    "#    is inside the list instead (and it will always be true as the alphabets all came from the list itself) which cause the\n",
    "#    if condition to be always True and the dictionary to have an error when it is forced to do += 1 "
   ]
  },
  {
   "cell_type": "markdown",
   "metadata": {},
   "source": [
    "#### Question 14 (Debugging)"
   ]
  },
  {
   "cell_type": "code",
   "execution_count": 24,
   "metadata": {},
   "outputs": [
    {
     "ename": "KeyError",
     "evalue": "'b'",
     "output_type": "error",
     "traceback": [
      "\u001b[1;31m---------------------------------------------------------------------------\u001b[0m",
      "\u001b[1;31mKeyError\u001b[0m                                  Traceback (most recent call last)",
      "\u001b[1;32m<ipython-input-24-1288b84c7fcf>\u001b[0m in \u001b[0;36m<module>\u001b[1;34m()\u001b[0m\n\u001b[0;32m      3\u001b[0m \u001b[1;32mfor\u001b[0m \u001b[0mi\u001b[0m \u001b[1;32min\u001b[0m \u001b[0mx\u001b[0m\u001b[1;33m:\u001b[0m\u001b[1;33m\u001b[0m\u001b[0m\n\u001b[0;32m      4\u001b[0m     \u001b[1;32mif\u001b[0m \u001b[1;34m'a'\u001b[0m \u001b[1;32min\u001b[0m \u001b[0my\u001b[0m\u001b[1;33m:\u001b[0m\u001b[1;33m\u001b[0m\u001b[0m\n\u001b[1;32m----> 5\u001b[1;33m         \u001b[0my\u001b[0m\u001b[1;33m[\u001b[0m\u001b[0mi\u001b[0m\u001b[1;33m]\u001b[0m \u001b[1;33m+=\u001b[0m \u001b[1;36m1\u001b[0m\u001b[1;33m\u001b[0m\u001b[0m\n\u001b[0m\u001b[0;32m      6\u001b[0m     \u001b[1;32melse\u001b[0m\u001b[1;33m:\u001b[0m\u001b[1;33m\u001b[0m\u001b[0m\n\u001b[0;32m      7\u001b[0m         \u001b[0my\u001b[0m\u001b[1;33m[\u001b[0m\u001b[0mi\u001b[0m\u001b[1;33m]\u001b[0m \u001b[1;33m=\u001b[0m \u001b[1;36m1\u001b[0m\u001b[1;33m\u001b[0m\u001b[0m\n",
      "\u001b[1;31mKeyError\u001b[0m: 'b'"
     ]
    }
   ],
   "source": [
    "x = ['a','a','b','a','c','e','f','c','a','a','a','b','b','c','d','d','e']\n",
    "y = {}\n",
    "for i in x:\n",
    "    if 'a' in y:\n",
    "        y[i] += 1\n",
    "    else:\n",
    "        y[i] = 1\n",
    "print(y['a'])"
   ]
  },
  {
   "cell_type": "code",
   "execution_count": null,
   "metadata": {},
   "outputs": [],
   "source": [
    "#What is the root cause of the error?\n",
    "# 1. No code error. However, this is a logic error. hard-coding 'a' on line 5 and 7 will not allow you to count elements\n",
    "# 2. Forget to indent after else:\n",
    "# 3. Hard-coding 'a' on line 4 will cause the if condition to be always true (as 'a' is the first element to place in dictionary)\n",
    "#    Which it will cause error when it comes to 'b' where the dictionary have not inserted 'b' yet is forced to conduct += 1\n",
    "# 4. Error was caused by code checking the wrong variable, supposed to check if i is inside dictionary but it is checking if i\n",
    "#    is inside the list instead (and it will always be true as the alphabets all came from the list itself) which cause the\n",
    "#    if condition to be always True and the dictionary to have an error when it is forced to do += 1 "
   ]
  },
  {
   "cell_type": "markdown",
   "metadata": {},
   "source": [
    "#### Question 15 (Debugging)"
   ]
  },
  {
   "cell_type": "code",
   "execution_count": 25,
   "metadata": {},
   "outputs": [
    {
     "ename": "KeyError",
     "evalue": "'a'",
     "output_type": "error",
     "traceback": [
      "\u001b[1;31m---------------------------------------------------------------------------\u001b[0m",
      "\u001b[1;31mKeyError\u001b[0m                                  Traceback (most recent call last)",
      "\u001b[1;32m<ipython-input-25-f554317dce97>\u001b[0m in \u001b[0;36m<module>\u001b[1;34m()\u001b[0m\n\u001b[0;32m      3\u001b[0m \u001b[1;32mfor\u001b[0m \u001b[0mi\u001b[0m \u001b[1;32min\u001b[0m \u001b[0mx\u001b[0m\u001b[1;33m:\u001b[0m\u001b[1;33m\u001b[0m\u001b[0m\n\u001b[0;32m      4\u001b[0m     \u001b[1;32mif\u001b[0m \u001b[0mi\u001b[0m \u001b[1;32min\u001b[0m \u001b[0mx\u001b[0m\u001b[1;33m:\u001b[0m\u001b[1;33m\u001b[0m\u001b[0m\n\u001b[1;32m----> 5\u001b[1;33m         \u001b[0my\u001b[0m\u001b[1;33m[\u001b[0m\u001b[0mi\u001b[0m\u001b[1;33m]\u001b[0m \u001b[1;33m+=\u001b[0m \u001b[1;36m1\u001b[0m\u001b[1;33m\u001b[0m\u001b[0m\n\u001b[0m\u001b[0;32m      6\u001b[0m     \u001b[1;32melse\u001b[0m\u001b[1;33m:\u001b[0m\u001b[1;33m\u001b[0m\u001b[0m\n\u001b[0;32m      7\u001b[0m         \u001b[0my\u001b[0m\u001b[1;33m[\u001b[0m\u001b[0mi\u001b[0m\u001b[1;33m]\u001b[0m \u001b[1;33m=\u001b[0m \u001b[1;36m1\u001b[0m\u001b[1;33m\u001b[0m\u001b[0m\n",
      "\u001b[1;31mKeyError\u001b[0m: 'a'"
     ]
    }
   ],
   "source": [
    "x = ['a','a','b','a','c','e','f','c','a','a','a','b','b','c','d','d','e']\n",
    "y = {}\n",
    "for i in x:\n",
    "    if i in x:\n",
    "        y[i] += 1\n",
    "    else:\n",
    "        y[i] = 1\n",
    "print(y['a'])"
   ]
  },
  {
   "cell_type": "code",
   "execution_count": null,
   "metadata": {},
   "outputs": [],
   "source": [
    "#What is the root cause of the error?\n",
    "# 1. No code error. However, this is a logic error. hard-coding 'a' on line 5 and 7 will not allow you to count elements\n",
    "# 2. Forget to indent after else:\n",
    "# 3. Hard-coding 'a' on line 4 will cause the if condition to be always true (as 'a' is the first element to place in dictionary)\n",
    "#    Which it will cause error when it comes to 'b' where the dictionary have not inserted 'b' yet is forced to conduct += 1\n",
    "# 4. Error was caused by code checking the wrong variable, supposed to check if i is inside dictionary but it is checking if i\n",
    "#    is inside the list instead (and it will always be true as the alphabets all came from the list itself) which cause the\n",
    "#    if condition to be always True and the dictionary to have an error when it is forced to do += 1 "
   ]
  }
 ],
 "metadata": {
  "kernelspec": {
   "display_name": "Python 3",
   "language": "python",
   "name": "python3"
  },
  "language_info": {
   "codemirror_mode": {
    "name": "ipython",
    "version": 3
   },
   "file_extension": ".py",
   "mimetype": "text/x-python",
   "name": "python",
   "nbconvert_exporter": "python",
   "pygments_lexer": "ipython3",
   "version": "3.7.3"
  }
 },
 "nbformat": 4,
 "nbformat_minor": 2
}
