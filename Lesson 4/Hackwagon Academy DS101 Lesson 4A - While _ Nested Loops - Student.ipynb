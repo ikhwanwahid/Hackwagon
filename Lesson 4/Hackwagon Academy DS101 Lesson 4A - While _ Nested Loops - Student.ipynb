{
 "cells": [
  {
   "cell_type": "markdown",
   "metadata": {},
   "source": [
    "<center><img src=\"https://i2.wp.com/hackwagon.com/wp-content/uploads/2017/02/Logo-Web-Export.png?ssl=1\" width=200/></center>\n",
    "\n",
    "<h1> Hackwagon Academy DS101 Lesson 4A </h1>\n",
    "<h2> While & Nested Loops </h2> \n",
    "<h3> Lesson Outline </h3>\n",
    "\n",
    "- 1. [While Loops](#1)\n",
    "    - [Practice I](#P1)\n",
    "- 2. [Nested For Loops](#2)\n",
    "    - [Practice II](#P2)"
   ]
  },
  {
   "cell_type": "markdown",
   "metadata": {},
   "source": [
    "<a id='1'><h2><img src=\"https://images.vexels.com/media/users/3/153978/isolated/preview/483ef8b10a46e28d02293a31570c8c56-warning-sign-colored-stroke-icon-by-vexels.png\" width=25 align=\"left\"><font color=\"salmon\">&nbsp;1.</font><font color=\"salmon\"> While Loops </font> </h2></a>\n",
    "\n",
    "While loops are another form of iterative device. They allow for an **indefinite** number of iterations until a certain condition is met.\n",
    "\n",
    "The synax for while loops is as such:\n",
    "<img src=\"https://i.imgur.com/ufp0PGF.png\" width=\"500\">\n",
    "\n",
    "<img src=\"https://i.imgur.com/w685hfh.png\" width=\"500\">"
   ]
  },
  {
   "cell_type": "code",
   "execution_count": null,
   "metadata": {},
   "outputs": [],
   "source": [
    "#Simple example of while loop\n",
    "while True:\n",
    "    print(1)\n",
    "    \n",
    "#You can observe that as long as the condition is true, the action statement will always be executed"
   ]
  },
  {
   "cell_type": "code",
   "execution_count": null,
   "metadata": {},
   "outputs": [],
   "source": [
    "#Simple example of while loop\n",
    "while False:\n",
    "    print(1)\n",
    "    \n",
    "#You can observe that as long as the condition is false, the action statement will never be executed"
   ]
  },
  {
   "cell_type": "markdown",
   "metadata": {},
   "source": [
    "In order to stop a while loop, we need to change the <b>terminating condition</b>. Let's contextualise this with a roller coaster example.\n",
    "<img src=\"https://upload.wikimedia.org/wikipedia/commons/thumb/5/54/Battlestar_Galactica_Human_vs_Cylon_-_nested_tracks.jpg/1280px-Battlestar_Galactica_Human_vs_Cylon_-_nested_tracks.jpg\" width=\"400\">\n",
    "\n",
    "Imagine when you're at USS and it's really packed. You want to take Battlestar Galactica, the worker will keep taking people in until there it reachs the limit of seats for the ride. Let's try this example here. "
   ]
  },
  {
   "cell_type": "code",
   "execution_count": 4,
   "metadata": {},
   "outputs": [
    {
     "name": "stdout",
     "output_type": "stream",
     "text": [
      "accept another person\n",
      "accept another person\n",
      "accept another person\n",
      "ride is full\n",
      "accepting another passenger\n",
      "accepting another passenger\n",
      "accepting another passenger\n",
      "ride is full\n"
     ]
    }
   ],
   "source": [
    "seats = 3\n",
    "\n",
    "# while there are still seats,\n",
    "# keep accepting people\n",
    "while seats>0:\n",
    "    print(\"accept another person\")\n",
    "    seats-= 1\n",
    "print(\"ride is full\")\n",
    "#safer option is below, work up to capacity\n",
    "capacity =3\n",
    "passengers =0\n",
    "while passengers < capacity:\n",
    "    print(\"accepting another passenger\")\n",
    "    passengers += 1\n",
    "print(\"ride is full\")\n"
   ]
  },
  {
   "cell_type": "markdown",
   "metadata": {},
   "source": [
    "<a id='P1'><h2><img src=\"https://cdn.shopify.com/s/files/1/1200/7374/products/book_aec28e76-52ec-44ab-bc01-41df1279c89f_550x825.png?v=1473897430\" width=25 align=\"left\"> <font color=\"darkorange\"> &nbsp; Practice I </font><font color=\"skyblue\"> * </font></h2></a>\n",
    "\n",
    "### Question 1\n",
    "Print the numbers 10 to 1 using a `while` loop.\n",
    "\n",
    "<b>Expected Output:</b>\n",
    "    \n",
    "    10\n",
    "    9\n",
    "    8\n",
    "    7\n",
    "    6\n",
    "    5\n",
    "    4\n",
    "    3\n",
    "    2\n",
    "    1"
   ]
  },
  {
   "cell_type": "code",
   "execution_count": 23,
   "metadata": {},
   "outputs": [
    {
     "name": "stdout",
     "output_type": "stream",
     "text": [
      "10\n",
      "9\n",
      "8\n",
      "7\n",
      "6\n",
      "5\n",
      "4\n",
      "3\n",
      "2\n",
      "1\n",
      "10\n",
      "9\n",
      "8\n",
      "7\n",
      "6\n",
      "5\n",
      "4\n",
      "3\n",
      "2\n",
      "1\n"
     ]
    }
   ],
   "source": [
    "# Write code below\n",
    "i= 10\n",
    "while i >0:\n",
    "    print(i)\n",
    "    i-=1\n",
    "for i in range(10,0,-1):\n",
    "    print(i)\n",
    "#same output"
   ]
  },
  {
   "cell_type": "markdown",
   "metadata": {},
   "source": [
    "### Question 2 \n",
    "Given `data`, print out all the video titles.\n",
    "\n",
    "<b>Expected Output:</b>\n",
    "    \n",
    "    despacito\n",
    "    see you again\n",
    "    im yours"
   ]
  },
  {
   "cell_type": "code",
   "execution_count": 11,
   "metadata": {},
   "outputs": [
    {
     "name": "stdout",
     "output_type": "stream",
     "text": [
      "despacito\n",
      "see you again\n",
      "im yours\n"
     ]
    }
   ],
   "source": [
    "video_titles = ['despacito','see you again','im yours']\n",
    "\n",
    "# Write code below\n",
    "count=0\n",
    "while count < len(video_titles):\n",
    "    print(video_titles[count])\n",
    "    count+=1\n",
    "    \n",
    "    \n",
    "\n",
    "    \n"
   ]
  },
  {
   "cell_type": "markdown",
   "metadata": {},
   "source": [
    "#### Applied While Loops with `input()`\n",
    "\n",
    "Using a calculator as an example..."
   ]
  },
  {
   "cell_type": "code",
   "execution_count": 24,
   "metadata": {},
   "outputs": [
    {
     "name": "stdout",
     "output_type": "stream",
     "text": [
      "Enter a number to sum (0 to end):3\n",
      "Enter a number to sum(0 to end):3\n",
      "Enter a number to sum(0 to end):3\n",
      "Enter a number to sum(0 to end):0\n",
      "The sum of your numbers is 9\n"
     ]
    }
   ],
   "source": [
    "# name = input(\"What is your name?\")\n",
    "# print(\"Hi\", name, \"!\")\n",
    "\n",
    "# Calculator \n",
    "sum_of_numbers=0\n",
    "next_number = int(input(\"Enter a number to sum (0 to end):\")) #input always returns a string so need to convert\n",
    "while next_number != 0:\n",
    "    sum_of_numbers += next_number\n",
    "    next_number=int(input(\"Enter a number to sum(0 to end):\"))\n",
    "print(\"The sum of your numbers is\",sum_of_numbers)"
   ]
  },
  {
   "cell_type": "markdown",
   "metadata": {},
   "source": [
    "## <a id='2'><h2><img src=\"https://images.vexels.com/media/users/3/153978/isolated/preview/483ef8b10a46e28d02293a31570c8c56-warning-sign-colored-stroke-icon-by-vexels.png\" width=25 align=\"left\"><font color=\"salmon\">&nbsp;2.</font><font color=\"salmon\"> Nested Loops </font> </h2></a>\n",
    "\n",
    "With a single loop, you can only access one row of data. With a loop inside the outer loop, we can access every data within that row of data. This concept is called nested loops. \n",
    "\n",
    "Nested Loops can visualised in the following manner: \n",
    "\n",
    "![NestedLoops](https://media.giphy.com/media/PijZGlktptq1X6xvO4/giphy.gif \"NestyLoops\")\n"
   ]
  },
  {
   "cell_type": "code",
   "execution_count": 43,
   "metadata": {},
   "outputs": [
    {
     "name": "stdout",
     "output_type": "stream",
     "text": [
      "channels in genre1:\n",
      "CNN\n",
      "Fox News\n",
      "channels in genre2:\n",
      "EXO\n",
      "SNSD\n",
      "BIG BANG\n"
     ]
    }
   ],
   "source": [
    "genre_channels = [\n",
    "    ['CNN','Fox News'], # News - Index 0\n",
    "    ['EXO','SNSD', 'BIG BANG'], # KPOP - Index 1\n",
    "]\n",
    "genre_no= 1\n",
    "#Write code below\n",
    "for genre in genre_channels:\n",
    "    print(\"channels in genre\"+ str(genre_no)+\":\")\n",
    "    for channel in genre:\n",
    "        print(channel)\n",
    "    genre_no += 1"
   ]
  },
  {
   "cell_type": "markdown",
   "metadata": {},
   "source": [
    "<a id='P2'><h2><img src=\"https://cdn.shopify.com/s/files/1/1200/7374/products/book_aec28e76-52ec-44ab-bc01-41df1279c89f_550x825.png?v=1473897430\" width=25 align=\"left\"> <font color=\"darkorange\"> &nbsp; Practice II </font><font color=\"skyblue\"> * </font></h2></a>\n",
    "### Question 1\n",
    "Given the following `data`, print all the <b>positive</b> numbers:\n",
    "\n",
    "**Expected Output:**\n",
    "```\n",
    "    3\n",
    "    12\n",
    "    9\n",
    "    30\n",
    "    4\n",
    "    9\n",
    "    3\n",
    "    12\n",
    "    9\n",
    "    72\n",
    "    15\n",
    "    \n",
    "```"
   ]
  },
  {
   "cell_type": "code",
   "execution_count": 31,
   "metadata": {},
   "outputs": [
    {
     "name": "stdout",
     "output_type": "stream",
     "text": [
      "3\n",
      "12\n",
      "9\n",
      "30\n",
      "4\n",
      "9\n",
      "3\n",
      "12\n",
      "9\n",
      "72\n",
      "15\n"
     ]
    }
   ],
   "source": [
    "data = [\n",
    "    [3, -4, 12, 9, -72, 0, 30],\n",
    "    [-5, 4, -20, 9, -42, 0, -15],\n",
    "    [3, -4, 12, 9, 72, -25, 15],\n",
    "]\n",
    "#Write code below\n",
    "for i in data:\n",
    "    for n in i:\n",
    "        if n >0:\n",
    "            print(n)\n",
    "    \n",
    "\n",
    "    "
   ]
  },
  {
   "cell_type": "markdown",
   "metadata": {},
   "source": [
    "### Question 2\n",
    "Given the following `data`, collect all the negative numbers and put them in a new list called `negatives` :\n",
    "\n",
    "**Expected Output:**\n",
    "```\n",
    "    [-4, -72, -5, -20, -42, -15, -4, -25]\n",
    "```"
   ]
  },
  {
   "cell_type": "code",
   "execution_count": 41,
   "metadata": {},
   "outputs": [
    {
     "name": "stdout",
     "output_type": "stream",
     "text": [
      "[-4, -72, -5, -20, -42, -15, -4, -25]\n",
      "[-4, -72, -5, -20, -42, -15, -4, -25]\n"
     ]
    }
   ],
   "source": [
    "data = [\n",
    "    [3, -4, 12, 9, -72, 0, 30],\n",
    "    [-5, 4, -20, 9, -42, 0, -15],\n",
    "    [3, -4, 12, 9, 72, -25, 15],\n",
    "]\n",
    "negatives=[]\n",
    "#Write code below\n",
    "for i in data:\n",
    "    for n in i:\n",
    "        if n <0:\n",
    "            negatives.append(n)\n",
    "print(negatives)\n",
    "#if cant understand how to do loop in loop\n",
    "row =data[0]\n",
    "negatives_1=[]\n",
    "for k in row:\n",
    "    if k < 0:\n",
    "        negatives_1.append(k)\n",
    "row =data[1]\n",
    "for k in row:\n",
    "    if k < 0:\n",
    "        negatives_1.append(k)\n",
    "row =data[2]\n",
    "for k in row:\n",
    "    if k < 0:\n",
    "        negatives_1.append(k)\n",
    "print(negatives_1)"
   ]
  },
  {
   "cell_type": "code",
   "execution_count": null,
   "metadata": {},
   "outputs": [],
   "source": []
  }
 ],
 "metadata": {
  "kernelspec": {
   "display_name": "Python 3",
   "language": "python",
   "name": "python3"
  },
  "language_info": {
   "codemirror_mode": {
    "name": "ipython",
    "version": 3
   },
   "file_extension": ".py",
   "mimetype": "text/x-python",
   "name": "python",
   "nbconvert_exporter": "python",
   "pygments_lexer": "ipython3",
   "version": "3.7.3"
  }
 },
 "nbformat": 4,
 "nbformat_minor": 2
}
