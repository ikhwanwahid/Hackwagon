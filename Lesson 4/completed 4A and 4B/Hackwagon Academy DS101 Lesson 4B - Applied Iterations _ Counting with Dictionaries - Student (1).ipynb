{
 "cells": [
  {
   "cell_type": "markdown",
   "metadata": {},
   "source": [
    "<center><img src=\"https://i2.wp.com/hackwagon.com/wp-content/uploads/2017/02/Logo-Web-Export.png?ssl=1\" width=200/></center>\n",
    "\n",
    "<h1> Hackwagon Academy DS101 Lesson 4 </h1>\n",
    "<h2> Applied Iterations & Counting with Dictionaries </h2> \n",
    "<h3> Lesson Outline </h3>\n",
    "\n",
    "- 1. [Applied Iterations](#1)\n",
    "    - [Practice I](#P1)\n",
    "- 2. [Counting with Dictionaries](#2)\n",
    "    - [Practice II](#P2)"
   ]
  },
  {
   "cell_type": "markdown",
   "metadata": {},
   "source": [
    "<a id='1'><h2><img src=\"https://images.vexels.com/media/users/3/153978/isolated/preview/483ef8b10a46e28d02293a31570c8c56-warning-sign-colored-stroke-icon-by-vexels.png\" width=25 align=\"left\"><font color=\"salmon\">&nbsp;1.</font><font color=\"salmon\"> Applied Iterations </font> </h2></a>\n",
    "\n",
    "Let's try and apply what we have learnt in the past 3 lessons to a real dataset. The following [dataset](https://data.gov.sg/dataset/graduates-from-university-first-degree-courses-by-type-of-course?view_id=fa0e401c-6251-4a15-aebc-a5f3d2c85752&resource_id=eb8b932c-503c-41e7-b513-114cffbe2338) is from Singapore Government's Open Data Portal, Data.gov.sg. \n",
    "\n",
    "When opening the file in Microsoft Excel, it will look like this:\n",
    "\n",
    "<img src=\"https://i.imgur.com/M05Ta23.png\" width=\"400\">\n",
    "\n",
    "<b>Make sure that the data file is in the same folder as your Jupyter Notebook</b>\n",
    "\n",
    "\n",
    "When we execute the codes below, we will get a <b>list of many lists</b>, where <b>one inner list is a row of data</b>, that looks like this\n",
    "```python\n",
    "   [\n",
    "       [ # Row 0\n",
    "           1993, # Year - Index 0\n",
    "           'Males',  # Sex - Index 1\n",
    "           'Education',  # Type of Course - Index 2\n",
    "           0 # No of Graduates - Index 3\n",
    "       ],\n",
    "       [ # Row 1\n",
    "           1993, # Year - Index 0\n",
    "           'Males', # Sex - Index 1\n",
    "           'Applied Arts',  # Type of Course - Index 2\n",
    "            0 # No of Graduates - Index 3\n",
    "       ],\n",
    "       [ # Row 2\n",
    "           1993, # Year  - Index 0\n",
    "           'Males', # Sex - Index 1\n",
    "           'Humanities & Social Sciences',  # Type of Course - Index 2\n",
    "           481# No of Graduates - Index 3\n",
    "       ]\n",
    "   ]\n",
    "\n",
    "```\n",
    "Run the cell below, we will learn more about opening a file in Lesson 5/6."
   ]
  },
  {
   "cell_type": "code",
   "execution_count": 1,
   "metadata": {},
   "outputs": [
    {
     "data": {
      "text/plain": [
       "[[1993, 'Males', 'Education', 0],\n",
       " [1993, 'Males', 'Applied Arts', 0],\n",
       " [1993, 'Males', 'Humanities & Social Sciences', 481]]"
      ]
     },
     "execution_count": 1,
     "metadata": {},
     "output_type": "execute_result"
    }
   ],
   "source": [
    "import csv\n",
    "\n",
    "with open('graduates-from-university-first-degree-courses-by-type-of-course.csv', encoding='utf-8') as file:\n",
    "    #\n",
    "    reader = csv.reader(file,delimiter=',')\n",
    "    \n",
    "    #skips column headers\n",
    "    next(reader)\n",
    "    \n",
    "    #container to store all data\n",
    "    all_courses = []\n",
    "    \n",
    "    # goes through every row\n",
    "    for row in reader:\n",
    "        # data cleaning \n",
    "        row[0] = int(row[0]) # Year Data is Cleaned to Int Type\n",
    "        if row[3] == 'na': # Check for 'na'\n",
    "            row[3] = 0\n",
    "        else:\n",
    "            row[3] = int(row[3]) # Change students to Int Type\n",
    "        \n",
    "        # add the row to the container\n",
    "        all_courses.append(row)\n",
    "\n",
    "# previews first 3 row    \n",
    "all_courses[:3]"
   ]
  },
  {
   "cell_type": "markdown",
   "metadata": {},
   "source": [
    "When handling any datasets, follow these important steps:\n",
    "\n",
    "1. **Take out** the data we need based on the context\n",
    "2. Based on the question, **apply** the necessary steps on the data you have taken out\n",
    "\n",
    "Using what we've learnt over the past lessons, we're going to answer some basic questions about this dataset. For example:\n",
    "\n",
    "**How many students applied for `Education` over the years?**\n",
    "\n",
    "Based on this question, the variables we need are:\n",
    "1. Type of Course\n",
    "2. No. of Graduates\n",
    "\n",
    "So the process for answering this question should be:\n",
    "\n",
    "1. **Create** the result container\n",
    "2. **Iterate** by looping through the data\n",
    "3. **Extract** the 2 variables **(most important step)**\n",
    "4. **Test** the variables to see if they fit the condition\n",
    "5. **Update** the result container\n",
    "\n"
   ]
  },
  {
   "cell_type": "code",
   "execution_count": 3,
   "metadata": {},
   "outputs": [
    {
     "name": "stdout",
     "output_type": "stream",
     "text": [
      "6421\n"
     ]
    }
   ],
   "source": [
    "# Write code here\n",
    "number_of_students = 0\n",
    "for row in all_courses:\n",
    "    type_of_course = row[2]\n",
    "    no_of_graduates = row[3]\n",
    "    if type_of_course == \"Education\":\n",
    "        number_of_students += no_of_graduates\n",
    "print(number_of_students)"
   ]
  },
  {
   "cell_type": "markdown",
   "metadata": {},
   "source": [
    "<a id='P1'><h2><img src=\"https://cdn.shopify.com/s/files/1/1200/7374/products/book_aec28e76-52ec-44ab-bc01-41df1279c89f_550x825.png?v=1473897430\" width=25 align=\"left\"> <font color=\"darkorange\"> &nbsp; Practice I </font><font color=\"skyblue\"> * </font></h2></a>\n",
    "### Question 1\n",
    "Based on the following `all_courses`, answer the following question:\n",
    "\n",
    "<b>How many `Females` students have taken `Law`?</b>\n",
    "\n",
    "<i>Hint\n",
    "1. What variables do you need?\n",
    "2. What do you have to test for?\n",
    "</i>\n",
    "\n",
    "<b> Expected Output: </b>\n",
    "\n",
    "    2574"
   ]
  },
  {
   "cell_type": "code",
   "execution_count": 14,
   "metadata": {},
   "outputs": [
    {
     "name": "stdout",
     "output_type": "stream",
     "text": [
      "2574\n"
     ]
    }
   ],
   "source": [
    "# Write code here\n",
    "female_law = 0\n",
    "for row in all_courses:\n",
    "    sex = row[1]\n",
    "    course = row[2]\n",
    "    no_of_graduates = row[3]\n",
    "    if sex == \"Females\" and course == \"Law\":\n",
    "        female_law += no_of_graduates\n",
    "print(female_law)"
   ]
  },
  {
   "cell_type": "markdown",
   "metadata": {},
   "source": [
    "### Question 2\n",
    "Based on the following `all_courses`, answer the following question:\n",
    "\n",
    "<b>How many students have taken `Information Technology` between `2000` and `2014`?</b>\n",
    "\n",
    "<i>Hint\n",
    "1. What variables do you need?\n",
    "2. What do you have to test for?\n",
    "</i>\n",
    "\n",
    "<b>Expected Output:</b>\n",
    "\n",
    "    9084"
   ]
  },
  {
   "cell_type": "code",
   "execution_count": 15,
   "metadata": {},
   "outputs": [
    {
     "name": "stdout",
     "output_type": "stream",
     "text": [
      "9084\n"
     ]
    }
   ],
   "source": [
    "# Write code here\n",
    "it_students = 0\n",
    "for row in all_courses:\n",
    "    year = row[0]\n",
    "    course = row[2]\n",
    "    no_of_graduates = row[3]\n",
    "    if 2000 <= year <= 2014 and course == \"Information Technology\":\n",
    "        it_students += no_of_graduates\n",
    "print(it_students)"
   ]
  },
  {
   "cell_type": "markdown",
   "metadata": {},
   "source": [
    "<h2><img src=\"https://img.icons8.com/color/50/000000/blunt-bulb.png\" width=23 align=\"left\"><font color=\"dodgerblue\"> Recap! - Dictionary </font> </h2>"
   ]
  },
  {
   "cell_type": "code",
   "execution_count": 6,
   "metadata": {},
   "outputs": [
    {
     "name": "stdout",
     "output_type": "stream",
     "text": [
      "Key is not in the dictionary!\n"
     ]
    }
   ],
   "source": [
    "# Create empty dictionary\n",
    "my_dict = {}\n",
    "\n",
    "# Create new pair\n",
    "my_dict['key'] = \"value\"\n",
    "\n",
    "# Create new pair\n",
    "my_dict[\"key\"] = \"new value\"\n",
    "\n",
    "\n",
    "# Update existing pair\n",
    "my_dict[\"key\"] += \" to do\"\n",
    "\n",
    "# Check if exists\n",
    "if \"something\" not in my_dict:\n",
    "    print(\"Key is not in the dictionary!\")\n"
   ]
  },
  {
   "cell_type": "markdown",
   "metadata": {},
   "source": [
    "<a id='2'><h2><img src=\"https://images.vexels.com/media/users/3/153978/isolated/preview/483ef8b10a46e28d02293a31570c8c56-warning-sign-colored-stroke-icon-by-vexels.png\" width=25 align=\"left\"><font color=\"salmon\">&nbsp;2.</font><font color=\"salmon\"> Counting with Dictionaries </font> </h2></a>\n",
    "\n",
    "**The following concept is extremely important**. The collections data types like List and Dictionaries helps us to store many values within a single data type. \n",
    "\n",
    "Dictionaries, however, provide us with the tools to aggregate data and store them. \n",
    "\n",
    "<img src=\"https://static.comicvine.com/uploads/original/9/91584/1960894-xzc.jpg\">\n",
    "\n",
    "\n",
    "Think of this concept like catching Pokemon on your PokeDex.\n",
    "- When you've never seen that Pokemon before, your Pokedex will create a new entry. \n",
    "- When you catch it again, it adds to the previous count. \n",
    "\n",
    "Given a list of `caught` pokements, to count the occurances of each pokemon, a dictionary would help us count each of these occurances.\n",
    "\n",
    "![CountingWithDictionaries](https://media.giphy.com/media/Lk0QGja8JY7VPejr5g/giphy.gif \"Pokemon\")\n",
    "\n",
    "**Expected Output:**\n",
    "    \n",
    "    {\n",
    "        'Pikachu': 3,\n",
    "        'Bulbasaur': 2,\n",
    "        'Charmander': 1\n",
    "    }"
   ]
  },
  {
   "cell_type": "code",
   "execution_count": 10,
   "metadata": {},
   "outputs": [
    {
     "name": "stdout",
     "output_type": "stream",
     "text": [
      "{'Pikachu': 3, 'Bulbasaur': 2, 'Charmander': 1}\n",
      "{'Pikachu': 21, 'Bulbasaur': 18, 'Charmander': 10}\n",
      "{'Pikachu': ['Pikachu', 'Pikachu', 'Pikachu'], 'Bulbasaur': ['Bulbasaur', 'Bulbasaur'], 'Charmander': ['Charmander']}\n"
     ]
    }
   ],
   "source": [
    "caught = ['Pikachu','Bulbasaur','Pikachu','Pikachu','Bulbasaur','Charmander']\n",
    "\n",
    "# Write code below\n",
    "pokedex = {}\n",
    "for pokemon in caught:\n",
    "    if pokemon not in pokedex:\n",
    "        pokedex[pokemon] = 1\n",
    "    else:\n",
    "        pokedex[pokemon] += 1\n",
    "print(pokedex)\n",
    "\n",
    "pokedex2 = {}\n",
    "for pokemon in caught:\n",
    "    pokemon_name = pokemon\n",
    "    pokemon_power = len(pokemon)\n",
    "    if pokemon_name not in pokedex2:\n",
    "        pokedex2[pokemon_name] = pokemon_power\n",
    "    else:\n",
    "        pokedex2[pokemon_name] += pokemon_power\n",
    "print(pokedex2)\n",
    "\n",
    "\n",
    "pokedex3 = {}\n",
    "for pokemon in caught:\n",
    "    if pokemon not in pokedex3:\n",
    "        pokedex3[pokemon] = [pokemon]\n",
    "    else:\n",
    "        pokedex3[pokemon].append(pokemon)\n",
    "print(pokedex3)\n",
    "\n"
   ]
  },
  {
   "cell_type": "markdown",
   "metadata": {},
   "source": [
    "<a id='P2'><h2><img src=\"https://cdn.shopify.com/s/files/1/1200/7374/products/book_aec28e76-52ec-44ab-bc01-41df1279c89f_550x825.png?v=1473897430\" width=25 align=\"left\"> <font color=\"darkorange\"> &nbsp; Practice II </font><font color=\"skyblue\"> * </font></h2></a>\n",
    "\n",
    "### Question 1\n",
    "Here we have a dataset of employee information. Count the number of `student` and `teacher` that occur.\n",
    "\n",
    "**Expected Output:**\n",
    "\n",
    "    {\n",
    "        'student': 3,\n",
    "        'teacher': 2  \n",
    "    }"
   ]
  },
  {
   "cell_type": "code",
   "execution_count": 11,
   "metadata": {},
   "outputs": [
    {
     "name": "stdout",
     "output_type": "stream",
     "text": [
      "{'student': 3, 'teacher': 2}\n"
     ]
    }
   ],
   "source": [
    "data = [\n",
    "    {'name': 'kt', 'nric': 'S93250888', 'score': 10, 'occupation': 'student'},\n",
    "    {'name': 'eli', 'nric': 'S93250818', 'score': 5, 'occupation': 'student'},\n",
    "    {'name': 'vera', 'nric': 'S93250288', 'score': 2, 'occupation': 'teacher'},\n",
    "    {'name': 'may', 'nric': 'S93250218', 'score': 7, 'occupation': 'student'},\n",
    "    {'name': 'agnes', 'nric': 'S93250248', 'score': 2, 'occupation': 'teacher'},\n",
    "]\n",
    "\n",
    "#Write code below\n",
    "employees = {}\n",
    "for employee_info in data:\n",
    "    occupation = employee_info['occupation']\n",
    "    if occupation not in employees:\n",
    "        employees[occupation] = 1\n",
    "    else:\n",
    "        employees[occupation] += 1\n",
    "print(employees)\n",
    "\n"
   ]
  },
  {
   "cell_type": "markdown",
   "metadata": {},
   "source": [
    "### Question 2\n",
    "The 11-11 sales is coming, the ads are everywhere. Here we have a list of sales called `lazada_sales`, where each product (inner list): index 0 is the brand, index 1 is the sales made in a single day. <b> This question is very similar to what you will be facing in your YouTube lab exercise. </b>\n",
    "\n",
    "Your task is to collate all the sales for each brand.\n",
    "\n",
    "**Expected Output:**\n",
    "\n",
    "    {\n",
    "        'Adidas Superboost': 9,\n",
    "        'Nike Zoom': 7,\n",
    "        'Rolex Submariner': 4,\n",
    "        'Rolex Daytona': 6\n",
    "    }\n",
    "\n"
   ]
  },
  {
   "cell_type": "code",
   "execution_count": 12,
   "metadata": {},
   "outputs": [
    {
     "name": "stdout",
     "output_type": "stream",
     "text": [
      "{'Adidas Superboost': 9, 'Nike Zoom': 7, 'Rolex Submariner': 4, 'Rolex Daytona': 6}\n"
     ]
    }
   ],
   "source": [
    "lazada_sales = [\n",
    "    ['Adidas Superboost', 1],\n",
    "    ['Nike Zoom', 1],\n",
    "    ['Nike Zoom', 2],\n",
    "    ['Nike Zoom', 1],\n",
    "    ['Nike Zoom', 1],\n",
    "    ['Adidas Superboost', 2],\n",
    "    ['Nike Zoom', 1],\n",
    "    ['Adidas Superboost', 1],\n",
    "    ['Nike Zoom', 1],\n",
    "    ['Adidas Superboost', 1],\n",
    "    ['Adidas Superboost', 1],\n",
    "    ['Adidas Superboost', 3],\n",
    "    ['Rolex Submariner', 1],\n",
    "    ['Rolex Submariner', 2],\n",
    "    ['Rolex Submariner', 1],\n",
    "    ['Rolex Daytona', 2],\n",
    "    ['Rolex Daytona', 1],\n",
    "    ['Rolex Daytona', 2],\n",
    "    ['Rolex Daytona', 1]\n",
    "]\n",
    "\n",
    "#Write code below\n",
    "# Q1: which pokedex? A: totalling\n",
    "# Q2: what is 'pokedex' for this question: Sales per brand\n",
    "# Q3: what does each line represent? : Sales info\n",
    "# Q3: what is 'pokemon' (counting categories): Brand\n",
    "# q4: what is 'pokemon power' (values): Sales\n",
    "sales_per_brand = {}\n",
    "for sales_info in lazada_sales:\n",
    "    brand = sales_info[0]\n",
    "    sales = sales_info[1]\n",
    "    if brand not in sales_per_brand:\n",
    "        sales_per_brand[brand] = sales\n",
    "    else:\n",
    "        sales_per_brand[brand] += sales\n",
    "print(sales_per_brand)\n"
   ]
  },
  {
   "cell_type": "code",
   "execution_count": null,
   "metadata": {},
   "outputs": [],
   "source": []
  }
 ],
 "metadata": {
  "kernelspec": {
   "display_name": "Python 3",
   "language": "python",
   "name": "python3"
  },
  "language_info": {
   "codemirror_mode": {
    "name": "ipython",
    "version": 3
   },
   "file_extension": ".py",
   "mimetype": "text/x-python",
   "name": "python",
   "nbconvert_exporter": "python",
   "pygments_lexer": "ipython3",
   "version": "3.7.3"
  },
  "varInspector": {
   "cols": {
    "lenName": 16,
    "lenType": 16,
    "lenVar": 40
   },
   "kernels_config": {
    "python": {
     "delete_cmd_postfix": "",
     "delete_cmd_prefix": "del ",
     "library": "var_list.py",
     "varRefreshCmd": "print(var_dic_list())"
    },
    "r": {
     "delete_cmd_postfix": ") ",
     "delete_cmd_prefix": "rm(",
     "library": "var_list.r",
     "varRefreshCmd": "cat(var_dic_list()) "
    }
   },
   "types_to_exclude": [
    "module",
    "function",
    "builtin_function_or_method",
    "instance",
    "_Feature"
   ],
   "window_display": false
  }
 },
 "nbformat": 4,
 "nbformat_minor": 2
}
