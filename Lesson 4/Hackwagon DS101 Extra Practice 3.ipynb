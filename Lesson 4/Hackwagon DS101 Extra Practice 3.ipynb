{
 "cells": [
  {
   "cell_type": "markdown",
   "metadata": {},
   "source": [
    "<img src=\"https://i2.wp.com/hackwagon.com/wp-content/uploads/2017/02/Logo-Web-Export.png?ssl=1\" width=200/>\n",
    "<h1> Hackwagon Academy: DS101 Extra Practice 3 </h1>"
   ]
  },
  {
   "cell_type": "markdown",
   "metadata": {},
   "source": [
    "### Question 1\n",
    "\n",
    "Print out the names of all students in this dataset\n",
    "\n",
    "<b>Expected Output:</b>\n",
    "\n",
    "    KT\n",
    "    John\n",
    "    Henry\n",
    "    Mark"
   ]
  },
  {
   "cell_type": "code",
   "execution_count": null,
   "metadata": {},
   "outputs": [],
   "source": [
    "data = {\n",
    "    'results': {\n",
    "        'name': 'Classes',\n",
    "        'data': [\n",
    "            {\n",
    "                'Class': 'A',\n",
    "                'Students': ['KT', 'John']\n",
    "            },\n",
    "            {\n",
    "                'Class': 'A',\n",
    "                'Students': ['Henry', 'Mark']\n",
    "            }\n",
    "        ]\n",
    "    }\n",
    "}\n"
   ]
  },
  {
   "cell_type": "markdown",
   "metadata": {},
   "source": [
    "### Question 2\n",
    "\n",
    "Print the total score of teachers and students in data, broken down by occupation\n",
    "\n",
    "<b>Expected Output:</b>\n",
    "\n",
    "\n",
    "    {\n",
    "        'teacher': 4,\n",
    "        'student': 15\n",
    "    }"
   ]
  },
  {
   "cell_type": "code",
   "execution_count": null,
   "metadata": {},
   "outputs": [],
   "source": [
    "data = {\n",
    "    'kt': { 'nric': 'S93250888', 'score': 10, 'occupation': 'student'},\n",
    "    'john': {'nric': 'S93250818', 'score': 5, 'occupation': 'student'},\n",
    "    'henry': { 'nric': 'S93250288', 'score': 2, 'occupation': 'teacher'},\n",
    "    'mark': { 'nric': 'S93250218', 'score': 7, 'occupation': 'student'},\n",
    "    'mark': { 'nric': 'S93250248', 'score': 2, 'occupation': 'teacher'},\n",
    "}\n",
    "\n"
   ]
  },
  {
   "cell_type": "markdown",
   "metadata": {},
   "source": [
    "### Question 3\n",
    "\n",
    "Print the average score of teachers and students in data, broken down by occupation\n",
    "\n",
    "<b>Expected Output:</b>\n",
    "\n",
    "    {\n",
    "        'student': 7.5, \n",
    "        'teacher': 2.0\n",
    "    }"
   ]
  },
  {
   "cell_type": "code",
   "execution_count": null,
   "metadata": {},
   "outputs": [],
   "source": [
    "data = {\n",
    "    'kt': { 'nric': 'S93250888', 'score': 10, 'occupation': 'student'},\n",
    "    'john': {'nric': 'S93250818', 'score': 5, 'occupation': 'student'},\n",
    "    'henry': { 'nric': 'S93250288', 'score': 2, 'occupation': 'teacher'},\n",
    "    'mark': { 'nric': 'S93250218', 'score': 7, 'occupation': 'student'},\n",
    "    'mark': { 'nric': 'S93250248', 'score': 2, 'occupation': 'teacher'},\n",
    "}\n",
    "\n"
   ]
  },
  {
   "cell_type": "markdown",
   "metadata": {},
   "source": [
    "### Question 4\n",
    "\n",
    "<h3> Largest palindrome product </h3>\n",
    "\n",
    "A palindromic number reads the same both ways. The largest palindrome made from the product of two 2-digit numbers is 9009 = 91 × 99.\n",
    "\n",
    "Find the largest palindrome made from the product of two 3-digit numbers.\n",
    "\n",
    "**Expected Answers:**\n",
    "\n",
    "    906609"
   ]
  },
  {
   "cell_type": "code",
   "execution_count": null,
   "metadata": {},
   "outputs": [],
   "source": [
    "\n"
   ]
  },
  {
   "cell_type": "markdown",
   "metadata": {},
   "source": [
    "### Question 5\n",
    "\n",
    "<h3> Print a Christmas tree </h3>\n",
    "\n",
    "For a given n, where n is odd, print out a christmas tree that looks like this\n",
    "\n",
    "When **n**  = 3\n",
    "\n",
    "&nbsp;&nbsp;\\*<br>\n",
    "&nbsp;\\*\\*\\* <br>\n",
    "\\*\\*\\*\\*\\* <br>\n",
    "\n",
    "When **n**  = 5\n",
    "\n",
    "&nbsp;&nbsp;&nbsp;&nbsp;\\*<br>\n",
    "&nbsp;&nbsp;&nbsp;\\*\\*\\* <br>\n",
    "&nbsp;&nbsp;\\*\\*\\*\\*\\* <br>\n",
    "&nbsp;\\*\\*\\*\\*\\*\\*\\* <br>\n",
    "\\*\\*\\*\\*\\*\\*\\*\\*\\* <br>\n",
    "\n",
    "When **n** = 1 <br>\n",
    "\n",
    "*"
   ]
  },
  {
   "cell_type": "code",
   "execution_count": null,
   "metadata": {},
   "outputs": [],
   "source": [
    "n = 11\n"
   ]
  }
 ],
 "metadata": {
  "kernelspec": {
   "display_name": "Python 3",
   "language": "python",
   "name": "python3"
  },
  "language_info": {
   "codemirror_mode": {
    "name": "ipython",
    "version": 3
   },
   "file_extension": ".py",
   "mimetype": "text/x-python",
   "name": "python",
   "nbconvert_exporter": "python",
   "pygments_lexer": "ipython3",
   "version": "3.6.5"
  }
 },
 "nbformat": 4,
 "nbformat_minor": 2
}
